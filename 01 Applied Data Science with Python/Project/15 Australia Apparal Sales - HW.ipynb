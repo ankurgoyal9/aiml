{
 "cells": [
  {
   "cell_type": "markdown",
   "id": "51f81c5cfbedc5dd",
   "metadata": {},
   "source": [
    "# Sales Analysis\n",
    "    1) Identify the states that are generating the highest revenues.,\n",
    "    2) Develop sales programs for states with lower revenues. The head of sales and marketing has requested your assistance with this task."
   ]
  },
  {
   "cell_type": "code",
   "execution_count": null,
   "id": "initial_id",
   "metadata": {
    "ExecuteTime": {
     "end_time": "2025-05-17T04:09:18.803477Z",
     "start_time": "2025-05-17T04:09:18.799409Z"
    },
    "collapsed": true
   },
   "outputs": [],
   "source": [
    "import pandas as pd\n",
    "import matplotlib.pyplot as plt"
   ]
  },
  {
   "cell_type": "code",
   "execution_count": 2,
   "id": "a99e9c88bd872bae",
   "metadata": {
    "ExecuteTime": {
     "end_time": "2025-05-17T04:09:27.495008Z",
     "start_time": "2025-05-17T04:09:27.476789Z"
    }
   },
   "outputs": [
    {
     "data": {
      "text/html": [
       "<div>\n",
       "<style scoped>\n",
       "    .dataframe tbody tr th:only-of-type {\n",
       "        vertical-align: middle;\n",
       "    }\n",
       "\n",
       "    .dataframe tbody tr th {\n",
       "        vertical-align: top;\n",
       "    }\n",
       "\n",
       "    .dataframe thead th {\n",
       "        text-align: right;\n",
       "    }\n",
       "</style>\n",
       "<table border=\"1\" class=\"dataframe\">\n",
       "  <thead>\n",
       "    <tr style=\"text-align: right;\">\n",
       "      <th></th>\n",
       "      <th>Date</th>\n",
       "      <th>Time</th>\n",
       "      <th>State</th>\n",
       "      <th>Group</th>\n",
       "      <th>Unit</th>\n",
       "      <th>Sales</th>\n",
       "    </tr>\n",
       "  </thead>\n",
       "  <tbody>\n",
       "    <tr>\n",
       "      <th>0</th>\n",
       "      <td>1-Oct-2020</td>\n",
       "      <td>Morning</td>\n",
       "      <td>WA</td>\n",
       "      <td>Kids</td>\n",
       "      <td>8</td>\n",
       "      <td>20000</td>\n",
       "    </tr>\n",
       "    <tr>\n",
       "      <th>1</th>\n",
       "      <td>1-Oct-2020</td>\n",
       "      <td>Morning</td>\n",
       "      <td>WA</td>\n",
       "      <td>Men</td>\n",
       "      <td>8</td>\n",
       "      <td>20000</td>\n",
       "    </tr>\n",
       "    <tr>\n",
       "      <th>2</th>\n",
       "      <td>1-Oct-2020</td>\n",
       "      <td>Morning</td>\n",
       "      <td>WA</td>\n",
       "      <td>Women</td>\n",
       "      <td>4</td>\n",
       "      <td>10000</td>\n",
       "    </tr>\n",
       "    <tr>\n",
       "      <th>3</th>\n",
       "      <td>1-Oct-2020</td>\n",
       "      <td>Morning</td>\n",
       "      <td>WA</td>\n",
       "      <td>Seniors</td>\n",
       "      <td>15</td>\n",
       "      <td>37500</td>\n",
       "    </tr>\n",
       "    <tr>\n",
       "      <th>4</th>\n",
       "      <td>1-Oct-2020</td>\n",
       "      <td>Afternoon</td>\n",
       "      <td>WA</td>\n",
       "      <td>Kids</td>\n",
       "      <td>3</td>\n",
       "      <td>7500</td>\n",
       "    </tr>\n",
       "  </tbody>\n",
       "</table>\n",
       "</div>"
      ],
      "text/plain": [
       "         Date        Time State     Group  Unit  Sales\n",
       "0  1-Oct-2020     Morning    WA      Kids     8  20000\n",
       "1  1-Oct-2020     Morning    WA       Men     8  20000\n",
       "2  1-Oct-2020     Morning    WA     Women     4  10000\n",
       "3  1-Oct-2020     Morning    WA   Seniors    15  37500\n",
       "4  1-Oct-2020   Afternoon    WA      Kids     3   7500"
      ]
     },
     "execution_count": 2,
     "metadata": {},
     "output_type": "execute_result"
    }
   ],
   "source": [
    "data=pd.read_csv(\"AusApparalSales4thQrt2020.csv\")\n",
    "data.head()"
   ]
  },
  {
   "cell_type": "code",
   "execution_count": 3,
   "id": "3dd69ec370170d85",
   "metadata": {
    "ExecuteTime": {
     "end_time": "2025-05-17T04:04:36.306781Z",
     "start_time": "2025-05-17T04:04:36.296313Z"
    }
   },
   "outputs": [
    {
     "name": "stdout",
     "output_type": "stream",
     "text": [
      "<class 'pandas.core.frame.DataFrame'>\n",
      "RangeIndex: 7560 entries, 0 to 7559\n",
      "Data columns (total 6 columns):\n",
      " #   Column  Non-Null Count  Dtype \n",
      "---  ------  --------------  ----- \n",
      " 0   Date    7560 non-null   object\n",
      " 1   Time    7560 non-null   object\n",
      " 2   State   7560 non-null   object\n",
      " 3   Group   7560 non-null   object\n",
      " 4   Unit    7560 non-null   int64 \n",
      " 5   Sales   7560 non-null   int64 \n",
      "dtypes: int64(2), object(4)\n",
      "memory usage: 354.5+ KB\n"
     ]
    }
   ],
   "source": [
    "data.info()"
   ]
  },
  {
   "cell_type": "code",
   "execution_count": 4,
   "id": "65417ae081c9a823",
   "metadata": {
    "ExecuteTime": {
     "end_time": "2025-05-17T04:04:38.180725Z",
     "start_time": "2025-05-17T04:04:38.169798Z"
    }
   },
   "outputs": [
    {
     "data": {
      "text/html": [
       "<div>\n",
       "<style scoped>\n",
       "    .dataframe tbody tr th:only-of-type {\n",
       "        vertical-align: middle;\n",
       "    }\n",
       "\n",
       "    .dataframe tbody tr th {\n",
       "        vertical-align: top;\n",
       "    }\n",
       "\n",
       "    .dataframe thead th {\n",
       "        text-align: right;\n",
       "    }\n",
       "</style>\n",
       "<table border=\"1\" class=\"dataframe\">\n",
       "  <thead>\n",
       "    <tr style=\"text-align: right;\">\n",
       "      <th></th>\n",
       "      <th>Unit</th>\n",
       "      <th>Sales</th>\n",
       "    </tr>\n",
       "  </thead>\n",
       "  <tbody>\n",
       "    <tr>\n",
       "      <th>count</th>\n",
       "      <td>7560.000000</td>\n",
       "      <td>7560.000000</td>\n",
       "    </tr>\n",
       "    <tr>\n",
       "      <th>mean</th>\n",
       "      <td>18.005423</td>\n",
       "      <td>45013.558201</td>\n",
       "    </tr>\n",
       "    <tr>\n",
       "      <th>std</th>\n",
       "      <td>12.901403</td>\n",
       "      <td>32253.506944</td>\n",
       "    </tr>\n",
       "    <tr>\n",
       "      <th>min</th>\n",
       "      <td>2.000000</td>\n",
       "      <td>5000.000000</td>\n",
       "    </tr>\n",
       "    <tr>\n",
       "      <th>25%</th>\n",
       "      <td>8.000000</td>\n",
       "      <td>20000.000000</td>\n",
       "    </tr>\n",
       "    <tr>\n",
       "      <th>50%</th>\n",
       "      <td>14.000000</td>\n",
       "      <td>35000.000000</td>\n",
       "    </tr>\n",
       "    <tr>\n",
       "      <th>75%</th>\n",
       "      <td>26.000000</td>\n",
       "      <td>65000.000000</td>\n",
       "    </tr>\n",
       "    <tr>\n",
       "      <th>max</th>\n",
       "      <td>65.000000</td>\n",
       "      <td>162500.000000</td>\n",
       "    </tr>\n",
       "  </tbody>\n",
       "</table>\n",
       "</div>"
      ],
      "text/plain": [
       "              Unit          Sales\n",
       "count  7560.000000    7560.000000\n",
       "mean     18.005423   45013.558201\n",
       "std      12.901403   32253.506944\n",
       "min       2.000000    5000.000000\n",
       "25%       8.000000   20000.000000\n",
       "50%      14.000000   35000.000000\n",
       "75%      26.000000   65000.000000\n",
       "max      65.000000  162500.000000"
      ]
     },
     "execution_count": 4,
     "metadata": {},
     "output_type": "execute_result"
    }
   ],
   "source": [
    "data.describe()"
   ]
  },
  {
   "cell_type": "markdown",
   "id": "9d67d4a40a502ef1",
   "metadata": {},
   "source": [
    "# 1.      Data wrangling\n",
    "#### a.      Ensure that the data is clean and free from any missing or incorrect entries.\n",
    "#####           Inspect the data manually to identify missing or incorrect information using the functions isna() and notna().\n",
    "#### b.      Based on your knowledge of data analytics, include your recommendations for treating missing and incorrect data (dropping the null values or filling them).\n",
    "#### c.      Choose a suitable data wrangling technique—either data standardization or normalization. Execute the preferred normalization method and present the resulting data. (Normalization is the preferred approach for this problem.)\n",
    "#### d.      Share your insights regarding the application of the GroupBy() function for either data chunking or merging, and offer a recommendation based on your analysis."
   ]
  },
  {
   "cell_type": "code",
   "execution_count": 5,
   "id": "556a4bf70648efbd",
   "metadata": {
    "ExecuteTime": {
     "end_time": "2025-05-17T04:04:47.509452Z",
     "start_time": "2025-05-17T04:04:47.502162Z"
    }
   },
   "outputs": [
    {
     "data": {
      "text/plain": [
       "Date     0\n",
       "Time     0\n",
       "State    0\n",
       "Group    0\n",
       "Unit     0\n",
       "Sales    0\n",
       "dtype: int64"
      ]
     },
     "execution_count": 5,
     "metadata": {},
     "output_type": "execute_result"
    }
   ],
   "source": [
    "data.isnull().sum()"
   ]
  },
  {
   "cell_type": "markdown",
   "id": "10175f114e8c26ea",
   "metadata": {},
   "source": [
    "#### There are no missing values in any of the columns so no need to replace na/null by mean"
   ]
  },
  {
   "cell_type": "code",
   "execution_count": 6,
   "id": "5e1daff4947553c9",
   "metadata": {
    "ExecuteTime": {
     "end_time": "2025-05-17T04:04:49.744683Z",
     "start_time": "2025-05-17T04:04:49.737671Z"
    }
   },
   "outputs": [
    {
     "data": {
      "text/plain": [
       "Date     0\n",
       "Time     0\n",
       "State    0\n",
       "Group    0\n",
       "Unit     0\n",
       "Sales    0\n",
       "dtype: int64"
      ]
     },
     "execution_count": 6,
     "metadata": {},
     "output_type": "execute_result"
    }
   ],
   "source": [
    "data.isna().sum()"
   ]
  },
  {
   "cell_type": "code",
   "execution_count": 7,
   "id": "524b86efd80f7f0f",
   "metadata": {
    "ExecuteTime": {
     "end_time": "2025-05-17T04:02:25.714418Z",
     "start_time": "2025-05-17T04:02:25.698522Z"
    }
   },
   "outputs": [
    {
     "data": {
      "text/html": [
       "<div>\n",
       "<style scoped>\n",
       "    .dataframe tbody tr th:only-of-type {\n",
       "        vertical-align: middle;\n",
       "    }\n",
       "\n",
       "    .dataframe tbody tr th {\n",
       "        vertical-align: top;\n",
       "    }\n",
       "\n",
       "    .dataframe thead th {\n",
       "        text-align: right;\n",
       "    }\n",
       "</style>\n",
       "<table border=\"1\" class=\"dataframe\">\n",
       "  <thead>\n",
       "    <tr style=\"text-align: right;\">\n",
       "      <th></th>\n",
       "      <th></th>\n",
       "      <th></th>\n",
       "      <th>Group</th>\n",
       "      <th>Unit</th>\n",
       "      <th>Sales</th>\n",
       "    </tr>\n",
       "    <tr>\n",
       "      <th>Date</th>\n",
       "      <th>State</th>\n",
       "      <th>Time</th>\n",
       "      <th></th>\n",
       "      <th></th>\n",
       "      <th></th>\n",
       "    </tr>\n",
       "  </thead>\n",
       "  <tbody>\n",
       "    <tr>\n",
       "      <th rowspan=\"5\" valign=\"top\">1-Dec-2020</th>\n",
       "      <th rowspan=\"3\" valign=\"top\">NSW</th>\n",
       "      <th>Afternoon</th>\n",
       "      <td>Kids Men Women Seniors</td>\n",
       "      <td>135</td>\n",
       "      <td>337500</td>\n",
       "    </tr>\n",
       "    <tr>\n",
       "      <th>Evening</th>\n",
       "      <td>Kids Men Women Seniors</td>\n",
       "      <td>124</td>\n",
       "      <td>310000</td>\n",
       "    </tr>\n",
       "    <tr>\n",
       "      <th>Morning</th>\n",
       "      <td>Kids Men Women Seniors</td>\n",
       "      <td>116</td>\n",
       "      <td>290000</td>\n",
       "    </tr>\n",
       "    <tr>\n",
       "      <th rowspan=\"2\" valign=\"top\">NT</th>\n",
       "      <th>Afternoon</th>\n",
       "      <td>Kids Men Women Seniors</td>\n",
       "      <td>49</td>\n",
       "      <td>122500</td>\n",
       "    </tr>\n",
       "    <tr>\n",
       "      <th>Evening</th>\n",
       "      <td>Kids Men Women Seniors</td>\n",
       "      <td>41</td>\n",
       "      <td>102500</td>\n",
       "    </tr>\n",
       "    <tr>\n",
       "      <th>...</th>\n",
       "      <th>...</th>\n",
       "      <th>...</th>\n",
       "      <td>...</td>\n",
       "      <td>...</td>\n",
       "      <td>...</td>\n",
       "    </tr>\n",
       "    <tr>\n",
       "      <th rowspan=\"5\" valign=\"top\">9-Oct-2020</th>\n",
       "      <th rowspan=\"2\" valign=\"top\">VIC</th>\n",
       "      <th>Evening</th>\n",
       "      <td>Kids Men Women Seniors</td>\n",
       "      <td>149</td>\n",
       "      <td>372500</td>\n",
       "    </tr>\n",
       "    <tr>\n",
       "      <th>Morning</th>\n",
       "      <td>Kids Men Women Seniors</td>\n",
       "      <td>167</td>\n",
       "      <td>417500</td>\n",
       "    </tr>\n",
       "    <tr>\n",
       "      <th rowspan=\"3\" valign=\"top\">WA</th>\n",
       "      <th>Afternoon</th>\n",
       "      <td>Kids Men Women Seniors</td>\n",
       "      <td>26</td>\n",
       "      <td>65000</td>\n",
       "    </tr>\n",
       "    <tr>\n",
       "      <th>Evening</th>\n",
       "      <td>Kids Men Women Seniors</td>\n",
       "      <td>34</td>\n",
       "      <td>85000</td>\n",
       "    </tr>\n",
       "    <tr>\n",
       "      <th>Morning</th>\n",
       "      <td>Kids Men Women Seniors</td>\n",
       "      <td>26</td>\n",
       "      <td>65000</td>\n",
       "    </tr>\n",
       "  </tbody>\n",
       "</table>\n",
       "<p>1890 rows × 3 columns</p>\n",
       "</div>"
      ],
      "text/plain": [
       "                                              Group  Unit   Sales\n",
       "Date       State Time                                            \n",
       "1-Dec-2020 NSW   Afternoon   Kids Men Women Seniors   135  337500\n",
       "                 Evening     Kids Men Women Seniors   124  310000\n",
       "                 Morning     Kids Men Women Seniors   116  290000\n",
       "           NT    Afternoon   Kids Men Women Seniors    49  122500\n",
       "                 Evening     Kids Men Women Seniors    41  102500\n",
       "...                                             ...   ...     ...\n",
       "9-Oct-2020 VIC   Evening     Kids Men Women Seniors   149  372500\n",
       "                 Morning     Kids Men Women Seniors   167  417500\n",
       "           WA    Afternoon   Kids Men Women Seniors    26   65000\n",
       "                 Evening     Kids Men Women Seniors    34   85000\n",
       "                 Morning     Kids Men Women Seniors    26   65000\n",
       "\n",
       "[1890 rows x 3 columns]"
      ]
     },
     "execution_count": 7,
     "metadata": {},
     "output_type": "execute_result"
    }
   ],
   "source": [
    "df = data.groupby([\"Date\",\"State\",\"Time\"]).sum()\n",
    "df"
   ]
  },
  {
   "cell_type": "code",
   "execution_count": 16,
   "id": "827908d6cda7dcd",
   "metadata": {
    "ExecuteTime": {
     "end_time": "2025-05-11T04:16:17.698531Z",
     "start_time": "2025-05-11T04:16:17.680834Z"
    }
   },
   "outputs": [
    {
     "name": "stdout",
     "output_type": "stream",
     "text": [
      "Time       State\n",
      "Afternoon  NSW      25110000\n",
      "           NT        7510000\n",
      "           QLD      11347500\n",
      "           SA       20025000\n",
      "           TAS       7670000\n",
      "           VIC      35062500\n",
      "           WA        7282500\n",
      "Evening    NSW      24712500\n",
      "           NT        7627500\n",
      "           QLD      10632500\n",
      "           SA       19367500\n",
      "           TAS       7565000\n",
      "           VIC      34880000\n",
      "           WA        7302500\n",
      "Morning    NSW      25147500\n",
      "           NT        7442500\n",
      "           QLD      11437500\n",
      "           SA       19465000\n",
      "           TAS       7525000\n",
      "           VIC      35622500\n",
      "           WA        7567500\n",
      "Name: Sales, dtype: int64\n"
     ]
    }
   ],
   "source": [
    "import pandas as pd\n",
    "import matplotlib.pyplot as plt\n",
    "# Create DataFrame\n",
    "df = pd.DataFrame(data)\n",
    "\n",
    "# Combine 'Date' and 'Time' into a single 'Date Time' column\n",
    "df['Date Time'] = df['Date'] + ' ' + df['Time']\n",
    "\n",
    "\n",
    "grouped = df.groupby(['Time','State']).sum()\n",
    "\n",
    "print(grouped.Sales)\n",
    "\n"
   ]
  }
 ],
 "metadata": {
  "kernelspec": {
   "display_name": "base",
   "language": "python",
   "name": "python3"
  },
  "language_info": {
   "codemirror_mode": {
    "name": "ipython",
    "version": 2
   },
   "file_extension": ".py",
   "mimetype": "text/x-python",
   "name": "python",
   "nbconvert_exporter": "python",
   "pygments_lexer": "ipython2",
   "version": "3.12.7"
  }
 },
 "nbformat": 4,
 "nbformat_minor": 5
}
