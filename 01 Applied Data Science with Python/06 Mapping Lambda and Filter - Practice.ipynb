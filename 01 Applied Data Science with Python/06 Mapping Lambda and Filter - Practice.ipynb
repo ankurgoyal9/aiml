{
 "cells": [
  {
   "cell_type": "code",
   "id": "initial_id",
   "metadata": {
    "collapsed": true,
    "ExecuteTime": {
     "end_time": "2025-04-12T05:07:34.326496Z",
     "start_time": "2025-04-12T05:07:34.321374Z"
    }
   },
   "source": "print(\"Hello World\")",
   "outputs": [
    {
     "name": "stdout",
     "output_type": "stream",
     "text": [
      "Hello World\n"
     ]
    }
   ],
   "execution_count": 2
  },
  {
   "metadata": {
    "ExecuteTime": {
     "end_time": "2025-04-12T05:07:51.917361Z",
     "start_time": "2025-04-12T05:07:51.913991Z"
    }
   },
   "cell_type": "code",
   "source": "def x(a): return a**2",
   "id": "81cf0c2709c313e5",
   "outputs": [],
   "execution_count": 3
  },
  {
   "metadata": {
    "ExecuteTime": {
     "end_time": "2025-04-12T05:07:58.654974Z",
     "start_time": "2025-04-12T05:07:58.647998Z"
    }
   },
   "cell_type": "code",
   "source": "x(3)",
   "id": "86485a0c66a3d618",
   "outputs": [
    {
     "data": {
      "text/plain": [
       "9"
      ]
     },
     "execution_count": 4,
     "metadata": {},
     "output_type": "execute_result"
    }
   ],
   "execution_count": 4
  },
  {
   "metadata": {
    "ExecuteTime": {
     "end_time": "2025-04-12T05:08:22.617521Z",
     "start_time": "2025-04-12T05:08:22.612142Z"
    }
   },
   "cell_type": "code",
   "source": "x",
   "id": "876df77877b9501a",
   "outputs": [
    {
     "data": {
      "text/plain": [
       "<function __main__.x(a)>"
      ]
     },
     "execution_count": 6,
     "metadata": {},
     "output_type": "execute_result"
    }
   ],
   "execution_count": 6
  },
  {
   "metadata": {
    "ExecuteTime": {
     "end_time": "2025-04-12T05:08:30.362982Z",
     "start_time": "2025-04-12T05:08:30.359470Z"
    }
   },
   "cell_type": "code",
   "source": "y=lambda a:a+2",
   "id": "b5cb5df0d398176d",
   "outputs": [],
   "execution_count": 7
  },
  {
   "metadata": {
    "ExecuteTime": {
     "end_time": "2025-04-12T05:08:34.100233Z",
     "start_time": "2025-04-12T05:08:34.095283Z"
    }
   },
   "cell_type": "code",
   "source": "y",
   "id": "b1a270514dafd3d7",
   "outputs": [
    {
     "data": {
      "text/plain": [
       "<function __main__.<lambda>(a)>"
      ]
     },
     "execution_count": 8,
     "metadata": {},
     "output_type": "execute_result"
    }
   ],
   "execution_count": 8
  },
  {
   "metadata": {
    "ExecuteTime": {
     "end_time": "2025-04-12T05:08:44.619791Z",
     "start_time": "2025-04-12T05:08:44.614790Z"
    }
   },
   "cell_type": "code",
   "source": "y(2)",
   "id": "30039a280b3f52f0",
   "outputs": [
    {
     "data": {
      "text/plain": [
       "4"
      ]
     },
     "execution_count": 9,
     "metadata": {},
     "output_type": "execute_result"
    }
   ],
   "execution_count": 9
  },
  {
   "metadata": {
    "ExecuteTime": {
     "end_time": "2025-04-12T05:08:52.986850Z",
     "start_time": "2025-04-12T05:08:52.982393Z"
    }
   },
   "cell_type": "code",
   "source": "a = lambda x,y: (x+y,x-y,x*y)",
   "id": "adb53a429c9dbde1",
   "outputs": [],
   "execution_count": 10
  },
  {
   "metadata": {
    "ExecuteTime": {
     "end_time": "2025-04-12T05:09:05.203663Z",
     "start_time": "2025-04-12T05:09:05.197871Z"
    }
   },
   "cell_type": "code",
   "source": "a(3,2)",
   "id": "25440325b4de9132",
   "outputs": [
    {
     "data": {
      "text/plain": [
       "(5, 1, 6)"
      ]
     },
     "execution_count": 11,
     "metadata": {},
     "output_type": "execute_result"
    }
   ],
   "execution_count": 11
  },
  {
   "metadata": {
    "ExecuteTime": {
     "end_time": "2025-04-12T05:09:13.942269Z",
     "start_time": "2025-04-12T05:09:13.939173Z"
    }
   },
   "cell_type": "code",
   "source": "var=lambda a:\"Hello\" if a>50 else \"Hi\"",
   "id": "45281c72a9f7d3c",
   "outputs": [],
   "execution_count": 12
  },
  {
   "metadata": {
    "ExecuteTime": {
     "end_time": "2025-04-12T05:09:21.810656Z",
     "start_time": "2025-04-12T05:09:21.805542Z"
    }
   },
   "cell_type": "code",
   "source": "var(10)",
   "id": "20c2a898b58fc453",
   "outputs": [
    {
     "data": {
      "text/plain": [
       "'Hi'"
      ]
     },
     "execution_count": 13,
     "metadata": {},
     "output_type": "execute_result"
    }
   ],
   "execution_count": 13
  },
  {
   "metadata": {
    "ExecuteTime": {
     "end_time": "2025-04-12T05:09:28.191710Z",
     "start_time": "2025-04-12T05:09:28.186683Z"
    }
   },
   "cell_type": "code",
   "source": "var(51)",
   "id": "9b8e27ffd48cefcd",
   "outputs": [
    {
     "data": {
      "text/plain": [
       "'Hello'"
      ]
     },
     "execution_count": 14,
     "metadata": {},
     "output_type": "execute_result"
    }
   ],
   "execution_count": 14
  },
  {
   "metadata": {
    "ExecuteTime": {
     "end_time": "2025-04-12T05:09:36.242401Z",
     "start_time": "2025-04-12T05:09:36.237771Z"
    }
   },
   "cell_type": "code",
   "source": "s=lambda a:\"Young\" if a<50 else \"Old\" if a<100 else \"Very Old\"",
   "id": "bf9f5c746eb02740",
   "outputs": [],
   "execution_count": 15
  },
  {
   "metadata": {
    "ExecuteTime": {
     "end_time": "2025-04-12T05:09:44.930181Z",
     "start_time": "2025-04-12T05:09:44.925234Z"
    }
   },
   "cell_type": "code",
   "source": "s(41)",
   "id": "2d558a9fa0a7912a",
   "outputs": [
    {
     "data": {
      "text/plain": [
       "'Young'"
      ]
     },
     "execution_count": 16,
     "metadata": {},
     "output_type": "execute_result"
    }
   ],
   "execution_count": 16
  },
  {
   "metadata": {
    "ExecuteTime": {
     "end_time": "2025-04-12T05:09:52.904763Z",
     "start_time": "2025-04-12T05:09:52.899643Z"
    }
   },
   "cell_type": "code",
   "source": "s(51)",
   "id": "ff88309e6300d285",
   "outputs": [
    {
     "data": {
      "text/plain": [
       "'Old'"
      ]
     },
     "execution_count": 17,
     "metadata": {},
     "output_type": "execute_result"
    }
   ],
   "execution_count": 17
  },
  {
   "metadata": {
    "ExecuteTime": {
     "end_time": "2025-04-12T06:06:15.178401Z",
     "start_time": "2025-04-12T06:06:15.173017Z"
    }
   },
   "cell_type": "code",
   "source": [
    "b=lambda x,y:x*y\n",
    "list(map(b,[1,2,3,4,5],[1,2,3]))"
   ],
   "id": "2fa8a950780e307f",
   "outputs": [
    {
     "data": {
      "text/plain": [
       "[1, 4, 9]"
      ]
     },
     "execution_count": 2,
     "metadata": {},
     "output_type": "execute_result"
    }
   ],
   "execution_count": 2
  },
  {
   "metadata": {
    "ExecuteTime": {
     "end_time": "2025-04-12T06:10:53.868164Z",
     "start_time": "2025-04-12T06:10:53.862943Z"
    }
   },
   "cell_type": "code",
   "source": [
    "p=[(\"a\",3),(\"c\",2)]\n",
    "print(sorted(p))\n",
    "print(sorted(p,key=lambda x:x[1]))\n",
    "print(sorted(p,key=lambda x:x[1],reverse=True))"
   ],
   "id": "28c8e47141ab8629",
   "outputs": [
    {
     "name": "stdout",
     "output_type": "stream",
     "text": [
      "[('a', 3), ('c', 2)]\n",
      "[('c', 2), ('a', 3)]\n",
      "[('a', 3), ('c', 2)]\n"
     ]
    }
   ],
   "execution_count": 9
  },
  {
   "metadata": {
    "ExecuteTime": {
     "end_time": "2025-04-12T06:14:11.496970Z",
     "start_time": "2025-04-12T06:14:11.491677Z"
    }
   },
   "cell_type": "code",
   "source": "list(filter(lambda x:x[1]>5,[(\"a\",3),(\"c\",10)]))",
   "id": "edb07fcf5e36eef0",
   "outputs": [
    {
     "data": {
      "text/plain": [
       "[('c', 10)]"
      ]
     },
     "execution_count": 11,
     "metadata": {},
     "output_type": "execute_result"
    }
   ],
   "execution_count": 11
  },
  {
   "metadata": {},
   "cell_type": "markdown",
   "source": "None Means Switching of the Filter",
   "id": "7ad2fc90028aa857"
  },
  {
   "metadata": {
    "ExecuteTime": {
     "end_time": "2025-04-12T06:15:02.989847Z",
     "start_time": "2025-04-12T06:15:02.985258Z"
    }
   },
   "cell_type": "code",
   "source": "list(filter(None,[(\"a\",3),(\"c\",10)]))",
   "id": "5c4f7b12c8f0bf70",
   "outputs": [
    {
     "data": {
      "text/plain": [
       "[('a', 3), ('c', 10)]"
      ]
     },
     "execution_count": 13,
     "metadata": {},
     "output_type": "execute_result"
    }
   ],
   "execution_count": 13
  },
  {
   "metadata": {
    "ExecuteTime": {
     "end_time": "2025-04-12T06:46:00.769418Z",
     "start_time": "2025-04-12T06:46:00.764065Z"
    }
   },
   "cell_type": "code",
   "source": "list(map(lambda x:x**2,list(filter(lambda y:y%2==0,list(range(13))))))",
   "id": "30edde2f7ea85b46",
   "outputs": [
    {
     "data": {
      "text/plain": [
       "[0, 4, 16, 36, 64, 100, 144]"
      ]
     },
     "execution_count": 3,
     "metadata": {},
     "output_type": "execute_result"
    }
   ],
   "execution_count": 3
  },
  {
   "metadata": {
    "ExecuteTime": {
     "end_time": "2025-04-12T06:51:10.880190Z",
     "start_time": "2025-04-12T06:51:10.876594Z"
    }
   },
   "cell_type": "code",
   "source": [
    "class name():\n",
    "    def f(self):\n",
    "        print(\"self=\",self)"
   ],
   "id": "e2f9674fb0861af1",
   "outputs": [],
   "execution_count": 4
  },
  {
   "metadata": {
    "ExecuteTime": {
     "end_time": "2025-04-12T06:51:25.930156Z",
     "start_time": "2025-04-12T06:51:25.925463Z"
    }
   },
   "cell_type": "code",
   "source": "name().f",
   "id": "f051a67c02ccf6db",
   "outputs": [
    {
     "data": {
      "text/plain": [
       "<bound method name.f of <__main__.name object at 0x0000027FDD9D3B60>>"
      ]
     },
     "execution_count": 5,
     "metadata": {},
     "output_type": "execute_result"
    }
   ],
   "execution_count": 5
  },
  {
   "metadata": {
    "ExecuteTime": {
     "end_time": "2025-04-12T06:55:34.762450Z",
     "start_time": "2025-04-12T06:55:34.758619Z"
    }
   },
   "cell_type": "code",
   "source": [
    "class math():\n",
    "    var=10\n",
    "    print(var)\n",
    "    def sq(self,x,y):\n",
    "        return x**y+self.var"
   ],
   "id": "75b1c176cd3331ea",
   "outputs": [
    {
     "name": "stdout",
     "output_type": "stream",
     "text": [
      "10\n"
     ]
    }
   ],
   "execution_count": 20
  },
  {
   "metadata": {
    "ExecuteTime": {
     "end_time": "2025-04-12T06:55:36.696255Z",
     "start_time": "2025-04-12T06:55:36.691522Z"
    }
   },
   "cell_type": "code",
   "source": "math().sq(3,2)",
   "id": "ef798b4949b31f79",
   "outputs": [
    {
     "data": {
      "text/plain": [
       "19"
      ]
     },
     "execution_count": 21,
     "metadata": {},
     "output_type": "execute_result"
    }
   ],
   "execution_count": 21
  },
  {
   "metadata": {
    "ExecuteTime": {
     "end_time": "2025-04-12T06:55:27.623522Z",
     "start_time": "2025-04-12T06:55:27.618912Z"
    }
   },
   "cell_type": "code",
   "source": [
    "obj=math()\n",
    "obj.sq(4,5)"
   ],
   "id": "720f9f8829773f3b",
   "outputs": [
    {
     "data": {
      "text/plain": [
       "1034"
      ]
     },
     "execution_count": 19,
     "metadata": {},
     "output_type": "execute_result"
    }
   ],
   "execution_count": 19
  },
  {
   "metadata": {},
   "cell_type": "markdown",
   "source": "## Class Constructors",
   "id": "8ae40939e617095f"
  },
  {
   "metadata": {
    "ExecuteTime": {
     "end_time": "2025-04-12T06:58:34.601606Z",
     "start_time": "2025-04-12T06:58:34.598022Z"
    }
   },
   "cell_type": "code",
   "source": [
    "class math():\n",
    "    var=1\n",
    "    def __init__(self):\n",
    "        self.var=10\n",
    "    def sq(self,x,y):\n",
    "        return x**y+self.var"
   ],
   "id": "3d204f57d3e67e89",
   "outputs": [],
   "execution_count": 23
  },
  {
   "metadata": {
    "ExecuteTime": {
     "end_time": "2025-04-12T06:58:50.404734Z",
     "start_time": "2025-04-12T06:58:50.399846Z"
    }
   },
   "cell_type": "code",
   "source": [
    "obj=math()\n",
    "obj.sq(4,5)"
   ],
   "id": "7d003f003ceff97c",
   "outputs": [
    {
     "data": {
      "text/plain": [
       "1034"
      ]
     },
     "execution_count": 24,
     "metadata": {},
     "output_type": "execute_result"
    }
   ],
   "execution_count": 24
  },
  {
   "metadata": {},
   "cell_type": "markdown",
   "source": "# Write a Calculator using class",
   "id": "b2fbd363e9b7194f"
  },
  {
   "metadata": {
    "ExecuteTime": {
     "end_time": "2025-04-13T03:47:14.230656Z",
     "start_time": "2025-04-13T03:47:02.340918Z"
    }
   },
   "cell_type": "code",
   "source": [
    "class Calculator:\n",
    "    def __init__(self):\n",
    "        self.result = 0\n",
    "\n",
    "    def add(self, a, b):\n",
    "        self.result = a + b\n",
    "        return self.result\n",
    "\n",
    "    def subtract(self, a, b):\n",
    "        self.result = a - b\n",
    "        return self.result\n",
    "\n",
    "    def multiply(self, a, b):\n",
    "        self.result = a * b\n",
    "        return self.result\n",
    "\n",
    "    def divide(self, a, b):\n",
    "        if b == 0:\n",
    "            return \"Error: Division by zero\"\n",
    "        self.result = a / b\n",
    "        return self.result\n",
    "\n",
    "    def power(self, a, b):\n",
    "        self.result = a ** b\n",
    "        return self.result\n",
    "\n",
    "    def get_result(self):\n",
    "        return self.result\n",
    "\n",
    "\n",
    "def main():\n",
    "    calc = Calculator()\n",
    "\n",
    "    while True:\n",
    "        try:\n",
    "            # Get user input\n",
    "            num1 = float(input(\"Enter first number: \"))\n",
    "            num2 = float(input(\"Enter second number: \"))\n",
    "\n",
    "            # Show operation options\n",
    "            print(\"\\nOperations:\")\n",
    "            print(\"1. Addition (+)\")\n",
    "            print(\"2. Subtraction (-)\")\n",
    "            print(\"3. Multiplication (*)\")\n",
    "            print(\"4. Division (/)\")\n",
    "            print(\"5. Power (^)\")\n",
    "\n",
    "            # Get operation choice\n",
    "            choice = input(\"\\nEnter operation: \")\n",
    "\n",
    "            # Perform calculation based on choice\n",
    "            if choice == 'a':\n",
    "                print(f\"Result: {calc.add(num1, num2)}\")\n",
    "            elif choice == 's':\n",
    "                print(f\"Result: {calc.subtract(num1, num2)}\")\n",
    "            elif choice == 'm':\n",
    "                print(f\"Result: {calc.multiply(num1, num2)}\")\n",
    "            elif choice == 'd':\n",
    "                print(f\"Result: {calc.divide(num1, num2)}\")\n",
    "            elif choice == 'p':\n",
    "                print(f\"Result: {calc.power(num1, num2)}\")\n",
    "            else:\n",
    "                print(\"Invalid choice\")\n",
    "\n",
    "            # Ask if user wants to continue\n",
    "            continue_choice = input(\"\\nDo you want to continue? (y/n): \")\n",
    "            if continue_choice.lower() != 'y':\n",
    "                print(\"Exiting calculator. Goodbye!\")\n",
    "                break\n",
    "\n",
    "        except ValueError:\n",
    "            print(\"Invalid input. Please enter valid numbers.\")\n",
    "        except Exception as e:\n",
    "            print(f\"An error occurred: {e}\")\n",
    "\n",
    "\n",
    "if __name__ == \"__main__\":\n",
    "    print(\"Welcome to the Calculator Program!\")\n",
    "    main()"
   ],
   "id": "f30de4251d945cad",
   "outputs": [
    {
     "name": "stdout",
     "output_type": "stream",
     "text": [
      "Welcome to the Calculator Program!\n",
      "\n",
      "Operations:\n",
      "1. Addition (+)\n",
      "2. Subtraction (-)\n",
      "3. Multiplication (*)\n",
      "4. Division (/)\n",
      "5. Power (^)\n",
      "Result: 15.0\n",
      "Exiting calculator. Goodbye!\n"
     ]
    }
   ],
   "execution_count": 3
  },
  {
   "metadata": {},
   "cell_type": "markdown",
   "source": "# Inheritence",
   "id": "ea8f045f53f2677f"
  },
  {
   "metadata": {
    "ExecuteTime": {
     "end_time": "2025-04-13T03:46:18.973554Z",
     "start_time": "2025-04-13T03:46:18.965918Z"
    }
   },
   "cell_type": "code",
   "source": [
    "# Parent class\n",
    "class Animal:\n",
    "    def __init__(self, name, species):\n",
    "        self.name = name\n",
    "        self.species = species\n",
    "\n",
    "    def make_sound(self):\n",
    "        print(\"Some generic animal sound\")\n",
    "\n",
    "    def info(self):\n",
    "        print(f\"I am {self.name}, a {self.species}\")\n",
    "\n",
    "# Child class inheriting from Animal\n",
    "class Dog(Animal):\n",
    "    def __init__(self, name, breed):\n",
    "        # Call parent class constructor\n",
    "        super().__init__(name, species=\"Dog\")\n",
    "        self.breed = breed\n",
    "\n",
    "    # Override parent method\n",
    "    def make_sound(self):\n",
    "        print(\"Woof! Woof!\")\n",
    "\n",
    "    # Add new method\n",
    "    def wag_tail(self):\n",
    "        print(f\"{self.name} is wagging tail\")\n",
    "\n",
    "# Another child class\n",
    "class Cat(Animal):\n",
    "    def __init__(self, name, color):\n",
    "        super().__init__(name, species=\"Cat\")\n",
    "        self.color = color\n",
    "\n",
    "    def make_sound(self):\n",
    "        print(\"Meow!\")\n",
    "\n",
    "    def purr(self):\n",
    "        print(f\"{self.name} is purring\")\n",
    "\n",
    "\n",
    "# Creating instances\n",
    "dog = Dog(\"Buddy\", \"Golden Retriever\")\n",
    "cat = Cat(\"Whiskers\", \"Orange\")\n",
    "\n",
    "# Using methods\n",
    "dog.info()  # From parent class\n",
    "dog.make_sound()  # Overridden method\n",
    "dog.wag_tail()  # New method in child class\n",
    "\n",
    "cat.info()  # From parent class\n",
    "cat.make_sound()  # Overridden method\n",
    "cat.purr()  # New method in child class"
   ],
   "id": "a52aed57646cf729",
   "outputs": [
    {
     "name": "stdout",
     "output_type": "stream",
     "text": [
      "I am Buddy, a Dog\n",
      "Woof! Woof!\n",
      "Buddy is wagging tail\n",
      "I am Whiskers, a Cat\n",
      "Meow!\n",
      "Whiskers is purring\n"
     ]
    }
   ],
   "execution_count": 1
  },
  {
   "metadata": {
    "ExecuteTime": {
     "end_time": "2025-04-12T07:18:27.644969Z",
     "start_time": "2025-04-12T07:18:27.639608Z"
    }
   },
   "cell_type": "code",
   "source": [
    "class a():  #parent superclass\n",
    "    def in_a(self):\n",
    "        print(\"in a\")\n",
    "\n",
    "class b(a):  #child subclass\n",
    "    def in_b(self):\n",
    "        print(\"in b\")\n",
    "\n",
    "class c(b):  #b is parent\n",
    "    def in_c(self):\n",
    "        print(\"in c\")\n",
    "\n",
    "obj1=c()\n",
    "obj1.in_a()\n",
    "obj1.in_b()\n",
    "obj1.in_c()\n",
    "b().in_a()\n",
    "b().in_b()"
   ],
   "id": "4d7daa493bef53e2",
   "outputs": [
    {
     "name": "stdout",
     "output_type": "stream",
     "text": [
      "in a\n",
      "in b\n",
      "in c\n",
      "in a\n",
      "in b\n"
     ]
    }
   ],
   "execution_count": 33
  }
 ],
 "metadata": {
  "kernelspec": {
   "display_name": "Python 3",
   "language": "python",
   "name": "python3"
  },
  "language_info": {
   "codemirror_mode": {
    "name": "ipython",
    "version": 2
   },
   "file_extension": ".py",
   "mimetype": "text/x-python",
   "name": "python",
   "nbconvert_exporter": "python",
   "pygments_lexer": "ipython2",
   "version": "2.7.6"
  }
 },
 "nbformat": 4,
 "nbformat_minor": 5
}
