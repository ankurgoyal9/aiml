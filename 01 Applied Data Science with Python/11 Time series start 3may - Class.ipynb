{
 "cells": [
  {
   "cell_type": "markdown",
   "id": "measured-layout",
   "metadata": {},
   "source": [
    "# Time Series"
   ]
  },
  {
   "cell_type": "markdown",
   "id": "confused-capture",
   "metadata": {},
   "source": [
    "* A time series is a sequence of observations over a certain period.\n",
    "* A univariate time series consists of the values taken by a single variable at periodic time instances over a period.\n",
    "* A multivariate time series consists of the values taken by multiple variables at the same periodic time instances over a period. \n",
    "\n"
   ]
  },
  {
   "cell_type": "markdown",
   "id": "mature-completion",
   "metadata": {},
   "source": [
    "### important points\n",
    "* We need decent amount of data \n",
    "\n",
    "* short duration forecaste only, not good --> 1yr forcast 1 mnth is ok not for forecasting 4 yr\n",
    "\n",
    "* dependency of previous data + no gap =ts\n",
    "\n",
    "* forcasting too long in future is usually not good\n",
    "\n",
    "* to forecast use the stable part of the series\n",
    "---\n",
    "In test train use most recent part for test and data is continues not random\n",
    "---\n",
    "\n",
    "### How to prepare data\n",
    "* we have to do a few things to convert our data into a time series object:\n",
    "1. converted the Month column from strings to datetime\n",
    "2. set the transformed datetime column as the index\n",
    "3. extracted year, month and weekday from the index and stored in new columns\n",
    "\n"
   ]
  },
  {
   "cell_type": "markdown",
   "id": "e1632db5",
   "metadata": {},
   "source": [
    "# Key Words\n",
    "* X1 X2 .....Xt-1  Xt  Xt+1\n",
    "* Forcast Horizon -Number of step to forecast\n",
    "### 2 ways of producing multi-step forecast\n",
    "    1. Incremental method (can be done with any one step forecaster) eg ARIMA\n",
    "    2. Multi-Output forecast(Limited to certain models)- ARIMA cannot do multiForecast\n",
    " \n",
    "# Core Model\n",
    "#### Multi step Forecast by INCREMENTAL MODEL\n",
    "* y=yt, y+ yt=yt+1, y+y^t+y^t+1.....\n",
    "#### Multi output Multi-step Forecast\n",
    "* Yt=Yt+1,Yt+2,Yt+3,...\n",
    "\n",
    "# Transform in TS\n",
    "### like ML standard scaling and minmax we have in time series\n",
    "1. Log Xform\n",
    "2. Power X-form\n",
    "3. Box-Cox X-form\n",
    "All serve the same purpose\n"
   ]
  },
  {
   "cell_type": "markdown",
   "id": "reasonable-monroe",
   "metadata": {},
   "source": [
    "## A time series has 4 components as given below −\n",
    "\n",
    "* Level − It is the mean value around which the series varies.\n",
    "\n",
    "* Trend − It is the increasing or decreasing behavior of a variable with time.\n",
    "\n",
    "* Seasonality − It is the cyclic behavior of time series.\n",
    "\n",
    "* Noise − It is the error in the observations added due to environmental factors."
   ]
  },
  {
   "cell_type": "markdown",
   "id": "accredited-community",
   "metadata": {},
   "source": [
    "## Time series forecasting models\n",
    "* Autoregression (AR)\n",
    "* Moving Average (MA)\n",
    "* Autoregressive Moving Average (ARMA)\n",
    "* Autoregressive Integrated Moving Average (ARIMA)\n",
    "* Seasonal Autoregressive Integrated Moving-Average (SARIMA)\n",
    "* Seasonal Autoregressive Integrated Moving-Average with Exogenous Regressors (SARIMAX)\n",
    "* Vector Autoregression (VAR)\n",
    "* Vector Autoregression Moving-Average (VARMA)\n",
    "* Vector Autoregression Moving-Average with Exogenous Regressors (VARMAX)\n",
    "* Simple Exponential Smoothing (SES)\n",
    "* Holt Winter’s Exponential Smoothing (HWES)\n",
    "* LSTM in NN"
   ]
  },
  {
   "cell_type": "markdown",
   "id": "accessible-catalog",
   "metadata": {},
   "source": [
    "## Time Series Modeling Techniques\n",
    "\n",
    "* Naïve Methods\n",
    "These are simple estimation techniques, such as the predicted value is given the value equal to mean of preceding values of the time dependent variable, or previous actual value. These are used for comparison with sophisticated modelling techniques.\n",
    "\n",
    "\n",
    "* Auto Regression\n",
    "Auto regression predicts the values of future time periods as a function of values at previous time periods. Predictions of auto regression may fit the data better than that of naïve methods, but it may not be able to account for seasonality.\n",
    "\n",
    "* Moving average\n",
    "Moving averages are a simple and common type of smoothing used in time series analysis and time series forecasting. Calculating a moving average involves creating a new series where the values are comprised of the average of raw observations in the original time series.\n",
    "\n",
    "* ARIMA Model\n",
    "An auto-regressive integrated moving-average models the value of a variable as a linear function of previous values and residual errors at previous time steps of a stationary timeseries. \n",
    "However, the real world data may be non-stationary and have seasonality, thus $Seasonal-ARIMA$ and $Fractional-ARIMA$ were developed.\n",
    "$ARIMA$ works on univariate time series, to handle multiple variables $VARIMA$ was introduced.\n",
    "\n",
    "\n",
    "* Exponential Smoothing\n",
    "It models the value of a variable as an exponential weighted linear function of previous values. This statistical model can handle trend and seasonality as well.\n",
    "\n",
    "\n",
    "* LSTM\n",
    "Long Short-Term Memory model ($LSTM$) is a recurrent neural network which is used for time series to account for long term dependencies. It can be trained with large amount of data to capture the trends in multi-variate time series.\n"
   ]
  },
  {
   "cell_type": "markdown",
   "id": "neutral-found",
   "metadata": {},
   "source": [
    "#### Seasonality\n",
    "    Seasonality refers to periodic fluctuations. For example, electricity consumption is high during the day and low during night, or online sales increase during Christmas before slowing down again.\n",
    "###### * if data is seasonal u have to use shift 12 , instead of one\n",
    "\n",
    "\n",
    "#### Stationarity\n",
    "    Stationarity is an important characteristic of time series. A time series is said to be stationary if its statistical properties do not change over time. In other words, it has constant mean and variance, and covariance is independent of time.\n",
    "   \n",
    "#### Autocorrelation\n",
    "    Informally, autocorrelation is the similarity between observations as a function of the time lag between them.\n",
    "    \n",
    "#### How to test if a process is stationary\n",
    "* $Dickey-Fuller$ : This is the statistical test that we run to determine if a time series is stationary or not.\n",
    "Without going into the technicalities of the Dickey-Fuller test, it test the null hypothesis that a unit root is present.\n",
    "If it is, then p > 0, and the process is not stationary.\n",
    "Otherwise, p = 0, the null hypothesis is rejected, and the process is considered to be stationary."
   ]
  },
  {
   "cell_type": "markdown",
   "id": "included-redhead",
   "metadata": {},
   "source": [
    "1. Time series has to be continues- 1jan 1feb 1mar is yes , 1jan 15feb 10 mar is not a TS.\n",
    "2. Peak and troughs - /\\   and \\/\n",
    "3. Trend , seasonality and pattern in seasonality itself is used togather various time."
   ]
  },
  {
   "cell_type": "code",
   "execution_count": null,
   "id": "perceived-device",
   "metadata": {},
   "outputs": [],
   "source": [
    "# NaN = > (Not-a-Number)"
   ]
  },
  {
   "cell_type": "code",
   "execution_count": 2,
   "id": "recorded-spider",
   "metadata": {},
   "outputs": [],
   "source": [
    "import pandas as pd"
   ]
  },
  {
   "cell_type": "markdown",
   "id": "professional-frost",
   "metadata": {},
   "source": [
    "To date time"
   ]
  },
  {
   "cell_type": "code",
   "execution_count": 2,
   "id": "insured-hours",
   "metadata": {},
   "outputs": [],
   "source": [
    "d=[\"2/4/2021\",\"3.4.2021\",\"5-4-2021\",\"2021/2/4\"]\n",
    "dt=[\"2/4/2021 2:30:00 pm\",\"3.4.2021 14:30:00\",\"5-4-2021 11:10:00\",\"2021/2/4\"]"
   ]
  },
  {
   "cell_type": "code",
   "execution_count": 3,
   "id": "surgical-description",
   "metadata": {},
   "outputs": [
    {
     "data": {
      "text/plain": [
       "DatetimeIndex(['2021-02-04', '2021-03-04', '2021-05-04', '2021-02-04'], dtype='datetime64[ns]', freq=None)"
      ]
     },
     "execution_count": 3,
     "metadata": {},
     "output_type": "execute_result"
    }
   ],
   "source": [
    "pd.to_datetime(d)"
   ]
  },
  {
   "cell_type": "code",
   "execution_count": 4,
   "id": "horizontal-brook",
   "metadata": {},
   "outputs": [
    {
     "data": {
      "text/plain": [
       "DatetimeIndex(['2021-02-04 14:30:00', '2021-03-04 14:30:00',\n",
       "               '2021-05-04 11:10:00', '2021-02-04 00:00:00'],\n",
       "              dtype='datetime64[ns]', freq=None)"
      ]
     },
     "execution_count": 4,
     "metadata": {},
     "output_type": "execute_result"
    }
   ],
   "source": [
    "pd.to_datetime(dt)# .dt.date"
   ]
  },
  {
   "cell_type": "markdown",
   "id": "intelligent-sense",
   "metadata": {},
   "source": [
    "* all converted to a common type"
   ]
  },
  {
   "cell_type": "code",
   "execution_count": 5,
   "id": "australian-deadline",
   "metadata": {},
   "outputs": [
    {
     "data": {
      "text/plain": [
       "Timestamp('2021-03-05 00:00:00')"
      ]
     },
     "execution_count": 5,
     "metadata": {},
     "output_type": "execute_result"
    }
   ],
   "source": [
    "# dd-mm-yy or mm-dd-yr\n",
    "pd.to_datetime(\"3-5-2021\")"
   ]
  },
  {
   "cell_type": "code",
   "execution_count": 6,
   "id": "elementary-pressing",
   "metadata": {},
   "outputs": [
    {
     "data": {
      "text/plain": [
       "Timestamp('2021-05-03 00:00:00')"
      ]
     },
     "execution_count": 6,
     "metadata": {},
     "output_type": "execute_result"
    }
   ],
   "source": [
    "pd.to_datetime(\"3-5-2021\",dayfirst=True)"
   ]
  },
  {
   "cell_type": "markdown",
   "id": "choice-acquisition",
   "metadata": {},
   "source": [
    "#### FORMAT"
   ]
  },
  {
   "cell_type": "code",
   "execution_count": 7,
   "id": "activated-match",
   "metadata": {},
   "outputs": [
    {
     "data": {
      "text/plain": [
       "Timestamp('2021-05-03 00:00:00')"
      ]
     },
     "execution_count": 7,
     "metadata": {},
     "output_type": "execute_result"
    }
   ],
   "source": [
    "pd.to_datetime(\"3#5#2021\",format=\"%d#%m#%Y\")"
   ]
  },
  {
   "cell_type": "code",
   "execution_count": 11,
   "id": "rental-frame",
   "metadata": {},
   "outputs": [
    {
     "ename": "ParserError",
     "evalue": "Unknown string format: abcdef",
     "output_type": "error",
     "traceback": [
      "\u001b[1;31m---------------------------------------------------------------------------\u001b[0m",
      "\u001b[1;31mTypeError\u001b[0m                                 Traceback (most recent call last)",
      "\u001b[1;32m~\\anaconda3\\envs\\py\\lib\\site-packages\\pandas\\core\\arrays\\datetimes.py\u001b[0m in \u001b[0;36mobjects_to_datetime64ns\u001b[1;34m(data, dayfirst, yearfirst, utc, errors, require_iso8601, allow_object)\u001b[0m\n\u001b[0;32m   2053\u001b[0m         \u001b[1;32mtry\u001b[0m\u001b[1;33m:\u001b[0m\u001b[1;33m\u001b[0m\u001b[1;33m\u001b[0m\u001b[0m\n\u001b[1;32m-> 2054\u001b[1;33m             \u001b[0mvalues\u001b[0m\u001b[1;33m,\u001b[0m \u001b[0mtz_parsed\u001b[0m \u001b[1;33m=\u001b[0m \u001b[0mconversion\u001b[0m\u001b[1;33m.\u001b[0m\u001b[0mdatetime_to_datetime64\u001b[0m\u001b[1;33m(\u001b[0m\u001b[0mdata\u001b[0m\u001b[1;33m)\u001b[0m\u001b[1;33m\u001b[0m\u001b[1;33m\u001b[0m\u001b[0m\n\u001b[0m\u001b[0;32m   2055\u001b[0m             \u001b[1;31m# If tzaware, these values represent unix timestamps, so we\u001b[0m\u001b[1;33m\u001b[0m\u001b[1;33m\u001b[0m\u001b[1;33m\u001b[0m\u001b[0m\n",
      "\u001b[1;32mpandas\\_libs\\tslibs\\conversion.pyx\u001b[0m in \u001b[0;36mpandas._libs.tslibs.conversion.datetime_to_datetime64\u001b[1;34m()\u001b[0m\n",
      "\u001b[1;31mTypeError\u001b[0m: Unrecognized value type: <class 'str'>",
      "\nDuring handling of the above exception, another exception occurred:\n",
      "\u001b[1;31mParserError\u001b[0m                               Traceback (most recent call last)",
      "\u001b[1;32m<ipython-input-11-e74e3a2d6942>\u001b[0m in \u001b[0;36m<module>\u001b[1;34m\u001b[0m\n\u001b[1;32m----> 1\u001b[1;33m \u001b[0mpd\u001b[0m\u001b[1;33m.\u001b[0m\u001b[0mto_datetime\u001b[0m\u001b[1;33m(\u001b[0m\u001b[1;33m[\u001b[0m\u001b[1;34m\"3-5-2021\"\u001b[0m\u001b[1;33m,\u001b[0m\u001b[1;34m\"4-5-2021\"\u001b[0m\u001b[1;33m,\u001b[0m\u001b[1;34m\"abcdef\"\u001b[0m\u001b[1;33m]\u001b[0m\u001b[1;33m)\u001b[0m\u001b[1;33m\u001b[0m\u001b[1;33m\u001b[0m\u001b[0m\n\u001b[0m",
      "\u001b[1;32m~\\anaconda3\\envs\\py\\lib\\site-packages\\pandas\\core\\tools\\datetimes.py\u001b[0m in \u001b[0;36mto_datetime\u001b[1;34m(arg, errors, dayfirst, yearfirst, utc, format, exact, unit, infer_datetime_format, origin, cache)\u001b[0m\n\u001b[0;32m    826\u001b[0m             \u001b[0mresult\u001b[0m \u001b[1;33m=\u001b[0m \u001b[0m_convert_and_box_cache\u001b[0m\u001b[1;33m(\u001b[0m\u001b[0marg\u001b[0m\u001b[1;33m,\u001b[0m \u001b[0mcache_array\u001b[0m\u001b[1;33m)\u001b[0m\u001b[1;33m\u001b[0m\u001b[1;33m\u001b[0m\u001b[0m\n\u001b[0;32m    827\u001b[0m         \u001b[1;32melse\u001b[0m\u001b[1;33m:\u001b[0m\u001b[1;33m\u001b[0m\u001b[1;33m\u001b[0m\u001b[0m\n\u001b[1;32m--> 828\u001b[1;33m             \u001b[0mresult\u001b[0m \u001b[1;33m=\u001b[0m \u001b[0mconvert_listlike\u001b[0m\u001b[1;33m(\u001b[0m\u001b[0marg\u001b[0m\u001b[1;33m,\u001b[0m \u001b[0mformat\u001b[0m\u001b[1;33m)\u001b[0m\u001b[1;33m\u001b[0m\u001b[1;33m\u001b[0m\u001b[0m\n\u001b[0m\u001b[0;32m    829\u001b[0m     \u001b[1;32melse\u001b[0m\u001b[1;33m:\u001b[0m\u001b[1;33m\u001b[0m\u001b[1;33m\u001b[0m\u001b[0m\n\u001b[0;32m    830\u001b[0m         \u001b[0mresult\u001b[0m \u001b[1;33m=\u001b[0m \u001b[0mconvert_listlike\u001b[0m\u001b[1;33m(\u001b[0m\u001b[0mnp\u001b[0m\u001b[1;33m.\u001b[0m\u001b[0marray\u001b[0m\u001b[1;33m(\u001b[0m\u001b[1;33m[\u001b[0m\u001b[0marg\u001b[0m\u001b[1;33m]\u001b[0m\u001b[1;33m)\u001b[0m\u001b[1;33m,\u001b[0m \u001b[0mformat\u001b[0m\u001b[1;33m)\u001b[0m\u001b[1;33m[\u001b[0m\u001b[1;36m0\u001b[0m\u001b[1;33m]\u001b[0m\u001b[1;33m\u001b[0m\u001b[1;33m\u001b[0m\u001b[0m\n",
      "\u001b[1;32m~\\anaconda3\\envs\\py\\lib\\site-packages\\pandas\\core\\tools\\datetimes.py\u001b[0m in \u001b[0;36m_convert_listlike_datetimes\u001b[1;34m(arg, format, name, tz, unit, errors, infer_datetime_format, dayfirst, yearfirst, exact)\u001b[0m\n\u001b[0;32m    457\u001b[0m         \u001b[1;32massert\u001b[0m \u001b[0mformat\u001b[0m \u001b[1;32mis\u001b[0m \u001b[1;32mNone\u001b[0m \u001b[1;32mor\u001b[0m \u001b[0minfer_datetime_format\u001b[0m\u001b[1;33m\u001b[0m\u001b[1;33m\u001b[0m\u001b[0m\n\u001b[0;32m    458\u001b[0m         \u001b[0mutc\u001b[0m \u001b[1;33m=\u001b[0m \u001b[0mtz\u001b[0m \u001b[1;33m==\u001b[0m \u001b[1;34m\"utc\"\u001b[0m\u001b[1;33m\u001b[0m\u001b[1;33m\u001b[0m\u001b[0m\n\u001b[1;32m--> 459\u001b[1;33m         result, tz_parsed = objects_to_datetime64ns(\n\u001b[0m\u001b[0;32m    460\u001b[0m             \u001b[0marg\u001b[0m\u001b[1;33m,\u001b[0m\u001b[1;33m\u001b[0m\u001b[1;33m\u001b[0m\u001b[0m\n\u001b[0;32m    461\u001b[0m             \u001b[0mdayfirst\u001b[0m\u001b[1;33m=\u001b[0m\u001b[0mdayfirst\u001b[0m\u001b[1;33m,\u001b[0m\u001b[1;33m\u001b[0m\u001b[1;33m\u001b[0m\u001b[0m\n",
      "\u001b[1;32m~\\anaconda3\\envs\\py\\lib\\site-packages\\pandas\\core\\arrays\\datetimes.py\u001b[0m in \u001b[0;36mobjects_to_datetime64ns\u001b[1;34m(data, dayfirst, yearfirst, utc, errors, require_iso8601, allow_object)\u001b[0m\n\u001b[0;32m   2057\u001b[0m             \u001b[1;32mreturn\u001b[0m \u001b[0mvalues\u001b[0m\u001b[1;33m.\u001b[0m\u001b[0mview\u001b[0m\u001b[1;33m(\u001b[0m\u001b[1;34m\"i8\"\u001b[0m\u001b[1;33m)\u001b[0m\u001b[1;33m,\u001b[0m \u001b[0mtz_parsed\u001b[0m\u001b[1;33m\u001b[0m\u001b[1;33m\u001b[0m\u001b[0m\n\u001b[0;32m   2058\u001b[0m         \u001b[1;32mexcept\u001b[0m \u001b[1;33m(\u001b[0m\u001b[0mValueError\u001b[0m\u001b[1;33m,\u001b[0m \u001b[0mTypeError\u001b[0m\u001b[1;33m)\u001b[0m\u001b[1;33m:\u001b[0m\u001b[1;33m\u001b[0m\u001b[1;33m\u001b[0m\u001b[0m\n\u001b[1;32m-> 2059\u001b[1;33m             \u001b[1;32mraise\u001b[0m \u001b[0me\u001b[0m\u001b[1;33m\u001b[0m\u001b[1;33m\u001b[0m\u001b[0m\n\u001b[0m\u001b[0;32m   2060\u001b[0m \u001b[1;33m\u001b[0m\u001b[0m\n\u001b[0;32m   2061\u001b[0m     \u001b[1;32mif\u001b[0m \u001b[0mtz_parsed\u001b[0m \u001b[1;32mis\u001b[0m \u001b[1;32mnot\u001b[0m \u001b[1;32mNone\u001b[0m\u001b[1;33m:\u001b[0m\u001b[1;33m\u001b[0m\u001b[1;33m\u001b[0m\u001b[0m\n",
      "\u001b[1;32m~\\anaconda3\\envs\\py\\lib\\site-packages\\pandas\\core\\arrays\\datetimes.py\u001b[0m in \u001b[0;36mobjects_to_datetime64ns\u001b[1;34m(data, dayfirst, yearfirst, utc, errors, require_iso8601, allow_object)\u001b[0m\n\u001b[0;32m   2042\u001b[0m \u001b[1;33m\u001b[0m\u001b[0m\n\u001b[0;32m   2043\u001b[0m     \u001b[1;32mtry\u001b[0m\u001b[1;33m:\u001b[0m\u001b[1;33m\u001b[0m\u001b[1;33m\u001b[0m\u001b[0m\n\u001b[1;32m-> 2044\u001b[1;33m         result, tz_parsed = tslib.array_to_datetime(\n\u001b[0m\u001b[0;32m   2045\u001b[0m             \u001b[0mdata\u001b[0m\u001b[1;33m,\u001b[0m\u001b[1;33m\u001b[0m\u001b[1;33m\u001b[0m\u001b[0m\n\u001b[0;32m   2046\u001b[0m             \u001b[0merrors\u001b[0m\u001b[1;33m=\u001b[0m\u001b[0merrors\u001b[0m\u001b[1;33m,\u001b[0m\u001b[1;33m\u001b[0m\u001b[1;33m\u001b[0m\u001b[0m\n",
      "\u001b[1;32mpandas\\_libs\\tslib.pyx\u001b[0m in \u001b[0;36mpandas._libs.tslib.array_to_datetime\u001b[1;34m()\u001b[0m\n",
      "\u001b[1;32mpandas\\_libs\\tslib.pyx\u001b[0m in \u001b[0;36mpandas._libs.tslib.array_to_datetime\u001b[1;34m()\u001b[0m\n",
      "\u001b[1;32mpandas\\_libs\\tslib.pyx\u001b[0m in \u001b[0;36mpandas._libs.tslib.array_to_datetime_object\u001b[1;34m()\u001b[0m\n",
      "\u001b[1;32mpandas\\_libs\\tslib.pyx\u001b[0m in \u001b[0;36mpandas._libs.tslib.array_to_datetime_object\u001b[1;34m()\u001b[0m\n",
      "\u001b[1;32mpandas\\_libs\\tslibs\\parsing.pyx\u001b[0m in \u001b[0;36mpandas._libs.tslibs.parsing.parse_datetime_string\u001b[1;34m()\u001b[0m\n",
      "\u001b[1;32m~\\anaconda3\\envs\\py\\lib\\site-packages\\dateutil\\parser\\_parser.py\u001b[0m in \u001b[0;36mparse\u001b[1;34m(timestr, parserinfo, **kwargs)\u001b[0m\n\u001b[0;32m   1372\u001b[0m         \u001b[1;32mreturn\u001b[0m \u001b[0mparser\u001b[0m\u001b[1;33m(\u001b[0m\u001b[0mparserinfo\u001b[0m\u001b[1;33m)\u001b[0m\u001b[1;33m.\u001b[0m\u001b[0mparse\u001b[0m\u001b[1;33m(\u001b[0m\u001b[0mtimestr\u001b[0m\u001b[1;33m,\u001b[0m \u001b[1;33m**\u001b[0m\u001b[0mkwargs\u001b[0m\u001b[1;33m)\u001b[0m\u001b[1;33m\u001b[0m\u001b[1;33m\u001b[0m\u001b[0m\n\u001b[0;32m   1373\u001b[0m     \u001b[1;32melse\u001b[0m\u001b[1;33m:\u001b[0m\u001b[1;33m\u001b[0m\u001b[1;33m\u001b[0m\u001b[0m\n\u001b[1;32m-> 1374\u001b[1;33m         \u001b[1;32mreturn\u001b[0m \u001b[0mDEFAULTPARSER\u001b[0m\u001b[1;33m.\u001b[0m\u001b[0mparse\u001b[0m\u001b[1;33m(\u001b[0m\u001b[0mtimestr\u001b[0m\u001b[1;33m,\u001b[0m \u001b[1;33m**\u001b[0m\u001b[0mkwargs\u001b[0m\u001b[1;33m)\u001b[0m\u001b[1;33m\u001b[0m\u001b[1;33m\u001b[0m\u001b[0m\n\u001b[0m\u001b[0;32m   1375\u001b[0m \u001b[1;33m\u001b[0m\u001b[0m\n\u001b[0;32m   1376\u001b[0m \u001b[1;33m\u001b[0m\u001b[0m\n",
      "\u001b[1;32m~\\anaconda3\\envs\\py\\lib\\site-packages\\dateutil\\parser\\_parser.py\u001b[0m in \u001b[0;36mparse\u001b[1;34m(self, timestr, default, ignoretz, tzinfos, **kwargs)\u001b[0m\n\u001b[0;32m    647\u001b[0m \u001b[1;33m\u001b[0m\u001b[0m\n\u001b[0;32m    648\u001b[0m         \u001b[1;32mif\u001b[0m \u001b[0mres\u001b[0m \u001b[1;32mis\u001b[0m \u001b[1;32mNone\u001b[0m\u001b[1;33m:\u001b[0m\u001b[1;33m\u001b[0m\u001b[1;33m\u001b[0m\u001b[0m\n\u001b[1;32m--> 649\u001b[1;33m             \u001b[1;32mraise\u001b[0m \u001b[0mParserError\u001b[0m\u001b[1;33m(\u001b[0m\u001b[1;34m\"Unknown string format: %s\"\u001b[0m\u001b[1;33m,\u001b[0m \u001b[0mtimestr\u001b[0m\u001b[1;33m)\u001b[0m\u001b[1;33m\u001b[0m\u001b[1;33m\u001b[0m\u001b[0m\n\u001b[0m\u001b[0;32m    650\u001b[0m \u001b[1;33m\u001b[0m\u001b[0m\n\u001b[0;32m    651\u001b[0m         \u001b[1;32mif\u001b[0m \u001b[0mlen\u001b[0m\u001b[1;33m(\u001b[0m\u001b[0mres\u001b[0m\u001b[1;33m)\u001b[0m \u001b[1;33m==\u001b[0m \u001b[1;36m0\u001b[0m\u001b[1;33m:\u001b[0m\u001b[1;33m\u001b[0m\u001b[1;33m\u001b[0m\u001b[0m\n",
      "\u001b[1;31mParserError\u001b[0m: Unknown string format: abcdef"
     ]
    }
   ],
   "source": [
    "pd.to_datetime([\"3-5-2021\",\"4-5-2021\",\"abcdef\"]) # ignore req\n"
   ]
  },
  {
   "cell_type": "code",
   "execution_count": 12,
   "id": "strange-kenya",
   "metadata": {},
   "outputs": [
    {
     "data": {
      "text/plain": [
       "Index(['3-5-2021', '4-5-2021', 'abcdef'], dtype='object')"
      ]
     },
     "execution_count": 12,
     "metadata": {},
     "output_type": "execute_result"
    }
   ],
   "source": [
    "pd.to_datetime([\"3-5-2021\",\"4-5-2021\",\"abcdef\"],errors=\"ignore\")"
   ]
  },
  {
   "cell_type": "markdown",
   "id": "critical-fluid",
   "metadata": {},
   "source": [
    "### Ignoring errors above\n"
   ]
  },
  {
   "cell_type": "code",
   "execution_count": null,
   "id": "smooth-ivory",
   "metadata": {},
   "outputs": [],
   "source": []
  },
  {
   "cell_type": "code",
   "execution_count": null,
   "id": "chubby-segment",
   "metadata": {},
   "outputs": [],
   "source": []
  },
  {
   "cell_type": "code",
   "execution_count": null,
   "id": "desirable-complaint",
   "metadata": {},
   "outputs": [],
   "source": []
  },
  {
   "cell_type": "markdown",
   "id": "static-minnesota",
   "metadata": {},
   "source": [
    "Reading data set"
   ]
  },
  {
   "cell_type": "code",
   "execution_count": null,
   "id": "nominated-hudson",
   "metadata": {},
   "outputs": [],
   "source": []
  },
  {
   "cell_type": "code",
   "execution_count": 4,
   "id": "parallel-monitoring",
   "metadata": {},
   "outputs": [
    {
     "data": {
      "text/html": [
       "<div>\n",
       "<style scoped>\n",
       "    .dataframe tbody tr th:only-of-type {\n",
       "        vertical-align: middle;\n",
       "    }\n",
       "\n",
       "    .dataframe tbody tr th {\n",
       "        vertical-align: top;\n",
       "    }\n",
       "\n",
       "    .dataframe thead th {\n",
       "        text-align: right;\n",
       "    }\n",
       "</style>\n",
       "<table border=\"1\" class=\"dataframe\">\n",
       "  <thead>\n",
       "    <tr style=\"text-align: right;\">\n",
       "      <th></th>\n",
       "      <th>Week</th>\n",
       "      <th>gold: (United States)</th>\n",
       "    </tr>\n",
       "  </thead>\n",
       "  <tbody>\n",
       "    <tr>\n",
       "      <th>0</th>\n",
       "      <td>15-03-2020</td>\n",
       "      <td>79</td>\n",
       "    </tr>\n",
       "    <tr>\n",
       "      <th>1</th>\n",
       "      <td>22-03-2020</td>\n",
       "      <td>79</td>\n",
       "    </tr>\n",
       "    <tr>\n",
       "      <th>2</th>\n",
       "      <td>29-03-2020</td>\n",
       "      <td>72</td>\n",
       "    </tr>\n",
       "    <tr>\n",
       "      <th>3</th>\n",
       "      <td>05-04-2020</td>\n",
       "      <td>75</td>\n",
       "    </tr>\n",
       "    <tr>\n",
       "      <th>4</th>\n",
       "      <td>12-04-2020</td>\n",
       "      <td>77</td>\n",
       "    </tr>\n",
       "  </tbody>\n",
       "</table>\n",
       "</div>"
      ],
      "text/plain": [
       "         Week  gold: (United States)\n",
       "0  15-03-2020                     79\n",
       "1  22-03-2020                     79\n",
       "2  29-03-2020                     72\n",
       "3  05-04-2020                     75\n",
       "4  12-04-2020                     77"
      ]
     },
     "execution_count": 4,
     "metadata": {},
     "output_type": "execute_result"
    }
   ],
   "source": [
    "df=pd.read_csv(\"gold data.csv\")\n",
    "df.head()"
   ]
  },
  {
   "cell_type": "code",
   "execution_count": 5,
   "id": "fe008fa6-1e75-458d-aa82-7d29587d1a28",
   "metadata": {},
   "outputs": [
    {
     "name": "stdout",
     "output_type": "stream",
     "text": [
      "<class 'pandas.core.frame.DataFrame'>\n",
      "RangeIndex: 51 entries, 0 to 50\n",
      "Data columns (total 2 columns):\n",
      " #   Column                 Non-Null Count  Dtype \n",
      "---  ------                 --------------  ----- \n",
      " 0   Week                   51 non-null     object\n",
      " 1   gold: (United States)  51 non-null     int64 \n",
      "dtypes: int64(1), object(1)\n",
      "memory usage: 948.0+ bytes\n"
     ]
    }
   ],
   "source": [
    "df.info()"
   ]
  },
  {
   "cell_type": "code",
   "execution_count": 183,
   "id": "qualified-cambodia",
   "metadata": {
    "scrolled": true
   },
   "outputs": [
    {
     "data": {
      "text/html": [
       "<div>\n",
       "<style scoped>\n",
       "    .dataframe tbody tr th:only-of-type {\n",
       "        vertical-align: middle;\n",
       "    }\n",
       "\n",
       "    .dataframe tbody tr th {\n",
       "        vertical-align: top;\n",
       "    }\n",
       "\n",
       "    .dataframe thead th {\n",
       "        text-align: right;\n",
       "    }\n",
       "</style>\n",
       "<table border=\"1\" class=\"dataframe\">\n",
       "  <thead>\n",
       "    <tr style=\"text-align: right;\">\n",
       "      <th></th>\n",
       "      <th>gold: (United States)</th>\n",
       "    </tr>\n",
       "  </thead>\n",
       "  <tbody>\n",
       "    <tr>\n",
       "      <th>count</th>\n",
       "      <td>51.000000</td>\n",
       "    </tr>\n",
       "    <tr>\n",
       "      <th>mean</th>\n",
       "      <td>82.411765</td>\n",
       "    </tr>\n",
       "    <tr>\n",
       "      <th>std</th>\n",
       "      <td>6.456552</td>\n",
       "    </tr>\n",
       "    <tr>\n",
       "      <th>min</th>\n",
       "      <td>63.000000</td>\n",
       "    </tr>\n",
       "    <tr>\n",
       "      <th>25%</th>\n",
       "      <td>78.500000</td>\n",
       "    </tr>\n",
       "    <tr>\n",
       "      <th>50%</th>\n",
       "      <td>81.000000</td>\n",
       "    </tr>\n",
       "    <tr>\n",
       "      <th>75%</th>\n",
       "      <td>86.000000</td>\n",
       "    </tr>\n",
       "    <tr>\n",
       "      <th>max</th>\n",
       "      <td>100.000000</td>\n",
       "    </tr>\n",
       "  </tbody>\n",
       "</table>\n",
       "</div>"
      ],
      "text/plain": [
       "       gold: (United States)\n",
       "count              51.000000\n",
       "mean               82.411765\n",
       "std                 6.456552\n",
       "min                63.000000\n",
       "25%                78.500000\n",
       "50%                81.000000\n",
       "75%                86.000000\n",
       "max               100.000000"
      ]
     },
     "execution_count": 183,
     "metadata": {},
     "output_type": "execute_result"
    }
   ],
   "source": [
    "df.describe()"
   ]
  },
  {
   "cell_type": "code",
   "execution_count": 7,
   "id": "beginning-gregory",
   "metadata": {},
   "outputs": [
    {
     "data": {
      "text/plain": [
       "dtype('O')"
      ]
     },
     "execution_count": 7,
     "metadata": {},
     "output_type": "execute_result"
    }
   ],
   "source": [
    "df[\"Week\"].dtype"
   ]
  },
  {
   "cell_type": "code",
   "execution_count": 9,
   "id": "assisted-fundamental",
   "metadata": {
    "scrolled": true
   },
   "outputs": [
    {
     "data": {
      "text/plain": [
       "str"
      ]
     },
     "execution_count": 9,
     "metadata": {},
     "output_type": "execute_result"
    }
   ],
   "source": [
    "type(df[\"Week\"][0])"
   ]
  },
  {
   "cell_type": "markdown",
   "id": "numerous-toolbox",
   "metadata": {},
   "source": [
    "### data format is in str type\n",
    " * Using date_parser"
   ]
  },
  {
   "cell_type": "code",
   "execution_count": 7,
   "id": "ac534b4e-b4c2-43a3-81d0-f0683044a89d",
   "metadata": {},
   "outputs": [],
   "source": [
    "import pandas as pd"
   ]
  },
  {
   "cell_type": "code",
   "execution_count": 8,
   "id": "1ad1c16a-4aae-4ed0-ad18-a817f56dc1bd",
   "metadata": {},
   "outputs": [
    {
     "data": {
      "text/plain": [
       "'2.2.3'"
      ]
     },
     "execution_count": 8,
     "metadata": {},
     "output_type": "execute_result"
    }
   ],
   "source": [
    "pd.__version__"
   ]
  },
  {
   "cell_type": "code",
   "execution_count": 9,
   "id": "central-mileage",
   "metadata": {},
   "outputs": [
    {
     "name": "stderr",
     "output_type": "stream",
     "text": [
      "C:\\Users\\Asus\\AppData\\Local\\Temp\\ipykernel_36396\\2344016690.py:1: UserWarning: Parsing dates in %d-%m-%Y format when dayfirst=False (the default) was specified. Pass `dayfirst=True` or specify a format to silence this warning.\n",
      "  data=pd.read_csv(\"gold data.csv\",parse_dates=[\"Week\"])\n"
     ]
    },
    {
     "data": {
      "text/html": [
       "<div>\n",
       "<style scoped>\n",
       "    .dataframe tbody tr th:only-of-type {\n",
       "        vertical-align: middle;\n",
       "    }\n",
       "\n",
       "    .dataframe tbody tr th {\n",
       "        vertical-align: top;\n",
       "    }\n",
       "\n",
       "    .dataframe thead th {\n",
       "        text-align: right;\n",
       "    }\n",
       "</style>\n",
       "<table border=\"1\" class=\"dataframe\">\n",
       "  <thead>\n",
       "    <tr style=\"text-align: right;\">\n",
       "      <th></th>\n",
       "      <th>Week</th>\n",
       "      <th>gold: (United States)</th>\n",
       "    </tr>\n",
       "  </thead>\n",
       "  <tbody>\n",
       "    <tr>\n",
       "      <th>0</th>\n",
       "      <td>2020-03-15</td>\n",
       "      <td>79</td>\n",
       "    </tr>\n",
       "    <tr>\n",
       "      <th>1</th>\n",
       "      <td>2020-03-22</td>\n",
       "      <td>79</td>\n",
       "    </tr>\n",
       "    <tr>\n",
       "      <th>2</th>\n",
       "      <td>2020-03-29</td>\n",
       "      <td>72</td>\n",
       "    </tr>\n",
       "    <tr>\n",
       "      <th>3</th>\n",
       "      <td>2020-04-05</td>\n",
       "      <td>75</td>\n",
       "    </tr>\n",
       "    <tr>\n",
       "      <th>4</th>\n",
       "      <td>2020-04-12</td>\n",
       "      <td>77</td>\n",
       "    </tr>\n",
       "  </tbody>\n",
       "</table>\n",
       "</div>"
      ],
      "text/plain": [
       "        Week  gold: (United States)\n",
       "0 2020-03-15                     79\n",
       "1 2020-03-22                     79\n",
       "2 2020-03-29                     72\n",
       "3 2020-04-05                     75\n",
       "4 2020-04-12                     77"
      ]
     },
     "execution_count": 9,
     "metadata": {},
     "output_type": "execute_result"
    }
   ],
   "source": [
    "\n",
    "data=pd.read_csv(\"gold data.csv\",parse_dates=[\"Week\"])\n",
    "data.head()"
   ]
  },
  {
   "cell_type": "code",
   "execution_count": 10,
   "id": "013ef8f5-1299-41a5-b4eb-43c27f8c0fe6",
   "metadata": {},
   "outputs": [
    {
     "name": "stdout",
     "output_type": "stream",
     "text": [
      "<class 'pandas.core.frame.DataFrame'>\n",
      "RangeIndex: 51 entries, 0 to 50\n",
      "Data columns (total 2 columns):\n",
      " #   Column                 Non-Null Count  Dtype         \n",
      "---  ------                 --------------  -----         \n",
      " 0   Week                   51 non-null     datetime64[ns]\n",
      " 1   gold: (United States)  51 non-null     int64         \n",
      "dtypes: datetime64[ns](1), int64(1)\n",
      "memory usage: 948.0 bytes\n"
     ]
    }
   ],
   "source": [
    "data.info()"
   ]
  },
  {
   "cell_type": "code",
   "execution_count": 11,
   "id": "conceptual-arbor",
   "metadata": {},
   "outputs": [
    {
     "data": {
      "text/plain": [
       "dtype('<M8[ns]')"
      ]
     },
     "execution_count": 11,
     "metadata": {},
     "output_type": "execute_result"
    }
   ],
   "source": [
    "data[\"Week\"].dtype"
   ]
  },
  {
   "cell_type": "code",
   "execution_count": 12,
   "id": "defined-treasurer",
   "metadata": {},
   "outputs": [
    {
     "data": {
      "text/plain": [
       "pandas._libs.tslibs.timestamps.Timestamp"
      ]
     },
     "execution_count": 12,
     "metadata": {},
     "output_type": "execute_result"
    }
   ],
   "source": [
    "type(data[\"Week\"][0])"
   ]
  },
  {
   "cell_type": "markdown",
   "id": "threaded-profession",
   "metadata": {},
   "source": [
    "## Making index col == date"
   ]
  },
  {
   "cell_type": "code",
   "execution_count": 16,
   "id": "choice-construction",
   "metadata": {},
   "outputs": [
    {
     "name": "stderr",
     "output_type": "stream",
     "text": [
      "C:\\Users\\Asus\\AppData\\Local\\Temp\\ipykernel_36396\\3346734466.py:2: UserWarning: Parsing dates in %d-%m-%Y format when dayfirst=False (the default) was specified. Pass `dayfirst=True` or specify a format to silence this warning.\n",
      "  dat=pd.read_csv(\"gold data.csv\",parse_dates=[\"Week\"],index_col=\"Week\",sep=',')\n"
     ]
    },
    {
     "data": {
      "text/html": [
       "<div>\n",
       "<style scoped>\n",
       "    .dataframe tbody tr th:only-of-type {\n",
       "        vertical-align: middle;\n",
       "    }\n",
       "\n",
       "    .dataframe tbody tr th {\n",
       "        vertical-align: top;\n",
       "    }\n",
       "\n",
       "    .dataframe thead th {\n",
       "        text-align: right;\n",
       "    }\n",
       "</style>\n",
       "<table border=\"1\" class=\"dataframe\">\n",
       "  <thead>\n",
       "    <tr style=\"text-align: right;\">\n",
       "      <th></th>\n",
       "      <th>gold: (United States)</th>\n",
       "    </tr>\n",
       "    <tr>\n",
       "      <th>Week</th>\n",
       "      <th></th>\n",
       "    </tr>\n",
       "  </thead>\n",
       "  <tbody>\n",
       "    <tr>\n",
       "      <th>2020-03-15</th>\n",
       "      <td>79</td>\n",
       "    </tr>\n",
       "    <tr>\n",
       "      <th>2020-03-22</th>\n",
       "      <td>79</td>\n",
       "    </tr>\n",
       "    <tr>\n",
       "      <th>2020-03-29</th>\n",
       "      <td>72</td>\n",
       "    </tr>\n",
       "    <tr>\n",
       "      <th>2020-04-05</th>\n",
       "      <td>75</td>\n",
       "    </tr>\n",
       "    <tr>\n",
       "      <th>2020-04-12</th>\n",
       "      <td>77</td>\n",
       "    </tr>\n",
       "  </tbody>\n",
       "</table>\n",
       "</div>"
      ],
      "text/plain": [
       "            gold: (United States)\n",
       "Week                             \n",
       "2020-03-15                     79\n",
       "2020-03-22                     79\n",
       "2020-03-29                     72\n",
       "2020-04-05                     75\n",
       "2020-04-12                     77"
      ]
     },
     "execution_count": 16,
     "metadata": {},
     "output_type": "execute_result"
    }
   ],
   "source": [
    "import pandas as pd\n",
    "dat=pd.read_csv(\"gold data.csv\",parse_dates=[\"Week\"],index_col=\"Week\",sep=',')\n",
    "dat.head()"
   ]
  },
  {
   "cell_type": "code",
   "execution_count": 23,
   "id": "several-gates",
   "metadata": {},
   "outputs": [],
   "source": [
    "dat.columns=['gold']"
   ]
  },
  {
   "cell_type": "code",
   "execution_count": 18,
   "id": "least-geology",
   "metadata": {},
   "outputs": [
    {
     "data": {
      "text/plain": [
       "DatetimeIndex(['2020-03-15', '2020-03-22', '2020-03-29', '2020-04-05',\n",
       "               '2020-04-12', '2020-04-19', '2020-04-26', '2020-05-03',\n",
       "               '2020-05-10', '2020-05-17', '2020-05-24', '2020-05-31',\n",
       "               '2020-06-07', '2020-06-14', '2020-06-21', '2020-06-28',\n",
       "               '2020-07-05', '2020-07-12', '2020-07-19', '2020-07-26',\n",
       "               '2020-08-02', '2020-08-09', '2020-08-16', '2020-08-23',\n",
       "               '2020-08-30', '2020-09-06', '2020-09-13', '2020-09-20',\n",
       "               '2020-09-27', '2020-10-04', '2020-10-11', '2020-10-18',\n",
       "               '2020-10-25', '2020-11-01', '2020-11-08', '2020-11-15',\n",
       "               '2020-11-22', '2020-11-29', '2020-12-06', '2020-12-13',\n",
       "               '2020-12-20', '2020-12-27', '2021-01-03', '2021-01-10',\n",
       "               '2021-01-17', '2021-01-24', '2021-01-31', '2021-02-07',\n",
       "               '2021-02-14', '2021-02-21', '2021-02-28'],\n",
       "              dtype='datetime64[ns]', name='Week', freq=None)"
      ]
     },
     "execution_count": 18,
     "metadata": {},
     "output_type": "execute_result"
    }
   ],
   "source": [
    "dat.index"
   ]
  },
  {
   "cell_type": "code",
   "execution_count": 17,
   "id": "62b2c06e",
   "metadata": {},
   "outputs": [
    {
     "data": {
      "text/html": [
       "<div>\n",
       "<style scoped>\n",
       "    .dataframe tbody tr th:only-of-type {\n",
       "        vertical-align: middle;\n",
       "    }\n",
       "\n",
       "    .dataframe tbody tr th {\n",
       "        vertical-align: top;\n",
       "    }\n",
       "\n",
       "    .dataframe thead th {\n",
       "        text-align: right;\n",
       "    }\n",
       "</style>\n",
       "<table border=\"1\" class=\"dataframe\">\n",
       "  <thead>\n",
       "    <tr style=\"text-align: right;\">\n",
       "      <th></th>\n",
       "      <th>gold: (United States)</th>\n",
       "    </tr>\n",
       "    <tr>\n",
       "      <th>Week</th>\n",
       "      <th></th>\n",
       "    </tr>\n",
       "  </thead>\n",
       "  <tbody>\n",
       "    <tr>\n",
       "      <th>2020-03-15</th>\n",
       "      <td>79</td>\n",
       "    </tr>\n",
       "    <tr>\n",
       "      <th>2020-03-22</th>\n",
       "      <td>79</td>\n",
       "    </tr>\n",
       "    <tr>\n",
       "      <th>2020-03-29</th>\n",
       "      <td>72</td>\n",
       "    </tr>\n",
       "    <tr>\n",
       "      <th>2020-04-05</th>\n",
       "      <td>75</td>\n",
       "    </tr>\n",
       "    <tr>\n",
       "      <th>2020-04-12</th>\n",
       "      <td>77</td>\n",
       "    </tr>\n",
       "  </tbody>\n",
       "</table>\n",
       "</div>"
      ],
      "text/plain": [
       "            gold: (United States)\n",
       "Week                             \n",
       "2020-03-15                     79\n",
       "2020-03-22                     79\n",
       "2020-03-29                     72\n",
       "2020-04-05                     75\n",
       "2020-04-12                     77"
      ]
     },
     "execution_count": 17,
     "metadata": {},
     "output_type": "execute_result"
    }
   ],
   "source": [
    "dat.head()"
   ]
  },
  {
   "cell_type": "code",
   "execution_count": 18,
   "id": "optimum-setting",
   "metadata": {},
   "outputs": [
    {
     "data": {
      "text/plain": [
       "pandas.core.frame.DataFrame"
      ]
     },
     "execution_count": 18,
     "metadata": {},
     "output_type": "execute_result"
    }
   ],
   "source": [
    "type(dat)"
   ]
  },
  {
   "cell_type": "markdown",
   "id": "colonial-flooring",
   "metadata": {},
   "source": [
    "## to fetch a particular month\n"
   ]
  },
  {
   "cell_type": "code",
   "execution_count": null,
   "id": "a68e2f2f-b81c-4819-b02a-c55147ad0099",
   "metadata": {},
   "outputs": [],
   "source": []
  },
  {
   "cell_type": "code",
   "execution_count": 19,
   "id": "owned-shareware",
   "metadata": {
    "scrolled": true
   },
   "outputs": [
    {
     "data": {
      "text/html": [
       "<div>\n",
       "<style scoped>\n",
       "    .dataframe tbody tr th:only-of-type {\n",
       "        vertical-align: middle;\n",
       "    }\n",
       "\n",
       "    .dataframe tbody tr th {\n",
       "        vertical-align: top;\n",
       "    }\n",
       "\n",
       "    .dataframe thead th {\n",
       "        text-align: right;\n",
       "    }\n",
       "</style>\n",
       "<table border=\"1\" class=\"dataframe\">\n",
       "  <thead>\n",
       "    <tr style=\"text-align: right;\">\n",
       "      <th></th>\n",
       "      <th>gold: (United States)</th>\n",
       "    </tr>\n",
       "    <tr>\n",
       "      <th>Week</th>\n",
       "      <th></th>\n",
       "    </tr>\n",
       "  </thead>\n",
       "  <tbody>\n",
       "    <tr>\n",
       "      <th>2020-03-15</th>\n",
       "      <td>79</td>\n",
       "    </tr>\n",
       "    <tr>\n",
       "      <th>2020-03-22</th>\n",
       "      <td>79</td>\n",
       "    </tr>\n",
       "    <tr>\n",
       "      <th>2020-03-29</th>\n",
       "      <td>72</td>\n",
       "    </tr>\n",
       "  </tbody>\n",
       "</table>\n",
       "</div>"
      ],
      "text/plain": [
       "            gold: (United States)\n",
       "Week                             \n",
       "2020-03-15                     79\n",
       "2020-03-22                     79\n",
       "2020-03-29                     72"
      ]
     },
     "execution_count": 19,
     "metadata": {},
     "output_type": "execute_result"
    }
   ],
   "source": [
    "dat.loc[\"2020-03\"]"
   ]
  },
  {
   "cell_type": "code",
   "execution_count": 20,
   "id": "aging-waters",
   "metadata": {},
   "outputs": [
    {
     "data": {
      "text/html": [
       "<div>\n",
       "<style scoped>\n",
       "    .dataframe tbody tr th:only-of-type {\n",
       "        vertical-align: middle;\n",
       "    }\n",
       "\n",
       "    .dataframe tbody tr th {\n",
       "        vertical-align: top;\n",
       "    }\n",
       "\n",
       "    .dataframe thead th {\n",
       "        text-align: right;\n",
       "    }\n",
       "</style>\n",
       "<table border=\"1\" class=\"dataframe\">\n",
       "  <thead>\n",
       "    <tr style=\"text-align: right;\">\n",
       "      <th></th>\n",
       "      <th>gold: (United States)</th>\n",
       "    </tr>\n",
       "    <tr>\n",
       "      <th>Week</th>\n",
       "      <th></th>\n",
       "    </tr>\n",
       "  </thead>\n",
       "  <tbody>\n",
       "    <tr>\n",
       "      <th>2020-04-05</th>\n",
       "      <td>75</td>\n",
       "    </tr>\n",
       "    <tr>\n",
       "      <th>2020-04-12</th>\n",
       "      <td>77</td>\n",
       "    </tr>\n",
       "    <tr>\n",
       "      <th>2020-04-19</th>\n",
       "      <td>83</td>\n",
       "    </tr>\n",
       "    <tr>\n",
       "      <th>2020-04-26</th>\n",
       "      <td>81</td>\n",
       "    </tr>\n",
       "  </tbody>\n",
       "</table>\n",
       "</div>"
      ],
      "text/plain": [
       "            gold: (United States)\n",
       "Week                             \n",
       "2020-04-05                     75\n",
       "2020-04-12                     77\n",
       "2020-04-19                     83\n",
       "2020-04-26                     81"
      ]
     },
     "execution_count": 20,
     "metadata": {},
     "output_type": "execute_result"
    }
   ],
   "source": [
    "dat.loc[\"2020-04\"]"
   ]
  },
  {
   "cell_type": "markdown",
   "id": "stopped-trance",
   "metadata": {},
   "source": [
    "## To fetch a range"
   ]
  },
  {
   "cell_type": "code",
   "execution_count": 21,
   "id": "academic-quarterly",
   "metadata": {
    "scrolled": true
   },
   "outputs": [
    {
     "data": {
      "text/html": [
       "<div>\n",
       "<style scoped>\n",
       "    .dataframe tbody tr th:only-of-type {\n",
       "        vertical-align: middle;\n",
       "    }\n",
       "\n",
       "    .dataframe tbody tr th {\n",
       "        vertical-align: top;\n",
       "    }\n",
       "\n",
       "    .dataframe thead th {\n",
       "        text-align: right;\n",
       "    }\n",
       "</style>\n",
       "<table border=\"1\" class=\"dataframe\">\n",
       "  <thead>\n",
       "    <tr style=\"text-align: right;\">\n",
       "      <th></th>\n",
       "      <th>gold: (United States)</th>\n",
       "    </tr>\n",
       "    <tr>\n",
       "      <th>Week</th>\n",
       "      <th></th>\n",
       "    </tr>\n",
       "  </thead>\n",
       "  <tbody>\n",
       "    <tr>\n",
       "      <th>2020-03-15</th>\n",
       "      <td>79</td>\n",
       "    </tr>\n",
       "    <tr>\n",
       "      <th>2020-03-22</th>\n",
       "      <td>79</td>\n",
       "    </tr>\n",
       "    <tr>\n",
       "      <th>2020-03-29</th>\n",
       "      <td>72</td>\n",
       "    </tr>\n",
       "    <tr>\n",
       "      <th>2020-04-05</th>\n",
       "      <td>75</td>\n",
       "    </tr>\n",
       "    <tr>\n",
       "      <th>2020-04-12</th>\n",
       "      <td>77</td>\n",
       "    </tr>\n",
       "    <tr>\n",
       "      <th>2020-04-19</th>\n",
       "      <td>83</td>\n",
       "    </tr>\n",
       "    <tr>\n",
       "      <th>2020-04-26</th>\n",
       "      <td>81</td>\n",
       "    </tr>\n",
       "  </tbody>\n",
       "</table>\n",
       "</div>"
      ],
      "text/plain": [
       "            gold: (United States)\n",
       "Week                             \n",
       "2020-03-15                     79\n",
       "2020-03-22                     79\n",
       "2020-03-29                     72\n",
       "2020-04-05                     75\n",
       "2020-04-12                     77\n",
       "2020-04-19                     83\n",
       "2020-04-26                     81"
      ]
     },
     "execution_count": 21,
     "metadata": {},
     "output_type": "execute_result"
    }
   ],
   "source": [
    "dat.loc[\"2020-03\":\"2020-04\"]"
   ]
  },
  {
   "cell_type": "markdown",
   "id": "mature-institution",
   "metadata": {},
   "source": [
    "# Reshaping"
   ]
  },
  {
   "cell_type": "code",
   "execution_count": 26,
   "id": "c88a215b-75be-4461-b6ef-4c20092b089b",
   "metadata": {},
   "outputs": [
    {
     "data": {
      "text/plain": [
       "Week\n",
       "2020-03-15    79.0\n",
       "2020-03-16     NaN\n",
       "2020-03-17     NaN\n",
       "2020-03-18     NaN\n",
       "2020-03-19     NaN\n",
       "              ... \n",
       "2021-02-24     NaN\n",
       "2021-02-25     NaN\n",
       "2021-02-26     NaN\n",
       "2021-02-27     NaN\n",
       "2021-02-28    86.0\n",
       "Freq: D, Name: gold, Length: 351, dtype: float64"
      ]
     },
     "execution_count": 26,
     "metadata": {},
     "output_type": "execute_result"
    }
   ],
   "source": [
    "#all frequency offsets except for 'ME', 'YE', 'QE', 'BME','BA', 'BQE', and 'W' which all have a default of 'right'\n",
    "dat.gold.resample(\"D\").mean()#day\n",
    "# this will work when u have multiple entry on single day"
   ]
  },
  {
   "cell_type": "code",
   "execution_count": 27,
   "id": "e770948c-02c4-4e3f-9254-2e9920ecb8b4",
   "metadata": {
    "scrolled": true
   },
   "outputs": [
    {
     "data": {
      "text/plain": [
       "Week\n",
       "2020-03-15     79.0\n",
       "2020-03-22     79.0\n",
       "2020-03-29     72.0\n",
       "2020-04-05     75.0\n",
       "2020-04-12     77.0\n",
       "2020-04-19     83.0\n",
       "2020-04-26     81.0\n",
       "2020-05-03     77.0\n",
       "2020-05-10     83.0\n",
       "2020-05-17     81.0\n",
       "2020-05-24     78.0\n",
       "2020-05-31     74.0\n",
       "2020-06-07     80.0\n",
       "2020-06-14     82.0\n",
       "2020-06-21     78.0\n",
       "2020-06-28     82.0\n",
       "2020-07-05     81.0\n",
       "2020-07-12     81.0\n",
       "2020-07-19     91.0\n",
       "2020-07-26    100.0\n",
       "2020-08-02     98.0\n",
       "2020-08-09     94.0\n",
       "2020-08-16     88.0\n",
       "2020-08-23     81.0\n",
       "2020-08-30     80.0\n",
       "2020-09-06     79.0\n",
       "2020-09-13     76.0\n",
       "2020-09-20     78.0\n",
       "2020-09-27     78.0\n",
       "2020-10-04     77.0\n",
       "2020-10-11     78.0\n",
       "2020-10-18     80.0\n",
       "2020-10-25     79.0\n",
       "2020-11-01     63.0\n",
       "2020-11-08     83.0\n",
       "2020-11-15     84.0\n",
       "2020-11-22     87.0\n",
       "2020-11-29     94.0\n",
       "2020-12-06     86.0\n",
       "2020-12-13     86.0\n",
       "2020-12-20     87.0\n",
       "2020-12-27     87.0\n",
       "2021-01-03     83.0\n",
       "2021-01-10     86.0\n",
       "2021-01-17     87.0\n",
       "2021-01-24     85.0\n",
       "2021-01-31     92.0\n",
       "2021-02-07     84.0\n",
       "2021-02-14     80.0\n",
       "2021-02-21     83.0\n",
       "2021-02-28     86.0\n",
       "Freq: W-SUN, Name: gold, dtype: float64"
      ]
     },
     "execution_count": 27,
     "metadata": {},
     "output_type": "execute_result"
    }
   ],
   "source": [
    "dat.gold.resample(\"W\").mean()#weekly"
   ]
  },
  {
   "cell_type": "code",
   "execution_count": 28,
   "id": "dd86dc7e-d3a1-4882-ab75-1d86741f233d",
   "metadata": {},
   "outputs": [
    {
     "data": {
      "text/plain": [
       "Week\n",
       "2020-03-13    79.0\n",
       "2020-03-16     NaN\n",
       "2020-03-17     NaN\n",
       "2020-03-18     NaN\n",
       "2020-03-19     NaN\n",
       "              ... \n",
       "2021-02-22     NaN\n",
       "2021-02-23     NaN\n",
       "2021-02-24     NaN\n",
       "2021-02-25     NaN\n",
       "2021-02-26    86.0\n",
       "Freq: B, Name: gold, Length: 251, dtype: float64"
      ]
     },
     "execution_count": 28,
     "metadata": {},
     "output_type": "execute_result"
    }
   ],
   "source": [
    "dat.gold.resample(\"B\").mean()#weekly"
   ]
  },
  {
   "cell_type": "code",
   "execution_count": 30,
   "id": "together-mapping",
   "metadata": {},
   "outputs": [
    {
     "data": {
      "text/plain": [
       "Week\n",
       "2020-03-31    76.666667\n",
       "2020-04-30    79.000000\n",
       "2020-05-31    78.600000\n",
       "2020-06-30    80.500000\n",
       "2020-07-31    88.250000\n",
       "2020-08-31    88.200000\n",
       "2020-09-30    77.750000\n",
       "2020-10-31    78.500000\n",
       "2020-11-30    82.200000\n",
       "2020-12-31    86.500000\n",
       "2021-01-31    86.600000\n",
       "2021-02-28    83.250000\n",
       "Freq: ME, Name: gold, dtype: float64"
      ]
     },
     "execution_count": 30,
     "metadata": {},
     "output_type": "execute_result"
    }
   ],
   "source": [
    "dat.gold.resample(\"ME\").mean()#month 'ME'"
   ]
  },
  {
   "cell_type": "code",
   "execution_count": 31,
   "id": "painted-gabriel",
   "metadata": {},
   "outputs": [
    {
     "data": {
      "text/plain": [
       "Week\n",
       "2020-12-31    81.833333\n",
       "2021-12-31    85.111111\n",
       "Freq: YE-DEC, Name: gold, dtype: float64"
      ]
     },
     "execution_count": 31,
     "metadata": {},
     "output_type": "execute_result"
    }
   ],
   "source": [
    "dat.gold.resample(\"YE\").mean()#year YE"
   ]
  },
  {
   "cell_type": "code",
   "execution_count": 32,
   "id": "forward-lesson",
   "metadata": {
    "scrolled": true
   },
   "outputs": [
    {
     "data": {
      "text/plain": [
       "Week\n",
       "2020-03-31    76.666667\n",
       "2020-06-30    79.307692\n",
       "2020-09-30    85.000000\n",
       "2020-12-31    82.384615\n",
       "2021-03-31    85.111111\n",
       "Freq: QE-DEC, Name: gold, dtype: float64"
      ]
     },
     "execution_count": 32,
     "metadata": {},
     "output_type": "execute_result"
    }
   ],
   "source": [
    "dat.gold.resample(\"QE\").mean()#quater"
   ]
  },
  {
   "cell_type": "code",
   "execution_count": 33,
   "id": "worse-bermuda",
   "metadata": {},
   "outputs": [
    {
     "data": {
      "text/plain": [
       "[(Timestamp('2020-03-31 00:00:00'),\n",
       "  Week\n",
       "  2020-03-15    79\n",
       "  2020-03-22    79\n",
       "  2020-03-29    72\n",
       "  Name: gold, dtype: int64),\n",
       " (Timestamp('2020-06-30 00:00:00'),\n",
       "  Week\n",
       "  2020-04-05    75\n",
       "  2020-04-12    77\n",
       "  2020-04-19    83\n",
       "  2020-04-26    81\n",
       "  2020-05-03    77\n",
       "  2020-05-10    83\n",
       "  2020-05-17    81\n",
       "  2020-05-24    78\n",
       "  2020-05-31    74\n",
       "  2020-06-07    80\n",
       "  2020-06-14    82\n",
       "  2020-06-21    78\n",
       "  2020-06-28    82\n",
       "  Name: gold, dtype: int64),\n",
       " (Timestamp('2020-09-30 00:00:00'),\n",
       "  Week\n",
       "  2020-07-05     81\n",
       "  2020-07-12     81\n",
       "  2020-07-19     91\n",
       "  2020-07-26    100\n",
       "  2020-08-02     98\n",
       "  2020-08-09     94\n",
       "  2020-08-16     88\n",
       "  2020-08-23     81\n",
       "  2020-08-30     80\n",
       "  2020-09-06     79\n",
       "  2020-09-13     76\n",
       "  2020-09-20     78\n",
       "  2020-09-27     78\n",
       "  Name: gold, dtype: int64),\n",
       " (Timestamp('2020-12-31 00:00:00'),\n",
       "  Week\n",
       "  2020-10-04    77\n",
       "  2020-10-11    78\n",
       "  2020-10-18    80\n",
       "  2020-10-25    79\n",
       "  2020-11-01    63\n",
       "  2020-11-08    83\n",
       "  2020-11-15    84\n",
       "  2020-11-22    87\n",
       "  2020-11-29    94\n",
       "  2020-12-06    86\n",
       "  2020-12-13    86\n",
       "  2020-12-20    87\n",
       "  2020-12-27    87\n",
       "  Name: gold, dtype: int64),\n",
       " (Timestamp('2021-03-31 00:00:00'),\n",
       "  Week\n",
       "  2021-01-03    83\n",
       "  2021-01-10    86\n",
       "  2021-01-17    87\n",
       "  2021-01-24    85\n",
       "  2021-01-31    92\n",
       "  2021-02-07    84\n",
       "  2021-02-14    80\n",
       "  2021-02-21    83\n",
       "  2021-02-28    86\n",
       "  Name: gold, dtype: int64)]"
      ]
     },
     "execution_count": 33,
     "metadata": {},
     "output_type": "execute_result"
    }
   ],
   "source": [
    "list(dat.gold.resample(\"QE\"))"
   ]
  },
  {
   "cell_type": "markdown",
   "id": "underlying-image",
   "metadata": {},
   "source": [
    "# Plot"
   ]
  },
  {
   "cell_type": "code",
   "execution_count": 13,
   "id": "differential-brake",
   "metadata": {},
   "outputs": [
    {
     "data": {
      "text/plain": [
       "pandas.core.frame.DataFrame"
      ]
     },
     "execution_count": 13,
     "metadata": {},
     "output_type": "execute_result"
    }
   ],
   "source": [
    "type(dat.sort_index())"
   ]
  },
  {
   "cell_type": "code",
   "execution_count": 130,
   "id": "grave-brain",
   "metadata": {},
   "outputs": [
    {
     "data": {
      "text/html": [
       "<div>\n",
       "<style scoped>\n",
       "    .dataframe tbody tr th:only-of-type {\n",
       "        vertical-align: middle;\n",
       "    }\n",
       "\n",
       "    .dataframe tbody tr th {\n",
       "        vertical-align: top;\n",
       "    }\n",
       "\n",
       "    .dataframe thead th {\n",
       "        text-align: right;\n",
       "    }\n",
       "</style>\n",
       "<table border=\"1\" class=\"dataframe\">\n",
       "  <thead>\n",
       "    <tr style=\"text-align: right;\">\n",
       "      <th></th>\n",
       "      <th>gold</th>\n",
       "    </tr>\n",
       "    <tr>\n",
       "      <th>Week</th>\n",
       "      <th></th>\n",
       "    </tr>\n",
       "  </thead>\n",
       "  <tbody>\n",
       "    <tr>\n",
       "      <th>2020-01-11</th>\n",
       "      <td>63</td>\n",
       "    </tr>\n",
       "    <tr>\n",
       "      <th>2020-02-08</th>\n",
       "      <td>98</td>\n",
       "    </tr>\n",
       "    <tr>\n",
       "      <th>2020-03-05</th>\n",
       "      <td>77</td>\n",
       "    </tr>\n",
       "    <tr>\n",
       "      <th>2020-03-15</th>\n",
       "      <td>79</td>\n",
       "    </tr>\n",
       "    <tr>\n",
       "      <th>2020-03-22</th>\n",
       "      <td>79</td>\n",
       "    </tr>\n",
       "  </tbody>\n",
       "</table>\n",
       "</div>"
      ],
      "text/plain": [
       "            gold\n",
       "Week            \n",
       "2020-01-11    63\n",
       "2020-02-08    98\n",
       "2020-03-05    77\n",
       "2020-03-15    79\n",
       "2020-03-22    79"
      ]
     },
     "execution_count": 130,
     "metadata": {},
     "output_type": "execute_result"
    }
   ],
   "source": [
    "dat_sort=dat.sort_index()\n",
    "dat_sort.head()"
   ]
  },
  {
   "cell_type": "code",
   "execution_count": 134,
   "id": "honey-layer",
   "metadata": {
    "scrolled": true
   },
   "outputs": [
    {
     "data": {
      "text/plain": [
       "Week\n",
       "2020-01-31    63.000000\n",
       "2020-02-29    98.000000\n",
       "2020-03-31    76.750000\n",
       "2020-04-30    80.333333\n",
       "2020-05-31    77.800000\n",
       "2020-06-30    81.400000\n",
       "2020-07-31    90.333333\n",
       "2020-08-31    83.000000\n",
       "2020-09-30    81.500000\n",
       "2020-10-31    80.666667\n",
       "2020-11-30    85.750000\n",
       "2020-12-31    83.600000\n",
       "2021-01-31    88.000000\n",
       "2021-02-28    83.000000\n",
       "2021-03-31    83.000000\n",
       "2021-04-30          NaN\n",
       "2021-05-31          NaN\n",
       "2021-06-30          NaN\n",
       "2021-07-31    84.000000\n",
       "2021-08-31          NaN\n",
       "2021-09-30          NaN\n",
       "2021-10-31    86.000000\n",
       "Freq: M, Name: gold, dtype: float64"
      ]
     },
     "execution_count": 134,
     "metadata": {},
     "output_type": "execute_result"
    }
   ],
   "source": [
    "dat_sort.gold.resample(\"M\").mean()"
   ]
  },
  {
   "cell_type": "code",
   "execution_count": 135,
   "id": "international-ghana",
   "metadata": {},
   "outputs": [
    {
     "data": {
      "text/plain": [
       "<AxesSubplot:xlabel='Week'>"
      ]
     },
     "execution_count": 135,
     "metadata": {},
     "output_type": "execute_result"
    },
    {
     "data": {
      "image/png": "[encoded data removed]",
      "text/plain": [
       "<Figure size 432x288 with 1 Axes>"
      ]
     },
     "metadata": {
      "needs_background": "light"
     },
     "output_type": "display_data"
    }
   ],
   "source": [
    "dat_sort.gold.resample(\"M\").mean().plot()"
   ]
  },
  {
   "cell_type": "code",
   "execution_count": 137,
   "id": "incomplete-edward",
   "metadata": {},
   "outputs": [
    {
     "data": {
      "text/plain": [
       "<AxesSubplot:ylabel='Week'>"
      ]
     },
     "execution_count": 137,
     "metadata": {},
     "output_type": "execute_result"
    },
    {
     "data": {
      "image/png": "[encoded data removed]",
      "text/plain": [
       "<Figure size 432x288 with 1 Axes>"
      ]
     },
     "metadata": {
      "needs_background": "light"
     },
     "output_type": "display_data"
    }
   ],
   "source": [
    "dat_sort.gold.resample(\"M\").mean().plot(kind=\"barh\")"
   ]
  },
  {
   "cell_type": "markdown",
   "id": "reasonable-serum",
   "metadata": {},
   "source": [
    "# Date range"
   ]
  },
  {
   "cell_type": "code",
   "execution_count": 152,
   "id": "medical-ebony",
   "metadata": {},
   "outputs": [
    {
     "data": {
      "text/plain": [
       "DatetimeIndex(['2020-01-01', '2020-01-02', '2020-01-03', '2020-01-06',\n",
       "               '2020-01-07', '2020-01-08', '2020-01-09', '2020-01-10',\n",
       "               '2020-01-13', '2020-01-14',\n",
       "               ...\n",
       "               '2020-12-18', '2020-12-21', '2020-12-22', '2020-12-23',\n",
       "               '2020-12-24', '2020-12-25', '2020-12-28', '2020-12-29',\n",
       "               '2020-12-30', '2020-12-31'],\n",
       "              dtype='datetime64[ns]', length=262, freq='B')"
      ]
     },
     "execution_count": 152,
     "metadata": {},
     "output_type": "execute_result"
    }
   ],
   "source": [
    "date=pd.date_range(start=\"1/1/2020\",end=\"12/31/2020\",freq=\"B\")\n",
    "date"
   ]
  },
  {
   "cell_type": "code",
   "execution_count": 151,
   "id": "elect-defeat",
   "metadata": {},
   "outputs": [
    {
     "data": {
      "text/plain": [
       "262"
      ]
     },
     "execution_count": 151,
     "metadata": {},
     "output_type": "execute_result"
    }
   ],
   "source": [
    "len(date)"
   ]
  },
  {
   "cell_type": "code",
   "execution_count": null,
   "id": "talented-council",
   "metadata": {},
   "outputs": [],
   "source": [
    "# periods=8"
   ]
  },
  {
   "cell_type": "code",
   "execution_count": 156,
   "id": "dying-effectiveness",
   "metadata": {},
   "outputs": [
    {
     "data": {
      "text/plain": [
       "DatetimeIndex(['2020-01-01 00:00:00', '2020-02-10 13:20:00',\n",
       "               '2020-03-22 02:40:00', '2020-05-01 16:00:00',\n",
       "               '2020-06-11 05:20:00', '2020-07-21 18:40:00',\n",
       "               '2020-08-31 08:00:00', '2020-10-10 21:20:00',\n",
       "               '2020-11-20 10:40:00', '2020-12-31 00:00:00'],\n",
       "              dtype='datetime64[ns]', freq=None)"
      ]
     },
     "execution_count": 156,
     "metadata": {},
     "output_type": "execute_result"
    }
   ],
   "source": [
    "date=pd.date_range(start=\"1/1/2020\",end=\"12/31/2020\",periods=10)\n",
    "date\n",
    "#ValueError: Of the four parameters: start, end, periods, and freq, exactly three must be specified\n"
   ]
  },
  {
   "cell_type": "code",
   "execution_count": 165,
   "id": "apparent-train",
   "metadata": {},
   "outputs": [
    {
     "data": {
      "text/html": [
       "<div>\n",
       "<style scoped>\n",
       "    .dataframe tbody tr th:only-of-type {\n",
       "        vertical-align: middle;\n",
       "    }\n",
       "\n",
       "    .dataframe tbody tr th {\n",
       "        vertical-align: top;\n",
       "    }\n",
       "\n",
       "    .dataframe thead th {\n",
       "        text-align: right;\n",
       "    }\n",
       "</style>\n",
       "<table border=\"1\" class=\"dataframe\">\n",
       "  <thead>\n",
       "    <tr style=\"text-align: right;\">\n",
       "      <th></th>\n",
       "      <th>value</th>\n",
       "    </tr>\n",
       "  </thead>\n",
       "  <tbody>\n",
       "    <tr>\n",
       "      <th>0</th>\n",
       "      <td>3</td>\n",
       "    </tr>\n",
       "    <tr>\n",
       "      <th>1</th>\n",
       "      <td>4</td>\n",
       "    </tr>\n",
       "    <tr>\n",
       "      <th>2</th>\n",
       "      <td>5</td>\n",
       "    </tr>\n",
       "    <tr>\n",
       "      <th>3</th>\n",
       "      <td>6</td>\n",
       "    </tr>\n",
       "  </tbody>\n",
       "</table>\n",
       "</div>"
      ],
      "text/plain": [
       "   value\n",
       "0      3\n",
       "1      4\n",
       "2      5\n",
       "3      6"
      ]
     },
     "execution_count": 165,
     "metadata": {},
     "output_type": "execute_result"
    }
   ],
   "source": [
    "pd_dd=pd.DataFrame([3,4,5,6],columns=[\"value\"])\n",
    "pd_dd"
   ]
  },
  {
   "cell_type": "code",
   "execution_count": 163,
   "id": "frozen-karen",
   "metadata": {},
   "outputs": [
    {
     "data": {
      "text/plain": [
       "DatetimeIndex(['2020-01-01', '2020-01-02', '2020-01-03', '2020-01-04'], dtype='datetime64[ns]', freq='D')"
      ]
     },
     "execution_count": 163,
     "metadata": {},
     "output_type": "execute_result"
    }
   ],
   "source": [
    "d=pd.date_range(start=\"1/1/2020\",periods=4)\n",
    "d"
   ]
  },
  {
   "cell_type": "code",
   "execution_count": 166,
   "id": "functioning-spice",
   "metadata": {},
   "outputs": [
    {
     "data": {
      "text/html": [
       "<div>\n",
       "<style scoped>\n",
       "    .dataframe tbody tr th:only-of-type {\n",
       "        vertical-align: middle;\n",
       "    }\n",
       "\n",
       "    .dataframe tbody tr th {\n",
       "        vertical-align: top;\n",
       "    }\n",
       "\n",
       "    .dataframe thead th {\n",
       "        text-align: right;\n",
       "    }\n",
       "</style>\n",
       "<table border=\"1\" class=\"dataframe\">\n",
       "  <thead>\n",
       "    <tr style=\"text-align: right;\">\n",
       "      <th></th>\n",
       "      <th>value</th>\n",
       "    </tr>\n",
       "  </thead>\n",
       "  <tbody>\n",
       "    <tr>\n",
       "      <th>2020-01-01</th>\n",
       "      <td>3</td>\n",
       "    </tr>\n",
       "    <tr>\n",
       "      <th>2020-01-02</th>\n",
       "      <td>4</td>\n",
       "    </tr>\n",
       "    <tr>\n",
       "      <th>2020-01-03</th>\n",
       "      <td>5</td>\n",
       "    </tr>\n",
       "    <tr>\n",
       "      <th>2020-01-04</th>\n",
       "      <td>6</td>\n",
       "    </tr>\n",
       "  </tbody>\n",
       "</table>\n",
       "</div>"
      ],
      "text/plain": [
       "            value\n",
       "2020-01-01      3\n",
       "2020-01-02      4\n",
       "2020-01-03      5\n",
       "2020-01-04      6"
      ]
     },
     "execution_count": 166,
     "metadata": {},
     "output_type": "execute_result"
    }
   ],
   "source": [
    "pd_dd.set_index(d)"
   ]
  },
  {
   "cell_type": "code",
   "execution_count": 167,
   "id": "demonstrated-intensity",
   "metadata": {},
   "outputs": [],
   "source": [
    "import matplotlib.pyplot as plt\n",
    "%matplotlib inline"
   ]
  },
  {
   "cell_type": "code",
   "execution_count": 196,
   "id": "comparative-conservative",
   "metadata": {},
   "outputs": [
    {
     "data": {
      "text/plain": [
       "[<matplotlib.lines.Line2D at 0x1429c5f8bb0>]"
      ]
     },
     "execution_count": 196,
     "metadata": {},
     "output_type": "execute_result"
    },
    {
     "data": {
      "image/png": "[encoded data removed]",
      "text/plain": [
       "<Figure size 720x720 with 1 Axes>"
      ]
     },
     "metadata": {
      "needs_background": "light"
     },
     "output_type": "display_data"
    }
   ],
   "source": [
    "plt.subplots(1,1,figsize=(10,10))\n",
    "plt.plot([2,4,5,5],\"r-*\")\n",
    "\n",
    "\n"
   ]
  },
  {
   "cell_type": "code",
   "execution_count": 217,
   "id": "talented-liabilities",
   "metadata": {},
   "outputs": [
    {
     "data": {
      "text/html": [
       "<div>\n",
       "<style scoped>\n",
       "    .dataframe tbody tr th:only-of-type {\n",
       "        vertical-align: middle;\n",
       "    }\n",
       "\n",
       "    .dataframe tbody tr th {\n",
       "        vertical-align: top;\n",
       "    }\n",
       "\n",
       "    .dataframe thead th {\n",
       "        text-align: right;\n",
       "    }\n",
       "</style>\n",
       "<table border=\"1\" class=\"dataframe\">\n",
       "  <thead>\n",
       "    <tr style=\"text-align: right;\">\n",
       "      <th></th>\n",
       "      <th>Week</th>\n",
       "      <th>gold: (United States)</th>\n",
       "    </tr>\n",
       "  </thead>\n",
       "  <tbody>\n",
       "    <tr>\n",
       "      <th>1970-01-01</th>\n",
       "      <td>NaN</td>\n",
       "      <td>NaN</td>\n",
       "    </tr>\n",
       "  </tbody>\n",
       "</table>\n",
       "</div>"
      ],
      "text/plain": [
       "           Week  gold: (United States)\n",
       "1970-01-01  NaN                    NaN"
      ]
     },
     "execution_count": 217,
     "metadata": {},
     "output_type": "execute_result"
    }
   ],
   "source": [
    "df.asfreq(\"d\")"
   ]
  },
  {
   "cell_type": "code",
   "execution_count": null,
   "id": "third-ireland",
   "metadata": {},
   "outputs": [],
   "source": []
  },
  {
   "cell_type": "markdown",
   "id": "beginning-gambling",
   "metadata": {},
   "source": [
    "*  ar\n",
    "*  ma\n",
    "*  arma\n",
    "*  arima\n",
    "*  armax\n",
    "*  arimax\n",
    "*  sarimax\n",
    "*  \n",
    "*  Volatility\n",
    "*  arch model\n",
    "*  garch  generalization\n",
    "*  \n",
    "*  Frequency - how often data has been recorded \n",
    "*  time series required a start and the end point\n",
    "*  \n",
    "*  time= t-1,t,t+1\n",
    "*  \n",
    "*  Intervales need to be identical, if its not there its due to some missing values and we have to handle these \n",
    "*  values\n",
    "*  while handeling null we have to mind that ts need cronological order (sequence)\n",
    "\n",
    "#### White Noise"
   ]
  },
  {
   "cell_type": "markdown",
   "id": "conventional-short",
   "metadata": {},
   "source": [
    "### Period "
   ]
  },
  {
   "cell_type": "code",
   "execution_count": 13,
   "id": "silent-calcium",
   "metadata": {},
   "outputs": [
    {
     "data": {
      "text/plain": [
       "Period('2021', 'A-DEC')"
      ]
     },
     "execution_count": 13,
     "metadata": {},
     "output_type": "execute_result"
    }
   ],
   "source": [
    "import pandas as pd\n",
    "pd.Period(\"2021\")  # annual ending in dec"
   ]
  },
  {
   "cell_type": "code",
   "execution_count": 15,
   "id": "classified-spanish",
   "metadata": {},
   "outputs": [
    {
     "data": {
      "text/plain": [
       "['__add__',\n",
       " '__class__',\n",
       " '__delattr__',\n",
       " '__dict__',\n",
       " '__dir__',\n",
       " '__doc__',\n",
       " '__eq__',\n",
       " '__format__',\n",
       " '__ge__',\n",
       " '__getattribute__',\n",
       " '__gt__',\n",
       " '__hash__',\n",
       " '__init__',\n",
       " '__init_subclass__',\n",
       " '__le__',\n",
       " '__lt__',\n",
       " '__module__',\n",
       " '__ne__',\n",
       " '__new__',\n",
       " '__pyx_vtable__',\n",
       " '__radd__',\n",
       " '__reduce__',\n",
       " '__reduce_ex__',\n",
       " '__repr__',\n",
       " '__rsub__',\n",
       " '__setattr__',\n",
       " '__setstate__',\n",
       " '__sizeof__',\n",
       " '__str__',\n",
       " '__sub__',\n",
       " '__subclasshook__',\n",
       " '__weakref__',\n",
       " '_add_delta',\n",
       " '_add_offset',\n",
       " '_dtype',\n",
       " '_from_ordinal',\n",
       " '_get_to_timestamp_base',\n",
       " '_maybe_convert_freq',\n",
       " 'asfreq',\n",
       " 'day',\n",
       " 'dayofweek',\n",
       " 'dayofyear',\n",
       " 'days_in_month',\n",
       " 'daysinmonth',\n",
       " 'end_time',\n",
       " 'freq',\n",
       " 'freqstr',\n",
       " 'hour',\n",
       " 'is_leap_year',\n",
       " 'minute',\n",
       " 'month',\n",
       " 'now',\n",
       " 'ordinal',\n",
       " 'quarter',\n",
       " 'qyear',\n",
       " 'second',\n",
       " 'start_time',\n",
       " 'strftime',\n",
       " 'to_timestamp',\n",
       " 'week',\n",
       " 'weekday',\n",
       " 'weekofyear',\n",
       " 'year']"
      ]
     },
     "execution_count": 15,
     "metadata": {},
     "output_type": "execute_result"
    }
   ],
   "source": [
    "y=pd.Period(\"2021\")\n",
    "dir(y)"
   ]
  },
  {
   "cell_type": "code",
   "execution_count": 18,
   "id": "pacific-settle",
   "metadata": {},
   "outputs": [
    {
     "data": {
      "text/plain": [
       "52"
      ]
     },
     "execution_count": 18,
     "metadata": {},
     "output_type": "execute_result"
    }
   ],
   "source": [
    "y.weekofyear"
   ]
  },
  {
   "cell_type": "code",
   "execution_count": 19,
   "id": "confirmed-thomas",
   "metadata": {},
   "outputs": [
    {
     "data": {
      "text/plain": [
       "4"
      ]
     },
     "execution_count": 19,
     "metadata": {},
     "output_type": "execute_result"
    }
   ],
   "source": [
    "y.dayofweek"
   ]
  },
  {
   "cell_type": "code",
   "execution_count": 22,
   "id": "color-whale",
   "metadata": {
    "scrolled": true
   },
   "outputs": [
    {
     "name": "stdout",
     "output_type": "stream",
     "text": [
      "Help on getset descriptor pandas._libs.tslibs.period._Period.dayofweek:\n",
      "\n",
      "dayofweek\n",
      "    Day of the week the period lies in, with Monday=0 and Sunday=6.\n",
      "    \n",
      "    If the period frequency is lower than daily (e.g. hourly), and the\n",
      "    period spans over multiple days, the day at the start of the period is\n",
      "    used.\n",
      "    \n",
      "    If the frequency is higher than daily (e.g. monthly), the last day\n",
      "    of the period is used.\n",
      "    \n",
      "    Returns\n",
      "    -------\n",
      "    int\n",
      "        Day of the week.\n",
      "    \n",
      "    See Also\n",
      "    --------\n",
      "    Period.dayofweek : Day of the week the period lies in.\n",
      "    Period.weekday : Alias of Period.dayofweek.\n",
      "    Period.day : Day of the month.\n",
      "    Period.dayofyear : Day of the year.\n",
      "    \n",
      "    Examples\n",
      "    --------\n",
      "    >>> per = pd.Period('2017-12-31 22:00', 'H')\n",
      "    >>> per.dayofweek\n",
      "    6\n",
      "    \n",
      "    For periods that span over multiple days, the day at the beginning of\n",
      "    the period is returned.\n",
      "    \n",
      "    >>> per = pd.Period('2017-12-31 22:00', '4H')\n",
      "    >>> per.dayofweek\n",
      "    6\n",
      "    >>> per.start_time.dayofweek\n",
      "    6\n",
      "    \n",
      "    For periods with a frequency higher than days, the last day of the\n",
      "    period is returned.\n",
      "    \n",
      "    >>> per = pd.Period('2018-01', 'M')\n",
      "    >>> per.dayofweek\n",
      "    2\n",
      "    >>> per.end_time.dayofweek\n",
      "    2\n",
      "\n"
     ]
    }
   ],
   "source": [
    "help(pd.Period.dayofweek)"
   ]
  },
  {
   "cell_type": "code",
   "execution_count": 29,
   "id": "virgin-telling",
   "metadata": {},
   "outputs": [
    {
     "data": {
      "text/plain": [
       "Timestamp('2021-01-01 00:00:00')"
      ]
     },
     "execution_count": 29,
     "metadata": {},
     "output_type": "execute_result"
    }
   ],
   "source": [
    "y.start_time"
   ]
  },
  {
   "cell_type": "code",
   "execution_count": 30,
   "id": "upset-nickname",
   "metadata": {},
   "outputs": [
    {
     "data": {
      "text/plain": [
       "Timestamp('2021-12-31 23:59:59.999999999')"
      ]
     },
     "execution_count": 30,
     "metadata": {},
     "output_type": "execute_result"
    }
   ],
   "source": [
    "y.end_time"
   ]
  },
  {
   "cell_type": "markdown",
   "id": "eight-murray",
   "metadata": {},
   "source": [
    "### Month wise time period"
   ]
  },
  {
   "cell_type": "code",
   "execution_count": 25,
   "id": "cognitive-bosnia",
   "metadata": {},
   "outputs": [
    {
     "data": {
      "text/plain": [
       "Period('2021-01', 'M')"
      ]
     },
     "execution_count": 25,
     "metadata": {},
     "output_type": "execute_result"
    }
   ],
   "source": [
    "m=pd.Period(\"2021-1\",freq=\"M\")\n",
    "m"
   ]
  },
  {
   "cell_type": "code",
   "execution_count": 26,
   "id": "linear-graph",
   "metadata": {},
   "outputs": [
    {
     "data": {
      "text/plain": [
       "Timestamp('2021-01-01 00:00:00')"
      ]
     },
     "execution_count": 26,
     "metadata": {},
     "output_type": "execute_result"
    }
   ],
   "source": [
    "m.start_time"
   ]
  },
  {
   "cell_type": "code",
   "execution_count": 27,
   "id": "nearby-looking",
   "metadata": {},
   "outputs": [
    {
     "data": {
      "text/plain": [
       "Timestamp('2021-01-31 23:59:59.999999999')"
      ]
     },
     "execution_count": 27,
     "metadata": {},
     "output_type": "execute_result"
    }
   ],
   "source": [
    "m.end_time"
   ]
  },
  {
   "cell_type": "code",
   "execution_count": 32,
   "id": "composed-telescope",
   "metadata": {},
   "outputs": [
    {
     "data": {
      "text/plain": [
       "Period('2021-02', 'M')"
      ]
     },
     "execution_count": 32,
     "metadata": {},
     "output_type": "execute_result"
    }
   ],
   "source": [
    "m+1"
   ]
  },
  {
   "cell_type": "code",
   "execution_count": 33,
   "id": "spread-alert",
   "metadata": {},
   "outputs": [
    {
     "data": {
      "text/plain": [
       "Period('2021-04', 'M')"
      ]
     },
     "execution_count": 33,
     "metadata": {},
     "output_type": "execute_result"
    }
   ],
   "source": [
    "m+3"
   ]
  },
  {
   "cell_type": "code",
   "execution_count": 34,
   "id": "amazing-rolling",
   "metadata": {},
   "outputs": [],
   "source": [
    "d=pd.Period(\"2016-02-28\",\"D\")"
   ]
  },
  {
   "cell_type": "code",
   "execution_count": 36,
   "id": "mediterranean-framework",
   "metadata": {},
   "outputs": [
    {
     "data": {
      "text/plain": [
       "Timestamp('2016-02-28 00:00:00')"
      ]
     },
     "execution_count": 36,
     "metadata": {},
     "output_type": "execute_result"
    }
   ],
   "source": [
    "d.start_time"
   ]
  },
  {
   "cell_type": "code",
   "execution_count": 37,
   "id": "warming-credit",
   "metadata": {},
   "outputs": [
    {
     "data": {
      "text/plain": [
       "Timestamp('2016-02-28 23:59:59.999999999')"
      ]
     },
     "execution_count": 37,
     "metadata": {},
     "output_type": "execute_result"
    }
   ],
   "source": [
    "d.end_time"
   ]
  },
  {
   "cell_type": "code",
   "execution_count": 38,
   "id": "lyric-klein",
   "metadata": {},
   "outputs": [
    {
     "data": {
      "text/plain": [
       "Period('2016-02-29', 'D')"
      ]
     },
     "execution_count": 38,
     "metadata": {},
     "output_type": "execute_result"
    }
   ],
   "source": [
    "d+1  # because its a leap year"
   ]
  },
  {
   "cell_type": "code",
   "execution_count": 39,
   "id": "changing-range",
   "metadata": {},
   "outputs": [
    {
     "data": {
      "text/plain": [
       "Period('2016-03-01', 'D')"
      ]
     },
     "execution_count": 39,
     "metadata": {},
     "output_type": "execute_result"
    }
   ],
   "source": [
    "d+2"
   ]
  },
  {
   "cell_type": "markdown",
   "id": "minus-format",
   "metadata": {},
   "source": [
    "# SHIFT and TShift\n"
   ]
  },
  {
   "cell_type": "code",
   "execution_count": 6,
   "id": "vocal-purse",
   "metadata": {},
   "outputs": [
    {
     "data": {
      "text/html": [
       "<div>\n",
       "<style scoped>\n",
       "    .dataframe tbody tr th:only-of-type {\n",
       "        vertical-align: middle;\n",
       "    }\n",
       "\n",
       "    .dataframe tbody tr th {\n",
       "        vertical-align: top;\n",
       "    }\n",
       "\n",
       "    .dataframe thead th {\n",
       "        text-align: right;\n",
       "    }\n",
       "</style>\n",
       "<table border=\"1\" class=\"dataframe\">\n",
       "  <thead>\n",
       "    <tr style=\"text-align: right;\">\n",
       "      <th></th>\n",
       "      <th>gold: (United States)</th>\n",
       "    </tr>\n",
       "    <tr>\n",
       "      <th>Week</th>\n",
       "      <th></th>\n",
       "    </tr>\n",
       "  </thead>\n",
       "  <tbody>\n",
       "    <tr>\n",
       "      <th>2020-03-15</th>\n",
       "      <td>79</td>\n",
       "    </tr>\n",
       "    <tr>\n",
       "      <th>2020-03-22</th>\n",
       "      <td>79</td>\n",
       "    </tr>\n",
       "    <tr>\n",
       "      <th>2020-03-29</th>\n",
       "      <td>72</td>\n",
       "    </tr>\n",
       "    <tr>\n",
       "      <th>2020-05-04</th>\n",
       "      <td>75</td>\n",
       "    </tr>\n",
       "    <tr>\n",
       "      <th>2020-12-04</th>\n",
       "      <td>77</td>\n",
       "    </tr>\n",
       "    <tr>\n",
       "      <th>2020-04-19</th>\n",
       "      <td>83</td>\n",
       "    </tr>\n",
       "    <tr>\n",
       "      <th>2020-04-26</th>\n",
       "      <td>81</td>\n",
       "    </tr>\n",
       "    <tr>\n",
       "      <th>2020-03-05</th>\n",
       "      <td>77</td>\n",
       "    </tr>\n",
       "    <tr>\n",
       "      <th>2020-10-05</th>\n",
       "      <td>83</td>\n",
       "    </tr>\n",
       "    <tr>\n",
       "      <th>2020-05-17</th>\n",
       "      <td>81</td>\n",
       "    </tr>\n",
       "  </tbody>\n",
       "</table>\n",
       "</div>"
      ],
      "text/plain": [
       "            gold: (United States)\n",
       "Week                             \n",
       "2020-03-15                     79\n",
       "2020-03-22                     79\n",
       "2020-03-29                     72\n",
       "2020-05-04                     75\n",
       "2020-12-04                     77\n",
       "2020-04-19                     83\n",
       "2020-04-26                     81\n",
       "2020-03-05                     77\n",
       "2020-10-05                     83\n",
       "2020-05-17                     81"
      ]
     },
     "execution_count": 6,
     "metadata": {},
     "output_type": "execute_result"
    }
   ],
   "source": [
    "dat.head(10)"
   ]
  },
  {
   "cell_type": "code",
   "execution_count": 9,
   "id": "sized-pharmacy",
   "metadata": {},
   "outputs": [
    {
     "data": {
      "text/plain": [
       "Index(['gold: (United States)', 'shift by 2'], dtype='object')"
      ]
     },
     "execution_count": 9,
     "metadata": {},
     "output_type": "execute_result"
    }
   ],
   "source": [
    "dat.columns"
   ]
  },
  {
   "cell_type": "code",
   "execution_count": 10,
   "id": "romantic-dressing",
   "metadata": {},
   "outputs": [
    {
     "data": {
      "text/html": [
       "<div>\n",
       "<style scoped>\n",
       "    .dataframe tbody tr th:only-of-type {\n",
       "        vertical-align: middle;\n",
       "    }\n",
       "\n",
       "    .dataframe tbody tr th {\n",
       "        vertical-align: top;\n",
       "    }\n",
       "\n",
       "    .dataframe thead th {\n",
       "        text-align: right;\n",
       "    }\n",
       "</style>\n",
       "<table border=\"1\" class=\"dataframe\">\n",
       "  <thead>\n",
       "    <tr style=\"text-align: right;\">\n",
       "      <th></th>\n",
       "      <th>gold: (United States)</th>\n",
       "      <th>shift by 2</th>\n",
       "      <th>shift by -1</th>\n",
       "    </tr>\n",
       "    <tr>\n",
       "      <th>Week</th>\n",
       "      <th></th>\n",
       "      <th></th>\n",
       "      <th></th>\n",
       "    </tr>\n",
       "  </thead>\n",
       "  <tbody>\n",
       "    <tr>\n",
       "      <th>2020-03-15</th>\n",
       "      <td>79</td>\n",
       "      <td>NaN</td>\n",
       "      <td>79.0</td>\n",
       "    </tr>\n",
       "    <tr>\n",
       "      <th>2020-03-22</th>\n",
       "      <td>79</td>\n",
       "      <td>NaN</td>\n",
       "      <td>72.0</td>\n",
       "    </tr>\n",
       "    <tr>\n",
       "      <th>2020-03-29</th>\n",
       "      <td>72</td>\n",
       "      <td>79.0</td>\n",
       "      <td>75.0</td>\n",
       "    </tr>\n",
       "    <tr>\n",
       "      <th>2020-05-04</th>\n",
       "      <td>75</td>\n",
       "      <td>79.0</td>\n",
       "      <td>77.0</td>\n",
       "    </tr>\n",
       "    <tr>\n",
       "      <th>2020-12-04</th>\n",
       "      <td>77</td>\n",
       "      <td>72.0</td>\n",
       "      <td>83.0</td>\n",
       "    </tr>\n",
       "    <tr>\n",
       "      <th>2020-04-19</th>\n",
       "      <td>83</td>\n",
       "      <td>75.0</td>\n",
       "      <td>81.0</td>\n",
       "    </tr>\n",
       "    <tr>\n",
       "      <th>2020-04-26</th>\n",
       "      <td>81</td>\n",
       "      <td>77.0</td>\n",
       "      <td>77.0</td>\n",
       "    </tr>\n",
       "    <tr>\n",
       "      <th>2020-03-05</th>\n",
       "      <td>77</td>\n",
       "      <td>83.0</td>\n",
       "      <td>83.0</td>\n",
       "    </tr>\n",
       "    <tr>\n",
       "      <th>2020-10-05</th>\n",
       "      <td>83</td>\n",
       "      <td>81.0</td>\n",
       "      <td>81.0</td>\n",
       "    </tr>\n",
       "    <tr>\n",
       "      <th>2020-05-17</th>\n",
       "      <td>81</td>\n",
       "      <td>77.0</td>\n",
       "      <td>78.0</td>\n",
       "    </tr>\n",
       "    <tr>\n",
       "      <th>2020-05-24</th>\n",
       "      <td>78</td>\n",
       "      <td>83.0</td>\n",
       "      <td>74.0</td>\n",
       "    </tr>\n",
       "    <tr>\n",
       "      <th>2020-05-31</th>\n",
       "      <td>74</td>\n",
       "      <td>81.0</td>\n",
       "      <td>80.0</td>\n",
       "    </tr>\n",
       "    <tr>\n",
       "      <th>2020-07-06</th>\n",
       "      <td>80</td>\n",
       "      <td>78.0</td>\n",
       "      <td>82.0</td>\n",
       "    </tr>\n",
       "    <tr>\n",
       "      <th>2020-06-14</th>\n",
       "      <td>82</td>\n",
       "      <td>74.0</td>\n",
       "      <td>78.0</td>\n",
       "    </tr>\n",
       "    <tr>\n",
       "      <th>2020-06-21</th>\n",
       "      <td>78</td>\n",
       "      <td>80.0</td>\n",
       "      <td>82.0</td>\n",
       "    </tr>\n",
       "    <tr>\n",
       "      <th>2020-06-28</th>\n",
       "      <td>82</td>\n",
       "      <td>82.0</td>\n",
       "      <td>81.0</td>\n",
       "    </tr>\n",
       "    <tr>\n",
       "      <th>2020-05-07</th>\n",
       "      <td>81</td>\n",
       "      <td>78.0</td>\n",
       "      <td>81.0</td>\n",
       "    </tr>\n",
       "    <tr>\n",
       "      <th>2020-12-07</th>\n",
       "      <td>81</td>\n",
       "      <td>82.0</td>\n",
       "      <td>91.0</td>\n",
       "    </tr>\n",
       "    <tr>\n",
       "      <th>2020-07-19</th>\n",
       "      <td>91</td>\n",
       "      <td>81.0</td>\n",
       "      <td>100.0</td>\n",
       "    </tr>\n",
       "    <tr>\n",
       "      <th>2020-07-26</th>\n",
       "      <td>100</td>\n",
       "      <td>81.0</td>\n",
       "      <td>98.0</td>\n",
       "    </tr>\n",
       "    <tr>\n",
       "      <th>2020-02-08</th>\n",
       "      <td>98</td>\n",
       "      <td>91.0</td>\n",
       "      <td>94.0</td>\n",
       "    </tr>\n",
       "    <tr>\n",
       "      <th>2020-09-08</th>\n",
       "      <td>94</td>\n",
       "      <td>100.0</td>\n",
       "      <td>88.0</td>\n",
       "    </tr>\n",
       "    <tr>\n",
       "      <th>2020-08-16</th>\n",
       "      <td>88</td>\n",
       "      <td>98.0</td>\n",
       "      <td>81.0</td>\n",
       "    </tr>\n",
       "    <tr>\n",
       "      <th>2020-08-23</th>\n",
       "      <td>81</td>\n",
       "      <td>94.0</td>\n",
       "      <td>80.0</td>\n",
       "    </tr>\n",
       "    <tr>\n",
       "      <th>2020-08-30</th>\n",
       "      <td>80</td>\n",
       "      <td>88.0</td>\n",
       "      <td>79.0</td>\n",
       "    </tr>\n",
       "    <tr>\n",
       "      <th>2020-06-09</th>\n",
       "      <td>79</td>\n",
       "      <td>81.0</td>\n",
       "      <td>76.0</td>\n",
       "    </tr>\n",
       "    <tr>\n",
       "      <th>2020-09-13</th>\n",
       "      <td>76</td>\n",
       "      <td>80.0</td>\n",
       "      <td>78.0</td>\n",
       "    </tr>\n",
       "    <tr>\n",
       "      <th>2020-09-20</th>\n",
       "      <td>78</td>\n",
       "      <td>79.0</td>\n",
       "      <td>78.0</td>\n",
       "    </tr>\n",
       "    <tr>\n",
       "      <th>2020-09-27</th>\n",
       "      <td>78</td>\n",
       "      <td>76.0</td>\n",
       "      <td>77.0</td>\n",
       "    </tr>\n",
       "    <tr>\n",
       "      <th>2020-04-10</th>\n",
       "      <td>77</td>\n",
       "      <td>78.0</td>\n",
       "      <td>78.0</td>\n",
       "    </tr>\n",
       "    <tr>\n",
       "      <th>2020-11-10</th>\n",
       "      <td>78</td>\n",
       "      <td>78.0</td>\n",
       "      <td>80.0</td>\n",
       "    </tr>\n",
       "    <tr>\n",
       "      <th>2020-10-18</th>\n",
       "      <td>80</td>\n",
       "      <td>77.0</td>\n",
       "      <td>79.0</td>\n",
       "    </tr>\n",
       "    <tr>\n",
       "      <th>2020-10-25</th>\n",
       "      <td>79</td>\n",
       "      <td>78.0</td>\n",
       "      <td>63.0</td>\n",
       "    </tr>\n",
       "    <tr>\n",
       "      <th>2020-01-11</th>\n",
       "      <td>63</td>\n",
       "      <td>80.0</td>\n",
       "      <td>83.0</td>\n",
       "    </tr>\n",
       "    <tr>\n",
       "      <th>2020-08-11</th>\n",
       "      <td>83</td>\n",
       "      <td>79.0</td>\n",
       "      <td>84.0</td>\n",
       "    </tr>\n",
       "    <tr>\n",
       "      <th>2020-11-15</th>\n",
       "      <td>84</td>\n",
       "      <td>63.0</td>\n",
       "      <td>87.0</td>\n",
       "    </tr>\n",
       "    <tr>\n",
       "      <th>2020-11-22</th>\n",
       "      <td>87</td>\n",
       "      <td>83.0</td>\n",
       "      <td>94.0</td>\n",
       "    </tr>\n",
       "    <tr>\n",
       "      <th>2020-11-29</th>\n",
       "      <td>94</td>\n",
       "      <td>84.0</td>\n",
       "      <td>86.0</td>\n",
       "    </tr>\n",
       "    <tr>\n",
       "      <th>2020-06-12</th>\n",
       "      <td>86</td>\n",
       "      <td>87.0</td>\n",
       "      <td>86.0</td>\n",
       "    </tr>\n",
       "    <tr>\n",
       "      <th>2020-12-13</th>\n",
       "      <td>86</td>\n",
       "      <td>94.0</td>\n",
       "      <td>87.0</td>\n",
       "    </tr>\n",
       "    <tr>\n",
       "      <th>2020-12-20</th>\n",
       "      <td>87</td>\n",
       "      <td>86.0</td>\n",
       "      <td>87.0</td>\n",
       "    </tr>\n",
       "    <tr>\n",
       "      <th>2020-12-27</th>\n",
       "      <td>87</td>\n",
       "      <td>86.0</td>\n",
       "      <td>83.0</td>\n",
       "    </tr>\n",
       "    <tr>\n",
       "      <th>2021-03-01</th>\n",
       "      <td>83</td>\n",
       "      <td>87.0</td>\n",
       "      <td>86.0</td>\n",
       "    </tr>\n",
       "    <tr>\n",
       "      <th>2021-10-01</th>\n",
       "      <td>86</td>\n",
       "      <td>87.0</td>\n",
       "      <td>87.0</td>\n",
       "    </tr>\n",
       "    <tr>\n",
       "      <th>2021-01-17</th>\n",
       "      <td>87</td>\n",
       "      <td>83.0</td>\n",
       "      <td>85.0</td>\n",
       "    </tr>\n",
       "    <tr>\n",
       "      <th>2021-01-24</th>\n",
       "      <td>85</td>\n",
       "      <td>86.0</td>\n",
       "      <td>92.0</td>\n",
       "    </tr>\n",
       "    <tr>\n",
       "      <th>2021-01-31</th>\n",
       "      <td>92</td>\n",
       "      <td>87.0</td>\n",
       "      <td>84.0</td>\n",
       "    </tr>\n",
       "    <tr>\n",
       "      <th>2021-07-02</th>\n",
       "      <td>84</td>\n",
       "      <td>85.0</td>\n",
       "      <td>80.0</td>\n",
       "    </tr>\n",
       "    <tr>\n",
       "      <th>2021-02-14</th>\n",
       "      <td>80</td>\n",
       "      <td>92.0</td>\n",
       "      <td>83.0</td>\n",
       "    </tr>\n",
       "    <tr>\n",
       "      <th>2021-02-21</th>\n",
       "      <td>83</td>\n",
       "      <td>84.0</td>\n",
       "      <td>86.0</td>\n",
       "    </tr>\n",
       "    <tr>\n",
       "      <th>2021-02-28</th>\n",
       "      <td>86</td>\n",
       "      <td>80.0</td>\n",
       "      <td>NaN</td>\n",
       "    </tr>\n",
       "  </tbody>\n",
       "</table>\n",
       "</div>"
      ],
      "text/plain": [
       "            gold: (United States)  shift by 2  shift by -1\n",
       "Week                                                      \n",
       "2020-03-15                     79         NaN         79.0\n",
       "2020-03-22                     79         NaN         72.0\n",
       "2020-03-29                     72        79.0         75.0\n",
       "2020-05-04                     75        79.0         77.0\n",
       "2020-12-04                     77        72.0         83.0\n",
       "2020-04-19                     83        75.0         81.0\n",
       "2020-04-26                     81        77.0         77.0\n",
       "2020-03-05                     77        83.0         83.0\n",
       "2020-10-05                     83        81.0         81.0\n",
       "2020-05-17                     81        77.0         78.0\n",
       "2020-05-24                     78        83.0         74.0\n",
       "2020-05-31                     74        81.0         80.0\n",
       "2020-07-06                     80        78.0         82.0\n",
       "2020-06-14                     82        74.0         78.0\n",
       "2020-06-21                     78        80.0         82.0\n",
       "2020-06-28                     82        82.0         81.0\n",
       "2020-05-07                     81        78.0         81.0\n",
       "2020-12-07                     81        82.0         91.0\n",
       "2020-07-19                     91        81.0        100.0\n",
       "2020-07-26                    100        81.0         98.0\n",
       "2020-02-08                     98        91.0         94.0\n",
       "2020-09-08                     94       100.0         88.0\n",
       "2020-08-16                     88        98.0         81.0\n",
       "2020-08-23                     81        94.0         80.0\n",
       "2020-08-30                     80        88.0         79.0\n",
       "2020-06-09                     79        81.0         76.0\n",
       "2020-09-13                     76        80.0         78.0\n",
       "2020-09-20                     78        79.0         78.0\n",
       "2020-09-27                     78        76.0         77.0\n",
       "2020-04-10                     77        78.0         78.0\n",
       "2020-11-10                     78        78.0         80.0\n",
       "2020-10-18                     80        77.0         79.0\n",
       "2020-10-25                     79        78.0         63.0\n",
       "2020-01-11                     63        80.0         83.0\n",
       "2020-08-11                     83        79.0         84.0\n",
       "2020-11-15                     84        63.0         87.0\n",
       "2020-11-22                     87        83.0         94.0\n",
       "2020-11-29                     94        84.0         86.0\n",
       "2020-06-12                     86        87.0         86.0\n",
       "2020-12-13                     86        94.0         87.0\n",
       "2020-12-20                     87        86.0         87.0\n",
       "2020-12-27                     87        86.0         83.0\n",
       "2021-03-01                     83        87.0         86.0\n",
       "2021-10-01                     86        87.0         87.0\n",
       "2021-01-17                     87        83.0         85.0\n",
       "2021-01-24                     85        86.0         92.0\n",
       "2021-01-31                     92        87.0         84.0\n",
       "2021-07-02                     84        85.0         80.0\n",
       "2021-02-14                     80        92.0         83.0\n",
       "2021-02-21                     83        84.0         86.0\n",
       "2021-02-28                     86        80.0          NaN"
      ]
     },
     "execution_count": 10,
     "metadata": {},
     "output_type": "execute_result"
    }
   ],
   "source": [
    "dat[\"shift by 2\"]=dat['gold: (United States)'].shift(2)\n",
    "dat[\"shift by -1\"]=dat['gold: (United States)'].shift(-1)\n",
    "dat"
   ]
  },
  {
   "cell_type": "code",
   "execution_count": null,
   "id": "legendary-bankruptcy",
   "metadata": {},
   "outputs": [],
   "source": [
    "## dat[\"tshift by 2\"]=dat.tshift(2,freq=\"B\")\n",
    "#dat[\"tshift by -1\"]=dat['gold: (United States)'].tshift(-1)\n",
    "dat"
   ]
  },
  {
   "cell_type": "code",
   "execution_count": null,
   "id": "prescribed-welcome",
   "metadata": {},
   "outputs": [],
   "source": []
  },
  {
   "cell_type": "markdown",
   "id": "close-testing",
   "metadata": {},
   "source": [
    "END\n",
    "==\n",
    "BASIC\n",
    "--"
   ]
  },
  {
   "cell_type": "code",
   "execution_count": null,
   "id": "sixth-township",
   "metadata": {},
   "outputs": [],
   "source": []
  },
  {
   "cell_type": "markdown",
   "id": "6da04657",
   "metadata": {},
   "source": [
    "# -------------------------------------------------------------ST"
   ]
  },
  {
   "cell_type": "code",
   "execution_count": null,
   "id": "0881ef9c",
   "metadata": {},
   "outputs": [],
   "source": []
  },
  {
   "cell_type": "code",
   "execution_count": null,
   "id": "4d46e667",
   "metadata": {},
   "outputs": [],
   "source": []
  },
  {
   "cell_type": "code",
   "execution_count": null,
   "id": "0edd31cc",
   "metadata": {},
   "outputs": [],
   "source": []
  },
  {
   "cell_type": "code",
   "execution_count": null,
   "id": "3a864425",
   "metadata": {},
   "outputs": [],
   "source": []
  },
  {
   "cell_type": "code",
   "execution_count": null,
   "id": "a7a8abc3",
   "metadata": {},
   "outputs": [],
   "source": []
  },
  {
   "cell_type": "code",
   "execution_count": null,
   "id": "394ef79f",
   "metadata": {},
   "outputs": [],
   "source": []
  },
  {
   "cell_type": "code",
   "execution_count": null,
   "id": "a51153ab",
   "metadata": {},
   "outputs": [],
   "source": []
  },
  {
   "cell_type": "code",
   "execution_count": null,
   "id": "f7d9918f",
   "metadata": {},
   "outputs": [],
   "source": []
  },
  {
   "cell_type": "code",
   "execution_count": null,
   "id": "41a666df",
   "metadata": {},
   "outputs": [],
   "source": []
  },
  {
   "cell_type": "code",
   "execution_count": null,
   "id": "0d756228",
   "metadata": {},
   "outputs": [],
   "source": []
  },
  {
   "cell_type": "code",
   "execution_count": null,
   "id": "d1ff9d69",
   "metadata": {},
   "outputs": [],
   "source": []
  },
  {
   "cell_type": "markdown",
   "id": "improved-brunswick",
   "metadata": {},
   "source": [
    "### cheat sheet - for students**\n",
    "https://machinelearningmastery.com/time-series-forecasting-methods-in-python-cheat-sheet/"
   ]
  },
  {
   "cell_type": "code",
   "execution_count": null,
   "id": "fe564b22",
   "metadata": {},
   "outputs": [],
   "source": []
  }
 ],
 "metadata": {
  "kernelspec": {
   "display_name": "Python 3 (ipykernel)",
   "language": "python",
   "name": "python3"
  },
  "language_info": {
   "codemirror_mode": {
    "name": "ipython",
    "version": 3
   },
   "file_extension": ".py",
   "mimetype": "text/x-python",
   "name": "python",
   "nbconvert_exporter": "python",
   "pygments_lexer": "ipython3",
   "version": "3.12.7"
  }
 },
 "nbformat": 4,
 "nbformat_minor": 5
}
