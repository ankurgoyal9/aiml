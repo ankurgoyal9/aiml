{
 "cells": [
  {
   "cell_type": "code",
   "execution_count": null,
   "metadata": {},
   "outputs": [],
   "source": [
    "j=[7,8]"
   ]
  },
  {
   "cell_type": "code",
   "execution_count": null,
   "metadata": {},
   "outputs": [],
   "source": [
    "j."
   ]
  },
  {
   "cell_type": "code",
   "execution_count": null,
   "metadata": {},
   "outputs": [],
   "source": [
    "j2=list()"
   ]
  },
  {
   "cell_type": "code",
   "execution_count": null,
   "metadata": {},
   "outputs": [],
   "source": [
    "j2."
   ]
  },
  {
   "cell_type": "markdown",
   "metadata": {},
   "source": [
    "# Class with Oops Concept"
   ]
  },
  {
   "cell_type": "markdown",
   "metadata": {},
   "source": [
    "### Creating a class"
   ]
  },
  {
   "cell_type": "code",
   "execution_count": 1,
   "metadata": {},
   "outputs": [],
   "source": [
    "class name(): # () is only req when u r inherit\n",
    "    var=10    "
   ]
  },
  {
   "cell_type": "code",
   "execution_count": 2,
   "metadata": {},
   "outputs": [
    {
     "ename": "NameError",
     "evalue": "name 'var' is not defined",
     "output_type": "error",
     "traceback": [
      "\u001B[1;31m---------------------------------------------------------------------------\u001B[0m",
      "\u001B[1;31mNameError\u001B[0m                                 Traceback (most recent call last)",
      "Cell \u001B[1;32mIn[2], line 1\u001B[0m\n\u001B[1;32m----> 1\u001B[0m var\n",
      "\u001B[1;31mNameError\u001B[0m: name 'var' is not defined"
     ]
    }
   ],
   "source": [
    "var"
   ]
  },
  {
   "cell_type": "code",
   "execution_count": 3,
   "metadata": {},
   "outputs": [
    {
     "data": {
      "text/plain": [
       "<__main__.name at 0x239b1903fe0>"
      ]
     },
     "execution_count": 3,
     "metadata": {},
     "output_type": "execute_result"
    }
   ],
   "source": [
    "name()"
   ]
  },
  {
   "cell_type": "code",
   "execution_count": 4,
   "metadata": {},
   "outputs": [
    {
     "data": {
      "text/plain": [
       "10"
      ]
     },
     "execution_count": 4,
     "metadata": {},
     "output_type": "execute_result"
    }
   ],
   "source": [
    "name.var"
   ]
  },
  {
   "cell_type": "code",
   "execution_count": 5,
   "metadata": {},
   "outputs": [
    {
     "data": {
      "text/plain": [
       "10"
      ]
     },
     "execution_count": 5,
     "metadata": {},
     "output_type": "execute_result"
    }
   ],
   "source": [
    "name().var"
   ]
  },
  {
   "cell_type": "code",
   "execution_count": 6,
   "metadata": {},
   "outputs": [],
   "source": [
    "obj=name()  # creating the object of the class"
   ]
  },
  {
   "cell_type": "code",
   "execution_count": 7,
   "metadata": {
    "scrolled": true
   },
   "outputs": [
    {
     "data": {
      "text/plain": [
       "10"
      ]
     },
     "execution_count": 7,
     "metadata": {},
     "output_type": "execute_result"
    }
   ],
   "source": [
    "obj.var"
   ]
  },
  {
   "cell_type": "markdown",
   "metadata": {},
   "source": [
    "##### EXAMPLE"
   ]
  },
  {
   "cell_type": "code",
   "execution_count": null,
   "metadata": {},
   "outputs": [],
   "source": [
    "p=list()"
   ]
  },
  {
   "cell_type": "code",
   "execution_count": null,
   "metadata": {},
   "outputs": [],
   "source": [
    "p.# press tab"
   ]
  },
  {
   "cell_type": "code",
   "execution_count": null,
   "metadata": {},
   "outputs": [],
   "source": [
    "p.insert(0,100)"
   ]
  },
  {
   "cell_type": "markdown",
   "metadata": {},
   "source": [
    "## Functions in class"
   ]
  },
  {
   "cell_type": "code",
   "metadata": {
    "ExecuteTime": {
     "end_time": "2025-04-13T03:40:45.131159Z",
     "start_time": "2025-04-13T03:40:45.127366Z"
    }
   },
   "source": [
    "class name():\n",
    "    #var=10\n",
    "    def f():   # equal to def f()\n",
    "        print(\"i m in function\")"
   ],
   "outputs": [],
   "execution_count": 2
  },
  {
   "cell_type": "code",
   "metadata": {
    "scrolled": true,
    "ExecuteTime": {
     "end_time": "2025-04-13T03:40:47.653802Z",
     "start_time": "2025-04-13T03:40:47.382549Z"
    }
   },
   "source": [
    "ob=name()\n",
    "ob.f()"
   ],
   "outputs": [
    {
     "ename": "TypeError",
     "evalue": "name.f() takes 0 positional arguments but 1 was given",
     "output_type": "error",
     "traceback": [
      "\u001B[31m---------------------------------------------------------------------------\u001B[39m",
      "\u001B[31mTypeError\u001B[39m                                 Traceback (most recent call last)",
      "\u001B[36mCell\u001B[39m\u001B[36m \u001B[39m\u001B[32mIn[3]\u001B[39m\u001B[32m, line 2\u001B[39m\n\u001B[32m      1\u001B[39m ob=name()\n\u001B[32m----> \u001B[39m\u001B[32m2\u001B[39m \u001B[43mob\u001B[49m\u001B[43m.\u001B[49m\u001B[43mf\u001B[49m\u001B[43m(\u001B[49m\u001B[43m)\u001B[49m\n",
      "\u001B[31mTypeError\u001B[39m: name.f() takes 0 positional arguments but 1 was given"
     ]
    }
   ],
   "execution_count": 3
  },
  {
   "cell_type": "code",
   "metadata": {
    "ExecuteTime": {
     "end_time": "2025-04-13T03:41:09.819217Z",
     "start_time": "2025-04-13T03:41:09.815676Z"
    }
   },
   "source": [
    "class name():\n",
    "    #var=10\n",
    "    def f(self):   # equal to def f()\n",
    "        print(\"i m in function\")\n",
    "        print(\"self=\",self)"
   ],
   "outputs": [],
   "execution_count": 4
  },
  {
   "cell_type": "code",
   "metadata": {
    "ExecuteTime": {
     "end_time": "2025-04-13T03:41:12.547488Z",
     "start_time": "2025-04-13T03:41:12.527485Z"
    }
   },
   "source": [
    "f()"
   ],
   "outputs": [
    {
     "ename": "NameError",
     "evalue": "name 'f' is not defined",
     "output_type": "error",
     "traceback": [
      "\u001B[31m---------------------------------------------------------------------------\u001B[39m",
      "\u001B[31mNameError\u001B[39m                                 Traceback (most recent call last)",
      "\u001B[36mCell\u001B[39m\u001B[36m \u001B[39m\u001B[32mIn[5]\u001B[39m\u001B[32m, line 1\u001B[39m\n\u001B[32m----> \u001B[39m\u001B[32m1\u001B[39m \u001B[43mf\u001B[49m()\n",
      "\u001B[31mNameError\u001B[39m: name 'f' is not defined"
     ]
    }
   ],
   "execution_count": 5
  },
  {
   "cell_type": "code",
   "metadata": {
    "ExecuteTime": {
     "end_time": "2025-04-13T03:41:20.187662Z",
     "start_time": "2025-04-13T03:41:20.184204Z"
    }
   },
   "source": [
    "obj=name()"
   ],
   "outputs": [],
   "execution_count": 6
  },
  {
   "cell_type": "code",
   "metadata": {
    "scrolled": true,
    "ExecuteTime": {
     "end_time": "2025-04-13T03:41:21.900994Z",
     "start_time": "2025-04-13T03:41:21.897307Z"
    }
   },
   "source": [
    "obj.f()"
   ],
   "outputs": [
    {
     "name": "stdout",
     "output_type": "stream",
     "text": [
      "i m in function\n",
      "self= <__main__.name object at 0x000001D48DC9D7F0>\n"
     ]
    }
   ],
   "execution_count": 7
  },
  {
   "cell_type": "code",
   "execution_count": 15,
   "metadata": {},
   "outputs": [
    {
     "data": {
      "text/plain": [
       "<__main__.name at 0x239b1903fb0>"
      ]
     },
     "execution_count": 15,
     "metadata": {},
     "output_type": "execute_result"
    }
   ],
   "source": [
    "obj"
   ]
  },
  {
   "cell_type": "code",
   "execution_count": 17,
   "metadata": {},
   "outputs": [],
   "source": [
    "#id(obj)"
   ]
  },
  {
   "cell_type": "code",
   "execution_count": 18,
   "metadata": {},
   "outputs": [],
   "source": [
    "class name():\n",
    "    var=10\n",
    "    \n",
    "    def f(self):\n",
    "        print(\"i m in function\")\n",
    "        print(\"line 2\")"
   ]
  },
  {
   "cell_type": "code",
   "execution_count": 19,
   "metadata": {},
   "outputs": [],
   "source": [
    "obj=name()"
   ]
  },
  {
   "cell_type": "code",
   "execution_count": 20,
   "metadata": {
    "scrolled": true
   },
   "outputs": [
    {
     "data": {
      "text/plain": [
       "10"
      ]
     },
     "execution_count": 20,
     "metadata": {},
     "output_type": "execute_result"
    }
   ],
   "source": [
    "obj.var"
   ]
  },
  {
   "cell_type": "code",
   "execution_count": 21,
   "metadata": {},
   "outputs": [
    {
     "name": "stdout",
     "output_type": "stream",
     "text": [
      "i m in function\n",
      "line 2\n"
     ]
    }
   ],
   "source": [
    "obj.f()"
   ]
  },
  {
   "cell_type": "code",
   "execution_count": null,
   "metadata": {},
   "outputs": [],
   "source": [
    "# def f (a,b)  # normal\n",
    "# def f (self,a,b) # class"
   ]
  },
  {
   "cell_type": "markdown",
   "metadata": {},
   "source": [
    "### Create a class ad , sum 2 values by taking input from user and return the result."
   ]
  },
  {
   "cell_type": "code",
   "execution_count": 24,
   "metadata": {},
   "outputs": [
    {
     "name": "stdin",
     "output_type": "stream",
     "text": [
      "Number 1: 8\n",
      "Number 2: 9\n"
     ]
    },
    {
     "data": {
      "text/plain": [
       "17"
      ]
     },
     "execution_count": 24,
     "metadata": {},
     "output_type": "execute_result"
    }
   ],
   "source": [
    "class ad():\n",
    "    def function():\n",
    "        x = int(input(\"Number 1:\"))\n",
    "        y = int(input(\"Number 2:\"))\n",
    "        return x+y\n",
    "ad.function() # direct class name"
   ]
  },
  {
   "cell_type": "code",
   "execution_count": 23,
   "metadata": {
    "scrolled": true
   },
   "outputs": [
    {
     "ename": "TypeError",
     "evalue": "ad.function() takes 0 positional arguments but 1 was given",
     "output_type": "error",
     "traceback": [
      "\u001B[1;31m---------------------------------------------------------------------------\u001B[0m",
      "\u001B[1;31mTypeError\u001B[0m                                 Traceback (most recent call last)",
      "Cell \u001B[1;32mIn[23], line 2\u001B[0m\n\u001B[0;32m      1\u001B[0m f\u001B[38;5;241m=\u001B[39mad()\n\u001B[1;32m----> 2\u001B[0m f\u001B[38;5;241m.\u001B[39mfunction()\n",
      "\u001B[1;31mTypeError\u001B[0m: ad.function() takes 0 positional arguments but 1 was given"
     ]
    }
   ],
   "source": [
    "f=ad()\n",
    "f.function()#self missing"
   ]
  },
  {
   "cell_type": "code",
   "execution_count": null,
   "metadata": {},
   "outputs": [],
   "source": [
    "class name():\n",
    "    def f(self):\n",
    "        num1=int(input(\"Enter a number= \"))\n",
    "        num2=int(input(\"Enter a number= \"))\n",
    "        return num1+num2\n",
    "    \n",
    "b=name()\n",
    "b.f()"
   ]
  },
  {
   "cell_type": "code",
   "execution_count": null,
   "metadata": {},
   "outputs": [],
   "source": [
    "# more than one way \n",
    "class name():\n",
    "    def f(self):\n",
    "        a=int(input('enter first number '))\n",
    "        b=int(input('enter first number '))\n",
    "        return a+b\n",
    "class nam():\n",
    "    def f(self,a,b):\n",
    "        return a+b"
   ]
  },
  {
   "cell_type": "code",
   "execution_count": null,
   "metadata": {},
   "outputs": [],
   "source": [
    "class d:\n",
    "    y=lambda self,a,b:a+b\n",
    "    y2=lambda self:int(input(\"a= \"))+int(input(\"b= \"))"
   ]
  },
  {
   "cell_type": "code",
   "execution_count": null,
   "metadata": {},
   "outputs": [],
   "source": [
    "ob=d()\n",
    "ob.y(4,5)"
   ]
  },
  {
   "cell_type": "code",
   "execution_count": null,
   "metadata": {},
   "outputs": [],
   "source": [
    "ob.y2()"
   ]
  },
  {
   "cell_type": "markdown",
   "metadata": {},
   "source": [
    "self before the variables"
   ]
  },
  {
   "cell_type": "code",
   "execution_count": 25,
   "metadata": {},
   "outputs": [],
   "source": [
    "class name():\n",
    "    var=10\n",
    "    def f(self):\n",
    "        var2=20\n",
    "        print(\"i m in function\",var2)"
   ]
  },
  {
   "cell_type": "code",
   "execution_count": 26,
   "metadata": {},
   "outputs": [],
   "source": [
    "obj=name()"
   ]
  },
  {
   "cell_type": "code",
   "execution_count": null,
   "metadata": {},
   "outputs": [],
   "source": []
  },
  {
   "cell_type": "code",
   "execution_count": 27,
   "metadata": {},
   "outputs": [
    {
     "name": "stdout",
     "output_type": "stream",
     "text": [
      "i m in function 20\n"
     ]
    }
   ],
   "source": [
    "obj.f()"
   ]
  },
  {
   "cell_type": "code",
   "execution_count": 28,
   "metadata": {},
   "outputs": [],
   "source": [
    "class name():\n",
    "    var=10\n",
    "    def f(self):\n",
    "        var2=20\n",
    "        print(\"i m in function\",var2,var) # self req"
   ]
  },
  {
   "cell_type": "code",
   "execution_count": null,
   "metadata": {},
   "outputs": [],
   "source": []
  },
  {
   "cell_type": "code",
   "execution_count": 29,
   "metadata": {},
   "outputs": [],
   "source": [
    "obj=name()"
   ]
  },
  {
   "cell_type": "code",
   "execution_count": 30,
   "metadata": {},
   "outputs": [
    {
     "ename": "NameError",
     "evalue": "name 'var' is not defined",
     "output_type": "error",
     "traceback": [
      "\u001B[1;31m---------------------------------------------------------------------------\u001B[0m",
      "\u001B[1;31mNameError\u001B[0m                                 Traceback (most recent call last)",
      "Cell \u001B[1;32mIn[30], line 1\u001B[0m\n\u001B[1;32m----> 1\u001B[0m obj\u001B[38;5;241m.\u001B[39mf()\n",
      "Cell \u001B[1;32mIn[28], line 5\u001B[0m, in \u001B[0;36mname.f\u001B[1;34m(self)\u001B[0m\n\u001B[0;32m      3\u001B[0m \u001B[38;5;28;01mdef\u001B[39;00m\u001B[38;5;250m \u001B[39m\u001B[38;5;21mf\u001B[39m(\u001B[38;5;28mself\u001B[39m):\n\u001B[0;32m      4\u001B[0m     var2\u001B[38;5;241m=\u001B[39m\u001B[38;5;241m20\u001B[39m\n\u001B[1;32m----> 5\u001B[0m     \u001B[38;5;28mprint\u001B[39m(\u001B[38;5;124m\"\u001B[39m\u001B[38;5;124mi m in function\u001B[39m\u001B[38;5;124m\"\u001B[39m,var2,var)\n",
      "\u001B[1;31mNameError\u001B[0m: name 'var' is not defined"
     ]
    }
   ],
   "source": [
    "obj.f()"
   ]
  },
  {
   "cell_type": "code",
   "execution_count": 31,
   "metadata": {},
   "outputs": [],
   "source": [
    "class name():\n",
    "    var=10\n",
    "    def f(self):\n",
    "        var2=20\n",
    "        print(\"i m in function\",var2,self.var)# self req"
   ]
  },
  {
   "cell_type": "code",
   "execution_count": 32,
   "metadata": {},
   "outputs": [
    {
     "name": "stdout",
     "output_type": "stream",
     "text": [
      "i m in function 20 10\n"
     ]
    }
   ],
   "source": [
    "name().f()"
   ]
  },
  {
   "cell_type": "code",
   "execution_count": 33,
   "metadata": {},
   "outputs": [],
   "source": [
    "obj=name()"
   ]
  },
  {
   "cell_type": "code",
   "execution_count": 34,
   "metadata": {},
   "outputs": [
    {
     "name": "stdout",
     "output_type": "stream",
     "text": [
      "i m in function 20 10\n"
     ]
    }
   ],
   "source": [
    "obj.f()"
   ]
  },
  {
   "cell_type": "code",
   "execution_count": null,
   "metadata": {},
   "outputs": [],
   "source": [
    "class abc:\n",
    "    \n",
    "    def add(self):\n",
    "        a=int(input())\n",
    "        b=int(input())\n",
    "        return a+b\n",
    "        "
   ]
  },
  {
   "cell_type": "code",
   "execution_count": null,
   "metadata": {
    "scrolled": true
   },
   "outputs": [],
   "source": [
    "o=abc()  # object creating\n",
    "o.add()  # call the function"
   ]
  },
  {
   "cell_type": "code",
   "execution_count": null,
   "metadata": {},
   "outputs": [],
   "source": [
    "#abc=100\n",
    "class name():\n",
    "    var=10\n",
    "    print(\"values= \",var,abc)\n",
    "    def f(self):\n",
    "        var2=20\n",
    "        print(\"i m in function\",var2,self.var)#,abc)# self req"
   ]
  },
  {
   "cell_type": "code",
   "execution_count": null,
   "metadata": {},
   "outputs": [],
   "source": [
    "obj=name()\n",
    "obj.f()"
   ]
  },
  {
   "cell_type": "code",
   "execution_count": null,
   "metadata": {},
   "outputs": [],
   "source": [
    "class adi():\n",
    "    def add(self):\n",
    "        a=int(input(\"Enter the value fo A \"))\n",
    "        b=int(input(\"Enter the value fo B \"))\n",
    "        return (a,b)\n",
    "        \n",
    "    def addition(self,a,b):\n",
    "        c=a+b\n",
    "        print(\"Total valuse is  :\",c)\n",
    "obj=adi()\n",
    "x,y=obj.add()\n",
    "obj.addition(x,y)"
   ]
  },
  {
   "cell_type": "markdown",
   "metadata": {},
   "source": [
    "### Init In Class"
   ]
  },
  {
   "cell_type": "code",
   "execution_count": 35,
   "metadata": {},
   "outputs": [],
   "source": [
    "class a():\n",
    "    def __init__(self):\n",
    "        print(\"Welcome!!\")"
   ]
  },
  {
   "cell_type": "code",
   "execution_count": 36,
   "metadata": {
    "scrolled": true
   },
   "outputs": [
    {
     "name": "stdout",
     "output_type": "stream",
     "text": [
      "Welcome!!\n"
     ]
    }
   ],
   "source": [
    "\n",
    "ob=a()"
   ]
  },
  {
   "cell_type": "code",
   "execution_count": 37,
   "metadata": {},
   "outputs": [],
   "source": [
    "# No return value\n",
    "class a():\n",
    "    def __init__(self):\n",
    "        print(\"Welcome!!\")\n",
    "        return 100\n",
    "      #TypeError: __init__() should return None, not 'int'\n",
    "  \n",
    "       "
   ]
  },
  {
   "cell_type": "code",
   "execution_count": 38,
   "metadata": {},
   "outputs": [
    {
     "name": "stdout",
     "output_type": "stream",
     "text": [
      "Welcome!!\n"
     ]
    },
    {
     "ename": "TypeError",
     "evalue": "__init__() should return None, not 'int'",
     "output_type": "error",
     "traceback": [
      "\u001B[1;31m---------------------------------------------------------------------------\u001B[0m",
      "\u001B[1;31mTypeError\u001B[0m                                 Traceback (most recent call last)",
      "Cell \u001B[1;32mIn[38], line 1\u001B[0m\n\u001B[1;32m----> 1\u001B[0m ob\u001B[38;5;241m=\u001B[39ma()\n",
      "\u001B[1;31mTypeError\u001B[0m: __init__() should return None, not 'int'"
     ]
    }
   ],
   "source": [
    "ob=a()"
   ]
  },
  {
   "cell_type": "code",
   "execution_count": 39,
   "metadata": {},
   "outputs": [],
   "source": [
    "# No return value\n",
    "class a():\n",
    "    def __init__(self):\n",
    "        print(\"Welcome!!\")\n",
    "        #return 100\n",
    "      #TypeError: __init__() should return None, not 'int'\n",
    "  \n",
    "       "
   ]
  },
  {
   "cell_type": "code",
   "execution_count": 40,
   "metadata": {},
   "outputs": [
    {
     "name": "stdout",
     "output_type": "stream",
     "text": [
      "Welcome!!\n"
     ]
    }
   ],
   "source": [
    "ob=a()"
   ]
  },
  {
   "cell_type": "code",
   "execution_count": null,
   "metadata": {},
   "outputs": [],
   "source": []
  },
  {
   "cell_type": "markdown",
   "metadata": {},
   "source": [
    "# Project"
   ]
  },
  {
   "cell_type": "markdown",
   "metadata": {},
   "source": [
    "Create a calculator -- Add Sub Mul Div  by calling functions in the class.\n",
    "You have to take the input from user and ask the if he wants to continue. Y/N"
   ]
  },
  {
   "cell_type": "code",
   "execution_count": 45,
   "metadata": {},
   "outputs": [],
   "source": [
    "class calc():\n",
    "    def add(self,a,b):\n",
    "        summ=a+b\n",
    "        print(\"Addition of\",a,\"&\",b,\" = \",summ)\n",
    "    def multi(self,a,b):\n",
    "        mul=a*b\n",
    "        print(\"Multiplication of\",a,\"&\",b,\" = \",mul)\n",
    "    def sub(self,a,b):\n",
    "        sub=a-b\n",
    "        print(\"Subtraction of\",a,\"&\",b,\" = \",sub)\n",
    "    def div(self,a,b):\n",
    "        div=a/b\n",
    "        print(\"Division of\",a,\"&\",b,\" = \",div)\n",
    "    def selection(self):\n",
    "        choose='n'\n",
    "        while True:\n",
    "            print(\"Enter two numbers for mathematical operations!! \")\n",
    "            a=int(input(\"Enter number1: \"))\n",
    "            b=int(input(\"Enter number2: \"))\n",
    "            if choose==\"y\":\n",
    "                break\n",
    "            elif choose==\"n\":\n",
    "                choice=input(\"\\nEnter your choice a-add: s:sub m:mul d:div\")\n",
    "                if choice==\"a\":\n",
    "                    print(\"==>a&b  \",a,b)\n",
    "                    self.add(a,b)\n",
    "                elif choice==\"s\":\n",
    "                    self.sub(a,b)\n",
    "                elif choice==\"m\":\n",
    "                    self.multi(a,b)\n",
    "                elif choice==\"d\":\n",
    "                    self.div(a,b)\n",
    "                else:\n",
    "                    print(\"Wrong Choice\")\n",
    "            else:\n",
    "                print(\"Choose only between y-yes of n-no\")\n",
    "            choose=input(\"\\nDo you want to exit: y:yes n:no\")"
   ]
  },
  {
   "cell_type": "code",
   "execution_count": 46,
   "metadata": {},
   "outputs": [
    {
     "name": "stdout",
     "output_type": "stream",
     "text": [
      "Enter two numbers for mathematical operations!! \n"
     ]
    },
    {
     "name": "stdin",
     "output_type": "stream",
     "text": [
      "Enter number1:  56\n",
      "Enter number2:  78\n",
      "\n",
      "Enter your choice a-add: s:sub m:mul d:div a\n"
     ]
    },
    {
     "name": "stdout",
     "output_type": "stream",
     "text": [
      "==>a&b   56 78\n",
      "Addition of 56 & 78  =  134\n"
     ]
    },
    {
     "name": "stdin",
     "output_type": "stream",
     "text": [
      "\n",
      "Do you want to exit: y:yes n:no y\n"
     ]
    },
    {
     "name": "stdout",
     "output_type": "stream",
     "text": [
      "Enter two numbers for mathematical operations!! \n"
     ]
    },
    {
     "name": "stdin",
     "output_type": "stream",
     "text": [
      "Enter number1:  9\n",
      "Enter number2:  9\n"
     ]
    }
   ],
   "source": [
    "ob=calc()\n",
    "ob.selection()"
   ]
  },
  {
   "cell_type": "code",
   "execution_count": null,
   "metadata": {},
   "outputs": [],
   "source": [
    "class calc():\n",
    "    \n",
    "    def summ(self,a,b):\n",
    "        return a+b\n",
    "    def sub(self,a,b):\n",
    "        return a-b\n",
    "    def div(self,a,b):\n",
    "        return a/b\n",
    "    def mul(self,a,b):\n",
    "        return a*b\n",
    "    def exp(self,a,b):\n",
    "        return a**b\n",
    "    "
   ]
  },
  {
   "cell_type": "code",
   "execution_count": null,
   "metadata": {},
   "outputs": [],
   "source": [
    "obj=calc()\n",
    "while True:\n",
    "    cho={1:\"Sum \",2:\"Sub \",3:\"Mul \",4:\"Div \",5:\"Expo \",6:\"Exit \"}\n",
    "    choice=int(input(cho))\n",
    "    if choice==6:\n",
    "        print('Thank You For Using This Calculator!!! (\",)')\n",
    "        break\n",
    "    var1=int(input(\"Enter 1st number= \"))\n",
    "    var2=int(input(\"Enter 2nd number= \"))\n",
    "    \n",
    "    \n",
    "    if choice==1:\n",
    "        result=obj.summ(var1,var2)\n",
    "        print(\"Sum of these two values is = \",result)\n",
    "    elif choice==2:\n",
    "        result=obj.sub(var1,var2)\n",
    "        print(\"Subtraction of these two values is = \",result)\n",
    "    elif choice==3:\n",
    "        result=obj.mul(var1,var2)\n",
    "        print(\"Multiplication of these two values is = \",result)\n",
    "    elif choice==4:\n",
    "        result=obj.div(var1,var2)\n",
    "        print(\"Division of these two values is = \",result)\n",
    "    elif choice==5:\n",
    "        result=obj.exp(var1,var2)\n",
    "        print(\"Exponantial of these two values is = \",result)\n",
    "    else:\n",
    "        print(\"Re-enter Your Choice\")\n",
    "        "
   ]
  },
  {
   "cell_type": "markdown",
   "metadata": {},
   "source": [
    "# Project With Init"
   ]
  },
  {
   "cell_type": "code",
   "execution_count": null,
   "metadata": {},
   "outputs": [],
   "source": [
    "\n",
    "class calculator():\n",
    "    def __init__(self):\n",
    "        print(\"This is a calculator.\")\n",
    "        while True:\n",
    "            num1 = int(input(\"Please enter your first number: \"))\n",
    "            num2 = int(input(\"Please enter your second number: \"))\n",
    "            option = input(\"\\n Please select your operation: \\n\" \n",
    "                  + \"A. Addition \\n\" + \"B. Subtraction \\n\" + \"C. Multiplication \\n\"\n",
    "                  + \"D. Division \\n\" + \"E. Exit \\n\")\n",
    "            if option.upper()==\"A\":\n",
    "                print(\"the result is:\", calculator.add(num1,num2))\n",
    "            elif option.upper()==\"B\":\n",
    "                print(\"the result is:\", calculator.sub(num1,num2))    \n",
    "            elif option.upper()==\"C\":\n",
    "                print(\"the result is:\", calculator.mul(num1,num2)) \n",
    "            elif option.upper()==\"D\":\n",
    "                print(\"the result is:\", calculator.div(num1,num2))\n",
    "            elif option.upper()==\"E\":\n",
    "                print(\"\\n The calculator is closed\")\n",
    "                break\n",
    "     #define fun\n",
    "     else:\n",
    "                print(\"\\n Invalid option, please try again\\n\")\n",
    "            cont = input(\"\\n would you like to continue: Y/N   \")\n",
    "            if cont.upper()==\"N\":\n",
    "                break\n",
    "    def add(x,y):\n",
    "        return x+y\n",
    "    def sub(x,y):\n",
    "        return x-y\n",
    "    def mul(x,y):\n",
    "        return x*y\n",
    "    def div(x,y):\n",
    "        return x/y  "
   ]
  },
  {
   "cell_type": "code",
   "execution_count": null,
   "metadata": {},
   "outputs": [],
   "source": [
    "class calc():\n",
    "    def __init__(self):\n",
    "        print(\"Welcome!! to my Calculator\")\n",
    "    \n",
    "    \n",
    "    def summ(self,a,b):\n",
    "        return a+b\n",
    "    def sub(self,a,b):\n",
    "        return a-b\n",
    "    def div(self,a,b):\n",
    "        return a/b\n",
    "    def mul(self,a,b):\n",
    "        return a*b\n",
    "    def exp(self,a,b):\n",
    "        return a**b\n",
    "    "
   ]
  },
  {
   "cell_type": "code",
   "execution_count": null,
   "metadata": {},
   "outputs": [],
   "source": [
    "while True:\n",
    "    cho={1:\"Sum \",2:\"Sub \",3:\"Mul \",4:\"Div \",5:\"Expo \",6:\"Exit \"}\n",
    "    choice=int(input(cho))\n",
    "    if choice==6:\n",
    "        print('Thank You For Using This Calculator!!! (\",)')\n",
    "        break\n",
    "    var1=int(input(\"Enter 1st number= \"))\n",
    "    var2=int(input(\"Enter 2nd number= \"))\n",
    "    obj=calc()\n",
    "    \n",
    "    if choice==1:\n",
    "        result=obj.summ(var1,var2)\n",
    "        print(\"Sum of these two values is = \",result)\n",
    "    elif choice==2:\n",
    "        result=obj.sub(var1,var2)\n",
    "        print(\"Subtraction of these two values is = \",result)\n",
    "    elif choice==3:\n",
    "        result=obj.mul(var1,var2)\n",
    "        print(\"Multiplication of these two values is = \",result)\n",
    "    elif choice==4:\n",
    "        result=obj.div(var1,var2)\n",
    "        print(\"Division of these two values is = \",result)\n",
    "    elif choice==5:\n",
    "        result=obj.exp(var1,var2)\n",
    "        print(\"Exponantial of these two values is = \",result)\n",
    "    else:\n",
    "        print(\"Re-enter Your Choice\")\n",
    "        "
   ]
  },
  {
   "cell_type": "markdown",
   "metadata": {},
   "source": [
    "# Create an empty employee record"
   ]
  },
  {
   "cell_type": "code",
   "execution_count": null,
   "metadata": {},
   "outputs": [],
   "source": [
    "# pass as u can not keep it empty\n",
    "if 10>3:\n",
    "    \n",
    "    "
   ]
  },
  {
   "cell_type": "code",
   "execution_count": null,
   "metadata": {},
   "outputs": [],
   "source": [
    "# pass\n",
    "if 10>3:\n",
    "    pass\n",
    "    "
   ]
  },
  {
   "cell_type": "code",
   "execution_count": null,
   "metadata": {},
   "outputs": [],
   "source": [
    "class details:\n",
    "    pass\n",
    "\n",
    "obj = details()  # Create an empty employee record\n",
    "\n",
    "# Fill the fields of the record\n",
    "obj.name = 'Sam'\n",
    "obj.dept = 'Data Science'\n",
    "obj.salary = 3000000"
   ]
  },
  {
   "cell_type": "code",
   "execution_count": null,
   "metadata": {},
   "outputs": [],
   "source": [
    "obj.dept"
   ]
  },
  {
   "cell_type": "code",
   "execution_count": null,
   "metadata": {},
   "outputs": [],
   "source": [
    "obj.name"
   ]
  },
  {
   "cell_type": "code",
   "execution_count": null,
   "metadata": {},
   "outputs": [],
   "source": [
    "obj.salary"
   ]
  },
  {
   "cell_type": "markdown",
   "metadata": {},
   "source": []
  },
  {
   "cell_type": "code",
   "execution_count": null,
   "metadata": {},
   "outputs": [],
   "source": []
  },
  {
   "cell_type": "code",
   "execution_count": null,
   "metadata": {},
   "outputs": [],
   "source": []
  },
  {
   "cell_type": "code",
   "execution_count": null,
   "metadata": {},
   "outputs": [],
   "source": []
  },
  {
   "cell_type": "markdown",
   "metadata": {},
   "source": [
    "### Inheritence"
   ]
  },
  {
   "cell_type": "code",
   "execution_count": 48,
   "metadata": {},
   "outputs": [],
   "source": [
    "class a():\n",
    "    def in_a(self):\n",
    "        print(\"in a\")\n",
    "class b(a):     # Inheriting A class here\n",
    "    def in_b(self):\n",
    "        print(\"in b\")"
   ]
  },
  {
   "cell_type": "code",
   "execution_count": 49,
   "metadata": {},
   "outputs": [],
   "source": [
    "obj=b()"
   ]
  },
  {
   "cell_type": "code",
   "execution_count": 50,
   "metadata": {},
   "outputs": [
    {
     "name": "stdout",
     "output_type": "stream",
     "text": [
      "in b\n"
     ]
    }
   ],
   "source": [
    "obj.in_b()"
   ]
  },
  {
   "cell_type": "code",
   "execution_count": 51,
   "metadata": {},
   "outputs": [
    {
     "name": "stdout",
     "output_type": "stream",
     "text": [
      "in a\n"
     ]
    }
   ],
   "source": [
    "obj.in_a()"
   ]
  },
  {
   "cell_type": "markdown",
   "metadata": {},
   "source": [
    "###  Multilevel"
   ]
  },
  {
   "cell_type": "code",
   "execution_count": 52,
   "metadata": {},
   "outputs": [],
   "source": [
    "class a():#parent superclass\n",
    "    def in_a(self):\n",
    "        print(\"in a\")\n",
    "        \n",
    "class b(a):#child subclass\n",
    "    def in_b(self):\n",
    "        print(\"in b\")\n",
    "        \n",
    "class c(b):  #b is parent\n",
    "    def in_c(self):\n",
    "        print(\"in c\")"
   ]
  },
  {
   "cell_type": "code",
   "execution_count": 53,
   "metadata": {},
   "outputs": [],
   "source": [
    "obj1=c()"
   ]
  },
  {
   "cell_type": "code",
   "execution_count": 54,
   "metadata": {
    "scrolled": true
   },
   "outputs": [
    {
     "name": "stdout",
     "output_type": "stream",
     "text": [
      "in a\n"
     ]
    }
   ],
   "source": [
    "obj1.in_a()"
   ]
  },
  {
   "cell_type": "markdown",
   "metadata": {},
   "source": [
    " ### Multiple Inheritance "
   ]
  },
  {
   "cell_type": "code",
   "execution_count": 55,
   "metadata": {},
   "outputs": [],
   "source": [
    "class a():#parent class\n",
    "    def in_a(self):\n",
    "        print(\"in a\")\n",
    "        \n",
    "class b():#parent class\n",
    "    def in_b(self):\n",
    "        print(\"in b\")\n",
    "        \n",
    "class c(a,b):  #a,b both are  parents\n",
    "    def in_c(self):\n",
    "        print(\"in c\")"
   ]
  },
  {
   "cell_type": "code",
   "execution_count": 56,
   "metadata": {},
   "outputs": [],
   "source": [
    "obj2=c()"
   ]
  },
  {
   "cell_type": "code",
   "execution_count": 57,
   "metadata": {},
   "outputs": [
    {
     "name": "stdout",
     "output_type": "stream",
     "text": [
      "in a\n"
     ]
    }
   ],
   "source": [
    "obj2.in_a()"
   ]
  },
  {
   "cell_type": "code",
   "execution_count": 58,
   "metadata": {},
   "outputs": [],
   "source": [
    "ob=b()"
   ]
  },
  {
   "cell_type": "code",
   "execution_count": 59,
   "metadata": {},
   "outputs": [
    {
     "ename": "AttributeError",
     "evalue": "'b' object has no attribute 'in_a'",
     "output_type": "error",
     "traceback": [
      "\u001B[1;31m---------------------------------------------------------------------------\u001B[0m",
      "\u001B[1;31mAttributeError\u001B[0m                            Traceback (most recent call last)",
      "Cell \u001B[1;32mIn[59], line 1\u001B[0m\n\u001B[1;32m----> 1\u001B[0m ob\u001B[38;5;241m.\u001B[39min_a()\n",
      "\u001B[1;31mAttributeError\u001B[0m: 'b' object has no attribute 'in_a'"
     ]
    }
   ],
   "source": [
    "ob.in_a()"
   ]
  },
  {
   "cell_type": "markdown",
   "metadata": {},
   "source": [
    "# [A]--------same level----------[B]\n",
    "#\n",
    "## -------------------[C]-------------------------\n",
    "       "
   ]
  },
  {
   "cell_type": "code",
   "execution_count": null,
   "metadata": {},
   "outputs": [],
   "source": []
  },
  {
   "cell_type": "code",
   "execution_count": null,
   "metadata": {},
   "outputs": [],
   "source": []
  },
  {
   "cell_type": "code",
   "execution_count": null,
   "metadata": {},
   "outputs": [],
   "source": []
  },
  {
   "cell_type": "code",
   "execution_count": null,
   "metadata": {},
   "outputs": [],
   "source": []
  },
  {
   "cell_type": "code",
   "execution_count": null,
   "metadata": {},
   "outputs": [],
   "source": []
  },
  {
   "cell_type": "code",
   "execution_count": null,
   "metadata": {},
   "outputs": [],
   "source": []
  },
  {
   "cell_type": "code",
   "execution_count": null,
   "metadata": {},
   "outputs": [],
   "source": []
  },
  {
   "cell_type": "code",
   "execution_count": null,
   "metadata": {},
   "outputs": [],
   "source": []
  },
  {
   "cell_type": "code",
   "execution_count": null,
   "metadata": {},
   "outputs": [],
   "source": []
  },
  {
   "cell_type": "code",
   "execution_count": null,
   "metadata": {},
   "outputs": [],
   "source": []
  },
  {
   "cell_type": "code",
   "execution_count": null,
   "metadata": {},
   "outputs": [],
   "source": []
  },
  {
   "cell_type": "markdown",
   "metadata": {},
   "source": [
    "### Encapsulation And Polymorphism"
   ]
  },
  {
   "cell_type": "code",
   "execution_count": null,
   "metadata": {},
   "outputs": [],
   "source": []
  },
  {
   "cell_type": "markdown",
   "metadata": {},
   "source": [
    "# Encapsulation\n",
    "Using **OOP in Python**, we can restrict access to methods and variables. This prevents data from direct modification which is called encapsulation. In Python, we denote private attributes using underscore as the prefix i.e single _ or double __."
   ]
  },
  {
   "cell_type": "code",
   "execution_count": null,
   "metadata": {},
   "outputs": [],
   "source": [
    "class sample:\n",
    "    def __init__(self):\n",
    "        self.c=100\n"
   ]
  },
  {
   "cell_type": "code",
   "execution_count": null,
   "metadata": {},
   "outputs": [],
   "source": [
    "cc=sample()\n",
    "cc.c"
   ]
  },
  {
   "cell_type": "code",
   "execution_count": null,
   "metadata": {},
   "outputs": [],
   "source": [
    "cc.c=200"
   ]
  },
  {
   "cell_type": "code",
   "execution_count": null,
   "metadata": {},
   "outputs": [],
   "source": [
    "cc.c"
   ]
  },
  {
   "cell_type": "code",
   "execution_count": null,
   "metadata": {},
   "outputs": [],
   "source": [
    "class sample:\n",
    "    def __init__(self):\n",
    "        self.__c=100\n"
   ]
  },
  {
   "cell_type": "code",
   "execution_count": null,
   "metadata": {
    "scrolled": true
   },
   "outputs": [],
   "source": [
    "cc=sample()\n",
    "cc.__c"
   ]
  },
  {
   "cell_type": "code",
   "execution_count": null,
   "metadata": {},
   "outputs": [],
   "source": []
  },
  {
   "cell_type": "markdown",
   "metadata": {},
   "source": [
    "# Polymorphism\n",
    "Polymorphism is an ability (in OOP) to use a common interface for multiple forms (data types).\n",
    "\n",
    "Suppose, we need to color a shape, there are multiple shape options (rectangle, square, circle). However we could use the same method to color any shape. This concept is called Polymorphism."
   ]
  },
  {
   "cell_type": "code",
   "execution_count": null,
   "metadata": {},
   "outputs": [],
   "source": [
    "# len() being used for a string \n",
    "print(len(\"polymorphism\")) \n",
    "  \n",
    "# len() being used for a list \n",
    "print(len([10, 20, 30,40,50])) "
   ]
  },
  {
   "cell_type": "code",
   "execution_count": null,
   "metadata": {},
   "outputs": [],
   "source": [
    "# eg 2\n",
    "def add(x, y, z = 0):\n",
    "    return x + y + z \n",
    "\n",
    "print(add(12, 23)) \n",
    "print(add(12, 23, 34))"
   ]
  }
 ],
 "metadata": {
  "kernelspec": {
   "display_name": "Python 3 (ipykernel)",
   "language": "python",
   "name": "python3"
  },
  "language_info": {
   "codemirror_mode": {
    "name": "ipython",
    "version": 3
   },
   "file_extension": ".py",
   "mimetype": "text/x-python",
   "name": "python",
   "nbconvert_exporter": "python",
   "pygments_lexer": "ipython3",
   "version": "3.12.7"
  }
 },
 "nbformat": 4,
 "nbformat_minor": 4
}
