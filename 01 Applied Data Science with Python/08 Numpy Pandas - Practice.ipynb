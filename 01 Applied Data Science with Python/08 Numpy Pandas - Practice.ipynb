{
 "cells": [
  {
   "cell_type": "code",
   "execution_count": 1,
   "id": "initial_id",
   "metadata": {
    "ExecuteTime": {
     "end_time": "2025-04-13T04:39:34.235601Z",
     "start_time": "2025-04-13T04:39:34.228481Z"
    },
    "collapsed": true
   },
   "outputs": [
    {
     "data": {
      "text/plain": [
       "[2, 3, 4, 2, 3, 4]"
      ]
     },
     "execution_count": 1,
     "metadata": {},
     "output_type": "execute_result"
    }
   ],
   "source": [
    "[2,3,4]*2 # Works like list.extends"
   ]
  },
  {
   "cell_type": "code",
   "execution_count": 2,
   "id": "b0aca3fe35108e35",
   "metadata": {
    "ExecuteTime": {
     "end_time": "2025-04-13T04:40:17.121406Z",
     "start_time": "2025-04-13T04:40:16.868353Z"
    }
   },
   "outputs": [
    {
     "ename": "TypeError",
     "evalue": "can only concatenate list (not \"int\") to list",
     "output_type": "error",
     "traceback": [
      "\u001b[31m---------------------------------------------------------------------------\u001b[39m",
      "\u001b[31mTypeError\u001b[39m                                 Traceback (most recent call last)",
      "\u001b[36mCell\u001b[39m\u001b[36m \u001b[39m\u001b[32mIn[2]\u001b[39m\u001b[32m, line 1\u001b[39m\n\u001b[32m----> \u001b[39m\u001b[32m1\u001b[39m \u001b[43m[\u001b[49m\u001b[32;43m2\u001b[39;49m\u001b[43m,\u001b[49m\u001b[32;43m3\u001b[39;49m\u001b[43m,\u001b[49m\u001b[32;43m4\u001b[39;49m\u001b[43m]\u001b[49m\u001b[43m+\u001b[49m\u001b[32;43m2\u001b[39;49m\n",
      "\u001b[31mTypeError\u001b[39m: can only concatenate list (not \"int\") to list"
     ]
    }
   ],
   "source": [
    "[2,3,4]+2"
   ]
  },
  {
   "cell_type": "markdown",
   "id": "3751639f9fa2cebc",
   "metadata": {},
   "source": [
    "# Numpy For the Solution.\n",
    "## Numpy ndarray (n dimension array)"
   ]
  },
  {
   "cell_type": "code",
   "execution_count": 1,
   "id": "716b5210372e9d7b",
   "metadata": {
    "ExecuteTime": {
     "end_time": "2025-04-13T04:48:50.474264Z",
     "start_time": "2025-04-13T04:48:50.469465Z"
    }
   },
   "outputs": [
    {
     "name": "stdout",
     "output_type": "stream",
     "text": [
      "[100, 200, 300, 10, 20, 30]\n",
      "Above is not what we require, we need to add 0th position value in fixed_salary and variable_salary and 1st and so on as given below\n",
      "[110 220 330]\n"
     ]
    }
   ],
   "source": [
    "import numpy as np\n",
    "fixed_salary=[100,200,300]\n",
    "variable_salary=[10,20,30]\n",
    "print(fixed_salary+variable_salary) # Works like list.extends\n",
    "print(\"Above is not what we require, we need to add 0th position value in fixed_salary and variable_salary and 1st and so on as given below\")\n",
    "fixed=np.array(fixed_salary)\n",
    "variable=np.array(variable_salary)\n",
    "total=fixed+variable\n",
    "print(total)"
   ]
  },
  {
   "cell_type": "code",
   "execution_count": 14,
   "id": "2713fa995cdaef0d",
   "metadata": {
    "ExecuteTime": {
     "end_time": "2025-04-13T04:54:51.071422Z",
     "start_time": "2025-04-13T04:54:51.066728Z"
    }
   },
   "outputs": [
    {
     "name": "stdout",
     "output_type": "stream",
     "text": [
      "[20 30 40]\n",
      "[False  True  True]\n",
      "[30 40]\n",
      "40\n"
     ]
    }
   ],
   "source": [
    "fixed=np.array([10,20,30])\n",
    "fixed=fixed+10\n",
    "print(fixed)\n",
    "print(fixed>20)\n",
    "print(fixed[fixed>20]) # Behaving like a filter and is called Boolean Indexing\n",
    "print(fixed[fixed>20][1])"
   ]
  },
  {
   "cell_type": "code",
   "execution_count": 25,
   "id": "96a7f312cc404df9",
   "metadata": {
    "ExecuteTime": {
     "end_time": "2025-04-13T05:22:04.860796Z",
     "start_time": "2025-04-13T05:22:04.856119Z"
    }
   },
   "outputs": [
    {
     "name": "stdout",
     "output_type": "stream",
     "text": [
      "[ 0  4 16 36 64]\n",
      "[ 0  4 16 36 64]\n",
      "[ 1  9 25 49 81]\n",
      "[0 2 4 6 8]\n"
     ]
    }
   ],
   "source": [
    "ps=range(10)\n",
    "ps=np.array(ps)\n",
    "ps_eve=ps[ps%2==0]\n",
    "print(ps_eve**2)\n",
    "print(ps[ps%2==0]**2)\n",
    "print(ps[ps%2!=0]**2)\n",
    "print(ps_eve)"
   ]
  },
  {
   "cell_type": "code",
   "execution_count": 20,
   "id": "5fa0c90a682448c6",
   "metadata": {
    "ExecuteTime": {
     "end_time": "2025-04-13T05:03:08.537600Z",
     "start_time": "2025-04-13T05:03:08.532383Z"
    }
   },
   "outputs": [
    {
     "data": {
      "text/plain": [
       "array([1, 2, 3])"
      ]
     },
     "execution_count": 20,
     "metadata": {},
     "output_type": "execute_result"
    }
   ],
   "source": [
    "np.array([True,1,3])+np.array([0,1,False]) # Trues is Treated as 1 and False as 0"
   ]
  },
  {
   "cell_type": "code",
   "execution_count": 23,
   "id": "54ced356dee41f37",
   "metadata": {
    "ExecuteTime": {
     "end_time": "2025-04-13T05:17:37.246783Z",
     "start_time": "2025-04-13T05:17:37.226826Z"
    }
   },
   "outputs": [
    {
     "ename": "UFuncTypeError",
     "evalue": "ufunc 'add' did not contain a loop with signature matching types (dtype('<U21'), dtype('int64')) -> None",
     "output_type": "error",
     "traceback": [
      "\u001b[31m---------------------------------------------------------------------------\u001b[39m",
      "\u001b[31mUFuncTypeError\u001b[39m                            Traceback (most recent call last)",
      "\u001b[36mCell\u001b[39m\u001b[36m \u001b[39m\u001b[32mIn[23]\u001b[39m\u001b[32m, line 1\u001b[39m\n\u001b[32m----> \u001b[39m\u001b[32m1\u001b[39m \u001b[43mnp\u001b[49m\u001b[43m.\u001b[49m\u001b[43marray\u001b[49m\u001b[43m(\u001b[49m\u001b[43m[\u001b[49m\u001b[33;43m\"\u001b[39;49m\u001b[33;43m1\u001b[39;49m\u001b[33;43m\"\u001b[39;49m\u001b[43m,\u001b[49m\u001b[32;43m1\u001b[39;49m\u001b[43m,\u001b[49m\u001b[32;43m3\u001b[39;49m\u001b[43m]\u001b[49m\u001b[43m)\u001b[49m\u001b[43m+\u001b[49m\u001b[43mnp\u001b[49m\u001b[43m.\u001b[49m\u001b[43marray\u001b[49m\u001b[43m(\u001b[49m\u001b[43m[\u001b[49m\u001b[32;43m0\u001b[39;49m\u001b[43m,\u001b[49m\u001b[32;43m1\u001b[39;49m\u001b[43m,\u001b[49m\u001b[38;5;28;43;01mFalse\u001b[39;49;00m\u001b[43m]\u001b[49m\u001b[43m)\u001b[49m \u001b[38;5;66;03m# Mixed data type with wont work\u001b[39;00m\n",
      "\u001b[31mUFuncTypeError\u001b[39m: ufunc 'add' did not contain a loop with signature matching types (dtype('<U21'), dtype('int64')) -> None"
     ]
    }
   ],
   "source": [
    "np.array([\"1\",1,3])+np.array([0,1,False]) # Mixed data type with wont work"
   ]
  },
  {
   "cell_type": "code",
   "execution_count": 24,
   "id": "c5d83165c47bd64e",
   "metadata": {
    "ExecuteTime": {
     "end_time": "2025-04-13T05:19:49.346337Z",
     "start_time": "2025-04-13T05:19:49.340755Z"
    }
   },
   "outputs": [
    {
     "data": {
      "text/plain": [
       "array([2, 4, 6])"
      ]
     },
     "execution_count": 24,
     "metadata": {},
     "output_type": "execute_result"
    }
   ],
   "source": [
    "np.array([1,2,3])*2"
   ]
  },
  {
   "cell_type": "code",
   "execution_count": 27,
   "id": "84f4c0fd9de6beec",
   "metadata": {
    "ExecuteTime": {
     "end_time": "2025-04-13T05:26:23.403908Z",
     "start_time": "2025-04-13T05:26:23.398550Z"
    }
   },
   "outputs": [
    {
     "name": "stdout",
     "output_type": "stream",
     "text": [
      "<class 'numpy.ndarray'>\n",
      "(4, 2)\n",
      "[[180.   78.4]\n",
      " [215.  102.7]\n",
      " [210.   98.5]\n",
      " [188.   75.2]]\n",
      "215.0\n",
      "215.0\n"
     ]
    }
   ],
   "source": [
    "# Create baseball, a list of lists\n",
    "baseball = [[180, 78.4],\n",
    "            [215, 102.7],\n",
    "            [210, 98.5],\n",
    "            [188, 75.2]]\n",
    "\n",
    "# Import numpy\n",
    "import numpy as np\n",
    "\n",
    "# Create a 2D numpy array from baseball: np_baseball\n",
    "np_baseball = np.array(baseball)\n",
    "\n",
    "# Print out the type of np_baseball\n",
    "print(type(np_baseball))\n",
    "\n",
    "# Print out the shape of np_baseball\n",
    "print(np_baseball.shape)\n",
    "print(np_baseball)\n",
    "\n",
    "print(np_baseball[1][0])\n",
    "print(np_baseball[1,0])"
   ]
  },
  {
   "cell_type": "code",
   "execution_count": 30,
   "id": "32282d6a4f23a1a2",
   "metadata": {
    "ExecuteTime": {
     "end_time": "2025-04-13T05:27:59.746344Z",
     "start_time": "2025-04-13T05:27:59.741284Z"
    }
   },
   "outputs": [
    {
     "data": {
      "text/plain": [
       "array([1., 2., 3.])"
      ]
     },
     "execution_count": 30,
     "metadata": {},
     "output_type": "execute_result"
    }
   ],
   "source": [
    "np.array([1,2,3.0])"
   ]
  },
  {
   "cell_type": "code",
   "execution_count": 59,
   "id": "1e7abd2fb7ad2494",
   "metadata": {
    "ExecuteTime": {
     "end_time": "2025-04-13T06:21:54.504680Z",
     "start_time": "2025-04-13T06:21:54.499258Z"
    }
   },
   "outputs": [
    {
     "name": "stdout",
     "output_type": "stream",
     "text": [
      "[[1 2 0]\n",
      " [3 4 0]\n",
      " [5 6 0]]\n",
      "(3, 3)\n",
      "9\n",
      "int64\n",
      "2\n"
     ]
    }
   ],
   "source": [
    "arrayvalue=np.array([[1,2,0],\n",
    "          [3,4,0],\n",
    "          [5,6,0]\n",
    "          ])\n",
    "type(arrayvalue)\n",
    "print(arrayvalue)\n",
    "print(arrayvalue.shape)\n",
    "print(arrayvalue.size)\n",
    "print(arrayvalue.dtype)\n",
    "print(arrayvalue.ndim)"
   ]
  },
  {
   "cell_type": "markdown",
   "id": "9419377b2ada9230",
   "metadata": {},
   "source": [
    "# arrange"
   ]
  },
  {
   "cell_type": "code",
   "execution_count": 45,
   "id": "17d8fa5509c0306a",
   "metadata": {
    "ExecuteTime": {
     "end_time": "2025-04-13T06:12:36.487333Z",
     "start_time": "2025-04-13T06:12:36.482398Z"
    }
   },
   "outputs": [
    {
     "name": "stdout",
     "output_type": "stream",
     "text": [
      "A series of numbers: [2 3 4 5 6 7 8 9]\n",
      "A series of numbers: [10  9  8  7  6  5  4  3  2]\n",
      "A series of numbers: [10  9  8  7  6  5  4  3  2  1  0 -1 -2 -3 -4 -5 -6 -7 -8 -9]\n"
     ]
    }
   ],
   "source": [
    "import numpy as np\n",
    "print(\"A series of numbers:\", np.arange(2,10,1))\n",
    "print(\"A series of numbers:\", np.arange(10,1,-1))\n",
    "print(\"A series of numbers:\", np.arange(10,-10,-1))"
   ]
  },
  {
   "cell_type": "code",
   "execution_count": 51,
   "id": "360c7e4b0065e16",
   "metadata": {
    "ExecuteTime": {
     "end_time": "2025-04-13T06:19:28.882895Z",
     "start_time": "2025-04-13T06:19:28.878374Z"
    }
   },
   "outputs": [
    {
     "name": "stdout",
     "output_type": "stream",
     "text": [
      "21 linearly spaced numbers between 1 and 5\n",
      "(array([1. , 1.2, 1.4, 1.6, 1.8, 2. , 2.2, 2.4, 2.6, 2.8, 3. , 3.2, 3.4,\n",
      "       3.6, 3.8, 4. , 4.2, 4.4, 4.6, 4.8, 5. ]), np.float64(0.2))\n"
     ]
    }
   ],
   "source": [
    "print(\"21 linearly spaced numbers between 1 and 5\")\n",
    "print(np.linspace(1,5,21,retstep=True))"
   ]
  },
  {
   "cell_type": "code",
   "execution_count": 62,
   "id": "93ca50f27e6ad6e3",
   "metadata": {
    "ExecuteTime": {
     "end_time": "2025-04-13T06:23:35.450137Z",
     "start_time": "2025-04-13T06:23:35.444468Z"
    }
   },
   "outputs": [
    {
     "data": {
      "text/plain": [
       "array([[0., 0., 0., 0.],\n",
       "       [0., 0., 0., 0.],\n",
       "       [0., 0., 0., 0.]])"
      ]
     },
     "execution_count": 62,
     "metadata": {},
     "output_type": "execute_result"
    }
   ],
   "source": [
    "np.zeros((3,4))"
   ]
  },
  {
   "cell_type": "code",
   "execution_count": 91,
   "id": "21021ea26232c891",
   "metadata": {
    "ExecuteTime": {
     "end_time": "2025-04-13T06:54:16.928717Z",
     "start_time": "2025-04-13T06:54:16.924162Z"
    }
   },
   "outputs": [
    {
     "name": "stdout",
     "output_type": "stream",
     "text": [
      "[[1. 1.]\n",
      " [1. 1.]\n",
      " [1. 1.]]\n",
      "[[[1. 1. 1. 1.]\n",
      "  [1. 1. 1. 1.]\n",
      "  [1. 1. 1. 1.]]\n",
      "\n",
      " [[1. 1. 1. 1.]\n",
      "  [1. 1. 1. 1.]\n",
      "  [1. 1. 1. 1.]]]\n"
     ]
    }
   ],
   "source": [
    "ones=np.ones((3,2))\n",
    "print(ones)\n",
    "ones=np.ones((2,3,4))\n",
    "print(ones)"
   ]
  },
  {
   "cell_type": "code",
   "execution_count": 66,
   "id": "f92687a7138d1165",
   "metadata": {
    "ExecuteTime": {
     "end_time": "2025-04-13T06:24:32.890022Z",
     "start_time": "2025-04-13T06:24:32.885570Z"
    }
   },
   "outputs": [
    {
     "data": {
      "text/plain": [
       "array([[0., 0.],\n",
       "       [0., 0.],\n",
       "       [0., 0.]])"
      ]
     },
     "execution_count": 66,
     "metadata": {},
     "output_type": "execute_result"
    }
   ],
   "source": [
    "np.zeros_like(ones)"
   ]
  },
  {
   "cell_type": "code",
   "execution_count": 67,
   "id": "9334098430bb27c",
   "metadata": {
    "ExecuteTime": {
     "end_time": "2025-04-13T06:25:13.776316Z",
     "start_time": "2025-04-13T06:25:13.771639Z"
    }
   },
   "outputs": [
    {
     "data": {
      "text/plain": [
       "array([ 100.        ,  215.443469  ,  464.15888336, 1000.        ])"
      ]
     },
     "execution_count": 67,
     "metadata": {},
     "output_type": "execute_result"
    }
   ],
   "source": [
    "np.logspace(2.0,3.0, num=4)"
   ]
  },
  {
   "cell_type": "markdown",
   "id": "67564569b89fb860",
   "metadata": {},
   "source": [
    "# Reshaping"
   ]
  },
  {
   "cell_type": "code",
   "execution_count": 72,
   "id": "4273bcfdba41a674",
   "metadata": {
    "ExecuteTime": {
     "end_time": "2025-04-13T06:28:19.706351Z",
     "start_time": "2025-04-13T06:28:19.701545Z"
    }
   },
   "outputs": [
    {
     "name": "stdout",
     "output_type": "stream",
     "text": [
      "[0 1 2 3]\n",
      "[3 2 1 0]\n",
      "[[0 1]\n",
      " [2 3]]\n"
     ]
    }
   ],
   "source": [
    "arrangement=np.arange(4)\n",
    "print(arrangement)\n",
    "print(arrangement[::-1])\n",
    "print(arrangement.reshape((2,2)))"
   ]
  },
  {
   "cell_type": "markdown",
   "id": "5810083309d60be6",
   "metadata": {},
   "source": [
    "# RandInt"
   ]
  },
  {
   "cell_type": "code",
   "execution_count": 79,
   "id": "4676891436608a79",
   "metadata": {
    "ExecuteTime": {
     "end_time": "2025-04-13T06:36:53.241489Z",
     "start_time": "2025-04-13T06:36:53.236509Z"
    }
   },
   "outputs": [
    {
     "name": "stdout",
     "output_type": "stream",
     "text": [
      "[42 30 45 85 16 23 44 80 29 98 45 88 87  9 97 98 94 86  2 31 76  5 73 85\n",
      " 87  8 22 83 54 50]\n",
      "[[[42 30 45 85 16]\n",
      "  [23 44 80 29 98]\n",
      "  [45 88 87  9 97]]\n",
      "\n",
      " [[98 94 86  2 31]\n",
      "  [76  5 73 85 87]\n",
      "  [ 8 22 83 54 50]]]\n",
      "[[42 30 45 85 16]\n",
      " [23 44 80 29 98]\n",
      " [45 88 87  9 97]\n",
      " [98 94 86  2 31]\n",
      " [76  5 73 85 87]\n",
      " [ 8 22 83 54 50]]\n",
      "9\n",
      "3\n",
      "(2, 3, 5)\n"
     ]
    }
   ],
   "source": [
    "from numpy.random import randint as ri\n",
    "a = ri(1,100,30)\n",
    "b = a.reshape((2,3,5))\n",
    "c = a.reshape((6,5))\n",
    "print(a)\n",
    "print(b)\n",
    "print(c)\n",
    "print(b[0,2,3])\n",
    "print(b.ndim)\n",
    "print(b.shape)"
   ]
  },
  {
   "cell_type": "code",
   "execution_count": 83,
   "id": "38d21c22d9cf3b54",
   "metadata": {
    "ExecuteTime": {
     "end_time": "2025-04-13T06:41:43.805086Z",
     "start_time": "2025-04-13T06:41:43.799722Z"
    }
   },
   "outputs": [
    {
     "name": "stdout",
     "output_type": "stream",
     "text": [
      "[11 31 38 50 18 21 53 19 16 89]\n",
      "[11 21 28 39 44 48 65 66 79 99]\n"
     ]
    }
   ],
   "source": [
    "from numpy.random import randint as ri\n",
    "print(ri(1,100,10))\n",
    "print(np.sort(ri(1,100,10),kind='mergesort'))\n"
   ]
  },
  {
   "cell_type": "code",
   "execution_count": 97,
   "id": "2870155d532dc320",
   "metadata": {
    "ExecuteTime": {
     "end_time": "2025-04-13T07:01:32.641162Z",
     "start_time": "2025-04-13T07:01:32.634263Z"
    }
   },
   "outputs": [
    {
     "name": "stdout",
     "output_type": "stream",
     "text": [
      "[[53 74 27 76 72]\n",
      " [10 89 38 77 68]\n",
      " [23 43 36 66 37]\n",
      " [16 37 36  5 30]\n",
      " [67  6 14 68 74]]\n",
      "[[27 53 72 74 76]\n",
      " [10 38 68 77 89]\n",
      " [23 36 37 43 66]\n",
      " [ 5 16 30 36 37]\n",
      " [ 6 14 67 68 74]]\n",
      "[[10  6 14  5 30]\n",
      " [16 37 27 66 37]\n",
      " [23 43 36 68 68]\n",
      " [53 74 36 76 72]\n",
      " [67 89 38 77 74]]\n",
      "89\n",
      "6\n",
      "[[74 27]\n",
      " [89 38]\n",
      " [43 36]]\n",
      "[[ 5 30]\n",
      " [68 74]]\n"
     ]
    }
   ],
   "source": [
    "M=ri(1,100,25).reshape(5,5)\n",
    "print(M)\n",
    "print(np.sort(M,kind='mergesort'))\n",
    "print(np.sort(M,axis=0,kind='mergesort'))\n",
    "print(M.max())\n",
    "print(M.argmax())\n",
    "print(M[0:3,1:3])\n",
    "print(M[3:5,3:5])"
   ]
  },
  {
   "cell_type": "code",
   "execution_count": 111,
   "id": "243bc0adab2bec16",
   "metadata": {
    "ExecuteTime": {
     "end_time": "2025-04-13T07:31:50.111613Z",
     "start_time": "2025-04-13T07:31:50.106087Z"
    }
   },
   "outputs": [
    {
     "name": "stdout",
     "output_type": "stream",
     "text": [
      "[[[62  5 14 62]\n",
      "  [78 14 39 77]\n",
      "  [96 31 89  2]]\n",
      "\n",
      " [[43 88 90 31]\n",
      "  [68 81 44 38]\n",
      "  [ 1 77 48 61]]]\n",
      "\n",
      "Sliced array (shape: (2, 2, 2)):\n",
      "\n",
      "[[[62  5]\n",
      "  [78 14]]\n",
      "\n",
      " [[43 88]\n",
      "  [68 81]]]\n",
      "[[78 14 39 77]\n",
      " [78 14 39 77]\n",
      " [78 14 39 77]]\n"
     ]
    }
   ],
   "source": [
    "M=ri(1,100,24).reshape(2,3,4)\n",
    "print(M)\n",
    "sliced_M = M[0:, 0:2, 0:2]\n",
    "\n",
    "print(\"\\nSliced array (shape: {}):\\n\".format(sliced_M.shape))\n",
    "print(sliced_M)\n",
    "print(M[[0,0,0],[1,1,1]])"
   ]
  },
  {
   "cell_type": "code",
   "execution_count": 112,
   "id": "7bd54b57fc7a60b0",
   "metadata": {
    "ExecuteTime": {
     "end_time": "2025-04-13T07:43:55.842321Z",
     "start_time": "2025-04-13T07:43:55.837470Z"
    }
   },
   "outputs": [
    {
     "name": "stdout",
     "output_type": "stream",
     "text": [
      "Matrix of random 2-digit numbers\n",
      "--------------------------------\n",
      " [[25 41 45 88 48]\n",
      " [94 95 19 58 11]\n",
      " [88 79 31 25 61]]\n"
     ]
    }
   ],
   "source": [
    "import numpy as np\n",
    "from numpy.random import randint as ri\n",
    "mat = np.array(ri(10,100,15)).reshape(3,5)\n",
    "print(\"Matrix of random 2-digit numbers\\n--------------------------------\\n\",mat)"
   ]
  },
  {
   "cell_type": "code",
   "execution_count": 113,
   "id": "d4c0a38f053d0db9",
   "metadata": {
    "ExecuteTime": {
     "end_time": "2025-04-13T07:44:28.198767Z",
     "start_time": "2025-04-13T07:44:28.194972Z"
    }
   },
   "outputs": [
    {
     "name": "stdout",
     "output_type": "stream",
     "text": [
      "\n",
      "Subsetting sub-matrices\n",
      "--------------------------\n",
      "Matrix with row indices 1 and 2 and column indices 3 and 4\n",
      " [[58 11]\n",
      " [25 61]]\n"
     ]
    }
   ],
   "source": [
    "print(\"\\nSubsetting sub-matrices\\n--------------------------\")\n",
    "print(\"Matrix with row indices 1 and 2 and column indices 3 and 4\\n\", mat[1:3,3:5])"
   ]
  },
  {
   "cell_type": "code",
   "execution_count": 118,
   "id": "cd545a911fdf92e4",
   "metadata": {
    "ExecuteTime": {
     "end_time": "2025-04-13T07:59:53.473286Z",
     "start_time": "2025-04-13T07:59:53.469267Z"
    }
   },
   "outputs": [
    {
     "name": "stdout",
     "output_type": "stream",
     "text": [
      "Matrix of random 2-digit numbers\n",
      "--------------------------------\n",
      " [[98 87 54 24 87]\n",
      " [86 39 79 64 53]\n",
      " [91 74 87 91 44]]\n"
     ]
    }
   ],
   "source": [
    "import numpy as np\n",
    "from numpy.random import randint as ri\n",
    "mat = np.array(ri(10,100,15)).reshape(3,5)\n",
    "print(\"Matrix of random 2-digit numbers\\n--------------------------------\\n\",mat)"
   ]
  },
  {
   "cell_type": "code",
   "execution_count": 120,
   "id": "90e438a8d769bba7",
   "metadata": {
    "ExecuteTime": {
     "end_time": "2025-04-13T08:00:11.973741Z",
     "start_time": "2025-04-13T08:00:11.969814Z"
    }
   },
   "outputs": [
    {
     "name": "stdout",
     "output_type": "stream",
     "text": [
      "Matrix with row indices 0 and 1 and column indices 1 and 3\n",
      " [[87 24 87]\n",
      " [39 64 53]]\n"
     ]
    }
   ],
   "source": [
    "print(\"Matrix with row indices 0 and 1 and column indices 1 and 3\\n\", mat[0:2,[1,3,4]])"
   ]
  },
  {
   "cell_type": "markdown",
   "id": "291e1d64e671d4b8",
   "metadata": {},
   "source": [
    "# Pandas"
   ]
  },
  {
   "cell_type": "code",
   "execution_count": 6,
   "id": "12d523bb37413f9b",
   "metadata": {
    "ExecuteTime": {
     "end_time": "2025-04-19T03:57:37.828885Z",
     "start_time": "2025-04-19T03:57:37.820209Z"
    }
   },
   "outputs": [
    {
     "data": {
      "text/html": [
       "<div>\n",
       "<style scoped>\n",
       "    .dataframe tbody tr th:only-of-type {\n",
       "        vertical-align: middle;\n",
       "    }\n",
       "\n",
       "    .dataframe tbody tr th {\n",
       "        vertical-align: top;\n",
       "    }\n",
       "\n",
       "    .dataframe thead th {\n",
       "        text-align: right;\n",
       "    }\n",
       "</style>\n",
       "<table border=\"1\" class=\"dataframe\">\n",
       "  <thead>\n",
       "    <tr style=\"text-align: right;\">\n",
       "      <th></th>\n",
       "      <th>m</th>\n",
       "      <th>n</th>\n",
       "      <th>x</th>\n",
       "      <th>y</th>\n",
       "      <th>z</th>\n",
       "    </tr>\n",
       "  </thead>\n",
       "  <tbody>\n",
       "    <tr>\n",
       "      <th>a</th>\n",
       "      <td>a</td>\n",
       "      <td>b</td>\n",
       "      <td>c</td>\n",
       "      <td>d</td>\n",
       "      <td>e</td>\n",
       "    </tr>\n",
       "    <tr>\n",
       "      <th>s</th>\n",
       "      <td>1</td>\n",
       "      <td>2</td>\n",
       "      <td>3</td>\n",
       "      <td>4</td>\n",
       "      <td>5</td>\n",
       "    </tr>\n",
       "    <tr>\n",
       "      <th>d</th>\n",
       "      <td>q</td>\n",
       "      <td>w</td>\n",
       "      <td>e</td>\n",
       "      <td>r</td>\n",
       "      <td>t</td>\n",
       "    </tr>\n",
       "    <tr>\n",
       "      <th>f</th>\n",
       "      <td>6</td>\n",
       "      <td>7</td>\n",
       "      <td>8</td>\n",
       "      <td>9</td>\n",
       "      <td>10</td>\n",
       "    </tr>\n",
       "  </tbody>\n",
       "</table>\n",
       "</div>"
      ],
      "text/plain": [
       "   m  n  x  y   z\n",
       "a  a  b  c  d   e\n",
       "s  1  2  3  4   5\n",
       "d  q  w  e  r   t\n",
       "f  6  7  8  9  10"
      ]
     },
     "execution_count": 6,
     "metadata": {},
     "output_type": "execute_result"
    }
   ],
   "source": [
    "import pandas as pd\n",
    "data= pd.DataFrame([list(\"abcde\"),\n",
    " [1,2,3,4,5],\n",
    " list(\"qwert\"),\n",
    " [6,7,8,9,10]],\n",
    "index=list(\"asdf\"),\n",
    "columns=list(\"mnxyz\")\n",
    ")\n",
    "data"
   ]
  },
  {
   "cell_type": "markdown",
   "id": "87579cfd6d2117d1",
   "metadata": {},
   "source": []
  },
  {
   "cell_type": "code",
   "execution_count": 7,
   "id": "101d7857b74842a5",
   "metadata": {
    "ExecuteTime": {
     "end_time": "2025-04-19T04:00:10.980134Z",
     "start_time": "2025-04-19T04:00:10.973312Z"
    }
   },
   "outputs": [
    {
     "data": {
      "text/html": [
       "<div>\n",
       "<style scoped>\n",
       "    .dataframe tbody tr th:only-of-type {\n",
       "        vertical-align: middle;\n",
       "    }\n",
       "\n",
       "    .dataframe tbody tr th {\n",
       "        vertical-align: top;\n",
       "    }\n",
       "\n",
       "    .dataframe thead th {\n",
       "        text-align: right;\n",
       "    }\n",
       "</style>\n",
       "<table border=\"1\" class=\"dataframe\">\n",
       "  <thead>\n",
       "    <tr style=\"text-align: right;\">\n",
       "      <th></th>\n",
       "      <th>k</th>\n",
       "      <th>k2</th>\n",
       "    </tr>\n",
       "  </thead>\n",
       "  <tbody>\n",
       "    <tr>\n",
       "      <th>0</th>\n",
       "      <td>12</td>\n",
       "      <td>17</td>\n",
       "    </tr>\n",
       "    <tr>\n",
       "      <th>1</th>\n",
       "      <td>23</td>\n",
       "      <td>34</td>\n",
       "    </tr>\n",
       "    <tr>\n",
       "      <th>2</th>\n",
       "      <td>34</td>\n",
       "      <td>55</td>\n",
       "    </tr>\n",
       "  </tbody>\n",
       "</table>\n",
       "</div>"
      ],
      "text/plain": [
       "    k  k2\n",
       "0  12  17\n",
       "1  23  34\n",
       "2  34  55"
      ]
     },
     "execution_count": 7,
     "metadata": {},
     "output_type": "execute_result"
    }
   ],
   "source": [
    "d={\"k\":[12,23,34],\"k2\":[17,34,55]}\n",
    "pd.DataFrame(d)"
   ]
  },
  {
   "cell_type": "code",
   "execution_count": 8,
   "id": "dbed238afc1e0f95",
   "metadata": {
    "ExecuteTime": {
     "end_time": "2025-04-19T04:04:39.529416Z",
     "start_time": "2025-04-19T04:04:39.522408Z"
    }
   },
   "outputs": [
    {
     "data": {
      "text/html": [
       "<div>\n",
       "<style scoped>\n",
       "    .dataframe tbody tr th:only-of-type {\n",
       "        vertical-align: middle;\n",
       "    }\n",
       "\n",
       "    .dataframe tbody tr th {\n",
       "        vertical-align: top;\n",
       "    }\n",
       "\n",
       "    .dataframe thead th {\n",
       "        text-align: right;\n",
       "    }\n",
       "</style>\n",
       "<table border=\"1\" class=\"dataframe\">\n",
       "  <thead>\n",
       "    <tr style=\"text-align: right;\">\n",
       "      <th></th>\n",
       "      <th>k</th>\n",
       "      <th>k2</th>\n",
       "    </tr>\n",
       "  </thead>\n",
       "  <tbody>\n",
       "    <tr>\n",
       "      <th>0</th>\n",
       "      <td>12</td>\n",
       "      <td>17</td>\n",
       "    </tr>\n",
       "    <tr>\n",
       "      <th>1</th>\n",
       "      <td>23</td>\n",
       "      <td>17</td>\n",
       "    </tr>\n",
       "    <tr>\n",
       "      <th>2</th>\n",
       "      <td>34</td>\n",
       "      <td>17</td>\n",
       "    </tr>\n",
       "  </tbody>\n",
       "</table>\n",
       "</div>"
      ],
      "text/plain": [
       "    k  k2\n",
       "0  12  17\n",
       "1  23  17\n",
       "2  34  17"
      ]
     },
     "execution_count": 8,
     "metadata": {},
     "output_type": "execute_result"
    }
   ],
   "source": [
    "d={\"k\":[12,23,34],\"k2\":17}\n",
    "pd.DataFrame(d)"
   ]
  },
  {
   "cell_type": "code",
   "execution_count": 9,
   "id": "93cdbf226714f1ec",
   "metadata": {
    "ExecuteTime": {
     "end_time": "2025-04-19T04:07:29.366609Z",
     "start_time": "2025-04-19T04:07:29.358070Z"
    }
   },
   "outputs": [
    {
     "data": {
      "text/html": [
       "<div>\n",
       "<style scoped>\n",
       "    .dataframe tbody tr th:only-of-type {\n",
       "        vertical-align: middle;\n",
       "    }\n",
       "\n",
       "    .dataframe tbody tr th {\n",
       "        vertical-align: top;\n",
       "    }\n",
       "\n",
       "    .dataframe thead th {\n",
       "        text-align: right;\n",
       "    }\n",
       "</style>\n",
       "<table border=\"1\" class=\"dataframe\">\n",
       "  <thead>\n",
       "    <tr style=\"text-align: right;\">\n",
       "      <th></th>\n",
       "      <th>k</th>\n",
       "      <th>k2</th>\n",
       "    </tr>\n",
       "  </thead>\n",
       "  <tbody>\n",
       "    <tr>\n",
       "      <th>0</th>\n",
       "      <td>abc</td>\n",
       "      <td>q</td>\n",
       "    </tr>\n",
       "    <tr>\n",
       "      <th>1</th>\n",
       "      <td>xyz</td>\n",
       "      <td>w</td>\n",
       "    </tr>\n",
       "    <tr>\n",
       "      <th>2</th>\n",
       "      <td>pqr</td>\n",
       "      <td>r</td>\n",
       "    </tr>\n",
       "  </tbody>\n",
       "</table>\n",
       "</div>"
      ],
      "text/plain": [
       "     k k2\n",
       "0  abc  q\n",
       "1  xyz  w\n",
       "2  pqr  r"
      ]
     },
     "execution_count": 9,
     "metadata": {},
     "output_type": "execute_result"
    }
   ],
   "source": [
    "a=['abc','xyz','pqr']\n",
    "b=['q','w','r']\n",
    "d={\"k\":a,\"k2\":b}\n",
    "pd.DataFrame(d)"
   ]
  },
  {
   "cell_type": "code",
   "execution_count": 32,
   "id": "ca6b2ba83dfd4f5",
   "metadata": {
    "ExecuteTime": {
     "end_time": "2025-04-19T04:39:40.070240Z",
     "start_time": "2025-04-19T04:39:40.064699Z"
    }
   },
   "outputs": [
    {
     "data": {
      "text/plain": [
       "<module 'pandas' from 'C:\\\\Users\\\\Ankur Goyal\\\\AppData\\\\Local\\\\Packages\\\\PythonSoftwareFoundation.Python.3.13_qbz5n2kfra8p0\\\\LocalCache\\\\local-packages\\\\Python313\\\\site-packages\\\\pandas\\\\__init__.py'>"
      ]
     },
     "execution_count": 32,
     "metadata": {},
     "output_type": "execute_result"
    }
   ],
   "source": [
    "a=['abc','abc','pqr']\n",
    "b=['q',None,'r']\n",
    "d={\"k\":a,\"k2\":b}\n",
    "df=pd.DataFrame(d)\n",
    "pd"
   ]
  },
  {
   "cell_type": "code",
   "execution_count": 34,
   "id": "43062fe56023be4b",
   "metadata": {
    "ExecuteTime": {
     "end_time": "2025-04-19T04:39:53.526903Z",
     "start_time": "2025-04-19T04:39:53.519902Z"
    }
   },
   "outputs": [
    {
     "name": "stdout",
     "output_type": "stream",
     "text": [
      "<class 'pandas.core.frame.DataFrame'>\n",
      "RangeIndex: 3 entries, 0 to 2\n",
      "Data columns (total 2 columns):\n",
      " #   Column  Non-Null Count  Dtype \n",
      "---  ------  --------------  ----- \n",
      " 0   k       3 non-null      object\n",
      " 1   k2      2 non-null      object\n",
      "dtypes: object(2)\n",
      "memory usage: 180.0+ bytes\n"
     ]
    }
   ],
   "source": [
    "df.info()"
   ]
  },
  {
   "cell_type": "code",
   "execution_count": 33,
   "id": "ad13ddf04c3bc4a8",
   "metadata": {
    "ExecuteTime": {
     "end_time": "2025-04-19T04:39:43.175341Z",
     "start_time": "2025-04-19T04:39:43.165706Z"
    }
   },
   "outputs": [
    {
     "data": {
      "text/html": [
       "<div>\n",
       "<style scoped>\n",
       "    .dataframe tbody tr th:only-of-type {\n",
       "        vertical-align: middle;\n",
       "    }\n",
       "\n",
       "    .dataframe tbody tr th {\n",
       "        vertical-align: top;\n",
       "    }\n",
       "\n",
       "    .dataframe thead th {\n",
       "        text-align: right;\n",
       "    }\n",
       "</style>\n",
       "<table border=\"1\" class=\"dataframe\">\n",
       "  <thead>\n",
       "    <tr style=\"text-align: right;\">\n",
       "      <th></th>\n",
       "      <th>k</th>\n",
       "      <th>k2</th>\n",
       "    </tr>\n",
       "  </thead>\n",
       "  <tbody>\n",
       "    <tr>\n",
       "      <th>count</th>\n",
       "      <td>3</td>\n",
       "      <td>2</td>\n",
       "    </tr>\n",
       "    <tr>\n",
       "      <th>unique</th>\n",
       "      <td>2</td>\n",
       "      <td>2</td>\n",
       "    </tr>\n",
       "    <tr>\n",
       "      <th>top</th>\n",
       "      <td>abc</td>\n",
       "      <td>q</td>\n",
       "    </tr>\n",
       "    <tr>\n",
       "      <th>freq</th>\n",
       "      <td>2</td>\n",
       "      <td>1</td>\n",
       "    </tr>\n",
       "  </tbody>\n",
       "</table>\n",
       "</div>"
      ],
      "text/plain": [
       "          k k2\n",
       "count     3  2\n",
       "unique    2  2\n",
       "top     abc  q\n",
       "freq      2  1"
      ]
     },
     "execution_count": 33,
     "metadata": {},
     "output_type": "execute_result"
    }
   ],
   "source": [
    "df.describe()"
   ]
  },
  {
   "cell_type": "code",
   "execution_count": 25,
   "id": "1c7b2ddee062343b",
   "metadata": {
    "ExecuteTime": {
     "end_time": "2025-04-19T04:23:42.583541Z",
     "start_time": "2025-04-19T04:23:42.579079Z"
    }
   },
   "outputs": [
    {
     "data": {
      "text/plain": [
       "Index(['k', 'k2'], dtype='object')"
      ]
     },
     "execution_count": 25,
     "metadata": {},
     "output_type": "execute_result"
    }
   ],
   "source": [
    "df.columns"
   ]
  },
  {
   "cell_type": "code",
   "execution_count": 78,
   "id": "ada0848eff1a86ef",
   "metadata": {
    "ExecuteTime": {
     "end_time": "2025-04-19T05:07:02.719093Z",
     "start_time": "2025-04-19T05:07:02.715540Z"
    }
   },
   "outputs": [],
   "source": [
    "df.columns=[\"Key1\",\"Key2\"]"
   ]
  },
  {
   "cell_type": "code",
   "execution_count": 36,
   "id": "6f66b1fe7cbba609",
   "metadata": {
    "ExecuteTime": {
     "end_time": "2025-04-19T04:39:58.121474Z",
     "start_time": "2025-04-19T04:39:58.115265Z"
    }
   },
   "outputs": [
    {
     "data": {
      "text/html": [
       "<div>\n",
       "<style scoped>\n",
       "    .dataframe tbody tr th:only-of-type {\n",
       "        vertical-align: middle;\n",
       "    }\n",
       "\n",
       "    .dataframe tbody tr th {\n",
       "        vertical-align: top;\n",
       "    }\n",
       "\n",
       "    .dataframe thead th {\n",
       "        text-align: right;\n",
       "    }\n",
       "</style>\n",
       "<table border=\"1\" class=\"dataframe\">\n",
       "  <thead>\n",
       "    <tr style=\"text-align: right;\">\n",
       "      <th></th>\n",
       "      <th>Key1</th>\n",
       "      <th>Key2</th>\n",
       "    </tr>\n",
       "  </thead>\n",
       "  <tbody>\n",
       "    <tr>\n",
       "      <th>0</th>\n",
       "      <td>abc</td>\n",
       "      <td>q</td>\n",
       "    </tr>\n",
       "    <tr>\n",
       "      <th>1</th>\n",
       "      <td>abc</td>\n",
       "      <td>None</td>\n",
       "    </tr>\n",
       "    <tr>\n",
       "      <th>2</th>\n",
       "      <td>pqr</td>\n",
       "      <td>r</td>\n",
       "    </tr>\n",
       "  </tbody>\n",
       "</table>\n",
       "</div>"
      ],
      "text/plain": [
       "  Key1  Key2\n",
       "0  abc     q\n",
       "1  abc  None\n",
       "2  pqr     r"
      ]
     },
     "execution_count": 36,
     "metadata": {},
     "output_type": "execute_result"
    }
   ],
   "source": [
    "df"
   ]
  },
  {
   "cell_type": "code",
   "execution_count": 46,
   "id": "6617394a9b0367bf",
   "metadata": {
    "ExecuteTime": {
     "end_time": "2025-04-19T04:48:45.768971Z",
     "start_time": "2025-04-19T04:48:45.764892Z"
    }
   },
   "outputs": [],
   "source": [
    "df.rename(columns={\"Key2\":\"Names\"},inplace=True)"
   ]
  },
  {
   "cell_type": "code",
   "execution_count": 79,
   "id": "e384901792de1300",
   "metadata": {
    "ExecuteTime": {
     "end_time": "2025-04-19T05:07:05.339849Z",
     "start_time": "2025-04-19T05:07:05.334084Z"
    }
   },
   "outputs": [
    {
     "data": {
      "text/html": [
       "<div>\n",
       "<style scoped>\n",
       "    .dataframe tbody tr th:only-of-type {\n",
       "        vertical-align: middle;\n",
       "    }\n",
       "\n",
       "    .dataframe tbody tr th {\n",
       "        vertical-align: top;\n",
       "    }\n",
       "\n",
       "    .dataframe thead th {\n",
       "        text-align: right;\n",
       "    }\n",
       "</style>\n",
       "<table border=\"1\" class=\"dataframe\">\n",
       "  <thead>\n",
       "    <tr style=\"text-align: right;\">\n",
       "      <th></th>\n",
       "      <th>Key1</th>\n",
       "      <th>Key2</th>\n",
       "    </tr>\n",
       "  </thead>\n",
       "  <tbody>\n",
       "    <tr>\n",
       "      <th>a</th>\n",
       "      <td>abc</td>\n",
       "      <td>q</td>\n",
       "    </tr>\n",
       "    <tr>\n",
       "      <th>s</th>\n",
       "      <td>abc</td>\n",
       "      <td>None</td>\n",
       "    </tr>\n",
       "    <tr>\n",
       "      <th>d</th>\n",
       "      <td>pqr</td>\n",
       "      <td>r</td>\n",
       "    </tr>\n",
       "  </tbody>\n",
       "</table>\n",
       "</div>"
      ],
      "text/plain": [
       "  Key1  Key2\n",
       "a  abc     q\n",
       "s  abc  None\n",
       "d  pqr     r"
      ]
     },
     "execution_count": 79,
     "metadata": {},
     "output_type": "execute_result"
    }
   ],
   "source": [
    "df"
   ]
  },
  {
   "cell_type": "code",
   "execution_count": 30,
   "id": "c958946a21ca1ad4",
   "metadata": {
    "ExecuteTime": {
     "end_time": "2025-04-19T04:26:17.468150Z",
     "start_time": "2025-04-19T04:26:17.462507Z"
    }
   },
   "outputs": [
    {
     "data": {
      "text/plain": [
       "0    abc\n",
       "1    abc\n",
       "2    pqr\n",
       "Name: Key1, dtype: object"
      ]
     },
     "execution_count": 30,
     "metadata": {},
     "output_type": "execute_result"
    }
   ],
   "source": [
    "df[\"Key1\"] # Print single column as Series"
   ]
  },
  {
   "cell_type": "code",
   "execution_count": 40,
   "id": "a15633dd8ee6420b",
   "metadata": {
    "ExecuteTime": {
     "end_time": "2025-04-19T04:44:20.915837Z",
     "start_time": "2025-04-19T04:44:20.909469Z"
    }
   },
   "outputs": [
    {
     "data": {
      "text/html": [
       "<div>\n",
       "<style scoped>\n",
       "    .dataframe tbody tr th:only-of-type {\n",
       "        vertical-align: middle;\n",
       "    }\n",
       "\n",
       "    .dataframe tbody tr th {\n",
       "        vertical-align: top;\n",
       "    }\n",
       "\n",
       "    .dataframe thead th {\n",
       "        text-align: right;\n",
       "    }\n",
       "</style>\n",
       "<table border=\"1\" class=\"dataframe\">\n",
       "  <thead>\n",
       "    <tr style=\"text-align: right;\">\n",
       "      <th></th>\n",
       "      <th>Key1</th>\n",
       "    </tr>\n",
       "  </thead>\n",
       "  <tbody>\n",
       "    <tr>\n",
       "      <th>0</th>\n",
       "      <td>abc</td>\n",
       "    </tr>\n",
       "    <tr>\n",
       "      <th>1</th>\n",
       "      <td>abc</td>\n",
       "    </tr>\n",
       "    <tr>\n",
       "      <th>2</th>\n",
       "      <td>pqr</td>\n",
       "    </tr>\n",
       "  </tbody>\n",
       "</table>\n",
       "</div>"
      ],
      "text/plain": [
       "  Key1\n",
       "0  abc\n",
       "1  abc\n",
       "2  pqr"
      ]
     },
     "execution_count": 40,
     "metadata": {},
     "output_type": "execute_result"
    }
   ],
   "source": [
    "df[[\"Key1\"]] #Print as DataFrame"
   ]
  },
  {
   "cell_type": "code",
   "execution_count": 48,
   "id": "8bac00655e0d9969",
   "metadata": {
    "ExecuteTime": {
     "end_time": "2025-04-19T04:48:54.801854Z",
     "start_time": "2025-04-19T04:48:54.795791Z"
    }
   },
   "outputs": [
    {
     "data": {
      "text/html": [
       "<div>\n",
       "<style scoped>\n",
       "    .dataframe tbody tr th:only-of-type {\n",
       "        vertical-align: middle;\n",
       "    }\n",
       "\n",
       "    .dataframe tbody tr th {\n",
       "        vertical-align: top;\n",
       "    }\n",
       "\n",
       "    .dataframe thead th {\n",
       "        text-align: right;\n",
       "    }\n",
       "</style>\n",
       "<table border=\"1\" class=\"dataframe\">\n",
       "  <thead>\n",
       "    <tr style=\"text-align: right;\">\n",
       "      <th></th>\n",
       "      <th>Key1</th>\n",
       "      <th>Names</th>\n",
       "    </tr>\n",
       "  </thead>\n",
       "  <tbody>\n",
       "    <tr>\n",
       "      <th>0</th>\n",
       "      <td>abc</td>\n",
       "      <td>q</td>\n",
       "    </tr>\n",
       "  </tbody>\n",
       "</table>\n",
       "</div>"
      ],
      "text/plain": [
       "  Key1 Names\n",
       "0  abc     q"
      ]
     },
     "execution_count": 48,
     "metadata": {},
     "output_type": "execute_result"
    }
   ],
   "source": [
    "df[0:1]"
   ]
  },
  {
   "cell_type": "code",
   "execution_count": 49,
   "id": "442a1a4f62f941a2",
   "metadata": {
    "ExecuteTime": {
     "end_time": "2025-04-19T04:48:56.940840Z",
     "start_time": "2025-04-19T04:48:56.933796Z"
    }
   },
   "outputs": [
    {
     "data": {
      "text/html": [
       "<div>\n",
       "<style scoped>\n",
       "    .dataframe tbody tr th:only-of-type {\n",
       "        vertical-align: middle;\n",
       "    }\n",
       "\n",
       "    .dataframe tbody tr th {\n",
       "        vertical-align: top;\n",
       "    }\n",
       "\n",
       "    .dataframe thead th {\n",
       "        text-align: right;\n",
       "    }\n",
       "</style>\n",
       "<table border=\"1\" class=\"dataframe\">\n",
       "  <thead>\n",
       "    <tr style=\"text-align: right;\">\n",
       "      <th></th>\n",
       "      <th>Key1</th>\n",
       "      <th>Names</th>\n",
       "    </tr>\n",
       "  </thead>\n",
       "  <tbody>\n",
       "    <tr>\n",
       "      <th>0</th>\n",
       "      <td>abc</td>\n",
       "      <td>q</td>\n",
       "    </tr>\n",
       "    <tr>\n",
       "      <th>1</th>\n",
       "      <td>abc</td>\n",
       "      <td>None</td>\n",
       "    </tr>\n",
       "    <tr>\n",
       "      <th>2</th>\n",
       "      <td>pqr</td>\n",
       "      <td>r</td>\n",
       "    </tr>\n",
       "  </tbody>\n",
       "</table>\n",
       "</div>"
      ],
      "text/plain": [
       "  Key1 Names\n",
       "0  abc     q\n",
       "1  abc  None\n",
       "2  pqr     r"
      ]
     },
     "execution_count": 49,
     "metadata": {},
     "output_type": "execute_result"
    }
   ],
   "source": [
    "df[0:]"
   ]
  },
  {
   "cell_type": "code",
   "execution_count": 50,
   "id": "3dc0bb12828cd25e",
   "metadata": {
    "ExecuteTime": {
     "end_time": "2025-04-19T04:48:58.890939Z",
     "start_time": "2025-04-19T04:48:58.884989Z"
    }
   },
   "outputs": [
    {
     "data": {
      "text/html": [
       "<div>\n",
       "<style scoped>\n",
       "    .dataframe tbody tr th:only-of-type {\n",
       "        vertical-align: middle;\n",
       "    }\n",
       "\n",
       "    .dataframe tbody tr th {\n",
       "        vertical-align: top;\n",
       "    }\n",
       "\n",
       "    .dataframe thead th {\n",
       "        text-align: right;\n",
       "    }\n",
       "</style>\n",
       "<table border=\"1\" class=\"dataframe\">\n",
       "  <thead>\n",
       "    <tr style=\"text-align: right;\">\n",
       "      <th></th>\n",
       "      <th>Key1</th>\n",
       "      <th>Names</th>\n",
       "    </tr>\n",
       "  </thead>\n",
       "  <tbody>\n",
       "    <tr>\n",
       "      <th>2</th>\n",
       "      <td>pqr</td>\n",
       "      <td>r</td>\n",
       "    </tr>\n",
       "  </tbody>\n",
       "</table>\n",
       "</div>"
      ],
      "text/plain": [
       "  Key1 Names\n",
       "2  pqr     r"
      ]
     },
     "execution_count": 50,
     "metadata": {},
     "output_type": "execute_result"
    }
   ],
   "source": [
    "df[2:]"
   ]
  },
  {
   "cell_type": "code",
   "execution_count": 51,
   "id": "f975c61cf9971eae",
   "metadata": {
    "ExecuteTime": {
     "end_time": "2025-04-19T04:49:00.714637Z",
     "start_time": "2025-04-19T04:49:00.708313Z"
    }
   },
   "outputs": [
    {
     "data": {
      "text/html": [
       "<div>\n",
       "<style scoped>\n",
       "    .dataframe tbody tr th:only-of-type {\n",
       "        vertical-align: middle;\n",
       "    }\n",
       "\n",
       "    .dataframe tbody tr th {\n",
       "        vertical-align: top;\n",
       "    }\n",
       "\n",
       "    .dataframe thead th {\n",
       "        text-align: right;\n",
       "    }\n",
       "</style>\n",
       "<table border=\"1\" class=\"dataframe\">\n",
       "  <thead>\n",
       "    <tr style=\"text-align: right;\">\n",
       "      <th></th>\n",
       "      <th>Key1</th>\n",
       "      <th>Names</th>\n",
       "    </tr>\n",
       "  </thead>\n",
       "  <tbody>\n",
       "    <tr>\n",
       "      <th>0</th>\n",
       "      <td>abc</td>\n",
       "      <td>q</td>\n",
       "    </tr>\n",
       "    <tr>\n",
       "      <th>1</th>\n",
       "      <td>abc</td>\n",
       "      <td>None</td>\n",
       "    </tr>\n",
       "  </tbody>\n",
       "</table>\n",
       "</div>"
      ],
      "text/plain": [
       "  Key1 Names\n",
       "0  abc     q\n",
       "1  abc  None"
      ]
     },
     "execution_count": 51,
     "metadata": {},
     "output_type": "execute_result"
    }
   ],
   "source": [
    "df[:2]"
   ]
  },
  {
   "cell_type": "code",
   "execution_count": 94,
   "id": "d442c3fc73893138",
   "metadata": {
    "ExecuteTime": {
     "end_time": "2025-04-19T05:09:22.883303Z",
     "start_time": "2025-04-19T05:09:22.876273Z"
    }
   },
   "outputs": [
    {
     "data": {
      "text/html": [
       "<div>\n",
       "<style scoped>\n",
       "    .dataframe tbody tr th:only-of-type {\n",
       "        vertical-align: middle;\n",
       "    }\n",
       "\n",
       "    .dataframe tbody tr th {\n",
       "        vertical-align: top;\n",
       "    }\n",
       "\n",
       "    .dataframe thead th {\n",
       "        text-align: right;\n",
       "    }\n",
       "</style>\n",
       "<table border=\"1\" class=\"dataframe\">\n",
       "  <thead>\n",
       "    <tr style=\"text-align: right;\">\n",
       "      <th></th>\n",
       "      <th>Key1</th>\n",
       "      <th>Key2</th>\n",
       "    </tr>\n",
       "  </thead>\n",
       "  <tbody>\n",
       "    <tr>\n",
       "      <th>a</th>\n",
       "      <td>abc</td>\n",
       "      <td>q</td>\n",
       "    </tr>\n",
       "    <tr>\n",
       "      <th>s</th>\n",
       "      <td>abc</td>\n",
       "      <td>None</td>\n",
       "    </tr>\n",
       "    <tr>\n",
       "      <th>d</th>\n",
       "      <td>pqr</td>\n",
       "      <td>r</td>\n",
       "    </tr>\n",
       "  </tbody>\n",
       "</table>\n",
       "</div>"
      ],
      "text/plain": [
       "  Key1  Key2\n",
       "a  abc     q\n",
       "s  abc  None\n",
       "d  pqr     r"
      ]
     },
     "execution_count": 94,
     "metadata": {},
     "output_type": "execute_result"
    }
   ],
   "source": [
    "df[\"a\":\"d\"][[\"Key1\",\"Key2\"]]"
   ]
  },
  {
   "cell_type": "code",
   "execution_count": 77,
   "id": "e6f01643ac3e0e3e",
   "metadata": {
    "ExecuteTime": {
     "end_time": "2025-04-19T05:06:42.398335Z",
     "start_time": "2025-04-19T05:06:42.010033Z"
    }
   },
   "outputs": [
    {
     "ename": "KeyError",
     "evalue": "'Key1'",
     "output_type": "error",
     "traceback": [
      "\u001b[31m---------------------------------------------------------------------------\u001b[39m",
      "\u001b[31mKeyError\u001b[39m                                  Traceback (most recent call last)",
      "\u001b[36mFile \u001b[39m\u001b[32m~\\AppData\\Local\\Packages\\PythonSoftwareFoundation.Python.3.13_qbz5n2kfra8p0\\LocalCache\\local-packages\\Python313\\site-packages\\pandas\\core\\indexes\\base.py:3805\u001b[39m, in \u001b[36mIndex.get_loc\u001b[39m\u001b[34m(self, key)\u001b[39m\n\u001b[32m   3804\u001b[39m \u001b[38;5;28;01mtry\u001b[39;00m:\n\u001b[32m-> \u001b[39m\u001b[32m3805\u001b[39m     \u001b[38;5;28;01mreturn\u001b[39;00m \u001b[38;5;28;43mself\u001b[39;49m\u001b[43m.\u001b[49m\u001b[43m_engine\u001b[49m\u001b[43m.\u001b[49m\u001b[43mget_loc\u001b[49m\u001b[43m(\u001b[49m\u001b[43mcasted_key\u001b[49m\u001b[43m)\u001b[49m\n\u001b[32m   3806\u001b[39m \u001b[38;5;28;01mexcept\u001b[39;00m \u001b[38;5;167;01mKeyError\u001b[39;00m \u001b[38;5;28;01mas\u001b[39;00m err:\n",
      "\u001b[36mFile \u001b[39m\u001b[32mindex.pyx:167\u001b[39m, in \u001b[36mpandas._libs.index.IndexEngine.get_loc\u001b[39m\u001b[34m()\u001b[39m\n",
      "\u001b[36mFile \u001b[39m\u001b[32mindex.pyx:196\u001b[39m, in \u001b[36mpandas._libs.index.IndexEngine.get_loc\u001b[39m\u001b[34m()\u001b[39m\n",
      "\u001b[36mFile \u001b[39m\u001b[32mpandas\\\\_libs\\\\hashtable_class_helper.pxi:7081\u001b[39m, in \u001b[36mpandas._libs.hashtable.PyObjectHashTable.get_item\u001b[39m\u001b[34m()\u001b[39m\n",
      "\u001b[36mFile \u001b[39m\u001b[32mpandas\\\\_libs\\\\hashtable_class_helper.pxi:7089\u001b[39m, in \u001b[36mpandas._libs.hashtable.PyObjectHashTable.get_item\u001b[39m\u001b[34m()\u001b[39m\n",
      "\u001b[31mKeyError\u001b[39m: 'Key1'",
      "\nThe above exception was the direct cause of the following exception:\n",
      "\u001b[31mKeyError\u001b[39m                                  Traceback (most recent call last)",
      "\u001b[36mCell\u001b[39m\u001b[36m \u001b[39m\u001b[32mIn[77]\u001b[39m\u001b[32m, line 1\u001b[39m\n\u001b[32m----> \u001b[39m\u001b[32m1\u001b[39m \u001b[43mdf\u001b[49m\u001b[43m[\u001b[49m\u001b[33;43m\"\u001b[39;49m\u001b[33;43mKey1\u001b[39;49m\u001b[33;43m\"\u001b[39;49m\u001b[43m:\u001b[49m\u001b[33;43m\"\u001b[39;49m\u001b[33;43mNames\u001b[39;49m\u001b[33;43m\"\u001b[39;49m\u001b[43m]\u001b[49m\n",
      "\u001b[36mFile \u001b[39m\u001b[32m~\\AppData\\Local\\Packages\\PythonSoftwareFoundation.Python.3.13_qbz5n2kfra8p0\\LocalCache\\local-packages\\Python313\\site-packages\\pandas\\core\\frame.py:4085\u001b[39m, in \u001b[36mDataFrame.__getitem__\u001b[39m\u001b[34m(self, key)\u001b[39m\n\u001b[32m   4083\u001b[39m \u001b[38;5;66;03m# Do we have a slicer (on rows)?\u001b[39;00m\n\u001b[32m   4084\u001b[39m \u001b[38;5;28;01mif\u001b[39;00m \u001b[38;5;28misinstance\u001b[39m(key, \u001b[38;5;28mslice\u001b[39m):\n\u001b[32m-> \u001b[39m\u001b[32m4085\u001b[39m     \u001b[38;5;28;01mreturn\u001b[39;00m \u001b[38;5;28;43mself\u001b[39;49m\u001b[43m.\u001b[49m\u001b[43m_getitem_slice\u001b[49m\u001b[43m(\u001b[49m\u001b[43mkey\u001b[49m\u001b[43m)\u001b[49m\n\u001b[32m   4087\u001b[39m \u001b[38;5;66;03m# Do we have a (boolean) DataFrame?\u001b[39;00m\n\u001b[32m   4088\u001b[39m \u001b[38;5;28;01mif\u001b[39;00m \u001b[38;5;28misinstance\u001b[39m(key, DataFrame):\n",
      "\u001b[36mFile \u001b[39m\u001b[32m~\\AppData\\Local\\Packages\\PythonSoftwareFoundation.Python.3.13_qbz5n2kfra8p0\\LocalCache\\local-packages\\Python313\\site-packages\\pandas\\core\\generic.py:4349\u001b[39m, in \u001b[36mNDFrame._getitem_slice\u001b[39m\u001b[34m(self, key)\u001b[39m\n\u001b[32m   4344\u001b[39m \u001b[38;5;250m\u001b[39m\u001b[33;03m\"\"\"\u001b[39;00m\n\u001b[32m   4345\u001b[39m \u001b[33;03m__getitem__ for the case where the key is a slice object.\u001b[39;00m\n\u001b[32m   4346\u001b[39m \u001b[33;03m\"\"\"\u001b[39;00m\n\u001b[32m   4347\u001b[39m \u001b[38;5;66;03m# _convert_slice_indexer to determine if this slice is positional\u001b[39;00m\n\u001b[32m   4348\u001b[39m \u001b[38;5;66;03m#  or label based, and if the latter, convert to positional\u001b[39;00m\n\u001b[32m-> \u001b[39m\u001b[32m4349\u001b[39m slobj = \u001b[38;5;28;43mself\u001b[39;49m\u001b[43m.\u001b[49m\u001b[43mindex\u001b[49m\u001b[43m.\u001b[49m\u001b[43m_convert_slice_indexer\u001b[49m\u001b[43m(\u001b[49m\u001b[43mkey\u001b[49m\u001b[43m,\u001b[49m\u001b[43m \u001b[49m\u001b[43mkind\u001b[49m\u001b[43m=\u001b[49m\u001b[33;43m\"\u001b[39;49m\u001b[33;43mgetitem\u001b[39;49m\u001b[33;43m\"\u001b[39;49m\u001b[43m)\u001b[49m\n\u001b[32m   4350\u001b[39m \u001b[38;5;28;01mif\u001b[39;00m \u001b[38;5;28misinstance\u001b[39m(slobj, np.ndarray):\n\u001b[32m   4351\u001b[39m     \u001b[38;5;66;03m# reachable with DatetimeIndex\u001b[39;00m\n\u001b[32m   4352\u001b[39m     indexer = lib.maybe_indices_to_slice(\n\u001b[32m   4353\u001b[39m         slobj.astype(np.intp, copy=\u001b[38;5;28;01mFalse\u001b[39;00m), \u001b[38;5;28mlen\u001b[39m(\u001b[38;5;28mself\u001b[39m)\n\u001b[32m   4354\u001b[39m     )\n",
      "\u001b[36mFile \u001b[39m\u001b[32m~\\AppData\\Local\\Packages\\PythonSoftwareFoundation.Python.3.13_qbz5n2kfra8p0\\LocalCache\\local-packages\\Python313\\site-packages\\pandas\\core\\indexes\\base.py:4281\u001b[39m, in \u001b[36mIndex._convert_slice_indexer\u001b[39m\u001b[34m(self, key, kind)\u001b[39m\n\u001b[32m   4279\u001b[39m     indexer = key\n\u001b[32m   4280\u001b[39m \u001b[38;5;28;01melse\u001b[39;00m:\n\u001b[32m-> \u001b[39m\u001b[32m4281\u001b[39m     indexer = \u001b[38;5;28;43mself\u001b[39;49m\u001b[43m.\u001b[49m\u001b[43mslice_indexer\u001b[49m\u001b[43m(\u001b[49m\u001b[43mstart\u001b[49m\u001b[43m,\u001b[49m\u001b[43m \u001b[49m\u001b[43mstop\u001b[49m\u001b[43m,\u001b[49m\u001b[43m \u001b[49m\u001b[43mstep\u001b[49m\u001b[43m)\u001b[49m\n\u001b[32m   4283\u001b[39m \u001b[38;5;28;01mreturn\u001b[39;00m indexer\n",
      "\u001b[36mFile \u001b[39m\u001b[32m~\\AppData\\Local\\Packages\\PythonSoftwareFoundation.Python.3.13_qbz5n2kfra8p0\\LocalCache\\local-packages\\Python313\\site-packages\\pandas\\core\\indexes\\base.py:6662\u001b[39m, in \u001b[36mIndex.slice_indexer\u001b[39m\u001b[34m(self, start, end, step)\u001b[39m\n\u001b[32m   6618\u001b[39m \u001b[38;5;28;01mdef\u001b[39;00m\u001b[38;5;250m \u001b[39m\u001b[34mslice_indexer\u001b[39m(\n\u001b[32m   6619\u001b[39m     \u001b[38;5;28mself\u001b[39m,\n\u001b[32m   6620\u001b[39m     start: Hashable | \u001b[38;5;28;01mNone\u001b[39;00m = \u001b[38;5;28;01mNone\u001b[39;00m,\n\u001b[32m   6621\u001b[39m     end: Hashable | \u001b[38;5;28;01mNone\u001b[39;00m = \u001b[38;5;28;01mNone\u001b[39;00m,\n\u001b[32m   6622\u001b[39m     step: \u001b[38;5;28mint\u001b[39m | \u001b[38;5;28;01mNone\u001b[39;00m = \u001b[38;5;28;01mNone\u001b[39;00m,\n\u001b[32m   6623\u001b[39m ) -> \u001b[38;5;28mslice\u001b[39m:\n\u001b[32m   6624\u001b[39m \u001b[38;5;250m    \u001b[39m\u001b[33;03m\"\"\"\u001b[39;00m\n\u001b[32m   6625\u001b[39m \u001b[33;03m    Compute the slice indexer for input labels and step.\u001b[39;00m\n\u001b[32m   6626\u001b[39m \n\u001b[32m   (...)\u001b[39m\u001b[32m   6660\u001b[39m \u001b[33;03m    slice(1, 3, None)\u001b[39;00m\n\u001b[32m   6661\u001b[39m \u001b[33;03m    \"\"\"\u001b[39;00m\n\u001b[32m-> \u001b[39m\u001b[32m6662\u001b[39m     start_slice, end_slice = \u001b[38;5;28;43mself\u001b[39;49m\u001b[43m.\u001b[49m\u001b[43mslice_locs\u001b[49m\u001b[43m(\u001b[49m\u001b[43mstart\u001b[49m\u001b[43m,\u001b[49m\u001b[43m \u001b[49m\u001b[43mend\u001b[49m\u001b[43m,\u001b[49m\u001b[43m \u001b[49m\u001b[43mstep\u001b[49m\u001b[43m=\u001b[49m\u001b[43mstep\u001b[49m\u001b[43m)\u001b[49m\n\u001b[32m   6664\u001b[39m     \u001b[38;5;66;03m# return a slice\u001b[39;00m\n\u001b[32m   6665\u001b[39m     \u001b[38;5;28;01mif\u001b[39;00m \u001b[38;5;129;01mnot\u001b[39;00m is_scalar(start_slice):\n",
      "\u001b[36mFile \u001b[39m\u001b[32m~\\AppData\\Local\\Packages\\PythonSoftwareFoundation.Python.3.13_qbz5n2kfra8p0\\LocalCache\\local-packages\\Python313\\site-packages\\pandas\\core\\indexes\\base.py:6879\u001b[39m, in \u001b[36mIndex.slice_locs\u001b[39m\u001b[34m(self, start, end, step)\u001b[39m\n\u001b[32m   6877\u001b[39m start_slice = \u001b[38;5;28;01mNone\u001b[39;00m\n\u001b[32m   6878\u001b[39m \u001b[38;5;28;01mif\u001b[39;00m start \u001b[38;5;129;01mis\u001b[39;00m \u001b[38;5;129;01mnot\u001b[39;00m \u001b[38;5;28;01mNone\u001b[39;00m:\n\u001b[32m-> \u001b[39m\u001b[32m6879\u001b[39m     start_slice = \u001b[38;5;28;43mself\u001b[39;49m\u001b[43m.\u001b[49m\u001b[43mget_slice_bound\u001b[49m\u001b[43m(\u001b[49m\u001b[43mstart\u001b[49m\u001b[43m,\u001b[49m\u001b[43m \u001b[49m\u001b[33;43m\"\u001b[39;49m\u001b[33;43mleft\u001b[39;49m\u001b[33;43m\"\u001b[39;49m\u001b[43m)\u001b[49m\n\u001b[32m   6880\u001b[39m \u001b[38;5;28;01mif\u001b[39;00m start_slice \u001b[38;5;129;01mis\u001b[39;00m \u001b[38;5;28;01mNone\u001b[39;00m:\n\u001b[32m   6881\u001b[39m     start_slice = \u001b[32m0\u001b[39m\n",
      "\u001b[36mFile \u001b[39m\u001b[32m~\\AppData\\Local\\Packages\\PythonSoftwareFoundation.Python.3.13_qbz5n2kfra8p0\\LocalCache\\local-packages\\Python313\\site-packages\\pandas\\core\\indexes\\base.py:6804\u001b[39m, in \u001b[36mIndex.get_slice_bound\u001b[39m\u001b[34m(self, label, side)\u001b[39m\n\u001b[32m   6801\u001b[39m         \u001b[38;5;28;01mreturn\u001b[39;00m \u001b[38;5;28mself\u001b[39m._searchsorted_monotonic(label, side)\n\u001b[32m   6802\u001b[39m     \u001b[38;5;28;01mexcept\u001b[39;00m \u001b[38;5;167;01mValueError\u001b[39;00m:\n\u001b[32m   6803\u001b[39m         \u001b[38;5;66;03m# raise the original KeyError\u001b[39;00m\n\u001b[32m-> \u001b[39m\u001b[32m6804\u001b[39m         \u001b[38;5;28;01mraise\u001b[39;00m err\n\u001b[32m   6806\u001b[39m \u001b[38;5;28;01mif\u001b[39;00m \u001b[38;5;28misinstance\u001b[39m(slc, np.ndarray):\n\u001b[32m   6807\u001b[39m     \u001b[38;5;66;03m# get_loc may return a boolean array, which\u001b[39;00m\n\u001b[32m   6808\u001b[39m     \u001b[38;5;66;03m# is OK as long as they are representable by a slice.\u001b[39;00m\n\u001b[32m   6809\u001b[39m     \u001b[38;5;28;01massert\u001b[39;00m is_bool_dtype(slc.dtype)\n",
      "\u001b[36mFile \u001b[39m\u001b[32m~\\AppData\\Local\\Packages\\PythonSoftwareFoundation.Python.3.13_qbz5n2kfra8p0\\LocalCache\\local-packages\\Python313\\site-packages\\pandas\\core\\indexes\\base.py:6798\u001b[39m, in \u001b[36mIndex.get_slice_bound\u001b[39m\u001b[34m(self, label, side)\u001b[39m\n\u001b[32m   6796\u001b[39m \u001b[38;5;66;03m# we need to look up the label\u001b[39;00m\n\u001b[32m   6797\u001b[39m \u001b[38;5;28;01mtry\u001b[39;00m:\n\u001b[32m-> \u001b[39m\u001b[32m6798\u001b[39m     slc = \u001b[38;5;28;43mself\u001b[39;49m\u001b[43m.\u001b[49m\u001b[43mget_loc\u001b[49m\u001b[43m(\u001b[49m\u001b[43mlabel\u001b[49m\u001b[43m)\u001b[49m\n\u001b[32m   6799\u001b[39m \u001b[38;5;28;01mexcept\u001b[39;00m \u001b[38;5;167;01mKeyError\u001b[39;00m \u001b[38;5;28;01mas\u001b[39;00m err:\n\u001b[32m   6800\u001b[39m     \u001b[38;5;28;01mtry\u001b[39;00m:\n",
      "\u001b[36mFile \u001b[39m\u001b[32m~\\AppData\\Local\\Packages\\PythonSoftwareFoundation.Python.3.13_qbz5n2kfra8p0\\LocalCache\\local-packages\\Python313\\site-packages\\pandas\\core\\indexes\\base.py:3812\u001b[39m, in \u001b[36mIndex.get_loc\u001b[39m\u001b[34m(self, key)\u001b[39m\n\u001b[32m   3807\u001b[39m     \u001b[38;5;28;01mif\u001b[39;00m \u001b[38;5;28misinstance\u001b[39m(casted_key, \u001b[38;5;28mslice\u001b[39m) \u001b[38;5;129;01mor\u001b[39;00m (\n\u001b[32m   3808\u001b[39m         \u001b[38;5;28misinstance\u001b[39m(casted_key, abc.Iterable)\n\u001b[32m   3809\u001b[39m         \u001b[38;5;129;01mand\u001b[39;00m \u001b[38;5;28many\u001b[39m(\u001b[38;5;28misinstance\u001b[39m(x, \u001b[38;5;28mslice\u001b[39m) \u001b[38;5;28;01mfor\u001b[39;00m x \u001b[38;5;129;01min\u001b[39;00m casted_key)\n\u001b[32m   3810\u001b[39m     ):\n\u001b[32m   3811\u001b[39m         \u001b[38;5;28;01mraise\u001b[39;00m InvalidIndexError(key)\n\u001b[32m-> \u001b[39m\u001b[32m3812\u001b[39m     \u001b[38;5;28;01mraise\u001b[39;00m \u001b[38;5;167;01mKeyError\u001b[39;00m(key) \u001b[38;5;28;01mfrom\u001b[39;00m\u001b[38;5;250m \u001b[39m\u001b[34;01merr\u001b[39;00m\n\u001b[32m   3813\u001b[39m \u001b[38;5;28;01mexcept\u001b[39;00m \u001b[38;5;167;01mTypeError\u001b[39;00m:\n\u001b[32m   3814\u001b[39m     \u001b[38;5;66;03m# If we have a listlike key, _check_indexing_error will raise\u001b[39;00m\n\u001b[32m   3815\u001b[39m     \u001b[38;5;66;03m#  InvalidIndexError. Otherwise we fall through and re-raise\u001b[39;00m\n\u001b[32m   3816\u001b[39m     \u001b[38;5;66;03m#  the TypeError.\u001b[39;00m\n\u001b[32m   3817\u001b[39m     \u001b[38;5;28mself\u001b[39m._check_indexing_error(key)\n",
      "\u001b[31mKeyError\u001b[39m: 'Key1'"
     ]
    }
   ],
   "source": [
    "df[\"Key1\":\"Names\"]"
   ]
  },
  {
   "cell_type": "code",
   "execution_count": 55,
   "id": "a21e57be85a7b145",
   "metadata": {
    "ExecuteTime": {
     "end_time": "2025-04-19T04:50:24.113667Z",
     "start_time": "2025-04-19T04:50:24.110136Z"
    }
   },
   "outputs": [],
   "source": [
    "df.index=list(\"asd\")"
   ]
  },
  {
   "cell_type": "code",
   "execution_count": 56,
   "id": "2f3ac67430f7dcf3",
   "metadata": {
    "ExecuteTime": {
     "end_time": "2025-04-19T04:50:28.337523Z",
     "start_time": "2025-04-19T04:50:28.331188Z"
    }
   },
   "outputs": [
    {
     "data": {
      "text/html": [
       "<div>\n",
       "<style scoped>\n",
       "    .dataframe tbody tr th:only-of-type {\n",
       "        vertical-align: middle;\n",
       "    }\n",
       "\n",
       "    .dataframe tbody tr th {\n",
       "        vertical-align: top;\n",
       "    }\n",
       "\n",
       "    .dataframe thead th {\n",
       "        text-align: right;\n",
       "    }\n",
       "</style>\n",
       "<table border=\"1\" class=\"dataframe\">\n",
       "  <thead>\n",
       "    <tr style=\"text-align: right;\">\n",
       "      <th></th>\n",
       "      <th>Key1</th>\n",
       "      <th>Names</th>\n",
       "    </tr>\n",
       "  </thead>\n",
       "  <tbody>\n",
       "    <tr>\n",
       "      <th>a</th>\n",
       "      <td>abc</td>\n",
       "      <td>q</td>\n",
       "    </tr>\n",
       "    <tr>\n",
       "      <th>s</th>\n",
       "      <td>abc</td>\n",
       "      <td>None</td>\n",
       "    </tr>\n",
       "    <tr>\n",
       "      <th>d</th>\n",
       "      <td>pqr</td>\n",
       "      <td>r</td>\n",
       "    </tr>\n",
       "  </tbody>\n",
       "</table>\n",
       "</div>"
      ],
      "text/plain": [
       "  Key1 Names\n",
       "a  abc     q\n",
       "s  abc  None\n",
       "d  pqr     r"
      ]
     },
     "execution_count": 56,
     "metadata": {},
     "output_type": "execute_result"
    }
   ],
   "source": [
    "df"
   ]
  },
  {
   "cell_type": "code",
   "execution_count": 66,
   "id": "81f8ff8db53ef919",
   "metadata": {
    "ExecuteTime": {
     "end_time": "2025-04-19T04:52:22.966039Z",
     "start_time": "2025-04-19T04:52:22.959699Z"
    }
   },
   "outputs": [
    {
     "data": {
      "text/html": [
       "<div>\n",
       "<style scoped>\n",
       "    .dataframe tbody tr th:only-of-type {\n",
       "        vertical-align: middle;\n",
       "    }\n",
       "\n",
       "    .dataframe tbody tr th {\n",
       "        vertical-align: top;\n",
       "    }\n",
       "\n",
       "    .dataframe thead th {\n",
       "        text-align: right;\n",
       "    }\n",
       "</style>\n",
       "<table border=\"1\" class=\"dataframe\">\n",
       "  <thead>\n",
       "    <tr style=\"text-align: right;\">\n",
       "      <th></th>\n",
       "      <th>Key1</th>\n",
       "      <th>Names</th>\n",
       "    </tr>\n",
       "  </thead>\n",
       "  <tbody>\n",
       "    <tr>\n",
       "      <th>a</th>\n",
       "      <td>abc</td>\n",
       "      <td>q</td>\n",
       "    </tr>\n",
       "  </tbody>\n",
       "</table>\n",
       "</div>"
      ],
      "text/plain": [
       "  Key1 Names\n",
       "a  abc     q"
      ]
     },
     "execution_count": 66,
     "metadata": {},
     "output_type": "execute_result"
    }
   ],
   "source": [
    "df.iloc[[0]]"
   ]
  },
  {
   "cell_type": "code",
   "execution_count": 64,
   "id": "d408aa5876adf0c0",
   "metadata": {
    "ExecuteTime": {
     "end_time": "2025-04-19T04:52:05.380481Z",
     "start_time": "2025-04-19T04:52:05.372140Z"
    }
   },
   "outputs": [
    {
     "data": {
      "text/html": [
       "<div>\n",
       "<style scoped>\n",
       "    .dataframe tbody tr th:only-of-type {\n",
       "        vertical-align: middle;\n",
       "    }\n",
       "\n",
       "    .dataframe tbody tr th {\n",
       "        vertical-align: top;\n",
       "    }\n",
       "\n",
       "    .dataframe thead th {\n",
       "        text-align: right;\n",
       "    }\n",
       "</style>\n",
       "<table border=\"1\" class=\"dataframe\">\n",
       "  <thead>\n",
       "    <tr style=\"text-align: right;\">\n",
       "      <th></th>\n",
       "      <th>Key1</th>\n",
       "      <th>Names</th>\n",
       "    </tr>\n",
       "  </thead>\n",
       "  <tbody>\n",
       "    <tr>\n",
       "      <th>a</th>\n",
       "      <td>abc</td>\n",
       "      <td>q</td>\n",
       "    </tr>\n",
       "  </tbody>\n",
       "</table>\n",
       "</div>"
      ],
      "text/plain": [
       "  Key1 Names\n",
       "a  abc     q"
      ]
     },
     "execution_count": 64,
     "metadata": {},
     "output_type": "execute_result"
    }
   ],
   "source": [
    "df.loc[['a']]"
   ]
  },
  {
   "cell_type": "code",
   "execution_count": 68,
   "id": "5854986cba4240ff",
   "metadata": {
    "ExecuteTime": {
     "end_time": "2025-04-19T04:53:12.152261Z",
     "start_time": "2025-04-19T04:53:12.145932Z"
    }
   },
   "outputs": [
    {
     "data": {
      "text/html": [
       "<div>\n",
       "<style scoped>\n",
       "    .dataframe tbody tr th:only-of-type {\n",
       "        vertical-align: middle;\n",
       "    }\n",
       "\n",
       "    .dataframe tbody tr th {\n",
       "        vertical-align: top;\n",
       "    }\n",
       "\n",
       "    .dataframe thead th {\n",
       "        text-align: right;\n",
       "    }\n",
       "</style>\n",
       "<table border=\"1\" class=\"dataframe\">\n",
       "  <thead>\n",
       "    <tr style=\"text-align: right;\">\n",
       "      <th></th>\n",
       "      <th>Names</th>\n",
       "    </tr>\n",
       "  </thead>\n",
       "  <tbody>\n",
       "    <tr>\n",
       "      <th>a</th>\n",
       "      <td>q</td>\n",
       "    </tr>\n",
       "  </tbody>\n",
       "</table>\n",
       "</div>"
      ],
      "text/plain": [
       "  Names\n",
       "a     q"
      ]
     },
     "execution_count": 68,
     "metadata": {},
     "output_type": "execute_result"
    }
   ],
   "source": [
    "df.loc[['a'],[\"Names\"]]"
   ]
  },
  {
   "cell_type": "code",
   "execution_count": 69,
   "id": "b92c854fa9b857a",
   "metadata": {
    "ExecuteTime": {
     "end_time": "2025-04-19T04:53:45.330935Z",
     "start_time": "2025-04-19T04:53:45.323609Z"
    }
   },
   "outputs": [
    {
     "data": {
      "text/html": [
       "<div>\n",
       "<style scoped>\n",
       "    .dataframe tbody tr th:only-of-type {\n",
       "        vertical-align: middle;\n",
       "    }\n",
       "\n",
       "    .dataframe tbody tr th {\n",
       "        vertical-align: top;\n",
       "    }\n",
       "\n",
       "    .dataframe thead th {\n",
       "        text-align: right;\n",
       "    }\n",
       "</style>\n",
       "<table border=\"1\" class=\"dataframe\">\n",
       "  <thead>\n",
       "    <tr style=\"text-align: right;\">\n",
       "      <th></th>\n",
       "      <th>Key1</th>\n",
       "      <th>Names</th>\n",
       "    </tr>\n",
       "  </thead>\n",
       "  <tbody>\n",
       "    <tr>\n",
       "      <th>a</th>\n",
       "      <td>abc</td>\n",
       "      <td>q</td>\n",
       "    </tr>\n",
       "  </tbody>\n",
       "</table>\n",
       "</div>"
      ],
      "text/plain": [
       "  Key1 Names\n",
       "a  abc     q"
      ]
     },
     "execution_count": 69,
     "metadata": {},
     "output_type": "execute_result"
    }
   ],
   "source": [
    "df.loc[['a'],[\"Key1\",\"Names\"]]"
   ]
  },
  {
   "cell_type": "code",
   "execution_count": 71,
   "id": "d66d05a4c3f28deb",
   "metadata": {
    "ExecuteTime": {
     "end_time": "2025-04-19T04:54:21.664927Z",
     "start_time": "2025-04-19T04:54:21.658183Z"
    }
   },
   "outputs": [
    {
     "data": {
      "text/html": [
       "<div>\n",
       "<style scoped>\n",
       "    .dataframe tbody tr th:only-of-type {\n",
       "        vertical-align: middle;\n",
       "    }\n",
       "\n",
       "    .dataframe tbody tr th {\n",
       "        vertical-align: top;\n",
       "    }\n",
       "\n",
       "    .dataframe thead th {\n",
       "        text-align: right;\n",
       "    }\n",
       "</style>\n",
       "<table border=\"1\" class=\"dataframe\">\n",
       "  <thead>\n",
       "    <tr style=\"text-align: right;\">\n",
       "      <th></th>\n",
       "      <th>Key1</th>\n",
       "      <th>Names</th>\n",
       "    </tr>\n",
       "  </thead>\n",
       "  <tbody>\n",
       "    <tr>\n",
       "      <th>a</th>\n",
       "      <td>abc</td>\n",
       "      <td>q</td>\n",
       "    </tr>\n",
       "    <tr>\n",
       "      <th>d</th>\n",
       "      <td>pqr</td>\n",
       "      <td>r</td>\n",
       "    </tr>\n",
       "  </tbody>\n",
       "</table>\n",
       "</div>"
      ],
      "text/plain": [
       "  Key1 Names\n",
       "a  abc     q\n",
       "d  pqr     r"
      ]
     },
     "execution_count": 71,
     "metadata": {},
     "output_type": "execute_result"
    }
   ],
   "source": [
    "df.loc[['a','d'],[\"Key1\",\"Names\"]]"
   ]
  },
  {
   "cell_type": "code",
   "execution_count": 75,
   "id": "74ba09bd7487e81",
   "metadata": {
    "ExecuteTime": {
     "end_time": "2025-04-19T04:55:36.364707Z",
     "start_time": "2025-04-19T04:55:36.357710Z"
    }
   },
   "outputs": [
    {
     "data": {
      "text/html": [
       "<div>\n",
       "<style scoped>\n",
       "    .dataframe tbody tr th:only-of-type {\n",
       "        vertical-align: middle;\n",
       "    }\n",
       "\n",
       "    .dataframe tbody tr th {\n",
       "        vertical-align: top;\n",
       "    }\n",
       "\n",
       "    .dataframe thead th {\n",
       "        text-align: right;\n",
       "    }\n",
       "</style>\n",
       "<table border=\"1\" class=\"dataframe\">\n",
       "  <thead>\n",
       "    <tr style=\"text-align: right;\">\n",
       "      <th></th>\n",
       "      <th>Key1</th>\n",
       "      <th>Names</th>\n",
       "    </tr>\n",
       "  </thead>\n",
       "  <tbody>\n",
       "    <tr>\n",
       "      <th>a</th>\n",
       "      <td>abc</td>\n",
       "      <td>q</td>\n",
       "    </tr>\n",
       "    <tr>\n",
       "      <th>s</th>\n",
       "      <td>abc</td>\n",
       "      <td>None</td>\n",
       "    </tr>\n",
       "    <tr>\n",
       "      <th>d</th>\n",
       "      <td>pqr</td>\n",
       "      <td>r</td>\n",
       "    </tr>\n",
       "  </tbody>\n",
       "</table>\n",
       "</div>"
      ],
      "text/plain": [
       "  Key1 Names\n",
       "a  abc     q\n",
       "s  abc  None\n",
       "d  pqr     r"
      ]
     },
     "execution_count": 75,
     "metadata": {},
     "output_type": "execute_result"
    }
   ],
   "source": [
    "df.loc[:\"d\",[\"Key1\",\"Names\"]]"
   ]
  },
  {
   "cell_type": "code",
   "execution_count": 76,
   "id": "ef1d977aa3f51c27",
   "metadata": {
    "ExecuteTime": {
     "end_time": "2025-04-19T04:56:04.643443Z",
     "start_time": "2025-04-19T04:56:04.636798Z"
    }
   },
   "outputs": [
    {
     "data": {
      "text/html": [
       "<div>\n",
       "<style scoped>\n",
       "    .dataframe tbody tr th:only-of-type {\n",
       "        vertical-align: middle;\n",
       "    }\n",
       "\n",
       "    .dataframe tbody tr th {\n",
       "        vertical-align: top;\n",
       "    }\n",
       "\n",
       "    .dataframe thead th {\n",
       "        text-align: right;\n",
       "    }\n",
       "</style>\n",
       "<table border=\"1\" class=\"dataframe\">\n",
       "  <thead>\n",
       "    <tr style=\"text-align: right;\">\n",
       "      <th></th>\n",
       "      <th>Key1</th>\n",
       "      <th>Names</th>\n",
       "    </tr>\n",
       "  </thead>\n",
       "  <tbody>\n",
       "    <tr>\n",
       "      <th>a</th>\n",
       "      <td>abc</td>\n",
       "      <td>q</td>\n",
       "    </tr>\n",
       "    <tr>\n",
       "      <th>s</th>\n",
       "      <td>abc</td>\n",
       "      <td>None</td>\n",
       "    </tr>\n",
       "  </tbody>\n",
       "</table>\n",
       "</div>"
      ],
      "text/plain": [
       "  Key1 Names\n",
       "a  abc     q\n",
       "s  abc  None"
      ]
     },
     "execution_count": 76,
     "metadata": {},
     "output_type": "execute_result"
    }
   ],
   "source": [
    "df.loc[:\"s\",[\"Key1\",\"Names\"]]"
   ]
  },
  {
   "cell_type": "code",
   "execution_count": 101,
   "id": "9dcc1cae90922b7e",
   "metadata": {
    "ExecuteTime": {
     "end_time": "2025-04-19T05:11:14.153891Z",
     "start_time": "2025-04-19T05:11:14.147378Z"
    }
   },
   "outputs": [
    {
     "data": {
      "text/html": [
       "<div>\n",
       "<style scoped>\n",
       "    .dataframe tbody tr th:only-of-type {\n",
       "        vertical-align: middle;\n",
       "    }\n",
       "\n",
       "    .dataframe tbody tr th {\n",
       "        vertical-align: top;\n",
       "    }\n",
       "\n",
       "    .dataframe thead th {\n",
       "        text-align: right;\n",
       "    }\n",
       "</style>\n",
       "<table border=\"1\" class=\"dataframe\">\n",
       "  <thead>\n",
       "    <tr style=\"text-align: right;\">\n",
       "      <th></th>\n",
       "      <th>Key1</th>\n",
       "      <th>Key2</th>\n",
       "    </tr>\n",
       "  </thead>\n",
       "  <tbody>\n",
       "    <tr>\n",
       "      <th>a</th>\n",
       "      <td>abc</td>\n",
       "      <td>q</td>\n",
       "    </tr>\n",
       "    <tr>\n",
       "      <th>s</th>\n",
       "      <td>abc</td>\n",
       "      <td>None</td>\n",
       "    </tr>\n",
       "  </tbody>\n",
       "</table>\n",
       "</div>"
      ],
      "text/plain": [
       "  Key1  Key2\n",
       "a  abc     q\n",
       "s  abc  None"
      ]
     },
     "execution_count": 101,
     "metadata": {},
     "output_type": "execute_result"
    }
   ],
   "source": [
    "df.iloc[:2,0:]"
   ]
  },
  {
   "cell_type": "code",
   "execution_count": 103,
   "id": "bcd45655494ef9fe",
   "metadata": {
    "ExecuteTime": {
     "end_time": "2025-04-19T05:11:40.762877Z",
     "start_time": "2025-04-19T05:11:40.756868Z"
    }
   },
   "outputs": [
    {
     "data": {
      "text/html": [
       "<div>\n",
       "<style scoped>\n",
       "    .dataframe tbody tr th:only-of-type {\n",
       "        vertical-align: middle;\n",
       "    }\n",
       "\n",
       "    .dataframe tbody tr th {\n",
       "        vertical-align: top;\n",
       "    }\n",
       "\n",
       "    .dataframe thead th {\n",
       "        text-align: right;\n",
       "    }\n",
       "</style>\n",
       "<table border=\"1\" class=\"dataframe\">\n",
       "  <thead>\n",
       "    <tr style=\"text-align: right;\">\n",
       "      <th></th>\n",
       "      <th>Key1</th>\n",
       "    </tr>\n",
       "  </thead>\n",
       "  <tbody>\n",
       "    <tr>\n",
       "      <th>a</th>\n",
       "      <td>abc</td>\n",
       "    </tr>\n",
       "    <tr>\n",
       "      <th>s</th>\n",
       "      <td>abc</td>\n",
       "    </tr>\n",
       "  </tbody>\n",
       "</table>\n",
       "</div>"
      ],
      "text/plain": [
       "  Key1\n",
       "a  abc\n",
       "s  abc"
      ]
     },
     "execution_count": 103,
     "metadata": {},
     "output_type": "execute_result"
    }
   ],
   "source": [
    "df.iloc[[0,1],[0]]"
   ]
  },
  {
   "cell_type": "code",
   "execution_count": 105,
   "id": "7077c1c6bcabb083",
   "metadata": {
    "ExecuteTime": {
     "end_time": "2025-04-19T05:12:12.226663Z",
     "start_time": "2025-04-19T05:12:12.219496Z"
    }
   },
   "outputs": [
    {
     "data": {
      "text/html": [
       "<div>\n",
       "<style scoped>\n",
       "    .dataframe tbody tr th:only-of-type {\n",
       "        vertical-align: middle;\n",
       "    }\n",
       "\n",
       "    .dataframe tbody tr th {\n",
       "        vertical-align: top;\n",
       "    }\n",
       "\n",
       "    .dataframe thead th {\n",
       "        text-align: right;\n",
       "    }\n",
       "</style>\n",
       "<table border=\"1\" class=\"dataframe\">\n",
       "  <thead>\n",
       "    <tr style=\"text-align: right;\">\n",
       "      <th></th>\n",
       "      <th>Key1</th>\n",
       "      <th>Key2</th>\n",
       "    </tr>\n",
       "  </thead>\n",
       "  <tbody>\n",
       "    <tr>\n",
       "      <th>s</th>\n",
       "      <td>abc</td>\n",
       "      <td>None</td>\n",
       "    </tr>\n",
       "    <tr>\n",
       "      <th>a</th>\n",
       "      <td>abc</td>\n",
       "      <td>q</td>\n",
       "    </tr>\n",
       "  </tbody>\n",
       "</table>\n",
       "</div>"
      ],
      "text/plain": [
       "  Key1  Key2\n",
       "s  abc  None\n",
       "a  abc     q"
      ]
     },
     "execution_count": 105,
     "metadata": {},
     "output_type": "execute_result"
    }
   ],
   "source": [
    "df.iloc[[1,0],[0,1]]"
   ]
  },
  {
   "cell_type": "code",
   "execution_count": 2,
   "id": "7d924e6b1ddc4658",
   "metadata": {
    "ExecuteTime": {
     "end_time": "2025-04-20T07:30:29.861219Z",
     "start_time": "2025-04-20T07:30:29.753699Z"
    }
   },
   "outputs": [],
   "source": [
    "import numpy as np\n",
    "arrayvalue=np.array([[1,2,0],\n",
    "          [3,4,0],\n",
    "          [5,6,0]\n",
    "          ])"
   ]
  },
  {
   "cell_type": "code",
   "execution_count": 4,
   "id": "5efdaa049bfc49c",
   "metadata": {
    "ExecuteTime": {
     "end_time": "2025-04-20T07:31:43.380916Z",
     "start_time": "2025-04-20T07:31:43.374640Z"
    }
   },
   "outputs": [
    {
     "data": {
      "text/plain": [
       "array([3, 4, 5, 6])"
      ]
     },
     "execution_count": 4,
     "metadata": {},
     "output_type": "execute_result"
    }
   ],
   "source": [
    "arrayvalue[arrayvalue>2]"
   ]
  },
  {
   "cell_type": "code",
   "execution_count": 1,
   "id": "5f2d4c485ea16729",
   "metadata": {
    "ExecuteTime": {
     "end_time": "2025-05-01T03:29:25.057629Z",
     "start_time": "2025-05-01T03:29:25.049868Z"
    }
   },
   "outputs": [
    {
     "name": "stdout",
     "output_type": "stream",
     "text": [
      "Base 3D Array (shape (2, 3, 4)):\n",
      "[[[ 2  3  4  5]\n",
      "  [ 6  7  8  9]\n",
      "  [10 11 12 13]]\n",
      "\n",
      " [[14 15 16 17]\n",
      "  [18 19 20 21]\n",
      "  [22 23 24 25]]]\n",
      "----------------------------------------\n",
      "Exponent 2D Array (shape (3, 4)):\n",
      "[[0 1 2 1]\n",
      " [1 0 1 2]\n",
      " [2 1 0 1]]\n",
      "----------------------------------------\n",
      "\n",
      "Result of 3D_array ** 2D_exponent_array (using np.power):\n",
      "[[[  1   3  16   5]\n",
      "  [  6   1   8  81]\n",
      "  [100  11   1  13]]\n",
      "\n",
      " [[  1  15 256  17]\n",
      "  [ 18   1  20 441]\n",
      "  [484  23   1  25]]]\n",
      "\n",
      "Result of 3D_array ** 2D_exponent_array (using ** operator):\n",
      "[[[  1   3  16   5]\n",
      "  [  6   1   8  81]\n",
      "  [100  11   1  13]]\n",
      "\n",
      " [[  1  15 256  17]\n",
      "  [ 18   1  20 441]\n",
      "  [484  23   1  25]]]\n",
      "\n",
      "Results from np.power and ** are identical.\n",
      "----------------------------------------\n",
      "\n",
      "Verification:\n",
      "Base element at [1, 1, 2]: 20\n",
      "Exponent element at [1, 2]: 1\n",
      "Expected result (20**1): 20\n",
      "Actual result in output array at [1, 1, 2]: 20\n",
      "\n",
      "Another Verification:\n",
      "Base element at [0, 2, 0]: 10\n",
      "Exponent element at [2, 0]: 2\n",
      "Expected result (10**2): 100\n",
      "Actual result in output array at [0, 2, 0]: 100\n"
     ]
    }
   ],
   "source": [
    "import numpy as np\n",
    "\n",
    "# --- 1. Create the 3D base array ---\n",
    "# Shape (2, 3, 4): 2 layers, 3 rows, 4 columns\n",
    "base_3d_array = np.arange(2, 26).reshape((2, 3, 4)) # Start from 2 to avoid 0/1 complexities initially\n",
    "\n",
    "print(\"Base 3D Array (shape {}):\".format(base_3d_array.shape))\n",
    "print(base_3d_array)\n",
    "print(\"-\" * 40)\n",
    "\n",
    "# --- 2. Create the 2D exponent array ---\n",
    "# Shape (3, 4) - must match the last two dimensions of the base array\n",
    "# Using small integers for exponents for clarity\n",
    "exponent_2d_array = np.array([\n",
    "    [0, 1, 2, 1],\n",
    "    [1, 0, 1, 2],\n",
    "    [2, 1, 0, 1]\n",
    "])\n",
    "\n",
    "print(\"Exponent 2D Array (shape {}):\".format(exponent_2d_array.shape))\n",
    "print(exponent_2d_array)\n",
    "print(\"-\" * 40)\n",
    "\n",
    "# --- 3. Perform the power operation using broadcasting ---\n",
    "\n",
    "# Explanation:\n",
    "# base_3d_array[i, j, k] will be raised to the power exponent_2d_array[j, k]\n",
    "# The exponent array is effectively broadcast across the first dimension (axis 0) of the base array.\n",
    "\n",
    "# Using numpy.power()\n",
    "result_power_func = np.power(base_3d_array, exponent_2d_array)\n",
    "\n",
    "# Using the ** operator (equivalent)\n",
    "result_power_op = base_3d_array ** exponent_2d_array\n",
    "\n",
    "print(\"\\nResult of 3D_array ** 2D_exponent_array (using np.power):\")\n",
    "# Note: Any number to the power of 0 is 1. Any number to the power of 1 is itself.\n",
    "print(result_power_func)\n",
    "\n",
    "print(\"\\nResult of 3D_array ** 2D_exponent_array (using ** operator):\")\n",
    "print(result_power_op)\n",
    "\n",
    "# Verify they are the same\n",
    "assert np.array_equal(result_power_func, result_power_op)\n",
    "print(\"\\nResults from np.power and ** are identical.\")\n",
    "print(\"-\" * 40)\n",
    "\n",
    "# --- Verification of one element ---\n",
    "# Let's check base_3d_array[1, 1, 2] ** exponent_2d_array[1, 2]\n",
    "base_element = base_3d_array[1, 1, 2] # This is 18\n",
    "exponent_element = exponent_2d_array[1, 2] # This is 1\n",
    "expected_result = base_element ** exponent_element # 18 ** 1 = 18\n",
    "actual_result = result_power_op[1, 1, 2]\n",
    "print(f\"\\nVerification:\")\n",
    "print(f\"Base element at [1, 1, 2]: {base_element}\")\n",
    "print(f\"Exponent element at [1, 2]: {exponent_element}\")\n",
    "print(f\"Expected result ({base_element}**{exponent_element}): {expected_result}\")\n",
    "print(f\"Actual result in output array at [1, 1, 2]: {actual_result}\")\n",
    "assert expected_result == actual_result\n",
    "\n",
    "# Let's check base_3d_array[0, 2, 0] ** exponent_2d_array[2, 0]\n",
    "base_element = base_3d_array[0, 2, 0] # This is 10\n",
    "exponent_element = exponent_2d_array[2, 0] # This is 2\n",
    "expected_result = base_element ** exponent_element # 10 ** 2 = 100\n",
    "actual_result = result_power_op[0, 2, 0]\n",
    "print(f\"\\nAnother Verification:\")\n",
    "print(f\"Base element at [0, 2, 0]: {base_element}\")\n",
    "print(f\"Exponent element at [2, 0]: {exponent_element}\")\n",
    "print(f\"Expected result ({base_element}**{exponent_element}): {expected_result}\")\n",
    "print(f\"Actual result in output array at [0, 2, 0]: {actual_result}\")\n",
    "assert expected_result == actual_result"
   ]
  }
 ],
 "metadata": {
  "kernelspec": {
   "display_name": "base",
   "language": "python",
   "name": "python3"
  },
  "language_info": {
   "codemirror_mode": {
    "name": "ipython",
    "version": 3
   },
   "file_extension": ".py",
   "mimetype": "text/x-python",
   "name": "python",
   "nbconvert_exporter": "python",
   "pygments_lexer": "ipython3",
   "version": "3.12.7"
  }
 },
 "nbformat": 4,
 "nbformat_minor": 5
}
