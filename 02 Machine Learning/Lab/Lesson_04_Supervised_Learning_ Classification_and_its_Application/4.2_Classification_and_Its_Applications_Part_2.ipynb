{
 "cells": [
  {
   "cell_type": "markdown",
   "metadata": {
    "id": "ARvfHqjzwAVA"
   },
   "source": [
    "##__Agenda__##"
   ]
  },
  {
   "cell_type": "markdown",
   "metadata": {
    "id": "RQGiepsf2BC5"
   },
   "source": [
    "- Multiclass Classification\n",
    "  * Example with Online Gaming Behavior Dataset\n",
    "  * Naive Bayes Algorithm\n",
    "  * K-Nearest Neighbors\n",
    "  * Decision Tree\n",
    "  * Random Forest\n",
    "- Multi-Label Classification\n",
    "  * Examples of Multi-label classification\n",
    "  * Algorithms for Multi-Label Classification\n",
    "  * Challenges in Multi-Label Classification\n"
   ]
  },
  {
   "cell_type": "markdown",
   "metadata": {
    "id": "054auVR2wAYg"
   },
   "source": [
    "## __1. Multiclass Classification__"
   ]
  },
  {
   "cell_type": "markdown",
   "metadata": {
    "id": "1TOzA3tD2LMT"
   },
   "source": [
    "Multiclass classification is a type of classification task that involves classifying instances into one of three or more classes. Unlike binary classification, which deals with two classes, multiclass classification can handle problems where an instance can belong to multiple categories."
   ]
  },
  {
   "cell_type": "markdown",
   "metadata": {
    "id": "rdJ9oQ3V8uJn"
   },
   "source": [
    "**Example:** A tree can be classified as a banyan tree, a palm tree, a pine tree, or an oak tree."
   ]
  },
  {
   "cell_type": "markdown",
   "metadata": {
    "id": "hi5HwXqb8uCe"
   },
   "source": [
    "Some of the popular algorithms used for multi-class classification are:\n",
    "\n",
    "- Naive Bayes\n",
    "- K-Nearest Neighbors\n",
    "- Decision Trees\n",
    "- Random Forest"
   ]
  },
  {
   "cell_type": "markdown",
   "metadata": {
    "id": "2JtRULB2xbJq"
   },
   "source": [
    "Lets take a multiclass problem where we can address all the Multiclass algorithms and will see the clear cut difference in the model performance:"
   ]
  },
  {
   "cell_type": "markdown",
   "metadata": {
    "id": "QcQRn5Yz0Bb3"
   },
   "source": [
    "## __1.1 **Example** with Online Gaming Behavior Dataset:__\n",
    "\n",
    "The **Online Gaming Behavior** dataset on Kaggle is designed to analyze and predict players' behaviors in online gaming. It includes data on various aspects such as player identification, session duration, in-game actions, and purchases. The dataset comprises several features that capture player activities and interactions within the game environment, providing a rich source of information for developing predictive models. This data can be leveraged to understand player engagement, forecast future behavior, and tailor strategies to enhance user experience and retention.\n",
    "\n",
    "**Number of Instances:** 40034\n",
    "\n",
    "**Number of Attributes:** 13\n",
    "\n",
    "**Attribute Information:**\n",
    "\n",
    "- **PlayerID:** Unique identifier for each player.\n",
    "- **Age:** Age of the player.\n",
    "- **Gender:** Gender of the player.\n",
    "- **Location:** Geographic location of the player.\n",
    "- **GameGenre:** Genre of the game the player is engaged in.\n",
    "- **PlayTimeHours:** Average hours spent playing per session.\n",
    "- **InGamePurchases:** Indicates whether the player makes in-game purchases (0 = No, 1 = Yes).\n",
    "- **GameDifficulty:** Difficulty level of the game.\n",
    "- **SessionsPerWeek:** Number of gaming sessions per week.\n",
    "- **AvgSessionDurationMinutes:** Average duration of each gaming session in minutes.\n",
    "- **PlayerLevel:** Current level of the player in the game.\n",
    "- **AchievementsUnlocked:** Number of achievements unlocked by the player.\n",
    "\n",
    "**Target Variable**\n",
    "- **EngagementLevel:** Categorized engagement level reflecting player retention (Medium, High, and Low).\n",
    "\n"
   ]
  },
  {
   "cell_type": "markdown",
   "metadata": {
    "id": "ChV9dotKGtVQ"
   },
   "source": [
    "**Note:** We will use this dataset to explore and compare various multiclass algorithms, examining how their performance varies depending on the type and implementation of each algorithm."
   ]
  },
  {
   "cell_type": "markdown",
   "metadata": {
    "id": "-fzEbzqQG9qR"
   },
   "source": [
    "Let's first start with the implementation of **Naive Bayes**, but make sure to conduct proper data preprocessing to make it suitable for modeling."
   ]
  },
  {
   "cell_type": "code",
   "execution_count": 4,
   "metadata": {
    "id": "p6OyE2fxWfFY"
   },
   "outputs": [],
   "source": [
    "# Import necessary libraries\n",
    "import numpy as np\n",
    "import pandas as pd\n",
    "import matplotlib.pyplot as plt\n",
    "import seaborn as sns\n",
    "from sklearn.model_selection import train_test_split\n",
    "from sklearn.preprocessing import StandardScaler, LabelEncoder\n",
    "from sklearn.preprocessing import label_binarize\n",
    "from sklearn.naive_bayes import GaussianNB\n",
    "from sklearn.neighbors import KNeighborsClassifier\n",
    "from sklearn.tree import DecisionTreeClassifier\n",
    "from sklearn.ensemble import RandomForestClassifier\n",
    "from sklearn.metrics import accuracy_score, roc_auc_score, roc_curve, auc\n",
    "from sklearn.metrics import classification_report, confusion_matrix\n",
    "from itertools import cycle\n"
   ]
  },
  {
   "cell_type": "code",
   "execution_count": 5,
   "metadata": {
    "colab": {
     "base_uri": "https://localhost:8080/",
     "height": 226
    },
    "executionInfo": {
     "elapsed": 458,
     "status": "ok",
     "timestamp": 1720374536237,
     "user": {
      "displayName": "Aleena Raj",
      "userId": "16635257578699511263"
     },
     "user_tz": -330
    },
    "id": "iuobx85_eQm8",
    "outputId": "14ba73ef-b206-4dc4-abce-2c79df43d5b0"
   },
   "outputs": [
    {
     "data": {
      "text/html": [
       "<div>\n",
       "<style scoped>\n",
       "    .dataframe tbody tr th:only-of-type {\n",
       "        vertical-align: middle;\n",
       "    }\n",
       "\n",
       "    .dataframe tbody tr th {\n",
       "        vertical-align: top;\n",
       "    }\n",
       "\n",
       "    .dataframe thead th {\n",
       "        text-align: right;\n",
       "    }\n",
       "</style>\n",
       "<table border=\"1\" class=\"dataframe\">\n",
       "  <thead>\n",
       "    <tr style=\"text-align: right;\">\n",
       "      <th></th>\n",
       "      <th>PlayerID</th>\n",
       "      <th>Age</th>\n",
       "      <th>Gender</th>\n",
       "      <th>Location</th>\n",
       "      <th>GameGenre</th>\n",
       "      <th>PlayTimeHours</th>\n",
       "      <th>InGamePurchases</th>\n",
       "      <th>GameDifficulty</th>\n",
       "      <th>SessionsPerWeek</th>\n",
       "      <th>AvgSessionDurationMinutes</th>\n",
       "      <th>PlayerLevel</th>\n",
       "      <th>AchievementsUnlocked</th>\n",
       "      <th>EngagementLevel</th>\n",
       "    </tr>\n",
       "  </thead>\n",
       "  <tbody>\n",
       "    <tr>\n",
       "      <th>0</th>\n",
       "      <td>9000</td>\n",
       "      <td>43</td>\n",
       "      <td>Male</td>\n",
       "      <td>Other</td>\n",
       "      <td>Strategy</td>\n",
       "      <td>16.271119</td>\n",
       "      <td>0</td>\n",
       "      <td>Medium</td>\n",
       "      <td>6</td>\n",
       "      <td>108</td>\n",
       "      <td>79</td>\n",
       "      <td>25</td>\n",
       "      <td>Medium</td>\n",
       "    </tr>\n",
       "    <tr>\n",
       "      <th>1</th>\n",
       "      <td>9001</td>\n",
       "      <td>29</td>\n",
       "      <td>Female</td>\n",
       "      <td>USA</td>\n",
       "      <td>Strategy</td>\n",
       "      <td>5.525961</td>\n",
       "      <td>0</td>\n",
       "      <td>Medium</td>\n",
       "      <td>5</td>\n",
       "      <td>144</td>\n",
       "      <td>11</td>\n",
       "      <td>10</td>\n",
       "      <td>Medium</td>\n",
       "    </tr>\n",
       "    <tr>\n",
       "      <th>2</th>\n",
       "      <td>9002</td>\n",
       "      <td>22</td>\n",
       "      <td>Female</td>\n",
       "      <td>USA</td>\n",
       "      <td>Sports</td>\n",
       "      <td>8.223755</td>\n",
       "      <td>0</td>\n",
       "      <td>Easy</td>\n",
       "      <td>16</td>\n",
       "      <td>142</td>\n",
       "      <td>35</td>\n",
       "      <td>41</td>\n",
       "      <td>High</td>\n",
       "    </tr>\n",
       "    <tr>\n",
       "      <th>3</th>\n",
       "      <td>9003</td>\n",
       "      <td>35</td>\n",
       "      <td>Male</td>\n",
       "      <td>USA</td>\n",
       "      <td>Action</td>\n",
       "      <td>5.265351</td>\n",
       "      <td>1</td>\n",
       "      <td>Easy</td>\n",
       "      <td>9</td>\n",
       "      <td>85</td>\n",
       "      <td>57</td>\n",
       "      <td>47</td>\n",
       "      <td>Medium</td>\n",
       "    </tr>\n",
       "    <tr>\n",
       "      <th>4</th>\n",
       "      <td>9004</td>\n",
       "      <td>33</td>\n",
       "      <td>Male</td>\n",
       "      <td>Europe</td>\n",
       "      <td>Action</td>\n",
       "      <td>15.531945</td>\n",
       "      <td>0</td>\n",
       "      <td>Medium</td>\n",
       "      <td>2</td>\n",
       "      <td>131</td>\n",
       "      <td>95</td>\n",
       "      <td>37</td>\n",
       "      <td>Medium</td>\n",
       "    </tr>\n",
       "  </tbody>\n",
       "</table>\n",
       "</div>"
      ],
      "text/plain": [
       "   PlayerID  Age  Gender Location GameGenre  PlayTimeHours  InGamePurchases  \\\n",
       "0      9000   43    Male    Other  Strategy      16.271119                0   \n",
       "1      9001   29  Female      USA  Strategy       5.525961                0   \n",
       "2      9002   22  Female      USA    Sports       8.223755                0   \n",
       "3      9003   35    Male      USA    Action       5.265351                1   \n",
       "4      9004   33    Male   Europe    Action      15.531945                0   \n",
       "\n",
       "  GameDifficulty  SessionsPerWeek  AvgSessionDurationMinutes  PlayerLevel  \\\n",
       "0         Medium                6                        108           79   \n",
       "1         Medium                5                        144           11   \n",
       "2           Easy               16                        142           35   \n",
       "3           Easy                9                         85           57   \n",
       "4         Medium                2                        131           95   \n",
       "\n",
       "   AchievementsUnlocked EngagementLevel  \n",
       "0                    25          Medium  \n",
       "1                    10          Medium  \n",
       "2                    41            High  \n",
       "3                    47          Medium  \n",
       "4                    37          Medium  "
      ]
     },
     "execution_count": 5,
     "metadata": {},
     "output_type": "execute_result"
    }
   ],
   "source": [
    "# Load the dataset\n",
    "data_df = pd.read_csv('Dataset/online_gaming_behavior_dataset.csv')\n",
    "data_df.head()"
   ]
  },
  {
   "cell_type": "code",
   "execution_count": 6,
   "metadata": {
    "colab": {
     "base_uri": "https://localhost:8080/"
    },
    "executionInfo": {
     "elapsed": 399,
     "status": "ok",
     "timestamp": 1720374540372,
     "user": {
      "displayName": "Aleena Raj",
      "userId": "16635257578699511263"
     },
     "user_tz": -330
    },
    "id": "gJNNZodNEYs7",
    "outputId": "3b70c5fc-a254-4f46-ec22-1b7924598af8"
   },
   "outputs": [
    {
     "data": {
      "text/plain": [
       "(40034, 13)"
      ]
     },
     "execution_count": 6,
     "metadata": {},
     "output_type": "execute_result"
    }
   ],
   "source": [
    "data_df.shape"
   ]
  },
  {
   "cell_type": "code",
   "execution_count": 7,
   "metadata": {
    "colab": {
     "base_uri": "https://localhost:8080/"
    },
    "executionInfo": {
     "elapsed": 448,
     "status": "ok",
     "timestamp": 1720374549049,
     "user": {
      "displayName": "Aleena Raj",
      "userId": "16635257578699511263"
     },
     "user_tz": -330
    },
    "id": "sJT21MZDf4D8",
    "outputId": "f2bced8e-3f8d-44d7-a893-849479c22b73"
   },
   "outputs": [
    {
     "data": {
      "text/plain": [
       "PlayerID                     0\n",
       "Age                          0\n",
       "Gender                       0\n",
       "Location                     0\n",
       "GameGenre                    0\n",
       "PlayTimeHours                0\n",
       "InGamePurchases              0\n",
       "GameDifficulty               0\n",
       "SessionsPerWeek              0\n",
       "AvgSessionDurationMinutes    0\n",
       "PlayerLevel                  0\n",
       "AchievementsUnlocked         0\n",
       "EngagementLevel              0\n",
       "dtype: int64"
      ]
     },
     "execution_count": 7,
     "metadata": {},
     "output_type": "execute_result"
    }
   ],
   "source": [
    "# Checking for missing values\n",
    "data_df.isnull().sum()"
   ]
  },
  {
   "cell_type": "code",
   "execution_count": 8,
   "metadata": {
    "colab": {
     "base_uri": "https://localhost:8080/",
     "height": 300
    },
    "executionInfo": {
     "elapsed": 414,
     "status": "ok",
     "timestamp": 1720374567561,
     "user": {
      "displayName": "Aleena Raj",
      "userId": "16635257578699511263"
     },
     "user_tz": -330
    },
    "id": "6uIPEitRgJrM",
    "outputId": "f092f880-9f3e-4d25-aa3c-c28eada880de"
   },
   "outputs": [
    {
     "data": {
      "text/html": [
       "<div>\n",
       "<style scoped>\n",
       "    .dataframe tbody tr th:only-of-type {\n",
       "        vertical-align: middle;\n",
       "    }\n",
       "\n",
       "    .dataframe tbody tr th {\n",
       "        vertical-align: top;\n",
       "    }\n",
       "\n",
       "    .dataframe thead th {\n",
       "        text-align: right;\n",
       "    }\n",
       "</style>\n",
       "<table border=\"1\" class=\"dataframe\">\n",
       "  <thead>\n",
       "    <tr style=\"text-align: right;\">\n",
       "      <th></th>\n",
       "      <th>PlayerID</th>\n",
       "      <th>Age</th>\n",
       "      <th>PlayTimeHours</th>\n",
       "      <th>InGamePurchases</th>\n",
       "      <th>SessionsPerWeek</th>\n",
       "      <th>AvgSessionDurationMinutes</th>\n",
       "      <th>PlayerLevel</th>\n",
       "      <th>AchievementsUnlocked</th>\n",
       "    </tr>\n",
       "  </thead>\n",
       "  <tbody>\n",
       "    <tr>\n",
       "      <th>count</th>\n",
       "      <td>40034.000000</td>\n",
       "      <td>40034.000000</td>\n",
       "      <td>40034.000000</td>\n",
       "      <td>40034.000000</td>\n",
       "      <td>40034.000000</td>\n",
       "      <td>40034.000000</td>\n",
       "      <td>40034.000000</td>\n",
       "      <td>40034.000000</td>\n",
       "    </tr>\n",
       "    <tr>\n",
       "      <th>mean</th>\n",
       "      <td>29016.500000</td>\n",
       "      <td>31.992531</td>\n",
       "      <td>12.024365</td>\n",
       "      <td>0.200854</td>\n",
       "      <td>9.471774</td>\n",
       "      <td>94.792252</td>\n",
       "      <td>49.655568</td>\n",
       "      <td>24.526477</td>\n",
       "    </tr>\n",
       "    <tr>\n",
       "      <th>std</th>\n",
       "      <td>11556.964675</td>\n",
       "      <td>10.043227</td>\n",
       "      <td>6.914638</td>\n",
       "      <td>0.400644</td>\n",
       "      <td>5.763667</td>\n",
       "      <td>49.011375</td>\n",
       "      <td>28.588379</td>\n",
       "      <td>14.430726</td>\n",
       "    </tr>\n",
       "    <tr>\n",
       "      <th>min</th>\n",
       "      <td>9000.000000</td>\n",
       "      <td>15.000000</td>\n",
       "      <td>0.000115</td>\n",
       "      <td>0.000000</td>\n",
       "      <td>0.000000</td>\n",
       "      <td>10.000000</td>\n",
       "      <td>1.000000</td>\n",
       "      <td>0.000000</td>\n",
       "    </tr>\n",
       "    <tr>\n",
       "      <th>25%</th>\n",
       "      <td>19008.250000</td>\n",
       "      <td>23.000000</td>\n",
       "      <td>6.067501</td>\n",
       "      <td>0.000000</td>\n",
       "      <td>4.000000</td>\n",
       "      <td>52.000000</td>\n",
       "      <td>25.000000</td>\n",
       "      <td>12.000000</td>\n",
       "    </tr>\n",
       "    <tr>\n",
       "      <th>50%</th>\n",
       "      <td>29016.500000</td>\n",
       "      <td>32.000000</td>\n",
       "      <td>12.008002</td>\n",
       "      <td>0.000000</td>\n",
       "      <td>9.000000</td>\n",
       "      <td>95.000000</td>\n",
       "      <td>49.000000</td>\n",
       "      <td>25.000000</td>\n",
       "    </tr>\n",
       "    <tr>\n",
       "      <th>75%</th>\n",
       "      <td>39024.750000</td>\n",
       "      <td>41.000000</td>\n",
       "      <td>17.963831</td>\n",
       "      <td>0.000000</td>\n",
       "      <td>14.000000</td>\n",
       "      <td>137.000000</td>\n",
       "      <td>74.000000</td>\n",
       "      <td>37.000000</td>\n",
       "    </tr>\n",
       "    <tr>\n",
       "      <th>max</th>\n",
       "      <td>49033.000000</td>\n",
       "      <td>49.000000</td>\n",
       "      <td>23.999592</td>\n",
       "      <td>1.000000</td>\n",
       "      <td>19.000000</td>\n",
       "      <td>179.000000</td>\n",
       "      <td>99.000000</td>\n",
       "      <td>49.000000</td>\n",
       "    </tr>\n",
       "  </tbody>\n",
       "</table>\n",
       "</div>"
      ],
      "text/plain": [
       "           PlayerID           Age  PlayTimeHours  InGamePurchases  \\\n",
       "count  40034.000000  40034.000000   40034.000000     40034.000000   \n",
       "mean   29016.500000     31.992531      12.024365         0.200854   \n",
       "std    11556.964675     10.043227       6.914638         0.400644   \n",
       "min     9000.000000     15.000000       0.000115         0.000000   \n",
       "25%    19008.250000     23.000000       6.067501         0.000000   \n",
       "50%    29016.500000     32.000000      12.008002         0.000000   \n",
       "75%    39024.750000     41.000000      17.963831         0.000000   \n",
       "max    49033.000000     49.000000      23.999592         1.000000   \n",
       "\n",
       "       SessionsPerWeek  AvgSessionDurationMinutes   PlayerLevel  \\\n",
       "count     40034.000000               40034.000000  40034.000000   \n",
       "mean          9.471774                  94.792252     49.655568   \n",
       "std           5.763667                  49.011375     28.588379   \n",
       "min           0.000000                  10.000000      1.000000   \n",
       "25%           4.000000                  52.000000     25.000000   \n",
       "50%           9.000000                  95.000000     49.000000   \n",
       "75%          14.000000                 137.000000     74.000000   \n",
       "max          19.000000                 179.000000     99.000000   \n",
       "\n",
       "       AchievementsUnlocked  \n",
       "count          40034.000000  \n",
       "mean              24.526477  \n",
       "std               14.430726  \n",
       "min                0.000000  \n",
       "25%               12.000000  \n",
       "50%               25.000000  \n",
       "75%               37.000000  \n",
       "max               49.000000  "
      ]
     },
     "execution_count": 8,
     "metadata": {},
     "output_type": "execute_result"
    }
   ],
   "source": [
    "# Statistical summary of the dataset\n",
    "data_df.describe()\n"
   ]
  },
  {
   "cell_type": "code",
   "execution_count": 9,
   "metadata": {
    "colab": {
     "base_uri": "https://localhost:8080/"
    },
    "executionInfo": {
     "elapsed": 534,
     "status": "ok",
     "timestamp": 1720374602515,
     "user": {
      "displayName": "Aleena Raj",
      "userId": "16635257578699511263"
     },
     "user_tz": -330
    },
    "id": "50W5Kk1lgcZn",
    "outputId": "c3e72527-09b9-45ce-f6b5-78165b6dd4d2"
   },
   "outputs": [
    {
     "data": {
      "text/plain": [
       "EngagementLevel\n",
       "Medium    19374\n",
       "High      10336\n",
       "Low       10324\n",
       "Name: count, dtype: int64"
      ]
     },
     "execution_count": 9,
     "metadata": {},
     "output_type": "execute_result"
    }
   ],
   "source": [
    "# Distribution of the target variable\n",
    "data_df['EngagementLevel'].value_counts()"
   ]
  },
  {
   "cell_type": "code",
   "execution_count": 10,
   "metadata": {
    "id": "T3Py2V661zQz"
   },
   "outputs": [],
   "source": [
    "target_column = 'EngagementLevel'\n",
    "X = data_df.drop(columns=[target_column])\n",
    "y = data_df[target_column]"
   ]
  },
  {
   "cell_type": "code",
   "execution_count": 11,
   "metadata": {
    "id": "ulOLlHi72Yfy"
   },
   "outputs": [],
   "source": [
    "# Convert categorical string variables to numerical values\n",
    "categorical_columns = ['Gender', 'Location', 'GameGenre', 'GameDifficulty']\n",
    "label_encoders = {}\n",
    "for col in categorical_columns:\n",
    "    le = LabelEncoder()\n",
    "    X[col] = le.fit_transform(X[col])\n",
    "    label_encoders[col] = le\n",
    "\n",
    "# Create dummies for other categorical variables if any\n",
    "X = pd.get_dummies(X, drop_first=True)"
   ]
  },
  {
   "cell_type": "code",
   "execution_count": null,
   "metadata": {},
   "outputs": [],
   "source": []
  },
  {
   "cell_type": "code",
   "execution_count": 12,
   "metadata": {
    "colab": {
     "base_uri": "https://localhost:8080/",
     "height": 878
    },
    "executionInfo": {
     "elapsed": 1949,
     "status": "ok",
     "timestamp": 1720374661324,
     "user": {
      "displayName": "Aleena Raj",
      "userId": "16635257578699511263"
     },
     "user_tz": -330
    },
    "id": "odTeAna0gmRz",
    "outputId": "2a028ac8-85ef-4293-9029-bff1c14a40ff"
   },
   "outputs": [
    {
     "data": {
      "image/png": "[encoded data removed]",
      "text/plain": [
       "<Figure size 1200x800 with 2 Axes>"
      ]
     },
     "metadata": {},
     "output_type": "display_data"
    }
   ],
   "source": [
    "# Heatmap of the correlation matrix using seaborn library\n",
    "plt.figure(figsize=(12, 8))\n",
    "correlation_matrix = X.corr()\n",
    "sns.heatmap(correlation_matrix, annot=True, cmap='coolwarm', linewidths=0.5)\n",
    "plt.title('Correlation Matrix')\n",
    "plt.show()"
   ]
  },
  {
   "cell_type": "code",
   "execution_count": 13,
   "metadata": {
    "id": "q-oxlYL9KDNU"
   },
   "outputs": [],
   "source": [
    "# Split the dataset into training and testing sets\n",
    "X_train, X_test, y_train, y_test = train_test_split(X, y, test_size=0.4, random_state=42)"
   ]
  },
  {
   "cell_type": "code",
   "execution_count": 14,
   "metadata": {
    "id": "J0VKFy2h384Y"
   },
   "outputs": [],
   "source": [
    "# Apply StandardScaler\n",
    "scaler = StandardScaler()\n",
    "X_train_sc = scaler.fit_transform(X_train)\n",
    "X_test_sc = scaler.transform(X_test)"
   ]
  },
  {
   "cell_type": "markdown",
   "metadata": {
    "id": "MVwXbO9fxhb_"
   },
   "source": [
    "## __1.2 Applying Naive Bayes Algorithm on Online Gaming Behavior dataset__"
   ]
  },
  {
   "cell_type": "code",
   "execution_count": 15,
   "metadata": {
    "id": "ywnxS6F1tRPF"
   },
   "outputs": [],
   "source": [
    "# Import Required Libraries and apply Naive Bayes algorithm\n",
    "from sklearn.naive_bayes import GaussianNB\n",
    "nb_model = GaussianNB()\n",
    "nb_model.fit(X_train_sc, y_train)\n",
    "\n",
    "# Predict on testing set\n",
    "y_pred_nb = nb_model.predict(X_test_sc)\n",
    "y_pred_prob_nb = nb_model.predict_proba(X_test_sc)"
   ]
  },
  {
   "cell_type": "code",
   "execution_count": 16,
   "metadata": {
    "colab": {
     "base_uri": "https://localhost:8080/",
     "height": 224
    },
    "executionInfo": {
     "elapsed": 664,
     "status": "ok",
     "timestamp": 1720378078373,
     "user": {
      "displayName": "Aleena Raj",
      "userId": "16635257578699511263"
     },
     "user_tz": -330
    },
    "id": "hUPcBKdvg53k",
    "outputId": "95b7ae63-05d9-4a0b-c4b3-6e7077a1dc92"
   },
   "outputs": [
    {
     "name": "stdout",
     "output_type": "stream",
     "text": [
      "Class order: ['High' 'Low' 'Medium']\n"
     ]
    },
    {
     "data": {
      "text/html": [
       "<div>\n",
       "<style scoped>\n",
       "    .dataframe tbody tr th:only-of-type {\n",
       "        vertical-align: middle;\n",
       "    }\n",
       "\n",
       "    .dataframe tbody tr th {\n",
       "        vertical-align: top;\n",
       "    }\n",
       "\n",
       "    .dataframe thead th {\n",
       "        text-align: right;\n",
       "    }\n",
       "</style>\n",
       "<table border=\"1\" class=\"dataframe\">\n",
       "  <thead>\n",
       "    <tr style=\"text-align: right;\">\n",
       "      <th></th>\n",
       "      <th>Actual Label</th>\n",
       "      <th>Predicted Label</th>\n",
       "      <th>Predicted Probability High</th>\n",
       "      <th>Predicted Probability Low</th>\n",
       "      <th>Predicted Probability Medium</th>\n",
       "    </tr>\n",
       "  </thead>\n",
       "  <tbody>\n",
       "    <tr>\n",
       "      <th>34667</th>\n",
       "      <td>Medium</td>\n",
       "      <td>Medium</td>\n",
       "      <td>0.22</td>\n",
       "      <td>0.07</td>\n",
       "      <td>0.71</td>\n",
       "    </tr>\n",
       "    <tr>\n",
       "      <th>22227</th>\n",
       "      <td>Medium</td>\n",
       "      <td>Medium</td>\n",
       "      <td>0.19</td>\n",
       "      <td>0.17</td>\n",
       "      <td>0.64</td>\n",
       "    </tr>\n",
       "    <tr>\n",
       "      <th>24899</th>\n",
       "      <td>Medium</td>\n",
       "      <td>Medium</td>\n",
       "      <td>0.01</td>\n",
       "      <td>0.34</td>\n",
       "      <td>0.65</td>\n",
       "    </tr>\n",
       "    <tr>\n",
       "      <th>35415</th>\n",
       "      <td>Medium</td>\n",
       "      <td>Medium</td>\n",
       "      <td>0.22</td>\n",
       "      <td>0.16</td>\n",
       "      <td>0.62</td>\n",
       "    </tr>\n",
       "    <tr>\n",
       "      <th>21440</th>\n",
       "      <td>Medium</td>\n",
       "      <td>Medium</td>\n",
       "      <td>0.34</td>\n",
       "      <td>0.13</td>\n",
       "      <td>0.53</td>\n",
       "    </tr>\n",
       "  </tbody>\n",
       "</table>\n",
       "</div>"
      ],
      "text/plain": [
       "      Actual Label Predicted Label  Predicted Probability High  \\\n",
       "34667       Medium          Medium                        0.22   \n",
       "22227       Medium          Medium                        0.19   \n",
       "24899       Medium          Medium                        0.01   \n",
       "35415       Medium          Medium                        0.22   \n",
       "21440       Medium          Medium                        0.34   \n",
       "\n",
       "       Predicted Probability Low  Predicted Probability Medium  \n",
       "34667                       0.07                          0.71  \n",
       "22227                       0.17                          0.64  \n",
       "24899                       0.34                          0.65  \n",
       "35415                       0.16                          0.62  \n",
       "21440                       0.13                          0.53  "
      ]
     },
     "execution_count": 16,
     "metadata": {},
     "output_type": "execute_result"
    }
   ],
   "source": [
    "# Determine the class order\n",
    "class_order = nb_model.classes_\n",
    "print(\"Class order:\", class_order)\n",
    "\n",
    "# Create a DataFrame to display actual and predicted labels with probabilities\n",
    "results_df = pd.DataFrame({\n",
    "    'Actual Label': y_test,\n",
    "    'Predicted Label': y_pred_nb,\n",
    "})\n",
    "\n",
    "# Add predicted probabilities with correct class names\n",
    "for i, class_name in enumerate(class_order):\n",
    "    results_df[f'Predicted Probability {class_name}'] = np.round(y_pred_prob_nb[:, i], 2)\n",
    "\n",
    "# Display the first few rows of the results DataFrame\n",
    "results_df.head()\n"
   ]
  },
  {
   "cell_type": "code",
   "execution_count": 17,
   "metadata": {
    "colab": {
     "base_uri": "https://localhost:8080/"
    },
    "executionInfo": {
     "elapsed": 475,
     "status": "ok",
     "timestamp": 1720378182113,
     "user": {
      "displayName": "Aleena Raj",
      "userId": "16635257578699511263"
     },
     "user_tz": -330
    },
    "id": "GnAl0isstRMf",
    "outputId": "e2a95adb-e6da-4ac8-a011-6ed33e137fc1"
   },
   "outputs": [
    {
     "name": "stdout",
     "output_type": "stream",
     "text": [
      "\n",
      "Naive Bayes Classifier:\n",
      "Training Accuracy: 0.8447960033305578\n",
      "Testing Accuracy: 0.8434494817035094\n"
     ]
    }
   ],
   "source": [
    "print(\"\\nNaive Bayes Classifier:\")\n",
    "training_accuracy =  accuracy_score(y_train, nb_model.predict(X_train_sc))\n",
    "testing_accuracy = accuracy_score(y_test, y_pred_nb)\n",
    "\n",
    "print(f\"Training Accuracy: {training_accuracy}\")\n",
    "print(f\"Testing Accuracy: {testing_accuracy}\")"
   ]
  },
  {
   "cell_type": "code",
   "execution_count": 18,
   "metadata": {
    "colab": {
     "base_uri": "https://localhost:8080/"
    },
    "executionInfo": {
     "elapsed": 404,
     "status": "ok",
     "timestamp": 1720378392526,
     "user": {
      "displayName": "Aleena Raj",
      "userId": "16635257578699511263"
     },
     "user_tz": -330
    },
    "id": "mQQ54X-7ipFC",
    "outputId": "b8e0ac92-4d42-412b-fbdc-c1f638c38a51"
   },
   "outputs": [
    {
     "name": "stdout",
     "output_type": "stream",
     "text": [
      "Confusion Matrix:\n",
      "[[3234  109  814]\n",
      " [  96 2854 1133]\n",
      " [ 129  226 7419]]\n",
      "Confusion Matrix with Class Labels:\n",
      "        High   Low  Medium\n",
      "High    3234   109     814\n",
      "Low       96  2854    1133\n",
      "Medium   129   226    7419\n"
     ]
    }
   ],
   "source": [
    "# Generate the confusion matrix\n",
    "conf_matrix = confusion_matrix(y_test, y_pred_nb, labels=class_order)\n",
    "print(\"Confusion Matrix:\")\n",
    "print(conf_matrix)\n",
    "\n",
    "# Display the confusion matrix with labels\n",
    "conf_matrix_df = pd.DataFrame(conf_matrix, index=class_order, columns=class_order)\n",
    "print(\"Confusion Matrix with Class Labels:\")\n",
    "print(conf_matrix_df)\n"
   ]
  },
  {
   "cell_type": "markdown",
   "metadata": {
    "id": "YxEIDMcGolLF"
   },
   "source": [
    "#### __Observation__\n",
    "\n",
    "The confusion matrix is a 3x3 matrix because it is a multiclass classification problem with three classes (Medium, High, Low).\n",
    "\n",
    "**High:**\n",
    "\n",
    "This class has a relatively high number of true positives (3234), but also a considerable number of false negatives, indicating that some instances misclassified as Low and medium\n",
    "\n",
    "**Low:**\n",
    "\n",
    "This class has a moderate number of true positives (2854), but a higher number of false negatives, indicating frequent misclassification of `low` instances as `high` or `medium`.\n",
    "\n",
    "**Medium:**\n",
    "\n",
    "This class has a very high number of true positives (7419), indicating the model is very good at correctly identifying `medium` instances."
   ]
  },
  {
   "cell_type": "code",
   "execution_count": 19,
   "metadata": {
    "colab": {
     "base_uri": "https://localhost:8080/"
    },
    "executionInfo": {
     "elapsed": 409,
     "status": "ok",
     "timestamp": 1720375092280,
     "user": {
      "displayName": "Aleena Raj",
      "userId": "16635257578699511263"
     },
     "user_tz": -330
    },
    "id": "aDdnkwZoo7Rc",
    "outputId": "93ae0d43-e869-480c-b99b-ab85c9ea136b"
   },
   "outputs": [
    {
     "name": "stdout",
     "output_type": "stream",
     "text": [
      "Naïve Bayes Classification Report:\n",
      "              precision    recall  f1-score   support\n",
      "\n",
      "        High       0.93      0.78      0.85      4157\n",
      "         Low       0.89      0.70      0.78      4083\n",
      "      Medium       0.79      0.95      0.87      7774\n",
      "\n",
      "    accuracy                           0.84     16014\n",
      "   macro avg       0.87      0.81      0.83     16014\n",
      "weighted avg       0.86      0.84      0.84     16014\n",
      "\n"
     ]
    }
   ],
   "source": [
    "# Print classification report\n",
    "Class_report = classification_report(y_test, y_pred_nb)\n",
    "print(\"Naïve Bayes Classification Report:\")\n",
    "print(Class_report)"
   ]
  },
  {
   "cell_type": "markdown",
   "metadata": {
    "id": "XJ2OIpyhvDt8"
   },
   "source": [
    "- `label_binarize` is a function from Scikit-Learn that is used to convert class labels into a binary format suitable for certain types of classifiers and evaluation metrics.\n",
    "- This is particularly useful when you need to handle multiclass problems with methods that are inherently designed for binary classification, such as calculating ROC curves and AUC scores."
   ]
  },
  {
   "cell_type": "markdown",
   "metadata": {
    "id": "E8V1LGsT0HxR"
   },
   "source": [
    "Plot the ROC curve for each class separately in a multiclass setting."
   ]
  },
  {
   "cell_type": "code",
   "execution_count": 20,
   "metadata": {
    "colab": {
     "base_uri": "https://localhost:8080/",
     "height": 472
    },
    "executionInfo": {
     "elapsed": 802,
     "status": "ok",
     "timestamp": 1720375146347,
     "user": {
      "displayName": "Aleena Raj",
      "userId": "16635257578699511263"
     },
     "user_tz": -330
    },
    "id": "VXRelsl9tRGs",
    "outputId": "8319fec1-3b36-43a8-c9ff-2f300f7f8ec0"
   },
   "outputs": [
    {
     "data": {
      "image/png": "[encoded data removed]",
      "text/plain": [
       "<Figure size 640x480 with 1 Axes>"
      ]
     },
     "metadata": {},
     "output_type": "display_data"
    }
   ],
   "source": [
    "# Check if more than one class is present in y_test\n",
    "if len(set(y_test)) > 1:\n",
    "    # Plot ROC curve\n",
    "    y_test_binarized = label_binarize(y_test, classes=nb_model.classes_)\n",
    "    n_classes = y_test_binarized.shape[1]\n",
    "\n",
    "    y_score = nb_model.predict_proba(X_test_sc)\n",
    "\n",
    "    fpr = dict()\n",
    "    tpr = dict()\n",
    "    roc_auc = dict()\n",
    "\n",
    "    for i in range(n_classes):\n",
    "        fpr[i], tpr[i], _ = roc_curve(y_test_binarized[:, i], y_score[:, i])\n",
    "        roc_auc[i] = roc_auc_score(y_test_binarized[:, i], y_score[:, i])\n",
    "\n",
    "    # Plotting the ROC curves\n",
    "    plt.figure()\n",
    "    colors = cycle(['aqua', 'darkorange', 'cornflowerblue'])\n",
    "    for i, color in zip(range(n_classes), colors):\n",
    "        plt.plot(fpr[i], tpr[i], color=color, lw=2, label='ROC curve of class {0} (area = {1:0.2f})'.format(i, roc_auc[i]))\n",
    "\n",
    "    plt.plot([0, 1], [0, 1], 'k--', lw=2)\n",
    "    plt.xlim([0.0, 1.0])\n",
    "    plt.ylim([0.0, 1.05])\n",
    "    plt.xlabel('False Positive Rate')\n",
    "    plt.ylabel('True Positive Rate')\n",
    "    plt.title('Receiver Operating Characteristic (ROC) Curve')\n",
    "    plt.legend(loc=\"lower right\")\n",
    "    plt.show()\n",
    "else:\n",
    "    print(\"ROC AUC score is not defined as only one class is present in y_true.\")"
   ]
  },
  {
   "cell_type": "markdown",
   "metadata": {
    "id": "6W8NKT_02d6w"
   },
   "source": [
    "#### __Observation__\n",
    "\n",
    "1. Class 0/High: The model performs very well in classifying instances of Class 0. An AUC of 0.94 indicates that there is a 94% chance that the model will correctly distinguish between a randomly chosen positive instance and a randomly chosen negative instance for Class 0.\n",
    "\n",
    "2. Class 1/Low: The model has excellent performance for Class 1, with an AUC of 0.91. This means the model has a 91% chance of correctly distinguishing between a positive instance and a negative instance for Class 1.\n",
    "\n",
    "3. Class 2/Medium: The model performs very well for Class 2, with an AUC of 0.90. This indicates a 90% chance of the model correctly distinguishing between a positive instance and a negative instance for Class 2.\n",
    "\n",
    "Diagonal Line (Black dashed line):\n",
    "\n",
    "The diagonal line represents random guessing, with an AUC of 0.5. Any ROC curve below this line indicates worse than random performance, while curves above this line indicate better than random performance.\n",
    "\n",
    "**Key Observations:**\n",
    "\n",
    "The Naive Bayes performs exceptionally well for all classes, with AUC values ranging from 0.90 to 0.94. The model is best at classifying instances of Class 0, followed closely by Class 1, and then Class 2.\n",
    "\n"
   ]
  },
  {
   "cell_type": "markdown",
   "metadata": {
    "id": "Xv2MlD7xyKCg"
   },
   "source": [
    "## __1.3 Applying K-Nearest Neighbors on Online Gaming Behavior Dataset__"
   ]
  },
  {
   "cell_type": "code",
   "execution_count": 21,
   "metadata": {
    "id": "uX0cXicNtRDe"
   },
   "outputs": [],
   "source": [
    "#Import Required Libraries and apply K-Nearest Neighbors\n",
    "from sklearn.neighbors import KNeighborsClassifier\n",
    "knn_model = KNeighborsClassifier(n_neighbors=3)\n",
    "knn_model.fit(X_train_sc, y_train)\n",
    "\n",
    "# Predict on testing set\n",
    "y_pred_knn = knn_model.predict(X_test_sc)\n",
    "y_pred_prob_knn = knn_model.predict_proba(X_test_sc)"
   ]
  },
  {
   "cell_type": "code",
   "execution_count": 22,
   "metadata": {
    "colab": {
     "base_uri": "https://localhost:8080/",
     "height": 224
    },
    "executionInfo": {
     "elapsed": 493,
     "status": "ok",
     "timestamp": 1720378814359,
     "user": {
      "displayName": "Aleena Raj",
      "userId": "16635257578699511263"
     },
     "user_tz": -330
    },
    "id": "hnQCCcYqkCXw",
    "outputId": "5afd789a-3af0-4232-cfbe-f4584a59e69c"
   },
   "outputs": [
    {
     "name": "stdout",
     "output_type": "stream",
     "text": [
      "Class order: ['High' 'Low' 'Medium']\n"
     ]
    },
    {
     "data": {
      "text/html": [
       "<div>\n",
       "<style scoped>\n",
       "    .dataframe tbody tr th:only-of-type {\n",
       "        vertical-align: middle;\n",
       "    }\n",
       "\n",
       "    .dataframe tbody tr th {\n",
       "        vertical-align: top;\n",
       "    }\n",
       "\n",
       "    .dataframe thead th {\n",
       "        text-align: right;\n",
       "    }\n",
       "</style>\n",
       "<table border=\"1\" class=\"dataframe\">\n",
       "  <thead>\n",
       "    <tr style=\"text-align: right;\">\n",
       "      <th></th>\n",
       "      <th>Actual Label</th>\n",
       "      <th>Predicted Label</th>\n",
       "      <th>Predicted Probability High</th>\n",
       "      <th>Predicted Probability Low</th>\n",
       "      <th>Predicted Probability Medium</th>\n",
       "    </tr>\n",
       "  </thead>\n",
       "  <tbody>\n",
       "    <tr>\n",
       "      <th>34667</th>\n",
       "      <td>Medium</td>\n",
       "      <td>Medium</td>\n",
       "      <td>0.00</td>\n",
       "      <td>0.00</td>\n",
       "      <td>1.00</td>\n",
       "    </tr>\n",
       "    <tr>\n",
       "      <th>22227</th>\n",
       "      <td>Medium</td>\n",
       "      <td>High</td>\n",
       "      <td>0.67</td>\n",
       "      <td>0.00</td>\n",
       "      <td>0.33</td>\n",
       "    </tr>\n",
       "    <tr>\n",
       "      <th>24899</th>\n",
       "      <td>Medium</td>\n",
       "      <td>Low</td>\n",
       "      <td>0.00</td>\n",
       "      <td>0.67</td>\n",
       "      <td>0.33</td>\n",
       "    </tr>\n",
       "    <tr>\n",
       "      <th>35415</th>\n",
       "      <td>Medium</td>\n",
       "      <td>Medium</td>\n",
       "      <td>0.33</td>\n",
       "      <td>0.00</td>\n",
       "      <td>0.67</td>\n",
       "    </tr>\n",
       "    <tr>\n",
       "      <th>21440</th>\n",
       "      <td>Medium</td>\n",
       "      <td>Medium</td>\n",
       "      <td>0.33</td>\n",
       "      <td>0.00</td>\n",
       "      <td>0.67</td>\n",
       "    </tr>\n",
       "  </tbody>\n",
       "</table>\n",
       "</div>"
      ],
      "text/plain": [
       "      Actual Label Predicted Label  Predicted Probability High  \\\n",
       "34667       Medium          Medium                        0.00   \n",
       "22227       Medium            High                        0.67   \n",
       "24899       Medium             Low                        0.00   \n",
       "35415       Medium          Medium                        0.33   \n",
       "21440       Medium          Medium                        0.33   \n",
       "\n",
       "       Predicted Probability Low  Predicted Probability Medium  \n",
       "34667                       0.00                          1.00  \n",
       "22227                       0.00                          0.33  \n",
       "24899                       0.67                          0.33  \n",
       "35415                       0.00                          0.67  \n",
       "21440                       0.00                          0.67  "
      ]
     },
     "execution_count": 22,
     "metadata": {},
     "output_type": "execute_result"
    }
   ],
   "source": [
    "# Determine the class order\n",
    "class_order = knn_model.classes_\n",
    "print(\"Class order:\", class_order)\n",
    "\n",
    "# Create a DataFrame to display actual and predicted labels with probabilities\n",
    "results_df = pd.DataFrame({\n",
    "    'Actual Label': y_test,\n",
    "    'Predicted Label': y_pred_knn,\n",
    "})\n",
    "\n",
    "# Add predicted probabilities with correct class names\n",
    "for i, class_name in enumerate(class_order):\n",
    "    results_df[f'Predicted Probability {class_name}'] = np.round(y_pred_prob_knn[:, i], 2)\n",
    "\n",
    "# Display the first few rows of the results DataFrame\n",
    "results_df.head()"
   ]
  },
  {
   "cell_type": "code",
   "execution_count": 23,
   "metadata": {
    "colab": {
     "base_uri": "https://localhost:8080/"
    },
    "executionInfo": {
     "elapsed": 7497,
     "status": "ok",
     "timestamp": 1720378845959,
     "user": {
      "displayName": "Aleena Raj",
      "userId": "16635257578699511263"
     },
     "user_tz": -330
    },
    "id": "DlMsEctZtQ9I",
    "outputId": "f5e505c2-8a20-41c0-e586-463ec1a1fd42"
   },
   "outputs": [
    {
     "name": "stdout",
     "output_type": "stream",
     "text": [
      "\n",
      "K-Nearest Neighbors Classification\n",
      "Training Accuracy: 0.8572855953372189\n",
      "Testing Accuracy: 0.7141875858623704\n"
     ]
    }
   ],
   "source": [
    "# Calculate training and testing accuracy\n",
    "print(\"\\nK-Nearest Neighbors Classification\")\n",
    "training_accuracy =  accuracy_score(y_train, knn_model.predict(X_train_sc))\n",
    "testing_accuracy = accuracy_score(y_test, y_pred_knn)\n",
    "\n",
    "print(f\"Training Accuracy: {training_accuracy}\")\n",
    "print(f\"Testing Accuracy: {testing_accuracy}\")"
   ]
  },
  {
   "cell_type": "code",
   "execution_count": 24,
   "metadata": {
    "colab": {
     "base_uri": "https://localhost:8080/"
    },
    "executionInfo": {
     "elapsed": 377,
     "status": "ok",
     "timestamp": 1720378939321,
     "user": {
      "displayName": "Aleena Raj",
      "userId": "16635257578699511263"
     },
     "user_tz": -330
    },
    "id": "KHZGaRIxtQ3K",
    "outputId": "56f0ebb1-602b-4fdf-9bf9-41a9a246c466"
   },
   "outputs": [
    {
     "name": "stdout",
     "output_type": "stream",
     "text": [
      "Confusion Matrix:\n",
      "[[3049  132  976]\n",
      " [ 255 2360 1468]\n",
      " [ 975  771 6028]]\n",
      "Confusion Matrix with Class Labels:\n",
      "        High   Low  Medium\n",
      "High    3049   132     976\n",
      "Low      255  2360    1468\n",
      "Medium   975   771    6028\n"
     ]
    }
   ],
   "source": [
    "# Generate the confusion matrix\n",
    "conf_matrix = confusion_matrix(y_test, y_pred_knn, labels=class_order)\n",
    "print(\"Confusion Matrix:\")\n",
    "print(conf_matrix)\n",
    "\n",
    "# Display the confusion matrix with labels\n",
    "conf_matrix_df = pd.DataFrame(conf_matrix, index=class_order, columns=class_order)\n",
    "print(\"Confusion Matrix with Class Labels:\")\n",
    "print(conf_matrix_df)\n"
   ]
  },
  {
   "cell_type": "markdown",
   "metadata": {
    "id": "e00i8Vai_rAM"
   },
   "source": [
    "#### __Observation__\n",
    "\n",
    "**High:**\n",
    "\n",
    "This class has a moderate number of true positives (3049), but also a significant number of false negatives, indicating that many `high` instances are misclassified as `medium` or `low`.\n",
    "\n",
    "**Low:**\n",
    "\n",
    "This class has a lower number of true positives (2360) and a high number of false negatives, indicating frequent misclassification of `Low` instances as `medium` or `high`.\n",
    "\n",
    "**Medium:**\n",
    "\n",
    "This class has a high number of true positives (6028), indicating the model is relatively good at identifying `Medium` instances. However, there is still a considerable number of false negatives."
   ]
  },
  {
   "cell_type": "code",
   "execution_count": 25,
   "metadata": {
    "colab": {
     "base_uri": "https://localhost:8080/"
    },
    "executionInfo": {
     "elapsed": 1038,
     "status": "ok",
     "timestamp": 1720379085187,
     "user": {
      "displayName": "Aleena Raj",
      "userId": "16635257578699511263"
     },
     "user_tz": -330
    },
    "id": "An5Y0YyY-9YV",
    "outputId": "9be698ca-c7d1-461a-ac02-b715f1ff952c"
   },
   "outputs": [
    {
     "name": "stdout",
     "output_type": "stream",
     "text": [
      "K-Nearest Neighbors Classification Report:\n",
      "              precision    recall  f1-score   support\n",
      "\n",
      "        High       0.71      0.73      0.72      4157\n",
      "         Low       0.72      0.58      0.64      4083\n",
      "      Medium       0.71      0.78      0.74      7774\n",
      "\n",
      "    accuracy                           0.71     16014\n",
      "   macro avg       0.72      0.70      0.70     16014\n",
      "weighted avg       0.71      0.71      0.71     16014\n",
      "\n"
     ]
    }
   ],
   "source": [
    "# Print classification report\n",
    "Class_report = classification_report(y_test, y_pred_knn)\n",
    "print(\"K-Nearest Neighbors Classification Report:\")\n",
    "print(Class_report)"
   ]
  },
  {
   "cell_type": "markdown",
   "metadata": {
    "id": "joJOUxooMNt2"
   },
   "source": [
    "Plot the ROC curve for each class separately in a multiclass setting."
   ]
  },
  {
   "cell_type": "code",
   "execution_count": 26,
   "metadata": {
    "colab": {
     "base_uri": "https://localhost:8080/",
     "height": 472
    },
    "executionInfo": {
     "elapsed": 5887,
     "status": "ok",
     "timestamp": 1720375399237,
     "user": {
      "displayName": "Aleena Raj",
      "userId": "16635257578699511263"
     },
     "user_tz": -330
    },
    "id": "FxoeCnqs_Mlx",
    "outputId": "15f592ef-1a38-4326-c050-74f72f0e65a8"
   },
   "outputs": [
    {
     "data": {
      "image/png": "[encoded data removed]",
      "text/plain": [
       "<Figure size 640x480 with 1 Axes>"
      ]
     },
     "metadata": {},
     "output_type": "display_data"
    }
   ],
   "source": [
    "# Check if more than one class is present in y_test\n",
    "if len(set(y_test)) > 1:\n",
    "    # Plot ROC curve\n",
    "    y_test_binarized = label_binarize(y_test, classes=knn_model.classes_)\n",
    "    n_classes = y_test_binarized.shape[1]\n",
    "\n",
    "    y_score = knn_model.predict_proba(X_test_sc)\n",
    "\n",
    "    fpr = dict()\n",
    "    tpr = dict()\n",
    "    roc_auc = dict()\n",
    "\n",
    "    for i in range(n_classes):\n",
    "        fpr[i], tpr[i], _ = roc_curve(y_test_binarized[:, i], y_score[:, i])\n",
    "        roc_auc[i] = roc_auc_score(y_test_binarized[:, i], y_score[:, i])\n",
    "\n",
    "    # Plotting the ROC curves\n",
    "    plt.figure()\n",
    "    colors = cycle(['aqua', 'darkorange', 'cornflowerblue'])\n",
    "    for i, color in zip(range(n_classes), colors):\n",
    "        plt.plot(fpr[i], tpr[i], color=color, lw=2, label='ROC curve of class {0} (area = {1:0.2f})'.format(i, roc_auc[i]))\n",
    "\n",
    "    plt.plot([0, 1], [0, 1], 'k--', lw=2)\n",
    "    plt.xlim([0.0, 1.0])\n",
    "    plt.ylim([0.0, 1.05])\n",
    "    plt.xlabel('False Positive Rate')\n",
    "    plt.ylabel('True Positive Rate')\n",
    "    plt.title('Receiver Operating Characteristic (ROC) Curve')\n",
    "    plt.legend(loc=\"lower right\")\n",
    "    plt.show()\n",
    "else:\n",
    "    print(\"ROC AUC score is not defined as only one class is present in y_true.\")"
   ]
  },
  {
   "cell_type": "markdown",
   "metadata": {
    "id": "26RRXORABNRn"
   },
   "source": [
    "#### __Observation__\n",
    "\n",
    "**Class 0 (Cyan Line)**\n",
    "\n",
    "Area Under the Curve (AUC): 0.89\n",
    "\n",
    "The model performs well in classifying instances of Class 0/Medium. An AUC of 0.89 indicates that there is an 89% chance that the model will correctly distinguish between a randomly chosen positive instance and a randomly chosen negative instance for Class 0.\n",
    "\n",
    "**Class 1 (Orange Line)**\n",
    "\n",
    "Area Under the Curve (AUC): 0.83\n",
    "\n",
    "The model has good performance for Class 1, with an AUC of 0.83. This means the model has an 83% chance of correctly distinguishing between a positive instance and a negative instance for Class 1.\n",
    "\n",
    "**Class 2 (Blue Line)**\n",
    "\n",
    "Area Under the Curve (AUC): 0.79\n",
    "\n",
    "The model performs moderately well for Class 2, with an AUC of 0.79. This indicates a 79% chance of the model correctly distinguishing between a positive instance and a negative instance for Class 2.\n",
    "\n",
    "**Key Observation:**\n",
    "\n",
    "- The k-NN classifier performs reasonably well for all classes, with AUC values ranging from 0.79 to 0.89.\n",
    "- If the dataset has imbalanced classes (i.e., some classes have significantly more instances than others), this could affect the performance of the model and the ROC curves. It's essential to consider class distribution when interpreting these results."
   ]
  },
  {
   "cell_type": "markdown",
   "metadata": {
    "id": "m2y7FIv92rM3"
   },
   "source": [
    "## __1.4 Applying Decision Tree on Online Gaming Behavior Dataset__\n"
   ]
  },
  {
   "cell_type": "code",
   "execution_count": 27,
   "metadata": {
    "id": "OIbZo_EKtQ0F"
   },
   "outputs": [],
   "source": [
    "#Import Required Libraries and apply decision tree\n",
    "from sklearn.tree import DecisionTreeClassifier\n",
    "dt_model = DecisionTreeClassifier(random_state=42)\n",
    "dt_model.fit(X_train_sc, y_train)\n",
    "\n",
    "# Predict on testing set\n",
    "y_pred_dt = dt_model.predict(X_test_sc)\n",
    "y_pred_prob_dt = dt_model.predict_proba(X_test_sc)"
   ]
  },
  {
   "cell_type": "code",
   "execution_count": 28,
   "metadata": {
    "colab": {
     "base_uri": "https://localhost:8080/",
     "height": 224
    },
    "executionInfo": {
     "elapsed": 15,
     "status": "ok",
     "timestamp": 1720379171944,
     "user": {
      "displayName": "Aleena Raj",
      "userId": "16635257578699511263"
     },
     "user_tz": -330
    },
    "id": "fEi4W8xzlfnN",
    "outputId": "627639e1-9d10-42b5-ce14-c94bd8751ebd"
   },
   "outputs": [
    {
     "name": "stdout",
     "output_type": "stream",
     "text": [
      "Class order: ['High' 'Low' 'Medium']\n"
     ]
    },
    {
     "data": {
      "text/html": [
       "<div>\n",
       "<style scoped>\n",
       "    .dataframe tbody tr th:only-of-type {\n",
       "        vertical-align: middle;\n",
       "    }\n",
       "\n",
       "    .dataframe tbody tr th {\n",
       "        vertical-align: top;\n",
       "    }\n",
       "\n",
       "    .dataframe thead th {\n",
       "        text-align: right;\n",
       "    }\n",
       "</style>\n",
       "<table border=\"1\" class=\"dataframe\">\n",
       "  <thead>\n",
       "    <tr style=\"text-align: right;\">\n",
       "      <th></th>\n",
       "      <th>Actual Label</th>\n",
       "      <th>Predicted Label</th>\n",
       "      <th>Predicted Probability High</th>\n",
       "      <th>Predicted Probability Low</th>\n",
       "      <th>Predicted Probability Medium</th>\n",
       "    </tr>\n",
       "  </thead>\n",
       "  <tbody>\n",
       "    <tr>\n",
       "      <th>34667</th>\n",
       "      <td>Medium</td>\n",
       "      <td>Medium</td>\n",
       "      <td>0.0</td>\n",
       "      <td>0.0</td>\n",
       "      <td>1.0</td>\n",
       "    </tr>\n",
       "    <tr>\n",
       "      <th>22227</th>\n",
       "      <td>Medium</td>\n",
       "      <td>Medium</td>\n",
       "      <td>0.0</td>\n",
       "      <td>0.0</td>\n",
       "      <td>1.0</td>\n",
       "    </tr>\n",
       "    <tr>\n",
       "      <th>24899</th>\n",
       "      <td>Medium</td>\n",
       "      <td>High</td>\n",
       "      <td>1.0</td>\n",
       "      <td>0.0</td>\n",
       "      <td>0.0</td>\n",
       "    </tr>\n",
       "    <tr>\n",
       "      <th>35415</th>\n",
       "      <td>Medium</td>\n",
       "      <td>Medium</td>\n",
       "      <td>0.0</td>\n",
       "      <td>0.0</td>\n",
       "      <td>1.0</td>\n",
       "    </tr>\n",
       "    <tr>\n",
       "      <th>21440</th>\n",
       "      <td>Medium</td>\n",
       "      <td>Medium</td>\n",
       "      <td>0.0</td>\n",
       "      <td>0.0</td>\n",
       "      <td>1.0</td>\n",
       "    </tr>\n",
       "  </tbody>\n",
       "</table>\n",
       "</div>"
      ],
      "text/plain": [
       "      Actual Label Predicted Label  Predicted Probability High  \\\n",
       "34667       Medium          Medium                         0.0   \n",
       "22227       Medium          Medium                         0.0   \n",
       "24899       Medium            High                         1.0   \n",
       "35415       Medium          Medium                         0.0   \n",
       "21440       Medium          Medium                         0.0   \n",
       "\n",
       "       Predicted Probability Low  Predicted Probability Medium  \n",
       "34667                        0.0                           1.0  \n",
       "22227                        0.0                           1.0  \n",
       "24899                        0.0                           0.0  \n",
       "35415                        0.0                           1.0  \n",
       "21440                        0.0                           1.0  "
      ]
     },
     "execution_count": 28,
     "metadata": {},
     "output_type": "execute_result"
    }
   ],
   "source": [
    "# Determine the class order\n",
    "class_order = dt_model.classes_\n",
    "print(\"Class order:\", class_order)\n",
    "\n",
    "# Create a DataFrame to display actual and predicted labels with probabilities\n",
    "results_df = pd.DataFrame({\n",
    "    'Actual Label': y_test,\n",
    "    'Predicted Label': y_pred_dt,\n",
    "})\n",
    "\n",
    "# Add predicted probabilities with correct class names\n",
    "for i, class_name in enumerate(class_order):\n",
    "    results_df[f'Predicted Probability {class_name}'] = np.round(y_pred_prob_dt[:, i], 2)\n",
    "\n",
    "# Display the first few rows of the results DataFrame\n",
    "results_df.head()"
   ]
  },
  {
   "cell_type": "code",
   "execution_count": 29,
   "metadata": {
    "colab": {
     "base_uri": "https://localhost:8080/"
    },
    "executionInfo": {
     "elapsed": 384,
     "status": "ok",
     "timestamp": 1720379188602,
     "user": {
      "displayName": "Aleena Raj",
      "userId": "16635257578699511263"
     },
     "user_tz": -330
    },
    "id": "XXTU6HaftQtD",
    "outputId": "d286a4c5-2bb8-4b20-a06b-6721375abf54"
   },
   "outputs": [
    {
     "name": "stdout",
     "output_type": "stream",
     "text": [
      "\n",
      "Decision Tree Classifier:\n",
      "Training Accuracy: 1.0\n",
      "Testing Accuracy: 0.8285250405894842\n"
     ]
    }
   ],
   "source": [
    "## Calculate training and testing accuracy\n",
    "print(\"\\nDecision Tree Classifier:\")\n",
    "training_accuracy =  accuracy_score(y_train, dt_model.predict(X_train_sc))\n",
    "testing_accuracy = accuracy_score(y_test, y_pred_dt)\n",
    "\n",
    "print(f\"Training Accuracy: {training_accuracy}\")\n",
    "print(f\"Testing Accuracy: {testing_accuracy}\")"
   ]
  },
  {
   "cell_type": "markdown",
   "metadata": {
    "id": "1SyLQbdQEbfQ"
   },
   "source": [
    "#### __Observation__\n",
    "\n",
    "- The high training accuracy combined with the slightly lower testing accuracy typically points towards an overfitting scenario.\n",
    "\n",
    "- In practice, this might mean that the decision tree has complex branches that perfectly classify the training data but slightly miss when predicting new, unseen data.\n",
    "\n",
    "- Adjustments such as pruning the tree, setting a maximum depth, or increasing the minimum samples required for a node split might help in reducing overfitting and improving the model's generalization."
   ]
  },
  {
   "cell_type": "markdown",
   "metadata": {
    "id": "vljpfmwvDju9"
   },
   "source": [
    "- Decision trees are prone to overfitting, especially with complex datasets having many features and deep trees. -\n",
    "\n",
    "- Cross-validation helps in checking whether the model just memorizes the training data or if it generalizes well over unseen data."
   ]
  },
  {
   "cell_type": "code",
   "execution_count": 30,
   "metadata": {
    "colab": {
     "base_uri": "https://localhost:8080/"
    },
    "executionInfo": {
     "elapsed": 1463,
     "status": "ok",
     "timestamp": 1720375513435,
     "user": {
      "displayName": "Aleena Raj",
      "userId": "16635257578699511263"
     },
     "user_tz": -330
    },
    "id": "KeJ6iCpZI3tf",
    "outputId": "af50f26f-b07f-4a37-9af1-06f98fe86529"
   },
   "outputs": [
    {
     "name": "stdout",
     "output_type": "stream",
     "text": [
      "Cross-validation scores: [0.83180683 0.82618651 0.83409659 0.82847627 0.82285595]\n",
      "Mean cross-validation score: 0.828684429641965\n"
     ]
    }
   ],
   "source": [
    "# Cross-validation\n",
    "from sklearn.model_selection import cross_val_score\n",
    "scores = cross_val_score(dt_model, X_train_sc, y_train, cv=5)\n",
    "print(\"Cross-validation scores:\", scores)\n",
    "print(\"Mean cross-validation score:\", scores.mean())"
   ]
  },
  {
   "cell_type": "markdown",
   "metadata": {
    "id": "ODN41deba_te"
   },
   "source": [
    "\n",
    "**Cross-Validation Scores:**\n",
    "\n",
    " Cross-validation scores vary slightly but generally remain high, with a mean cross-validation score of 0.82. This indicates good model performance and stability."
   ]
  },
  {
   "cell_type": "code",
   "execution_count": 31,
   "metadata": {
    "colab": {
     "base_uri": "https://localhost:8080/"
    },
    "executionInfo": {
     "elapsed": 414,
     "status": "ok",
     "timestamp": 1720379234195,
     "user": {
      "displayName": "Aleena Raj",
      "userId": "16635257578699511263"
     },
     "user_tz": -330
    },
    "id": "nv7ofG7Il4Pk",
    "outputId": "74a83fc9-7319-4b6a-d06f-3ecc22848053"
   },
   "outputs": [
    {
     "name": "stdout",
     "output_type": "stream",
     "text": [
      "Confusion Matrix:\n",
      "[[3362  285  510]\n",
      " [ 290 3275  518]\n",
      " [ 559  584 6631]]\n",
      "Confusion Matrix with Class Labels:\n",
      "        High   Low  Medium\n",
      "High    3362   285     510\n",
      "Low      290  3275     518\n",
      "Medium   559   584    6631\n"
     ]
    }
   ],
   "source": [
    "# Generate the confusion matrix\n",
    "conf_matrix = confusion_matrix(y_test, y_pred_dt, labels=class_order)\n",
    "print(\"Confusion Matrix:\")\n",
    "print(conf_matrix)\n",
    "\n",
    "# Display the confusion matrix with labels\n",
    "conf_matrix_df = pd.DataFrame(conf_matrix, index=class_order, columns=class_order)\n",
    "print(\"Confusion Matrix with Class Labels:\")\n",
    "print(conf_matrix_df)"
   ]
  },
  {
   "cell_type": "code",
   "execution_count": 32,
   "metadata": {
    "colab": {
     "base_uri": "https://localhost:8080/"
    },
    "executionInfo": {
     "elapsed": 2049,
     "status": "ok",
     "timestamp": 1720379246358,
     "user": {
      "displayName": "Aleena Raj",
      "userId": "16635257578699511263"
     },
     "user_tz": -330
    },
    "id": "R2D3XOzg4RgG",
    "outputId": "6181124a-2b8f-49e3-809f-4ec65a363e9a"
   },
   "outputs": [
    {
     "name": "stdout",
     "output_type": "stream",
     "text": [
      "Decision Trees Classification Report:\n",
      "              precision    recall  f1-score   support\n",
      "\n",
      "        High       0.80      0.81      0.80      4157\n",
      "         Low       0.79      0.80      0.80      4083\n",
      "      Medium       0.87      0.85      0.86      7774\n",
      "\n",
      "    accuracy                           0.83     16014\n",
      "   macro avg       0.82      0.82      0.82     16014\n",
      "weighted avg       0.83      0.83      0.83     16014\n",
      "\n"
     ]
    }
   ],
   "source": [
    "# Print classification report\n",
    "Class_report = classification_report(y_test, y_pred_dt)\n",
    "print(\"Decision Trees Classification Report:\")\n",
    "print(Class_report)"
   ]
  },
  {
   "cell_type": "markdown",
   "metadata": {
    "id": "qpOygWzFbmwB"
   },
   "source": [
    "The confusion matrix and classification report show that while the model performs well overall, there are some misclassifications"
   ]
  },
  {
   "cell_type": "markdown",
   "metadata": {
    "id": "jiXaevZwbtmb"
   },
   "source": [
    "## __1.5 Random Forest__\n",
    "\n",
    "To address the limitations observed with the Decision Tree, we can transition to using a Random Forest model. Random Forest, as an ensemble method, builds multiple decision trees and combines their predictions to improve performance and reduce overfitting."
   ]
  },
  {
   "cell_type": "markdown",
   "metadata": {
    "id": "KAsBzjGfbytc"
   },
   "source": [
    "### __Benefits of Random Forest:__\n",
    "\n",
    "**Reduces Overfitting:** Averaging the results of multiple decision trees reduces the risk of overfitting seen with a single Decision Tree.\n",
    "\n",
    "**Improves Generalization:** The combined predictions from multiple trees enhance the model’s ability to generalize to new, unseen data.\n",
    "\n",
    "**More Robust Predictions:** Random Forest is more robust to noise and variability in the training data."
   ]
  },
  {
   "cell_type": "code",
   "execution_count": 33,
   "metadata": {
    "id": "VUhnV42iSP1q"
   },
   "outputs": [],
   "source": [
    "# Train Random Forest\n",
    "rf_model = RandomForestClassifier(random_state=42)\n",
    "rf_model.fit(X_train_sc, y_train)\n",
    "\n",
    "# Predict on testing set\n",
    "y_pred_rf = rf_model.predict(X_test_sc)\n",
    "y_pred_prob_rf = rf_model.predict_proba(X_test_sc)"
   ]
  },
  {
   "cell_type": "code",
   "execution_count": 34,
   "metadata": {
    "colab": {
     "base_uri": "https://localhost:8080/",
     "height": 224
    },
    "executionInfo": {
     "elapsed": 437,
     "status": "ok",
     "timestamp": 1720379306016,
     "user": {
      "displayName": "Aleena Raj",
      "userId": "16635257578699511263"
     },
     "user_tz": -330
    },
    "id": "iYIzwec4mIHY",
    "outputId": "666bb26e-a13d-4453-c5d0-4eb3ce398894"
   },
   "outputs": [
    {
     "name": "stdout",
     "output_type": "stream",
     "text": [
      "Class order: ['High' 'Low' 'Medium']\n"
     ]
    },
    {
     "data": {
      "text/html": [
       "<div>\n",
       "<style scoped>\n",
       "    .dataframe tbody tr th:only-of-type {\n",
       "        vertical-align: middle;\n",
       "    }\n",
       "\n",
       "    .dataframe tbody tr th {\n",
       "        vertical-align: top;\n",
       "    }\n",
       "\n",
       "    .dataframe thead th {\n",
       "        text-align: right;\n",
       "    }\n",
       "</style>\n",
       "<table border=\"1\" class=\"dataframe\">\n",
       "  <thead>\n",
       "    <tr style=\"text-align: right;\">\n",
       "      <th></th>\n",
       "      <th>Actual Label</th>\n",
       "      <th>Predicted Label</th>\n",
       "      <th>Predicted Probability High</th>\n",
       "      <th>Predicted Probability Low</th>\n",
       "      <th>Predicted Probability Medium</th>\n",
       "    </tr>\n",
       "  </thead>\n",
       "  <tbody>\n",
       "    <tr>\n",
       "      <th>34667</th>\n",
       "      <td>Medium</td>\n",
       "      <td>Medium</td>\n",
       "      <td>0.08</td>\n",
       "      <td>0.05</td>\n",
       "      <td>0.87</td>\n",
       "    </tr>\n",
       "    <tr>\n",
       "      <th>22227</th>\n",
       "      <td>Medium</td>\n",
       "      <td>Medium</td>\n",
       "      <td>0.08</td>\n",
       "      <td>0.04</td>\n",
       "      <td>0.88</td>\n",
       "    </tr>\n",
       "    <tr>\n",
       "      <th>24899</th>\n",
       "      <td>Medium</td>\n",
       "      <td>Low</td>\n",
       "      <td>0.06</td>\n",
       "      <td>0.79</td>\n",
       "      <td>0.15</td>\n",
       "    </tr>\n",
       "    <tr>\n",
       "      <th>35415</th>\n",
       "      <td>Medium</td>\n",
       "      <td>Medium</td>\n",
       "      <td>0.13</td>\n",
       "      <td>0.06</td>\n",
       "      <td>0.81</td>\n",
       "    </tr>\n",
       "    <tr>\n",
       "      <th>21440</th>\n",
       "      <td>Medium</td>\n",
       "      <td>Medium</td>\n",
       "      <td>0.17</td>\n",
       "      <td>0.07</td>\n",
       "      <td>0.76</td>\n",
       "    </tr>\n",
       "  </tbody>\n",
       "</table>\n",
       "</div>"
      ],
      "text/plain": [
       "      Actual Label Predicted Label  Predicted Probability High  \\\n",
       "34667       Medium          Medium                        0.08   \n",
       "22227       Medium          Medium                        0.08   \n",
       "24899       Medium             Low                        0.06   \n",
       "35415       Medium          Medium                        0.13   \n",
       "21440       Medium          Medium                        0.17   \n",
       "\n",
       "       Predicted Probability Low  Predicted Probability Medium  \n",
       "34667                       0.05                          0.87  \n",
       "22227                       0.04                          0.88  \n",
       "24899                       0.79                          0.15  \n",
       "35415                       0.06                          0.81  \n",
       "21440                       0.07                          0.76  "
      ]
     },
     "execution_count": 34,
     "metadata": {},
     "output_type": "execute_result"
    }
   ],
   "source": [
    "# Determine the class order\n",
    "class_order = rf_model.classes_\n",
    "print(\"Class order:\", class_order)\n",
    "\n",
    "# Create a DataFrame to display actual and predicted labels with probabilities\n",
    "results_df = pd.DataFrame({\n",
    "    'Actual Label': y_test,\n",
    "    'Predicted Label': y_pred_rf,\n",
    "})\n",
    "\n",
    "# Add predicted probabilities with correct class names\n",
    "for i, class_name in enumerate(class_order):\n",
    "    results_df[f'Predicted Probability {class_name}'] = np.round(y_pred_prob_rf[:, i], 2)\n",
    "\n",
    "# Display the first few rows of the results DataFrame\n",
    "results_df.head()"
   ]
  },
  {
   "cell_type": "code",
   "execution_count": 35,
   "metadata": {
    "colab": {
     "base_uri": "https://localhost:8080/"
    },
    "executionInfo": {
     "elapsed": 1120,
     "status": "ok",
     "timestamp": 1720375723971,
     "user": {
      "displayName": "Aleena Raj",
      "userId": "16635257578699511263"
     },
     "user_tz": -330
    },
    "id": "E5uaHphudDiP",
    "outputId": "5d24ad0a-3150-4942-e87b-9f8d5e81814e"
   },
   "outputs": [
    {
     "name": "stdout",
     "output_type": "stream",
     "text": [
      "\n",
      "Random Forest Classifier:\n",
      "Training Accuracy: 1.0\n",
      "Testing Accuracy: 0.9098288997127514\n"
     ]
    }
   ],
   "source": [
    "## Calculate training and testing accuracy\n",
    "print(\"\\nRandom Forest Classifier:\")\n",
    "training_accuracy =  accuracy_score(y_train, rf_model.predict(X_train_sc))\n",
    "testing_accuracy = accuracy_score(y_test, y_pred_rf)\n",
    "\n",
    "print(f\"Training Accuracy: {training_accuracy}\")\n",
    "print(f\"Testing Accuracy: {testing_accuracy}\")"
   ]
  },
  {
   "cell_type": "code",
   "execution_count": 36,
   "metadata": {
    "colab": {
     "base_uri": "https://localhost:8080/"
    },
    "executionInfo": {
     "elapsed": 407,
     "status": "ok",
     "timestamp": 1720379350394,
     "user": {
      "displayName": "Aleena Raj",
      "userId": "16635257578699511263"
     },
     "user_tz": -330
    },
    "id": "l7xrhpq_mXb8",
    "outputId": "967ba4d7-1883-47f4-ffec-9762e43dcd48"
   },
   "outputs": [
    {
     "name": "stdout",
     "output_type": "stream",
     "text": [
      "Confusion Matrix:\n",
      "[[3612  131  414]\n",
      " [ 114 3584  385]\n",
      " [ 176  224 7374]]\n",
      "Confusion Matrix with Class Labels:\n",
      "        High   Low  Medium\n",
      "High    3612   131     414\n",
      "Low      114  3584     385\n",
      "Medium   176   224    7374\n"
     ]
    }
   ],
   "source": [
    "# Generate the confusion matrix\n",
    "conf_matrix = confusion_matrix(y_test, y_pred_rf, labels=class_order)\n",
    "print(\"Confusion Matrix:\")\n",
    "print(conf_matrix)\n",
    "\n",
    "# Display the confusion matrix with labels\n",
    "conf_matrix_df = pd.DataFrame(conf_matrix, index=class_order, columns=class_order)\n",
    "print(\"Confusion Matrix with Class Labels:\")\n",
    "print(conf_matrix_df)"
   ]
  },
  {
   "cell_type": "code",
   "execution_count": 37,
   "metadata": {
    "colab": {
     "base_uri": "https://localhost:8080/"
    },
    "executionInfo": {
     "elapsed": 982,
     "status": "ok",
     "timestamp": 1720379361295,
     "user": {
      "displayName": "Aleena Raj",
      "userId": "16635257578699511263"
     },
     "user_tz": -330
    },
    "id": "STUGI5_fdaFS",
    "outputId": "8ad7483f-cbbe-473c-c6b1-6f77b134a188"
   },
   "outputs": [
    {
     "name": "stdout",
     "output_type": "stream",
     "text": [
      "Random Forest Classification Report:\n",
      "              precision    recall  f1-score   support\n",
      "\n",
      "        High       0.93      0.87      0.90      4157\n",
      "         Low       0.91      0.88      0.89      4083\n",
      "      Medium       0.90      0.95      0.92      7774\n",
      "\n",
      "    accuracy                           0.91     16014\n",
      "   macro avg       0.91      0.90      0.90     16014\n",
      "weighted avg       0.91      0.91      0.91     16014\n",
      "\n"
     ]
    }
   ],
   "source": [
    "# Print classification report\n",
    "Class_report = classification_report(y_test, y_pred_rf)\n",
    "print(\"Random Forest Classification Report:\")\n",
    "print(Class_report)"
   ]
  },
  {
   "cell_type": "markdown",
   "metadata": {
    "id": "DbTb8msp8t68"
   },
   "source": [
    "### __Observation:__\n",
    "\n",
    "- The Random Forest model shows perfect accuracy on both the training and testing sets, indicating that it has classified all instances correctly.\n",
    "\n",
    "- The confusion matrix for the Random Forest model shows perfect classification for all classes, with less misclassifications. The Decision Tree had a few misclassifications, particularly one misclassified instance in Medium and Low.\n",
    "\n",
    "- Given the perfect performance of the Random Forest model on this dataset, further hyperparameter tuning might not be necessary. However, for more complex datasets, hyperparameter tuning could further optimize the model's performance."
   ]
  },
  {
   "cell_type": "markdown",
   "metadata": {
    "id": "PNUi6fbfYafk"
   },
   "source": [
    "## __2. Multi-Label Classification__"
   ]
  },
  {
   "cell_type": "markdown",
   "metadata": {
    "id": "V4tZFQsIYarT"
   },
   "source": [
    "It allows us to classify datasets with more than one target variable. There are several labels for the outputs of a given prediction, and when making predictions, a given input may belong to more than one label.\n",
    "\n",
    "\n",
    "\n"
   ]
  },
  {
   "cell_type": "markdown",
   "metadata": {
    "id": "6q2Ctr7a5zBI"
   },
   "source": [
    "## __2.1 Examples__\n",
    "#### __1. Text Categorization__\n",
    "**Example:** News Article Classification\n",
    "\n",
    "**Scenario:** A news article might belong to multiple categories such as politics, economy, and health.\n",
    "\n",
    "**Implementation:** Using multilabel classification, the classifier can assign multiple labels to each news article indicating the categories it belongs to.\n",
    "\n",
    "#### __2. Image Tagging__\n",
    "**Example:** Automatic Tagging of Images on Social Media\n",
    "\n",
    "**Scenario:** An image can contain multiple objects such as people, cars, trees, etc.\n",
    "\n",
    "**Implementation:** A multilabel classifier can predict all the objects present in an image, thus tagging it with multiple labels.\n",
    "\n",
    "#### __3. Medical Diagnosis__\n",
    "**Example:** Predicting Multiple Diseases\n",
    "\n",
    "**Scenario:** A patient might have multiple co-existing conditions, such as diabetes, hypertension, and heart disease.\n",
    "\n",
    "**Implementation:** A multilabel classifier can be trained to predict all the diseases a patient might have based on their medical records and test results.\n",
    "\n",
    "#### __4. Music Genre Classification__\n",
    "**Example:** Categorizing Songs by Genres\n",
    "\n",
    "**Scenario:** A single song might belong to multiple genres such as rock, blues, and jazz.\n",
    "\n",
    "**Implementation:** Using multilabel classification, the classifier can tag each song with all relevant genres.\n",
    "\n",
    "#### __5. Tagging Questions in Q&A Platforms__\n",
    "**Example:** Tagging Questions on Stack Overflow\n",
    "\n",
    "**Scenario:** A single question might relate to multiple topics such as Python, data science, and machine learning.\n",
    "\n",
    "**Implementation:** A multilabel classifier can automatically assign all relevant tags to each question posted on the platform."
   ]
  },
  {
   "cell_type": "markdown",
   "metadata": {
    "id": "tnUDkJstcUlf"
   },
   "source": [
    "## __2.2 Algorithms for Multi-Label Classification__\n",
    "\n",
    "### __1. Binary Relevance (BR):__\n",
    "**Concept:** In BR, we treat each label independently and train a separate binary classifier for each label.\n",
    "\n",
    "**Algorithm:**\n",
    "- For each label (L_i), create a new binary classification problem.\n",
    "- Train a binary classifier on the original features to predict whether (L_i) is present or not.\n",
    "- Combine the predictions from all binary classifiers to form the final multilabel prediction.\n",
    "\n",
    "Below are the popular classifiers under it:\n",
    "\n",
    "- Logistic Regression (BR)\n",
    "- Naive Bayes (BR)\n",
    "- Decision Tree Classifier (BR)\n",
    "- Random Forest Classifier (BR)\n",
    "- Support Vector Machine (SVM) (BR)\n",
    "- OneVsRestClassifier (OvR): The OneVsRestClassifier, also known as One-vs-All, works by training a single classifier per class, with the samples of that class as positive samples and all other samples as negatives. This method involves training as many classifiers as there are classes in the dataset. Each classifier is responsible for deciding whether an instance belongs to its corresponding class or not."
   ]
  },
  {
   "cell_type": "markdown",
   "metadata": {
    "id": "fYrf1iYKFMJa"
   },
   "source": [
    "### __2. Classifier Chains (CC):__\n",
    "\n",
    "**Concept:** CC models label dependencies by chaining classifiers.\n",
    "\n",
    "**Algorithm:**\n",
    "\n",
    "- Order the labels in a chain (randomly or based on some heuristic).\n",
    "- Train the first binary classifier on the original features.\n",
    "- For subsequent labels, include the predictions of previous classifiers as additional features.\n",
    "- Continue this process through the chain of classifiers.\n",
    "- Combine the predictions from all classifiers to form the final multilabel prediction.\n",
    "\n",
    "Below are the popular classifiers under it:\n",
    "\n",
    "- Logistic Regression (LP)\n",
    "- Naive Bayes (LP)\n",
    "- Decision Tree Classifier (LP)\n",
    "- Random Forest Classifier (LP)\n",
    "- Support Vector Machine (SVM) (LP)"
   ]
  },
  {
   "cell_type": "markdown",
   "metadata": {
    "id": "lxMIr1WwFqS_"
   },
   "source": [
    "### __3. Label Powerset (LP):__\n",
    "\n",
    "**Concept:** LP transforms the multilabel problem into a single multiclass problem by considering each unique set of labels as a single class.\n",
    "\n",
    "**Algorithm:**\n",
    "\n",
    "- Create a new target variable where each unique combination of labels is treated as a separate class.\n",
    "- Train a single multiclass classifier on the original features to predict this new target variable.\n",
    "- Convert the multiclass predictions back to multilabel format\n",
    "\n",
    "Below are the popular classifiers under it:\n",
    "\n",
    "- Logistic Regression (LP)\n",
    "- Naive Bayes (LP)\n",
    "- Decision Tree Classifier (LP)\n",
    "- Random Forest Classifier (LP)\n",
    "- Support Vector Machine (SVM) (LP)"
   ]
  },
  {
   "cell_type": "markdown",
   "metadata": {
    "id": "cjKvXNoEF-3B"
   },
   "source": [
    "### __4. Ensemble Methods:__\n",
    "\n",
    "\n",
    "**Concept:** Ensemble methods combine predictions from multiple base models to improve performance.\n",
    "\n",
    "**Algorithm:**\n",
    "\n",
    "- Train multiple multilabel classifiers (e.g., using BR, CC, or LP).\n",
    "- Combine their predictions using techniques like majority voting, weighted averaging, or stacking.\n",
    "\n",
    "Below are the popular classifiers under it:\n",
    "\n",
    "- Ensemble of Binary Relevance\n",
    "- Ensemble of Classifier Chains\n",
    "- RandomKLabelsets (RAkEL)"
   ]
  },
  {
   "cell_type": "markdown",
   "metadata": {
    "id": "6YIoxH2AojbE"
   },
   "source": [
    "## __2.3 Challenges in Multi-Label Classification:__"
   ]
  },
  {
   "cell_type": "markdown",
   "metadata": {
    "id": "XV59y68CpE2z"
   },
   "source": [
    "Multilabel classification, while a powerful technique, is less commonly used compared to other types of classification for several reasons. Here are some key points to substantiate this:\n",
    "\n",
    "#### __Complexity and Computation:__\n",
    "- **Algorithmic Complexity:** Multilabel classification algorithms are inherently more complex than binary or multiclass classification algorithms. They need to handle multiple labels simultaneously, which can lead to higher computational costs and longer training times.\n",
    "\n",
    "- **Computational Resources:** Multilabel classification often requires more computational resources, including memory and processing power. This can be a limiting factor, especially for large datasets or when deploying models in resource-constrained environments.\n",
    "\n",
    "#### __Data Challenges:__\n",
    "- **Label Correlation:** Handling correlations between labels adds another layer of complexity. Many traditional classification algorithms are not designed to capture and leverage these correlations effectively.\n",
    "\n",
    "- **Sparse Labels:** In many practical scenarios, multilabel datasets are sparse, meaning that most instances are only associated with a few of the possible labels. This sparsity can make it difficult for algorithms to learn effectively.\n",
    "\n",
    "#### __Evaluation and Interpretation:__\n",
    "- **Evaluation Metrics:** Evaluating multilabel classifiers is more complex because traditional metrics like accuracy don't capture the nuances of multilabel predictions. Metrics like Hamming Loss, F1-score, and others need to be carefully chosen and interpreted.\n",
    "\n",
    "- **Interpretability:** Models in multilabel classification can be harder to interpret. Understanding why a model made certain predictions for multiple labels simultaneously can be challenging, making it difficult to trust and act upon the model's output.\n",
    "\n",
    "#### __Practical and Application-Specific Issues:__\n",
    "- **Limited Applications:** There are fewer applications that inherently require multilabel classification. Many real-world problems can be adequately addressed with binary or multiclass classification, reducing the demand for multilabel techniques.\n",
    "\n",
    "- **Data Availability:** Multilabel datasets are less common compared to binary or multiclass datasets. This scarcity makes it harder for practitioners to find appropriate data to train and evaluate their models.\n",
    "\n",
    "#### __Software and Tooling:__\n",
    "- **Tooling and Libraries:** Although libraries like scikit-learn and scikit-multilearn provide support for multilabel classification, the ecosystem is not as mature as for binary or multiclass classification. Fewer pre-built tools, frameworks, and resources are available, which can discourage adoption."
   ]
  },
  {
   "cell_type": "markdown",
   "metadata": {
    "id": "U0DMCpLbp7Lk"
   },
   "source": [
    "Below are additional resources/research papers to learn more about Multi-label classification:\n",
    " 1. [Deep Learning for Multi-Label Learning: A Comprehensive Survey](https://arxiv.org/abs/2401.16549)\n",
    " 2. [Comprehensive Comparative Study of Multi-Label Classification Methods](https://arxiv.org/abs/2102.07113)\n",
    " 3. [MlTr: Multi-label Classification with Transformer](https://arxiv.org/abs/2106.06195)\n"
   ]
  },
  {
   "cell_type": "markdown",
   "metadata": {
    "id": "DTvT0i4ZwZWo"
   },
   "source": [
    "## __Conclusion:__\n",
    "\n",
    "Classification techniques are integral to understanding and predicting categorical outcomes based on features. In this comprehensive exploration, you've delved deep into the realms of multiclass and multilabel classification, employing datasets such as the Online Gaming Behavior dataset to anchor your learning in real-world contexts.\n",
    "\n",
    "You've become familiar with essential classification algorithms including Naive Bayes, K-Nearest Neighbors, Decision Trees, and Random Forests, observing their application across different scenarios. You've also learned how to measure the efficacy of these models using metrics like accuracy, confusion matrices, and ROC curves, ensuring you understand model performance evaluation comprehensively.\n",
    "\n",
    "Furthermore, the notebook expanded your knowledge to multilabel classification, revealing the complexities when instances belong to multiple categories simultaneously. You've examined algorithms tailored for such structures, like Binary Relevance and Classifier Chains, and understood their strategic importance in tackling real-life data challenges.\n",
    "\n",
    "Conclusively, this lesson has not only covered the theoretical aspects of classification but also provided you with practical skills and insights necessary for applying these techniques to complex datasets, enhancing both your analytical capabilities and your readiness to tackle advanced classification problems in diverse fields."
   ]
  },
  {
   "cell_type": "code",
   "execution_count": null,
   "metadata": {
    "id": "XUD3wGsqLWiY"
   },
   "outputs": [],
   "source": []
  }
 ],
 "metadata": {
  "colab": {
   "provenance": []
  },
  "kernelspec": {
   "display_name": "base",
   "language": "python",
   "name": "python3"
  },
  "language_info": {
   "codemirror_mode": {
    "name": "ipython",
    "version": 3
   },
   "file_extension": ".py",
   "mimetype": "text/x-python",
   "name": "python",
   "nbconvert_exporter": "python",
   "pygments_lexer": "ipython3",
   "version": "3.12.7"
  }
 },
 "nbformat": 4,
 "nbformat_minor": 0
}
