{
 "cells": [
  {
   "cell_type": "code",
   "id": "3784e6dd-c49a-4ab3-97d3-6b65064742b0",
   "metadata": {
    "ExecuteTime": {
     "end_time": "2025-04-12T05:59:50.782774Z",
     "start_time": "2025-04-12T05:59:50.765957Z"
    }
   },
   "source": [
    "import datetime\n",
    "import pandas as pd\n",
    "import os\n",
    "\n",
    "valid_categories = [\"Food\", \"Travel\", \"Grocery\", \"Restaurants\", \"Medical\"]\n",
    "monthly_budget = {}\n",
    "monthly_expense_category_sum = {}\n",
    "\n",
    "def add_expense():\n",
    "    date = get_date_input()\n",
    "    category = get_expense_category()\n",
    "    amount = get_amount_spent()\n",
    "    description = get_expense_description()\n",
    "\n",
    "    expense_dict = {\n",
    "        'Date': date,\n",
    "        'Category': category,\n",
    "        'Amount': amount,\n",
    "        'Description': description\n",
    "    }\n",
    "    \n",
    "    # Print the collected input data\n",
    "    print(\"\\n--- Expense Added ---\")\n",
    "    print(f\"Date: {date}\")\n",
    "    print(f\"Category: {category}\")\n",
    "    print(f\"Amount: ${amount:.2f}\")\n",
    "    print(f\"Description: {description if description else 'N/A'}\")\n",
    "\n",
    "    expenses_list = []\n",
    "    \n",
    "    expenses_list.append(expense_dict)    \n",
    "\n",
    "    expense_df = pd.DataFrame(expenses_list)\n",
    "\n",
    "    save_expenses(expense_df)\n",
    "    \n",
    "    return pd\n",
    "\n",
    "def view_expense():\n",
    "    expenses_list = load_expenses()\n",
    "    for expense in expenses_list:\n",
    "        print(f\"On {expense['Date']}, spent INR {expense['Amount']:.2f} on {expense['Category']} in {expense['Description']}\")\n",
    "\n",
    "def save_expenses(expense_df):\n",
    "    file_path = 'expenses.csv'\n",
    "        # Write to file\n",
    "    if os.path.exists(file_path):\n",
    "        # File exists, append without writing headers\n",
    "        expense_df.to_csv(file_path, mode='a', header=False, index=False)\n",
    "        print(f\"Expense added to existing file: {file_path}\")\n",
    "    else:\n",
    "        # File doesn't exist, create new file with headers\n",
    "        expense_df.to_csv(file_path, index=False)\n",
    "        print(f\"Created new file: {file_path}\")    \n",
    "\n",
    "\n",
    "        \n",
    "def load_expenses():\n",
    "    \"\"\"Load expenses from file into a list of dictionaries\"\"\"\n",
    "    file_path = 'expenses.csv'\n",
    "    \n",
    "    if os.path.exists(file_path):\n",
    "        # Read the CSV file into a DataFrame\n",
    "        expenses_df = pd.read_csv(file_path)\n",
    "        \n",
    "        expenses_list = expenses_df.to_dict('records')\n",
    "        print(f\"Loaded {len(expenses_list)} expenses from {file_path}\")\n",
    "    else:\n",
    "        print(\"No expense file found. Starting with empty list.\")\n",
    "        expenses_list = []\n",
    "    \n",
    "    return expenses_list\n",
    "\n",
    "\n",
    "def set_budget():\n",
    "    for category in valid_categories:\n",
    "        monthly_budget.update({\n",
    "            category: float(input(\"Enter budget for \" + category + \": \"))\n",
    "        })\n",
    "\n",
    "    print(monthly_budget)\n",
    "\n",
    "def print_budget():\n",
    "    print(monthly_budget)\n",
    "\n",
    "def track_budget():\n",
    "    expenses_list = load_expenses()\n",
    "    \n",
    "    # Create a nested dictionary structure:\n",
    "    # { year_month: { category: amount, ... }, ... }\n",
    "    monthly_expenses = {}\n",
    "\n",
    "    for expense in expenses_list:\n",
    "        date_parts = expense['Date'].split('-')\n",
    "        year_month = f\"{date_parts[0]}-{date_parts[1]}\"\n",
    "        category = expense['Category']\n",
    "        amount = expense['Amount']\n",
    "        \n",
    "        if year_month not in monthly_expenses:\n",
    "            monthly_expenses[year_month] = {}\n",
    "            \n",
    "        if category not in monthly_expenses[year_month]:\n",
    "            monthly_expenses[year_month][category] = 0\n",
    "            \n",
    "        monthly_expenses[year_month][category] += amount\n",
    "    \n",
    "    # Sort by year_month to display in chronological order\n",
    "    for year_month in sorted(monthly_expenses.keys()):\n",
    "        \n",
    "        # Get all categories for this month\n",
    "        categories = monthly_expenses[year_month]\n",
    "        \n",
    "        # Sort categories alphabetically\n",
    "        for category in sorted(categories.keys()):\n",
    "            amount = categories[category]\n",
    "            if(category in monthly_budget and amount>monthly_budget[category]):\n",
    "                print(f\" You have exceeded your budget for category {category} by  INR {(amount-monthly_budget[category]):.2f} for {year_month}\")    \n",
    "            elif(category in monthly_budget):\n",
    "                print(f\" You have INR {(monthly_budget[category]-amount):.2f} left for {year_month} for category {category} \")    \n",
    "    \n",
    "\n",
    "def get_expense_description(required=False, min_length=0, max_length=100):\n",
    "    while True:\n",
    "        # Prompt user for description\n",
    "        description = input(\"Enter expense description: \").strip()\n",
    "        \n",
    "        # Check if description is required but empty\n",
    "        if required and not description:\n",
    "            print(\"Description is required. Please enter a description.\")\n",
    "            continue\n",
    "        \n",
    "        # Check minimum length (if applicable)\n",
    "        if description and len(description) < min_length:\n",
    "            print(f\"Description must be at least {min_length} characters long.\")\n",
    "            continue\n",
    "        \n",
    "        # Check maximum length\n",
    "        if len(description) > max_length:\n",
    "            print(f\"Description cannot exceed {max_length} characters. Current length: {len(description)}\")\n",
    "            continue\n",
    "        \n",
    "        # If we get here, the description is valid\n",
    "        return description    \n",
    "\n",
    "def get_amount_spent(prompt=\"Enter amount spent: \"):\n",
    "    while True:\n",
    "        try:\n",
    "            # Convert to float\n",
    "            amount = float(input(prompt))\n",
    "            \n",
    "            # Validate amount is positive\n",
    "            if amount <= 0:\n",
    "                print(\"Amount must be greater than zero.\")\n",
    "                continue\n",
    "                \n",
    "            amount = round(amount, 2)\n",
    "            \n",
    "            return amount\n",
    "            \n",
    "        except ValueError:\n",
    "            print(\"Invalid input. Please enter a valid number.\")    \n",
    "\n",
    "\n",
    "\n",
    "def get_date_input(prompt=\"Enter a date (YYYY-MM-DD): \"):\n",
    "    while True:\n",
    "        \n",
    "        try:\n",
    "            # Attempt to parse the date\n",
    "            date_obj = datetime.datetime.strptime(input(prompt), \"%Y-%m-%d\").date()\n",
    "            \n",
    "            # Check if it's a valid date\n",
    "            datetime.date(date_obj.year, date_obj.month, date_obj.day)\n",
    "            \n",
    "            # If we get here, the date is valid\n",
    "            return date_obj\n",
    "            \n",
    "        except ValueError:\n",
    "            print(\"Invalid date format. Please use YYYY-MM-DD format.\")\n",
    "\n",
    "def get_expense_category(prompt=\"Enter expense category: \"):\n",
    "    \n",
    "    while True:\n",
    "        # Get user input and strip whitespace, convert to title case\n",
    "        category = input(prompt).title()\n",
    "        \n",
    "        # Check if the input matches any valid category\n",
    "        if category in valid_categories:\n",
    "            return category\n",
    "        else:\n",
    "            # Show error message with valid options\n",
    "            categories_str = \", \".join(valid_categories)\n",
    "            print(f\"Invalid category. Please choose from: {categories_str}\")   \n",
    "\n",
    "def display_menu():\n",
    "    \"\"\"Display the main menu options\"\"\"\n",
    "    print(\"\\n===== EXPENSE TRACKER =====\")\n",
    "    print(\"1. Add Expense\")\n",
    "    print(\"2. View Expenses\")\n",
    "    print(\"3. Set Budget\")\n",
    "    print(\"4. Track Budget\")\n",
    "    print(\"5. Exit\")\n",
    "    print(\"==========================\")\n",
    "\n",
    "def main():\n",
    "    \"\"\"Main program function with menu-driven interface\"\"\"\n",
    "    # Initialize - load existing data if available\n",
    "    expenses_list = load_expenses()\n",
    "    \n",
    "    while True:\n",
    "        display_menu()\n",
    "        \n",
    "        # Get user choice with error handling\n",
    "        try:\n",
    "            choice = int(input(\"Enter your choice (1-5): \"))\n",
    "        except ValueError:\n",
    "            print(\"Invalid input. Please enter a number.\")\n",
    "            continue\n",
    "            \n",
    "        # Process the user's choice\n",
    "        if choice == 1:\n",
    "            # Add expense\n",
    "            print(\"\\n--- Add New Expense ---\")\n",
    "            add_expense()\n",
    "            \n",
    "        elif choice == 2:\n",
    "            # View expenses\n",
    "            print(\"\\n--- View Expenses ---\")\n",
    "            view_expense()\n",
    "            \n",
    "        elif choice == 3:\n",
    "            # Set budget\n",
    "            print(\"\\n--- Set Monthly Budget ---\")\n",
    "            set_budget()\n",
    "            \n",
    "        elif choice == 4:\n",
    "            # Track budget\n",
    "            print(\"\\n--- Track Budget ---\")\n",
    "            if not monthly_budget:\n",
    "                print(\"No budget set. Please set a budget first.\")\n",
    "                continue\n",
    "            track_budget()\n",
    "            \n",
    "        elif choice == 5:\n",
    "            # Exit program\n",
    "            print(\"\\nThank you for using Expense Tracker. Goodbye!\")\n",
    "            break\n",
    "            \n",
    "        else:\n",
    "            # Invalid choice\n",
    "            print(\"Invalid choice. Please enter a number between 1 and 5.\")\n",
    "            \n",
    "        # Pause before showing menu again\n",
    "        input(\"\\nPress Enter to continue...\")\n"
   ],
   "outputs": [],
   "execution_count": 2
  },
  {
   "cell_type": "code",
   "id": "8bedf173-0dc0-4334-b408-4f133ad81ce0",
   "metadata": {
    "ExecuteTime": {
     "end_time": "2025-04-12T06:00:00.712125Z",
     "start_time": "2025-04-12T05:59:58.440999Z"
    }
   },
   "source": [
    "set_budget()"
   ],
   "outputs": [
    {
     "ename": "KeyboardInterrupt",
     "evalue": "Interrupted by user",
     "output_type": "error",
     "traceback": [
      "\u001B[31m---------------------------------------------------------------------------\u001B[39m",
      "\u001B[31mKeyboardInterrupt\u001B[39m                         Traceback (most recent call last)",
      "\u001B[36mCell\u001B[39m\u001B[36m \u001B[39m\u001B[32mIn[3]\u001B[39m\u001B[32m, line 1\u001B[39m\n\u001B[32m----> \u001B[39m\u001B[32m1\u001B[39m \u001B[43mset_budget\u001B[49m\u001B[43m(\u001B[49m\u001B[43m)\u001B[49m\n",
      "\u001B[36mCell\u001B[39m\u001B[36m \u001B[39m\u001B[32mIn[2]\u001B[39m\u001B[32m, line 78\u001B[39m, in \u001B[36mset_budget\u001B[39m\u001B[34m()\u001B[39m\n\u001B[32m     75\u001B[39m \u001B[38;5;28;01mdef\u001B[39;00m\u001B[38;5;250m \u001B[39m\u001B[34mset_budget\u001B[39m():\n\u001B[32m     76\u001B[39m     \u001B[38;5;28;01mfor\u001B[39;00m category \u001B[38;5;129;01min\u001B[39;00m valid_categories:\n\u001B[32m     77\u001B[39m         monthly_budget.update({\n\u001B[32m---> \u001B[39m\u001B[32m78\u001B[39m             category: \u001B[38;5;28mfloat\u001B[39m(\u001B[38;5;28;43minput\u001B[39;49m\u001B[43m(\u001B[49m\u001B[33;43m\"\u001B[39;49m\u001B[33;43mEnter budget for \u001B[39;49m\u001B[33;43m\"\u001B[39;49m\u001B[43m \u001B[49m\u001B[43m+\u001B[49m\u001B[43m \u001B[49m\u001B[43mcategory\u001B[49m\u001B[43m \u001B[49m\u001B[43m+\u001B[49m\u001B[43m \u001B[49m\u001B[33;43m\"\u001B[39;49m\u001B[33;43m: \u001B[39;49m\u001B[33;43m\"\u001B[39;49m\u001B[43m)\u001B[49m)\n\u001B[32m     79\u001B[39m         })\n\u001B[32m     81\u001B[39m     \u001B[38;5;28mprint\u001B[39m(monthly_budget)\n",
      "\u001B[36mFile \u001B[39m\u001B[32m~\\AppData\\Local\\Packages\\PythonSoftwareFoundation.Python.3.13_qbz5n2kfra8p0\\LocalCache\\local-packages\\Python313\\site-packages\\ipykernel\\kernelbase.py:1282\u001B[39m, in \u001B[36mKernel.raw_input\u001B[39m\u001B[34m(self, prompt)\u001B[39m\n\u001B[32m   1280\u001B[39m     msg = \u001B[33m\"\u001B[39m\u001B[33mraw_input was called, but this frontend does not support input requests.\u001B[39m\u001B[33m\"\u001B[39m\n\u001B[32m   1281\u001B[39m     \u001B[38;5;28;01mraise\u001B[39;00m StdinNotImplementedError(msg)\n\u001B[32m-> \u001B[39m\u001B[32m1282\u001B[39m \u001B[38;5;28;01mreturn\u001B[39;00m \u001B[38;5;28;43mself\u001B[39;49m\u001B[43m.\u001B[49m\u001B[43m_input_request\u001B[49m\u001B[43m(\u001B[49m\n\u001B[32m   1283\u001B[39m \u001B[43m    \u001B[49m\u001B[38;5;28;43mstr\u001B[39;49m\u001B[43m(\u001B[49m\u001B[43mprompt\u001B[49m\u001B[43m)\u001B[49m\u001B[43m,\u001B[49m\n\u001B[32m   1284\u001B[39m \u001B[43m    \u001B[49m\u001B[38;5;28;43mself\u001B[39;49m\u001B[43m.\u001B[49m\u001B[43m_parent_ident\u001B[49m\u001B[43m[\u001B[49m\u001B[33;43m\"\u001B[39;49m\u001B[33;43mshell\u001B[39;49m\u001B[33;43m\"\u001B[39;49m\u001B[43m]\u001B[49m\u001B[43m,\u001B[49m\n\u001B[32m   1285\u001B[39m \u001B[43m    \u001B[49m\u001B[38;5;28;43mself\u001B[39;49m\u001B[43m.\u001B[49m\u001B[43mget_parent\u001B[49m\u001B[43m(\u001B[49m\u001B[33;43m\"\u001B[39;49m\u001B[33;43mshell\u001B[39;49m\u001B[33;43m\"\u001B[39;49m\u001B[43m)\u001B[49m\u001B[43m,\u001B[49m\n\u001B[32m   1286\u001B[39m \u001B[43m    \u001B[49m\u001B[43mpassword\u001B[49m\u001B[43m=\u001B[49m\u001B[38;5;28;43;01mFalse\u001B[39;49;00m\u001B[43m,\u001B[49m\n\u001B[32m   1287\u001B[39m \u001B[43m\u001B[49m\u001B[43m)\u001B[49m\n",
      "\u001B[36mFile \u001B[39m\u001B[32m~\\AppData\\Local\\Packages\\PythonSoftwareFoundation.Python.3.13_qbz5n2kfra8p0\\LocalCache\\local-packages\\Python313\\site-packages\\ipykernel\\kernelbase.py:1325\u001B[39m, in \u001B[36mKernel._input_request\u001B[39m\u001B[34m(self, prompt, ident, parent, password)\u001B[39m\n\u001B[32m   1322\u001B[39m \u001B[38;5;28;01mexcept\u001B[39;00m \u001B[38;5;167;01mKeyboardInterrupt\u001B[39;00m:\n\u001B[32m   1323\u001B[39m     \u001B[38;5;66;03m# re-raise KeyboardInterrupt, to truncate traceback\u001B[39;00m\n\u001B[32m   1324\u001B[39m     msg = \u001B[33m\"\u001B[39m\u001B[33mInterrupted by user\u001B[39m\u001B[33m\"\u001B[39m\n\u001B[32m-> \u001B[39m\u001B[32m1325\u001B[39m     \u001B[38;5;28;01mraise\u001B[39;00m \u001B[38;5;167;01mKeyboardInterrupt\u001B[39;00m(msg) \u001B[38;5;28;01mfrom\u001B[39;00m\u001B[38;5;250m \u001B[39m\u001B[38;5;28;01mNone\u001B[39;00m\n\u001B[32m   1326\u001B[39m \u001B[38;5;28;01mexcept\u001B[39;00m \u001B[38;5;167;01mException\u001B[39;00m:\n\u001B[32m   1327\u001B[39m     \u001B[38;5;28mself\u001B[39m.log.warning(\u001B[33m\"\u001B[39m\u001B[33mInvalid Message:\u001B[39m\u001B[33m\"\u001B[39m, exc_info=\u001B[38;5;28;01mTrue\u001B[39;00m)\n",
      "\u001B[31mKeyboardInterrupt\u001B[39m: Interrupted by user"
     ]
    }
   ],
   "execution_count": 3
  },
  {
   "cell_type": "code",
   "execution_count": 107,
   "id": "4d8053c6-f16f-4716-9836-7fab39edc4ea",
   "metadata": {},
   "outputs": [
    {
     "name": "stdout",
     "output_type": "stream",
     "text": [
      "Loaded 5 expenses from expenses.csv\n"
     ]
    }
   ],
   "source": [
    "track_budget()"
   ]
  },
  {
   "cell_type": "code",
   "execution_count": null,
   "id": "a58c15a7-7387-4b8d-a51c-a7b22ee4b78e",
   "metadata": {},
   "outputs": [
    {
     "name": "stdout",
     "output_type": "stream",
     "text": [
      "Loaded 5 expenses from expenses.csv\n",
      "\n",
      "===== EXPENSE TRACKER =====\n",
      "1. Add Expense\n",
      "2. View Expenses\n",
      "3. Set Budget\n",
      "4. Track Budget\n",
      "5. Exit\n",
      "==========================\n"
     ]
    },
    {
     "name": "stdin",
     "output_type": "stream",
     "text": [
      "Enter your choice (1-5):  1\n"
     ]
    },
    {
     "name": "stdout",
     "output_type": "stream",
     "text": [
      "\n",
      "--- Add New Expense ---\n"
     ]
    },
    {
     "name": "stdin",
     "output_type": "stream",
     "text": [
      "Enter a date (YYYY-MM-DD):  2025-02-01\n",
      "Enter expense category:  Food\n",
      "Enter amount spent:  1000\n",
      "Enter expense description:  Chinese\n"
     ]
    },
    {
     "name": "stdout",
     "output_type": "stream",
     "text": [
      "\n",
      "--- Expense Added ---\n",
      "Date: 2025-02-01\n",
      "Category: Food\n",
      "Amount: $1000.00\n",
      "Description: Chinese\n",
      "Expense added to existing file: expenses.csv\n"
     ]
    },
    {
     "name": "stdin",
     "output_type": "stream",
     "text": [
      "\n",
      "Press Enter to continue... 2\n"
     ]
    },
    {
     "name": "stdout",
     "output_type": "stream",
     "text": [
      "\n",
      "===== EXPENSE TRACKER =====\n",
      "1. Add Expense\n",
      "2. View Expenses\n",
      "3. Set Budget\n",
      "4. Track Budget\n",
      "5. Exit\n",
      "==========================\n"
     ]
    },
    {
     "name": "stdin",
     "output_type": "stream",
     "text": [
      "Enter your choice (1-5):  2\n"
     ]
    },
    {
     "name": "stdout",
     "output_type": "stream",
     "text": [
      "\n",
      "--- View Expenses ---\n",
      "Loaded 6 expenses from expenses.csv\n",
      "On 2025-05-05, spent INR 500000.00 on Travel in Dubai\n",
      "On 2025-06-10, spent INR 100000.00 on Travel in Ja[an\n",
      "On 2025-01-01, spent INR 500000.00 on Travel in Thailand\n",
      "On 2025-05-01, spent INR 200.00 on Travel in Tram\n",
      "On 2025-05-01, spent INR 100.00 on Food in Ramen\n",
      "On 2025-02-01, spent INR 1000.00 on Food in Chinese\n"
     ]
    },
    {
     "name": "stdin",
     "output_type": "stream",
     "text": [
      "\n",
      "Press Enter to continue... \n"
     ]
    },
    {
     "name": "stdout",
     "output_type": "stream",
     "text": [
      "\n",
      "===== EXPENSE TRACKER =====\n",
      "1. Add Expense\n",
      "2. View Expenses\n",
      "3. Set Budget\n",
      "4. Track Budget\n",
      "5. Exit\n",
      "==========================\n"
     ]
    },
    {
     "name": "stdin",
     "output_type": "stream",
     "text": [
      "Enter your choice (1-5):  3\n"
     ]
    },
    {
     "name": "stdout",
     "output_type": "stream",
     "text": [
      "\n",
      "--- Set Monthly Budget ---\n"
     ]
    },
    {
     "name": "stdin",
     "output_type": "stream",
     "text": [
      "Enter budget for Food:  100000\n",
      "Enter budget for Travel:  200000\n",
      "Enter budget for Grocery:  300000\n",
      "Enter budget for Restaurants:  400000\n",
      "Enter budget for Medical:  50000\n"
     ]
    },
    {
     "name": "stdout",
     "output_type": "stream",
     "text": [
      "{'Food': 100000.0, 'Travel': 200000.0, 'Grocery': 300000.0, 'Restaurants': 400000.0, 'Medical': 50000.0}\n"
     ]
    },
    {
     "name": "stdin",
     "output_type": "stream",
     "text": [
      "\n",
      "Press Enter to continue... \n"
     ]
    },
    {
     "name": "stdout",
     "output_type": "stream",
     "text": [
      "\n",
      "===== EXPENSE TRACKER =====\n",
      "1. Add Expense\n",
      "2. View Expenses\n",
      "3. Set Budget\n",
      "4. Track Budget\n",
      "5. Exit\n",
      "==========================\n"
     ]
    },
    {
     "name": "stdin",
     "output_type": "stream",
     "text": [
      "Enter your choice (1-5):  4\n"
     ]
    },
    {
     "name": "stdout",
     "output_type": "stream",
     "text": [
      "\n",
      "--- Track Budget ---\n",
      "Loaded 6 expenses from expenses.csv\n",
      " You have exceeded your budget for category Travel by  INR 300000.00 for 2025-01\n",
      " You have INR 99000.00 left for 2025-02 for category Food \n",
      " You have INR 99900.00 left for 2025-05 for category Food \n",
      " You have exceeded your budget for category Travel by  INR 300200.00 for 2025-05\n",
      " You have INR 100000.00 left for 2025-06 for category Travel \n"
     ]
    }
   ],
   "source": [
    "main()"
   ]
  },
  {
   "cell_type": "code",
   "execution_count": null,
   "id": "e3c5b105-b75e-48d8-bec2-734f5fb5c7f9",
   "metadata": {},
   "outputs": [],
   "source": []
  }
 ],
 "metadata": {
  "kernelspec": {
   "display_name": "Python 3 (ipykernel)",
   "language": "python",
   "name": "python3"
  },
  "language_info": {
   "codemirror_mode": {
    "name": "ipython",
    "version": 3
   },
   "file_extension": ".py",
   "mimetype": "text/x-python",
   "name": "python",
   "nbconvert_exporter": "python",
   "pygments_lexer": "ipython3",
   "version": "3.12.7"
  }
 },
 "nbformat": 4,
 "nbformat_minor": 5
}
