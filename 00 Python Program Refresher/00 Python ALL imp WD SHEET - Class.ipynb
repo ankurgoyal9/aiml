{
 "cells": [
  {
   "cell_type": "code",
   "execution_count": null,
   "id": "1c3753d0",
   "metadata": {},
   "outputs": [],
   "source": [
    "pwd  # Present Working Directory\n",
    "\n",
    "# Shift and Enter "
   ]
  },
  {
   "cell_type": "markdown",
   "id": "4a22a7db",
   "metadata": {},
   "source": [
    "## hi"
   ]
  },
  {
   "cell_type": "markdown",
   "id": "f67ea2d0",
   "metadata": {
    "jp-MarkdownHeadingCollapsed": true
   },
   "source": [
    "# Markdown Cell"
   ]
  },
  {
   "cell_type": "markdown",
   "id": "aeb960f6",
   "metadata": {},
   "source": [
    "# Python\n",
    "#### Course\n",
    "* Basic"
   ]
  },
  {
   "cell_type": "markdown",
   "id": "85f072fe",
   "metadata": {},
   "source": [
    "# Python\n",
    "#### Course\n",
    "* Basic"
   ]
  },
  {
   "cell_type": "markdown",
   "id": "f9469fc6",
   "metadata": {},
   "source": [
    "#### Dynamic Typing\n",
    "* it checks the dtype at the time of execution\n",
    "#### Duck Typing\n"
   ]
  },
  {
   "cell_type": "markdown",
   "id": "f64c1ece",
   "metadata": {},
   "source": [
    "#### Python is case sensitive  T not equals to t\n",
    "#### Python read code from top to bottom\n",
    "#### Python read lines from left to right"
   ]
  },
  {
   "cell_type": "code",
   "execution_count": null,
   "id": "fd75de0f",
   "metadata": {},
   "outputs": [],
   "source": []
  },
  {
   "cell_type": "code",
   "execution_count": null,
   "id": "1171069c",
   "metadata": {},
   "outputs": [],
   "source": [
    "3+8-9/2*3"
   ]
  },
  {
   "cell_type": "code",
   "execution_count": null,
   "id": "41a5cd44",
   "metadata": {},
   "outputs": [],
   "source": [
    "4**2 # Exponancial [x to the power]"
   ]
  },
  {
   "cell_type": "code",
   "execution_count": null,
   "id": "6bad8ad7",
   "metadata": {
    "scrolled": true
   },
   "outputs": [],
   "source": [
    "100/3  # Comment"
   ]
  },
  {
   "cell_type": "code",
   "execution_count": null,
   "id": "eac1643b",
   "metadata": {},
   "outputs": [],
   "source": [
    "100//3  # Floor or flat divission"
   ]
  },
  {
   "cell_type": "code",
   "execution_count": null,
   "id": "74f50eaa",
   "metadata": {},
   "outputs": [],
   "source": [
    "100%3 # modulo operator gives reminder"
   ]
  },
  {
   "cell_type": "markdown",
   "id": "512ac709",
   "metadata": {},
   "source": [
    "### types of values\n",
    "* integer int() eg 2 3 4\n",
    "* float float() eg 2.3 4.5\n",
    "* string str() \"text\", 'text','''text''' '345'\n",
    "* boolean bool() True False    eg 3>4---> False"
   ]
  },
  {
   "cell_type": "markdown",
   "id": "2c434291",
   "metadata": {},
   "source": [
    "String Indexing"
   ]
  },
  {
   "cell_type": "markdown",
   "id": "76648473",
   "metadata": {},
   "source": [
    "st-Variable, = -> assiengnment operator"
   ]
  },
  {
   "cell_type": "code",
   "execution_count": null,
   "id": "69a3fafa-8c9c-4b83-9d50-3b23319a1090",
   "metadata": {},
   "outputs": [],
   "source": [
    "\"Hi how are you \"RAVI\"!!!\""
   ]
  },
  {
   "cell_type": "code",
   "execution_count": null,
   "id": "f5792915-da2b-471a-a418-4305093258b6",
   "metadata": {},
   "outputs": [],
   "source": [
    "\"Hi how are you 'RAVI'!!!\""
   ]
  },
  {
   "cell_type": "code",
   "execution_count": null,
   "id": "f8bac03d-1301-48b0-b2c0-19f346dfe3d2",
   "metadata": {},
   "outputs": [],
   "source": [
    "'''This is Ravi's dog \"TOM\"!!'''"
   ]
  },
  {
   "cell_type": "code",
   "execution_count": null,
   "id": "6323e152",
   "metadata": {},
   "outputs": [],
   "source": [
    "st=\"hello Ravi!\""
   ]
  },
  {
   "cell_type": "code",
   "execution_count": null,
   "id": "69ae6ac8",
   "metadata": {},
   "outputs": [],
   "source": [
    "st"
   ]
  },
  {
   "cell_type": "code",
   "execution_count": null,
   "id": "baf37102-3077-4865-9dd0-1f28cb0f386a",
   "metadata": {},
   "outputs": [],
   "source": [
    "type(st)"
   ]
  },
  {
   "cell_type": "code",
   "execution_count": null,
   "id": "56bef10a",
   "metadata": {},
   "outputs": [],
   "source": [
    "len(st)"
   ]
  },
  {
   "cell_type": "code",
   "execution_count": null,
   "id": "ddcace15",
   "metadata": {
    "scrolled": true
   },
   "outputs": [],
   "source": [
    "st"
   ]
  },
  {
   "cell_type": "code",
   "execution_count": null,
   "id": "f774afd3",
   "metadata": {},
   "outputs": [],
   "source": [
    "st[0] # indexing"
   ]
  },
  {
   "cell_type": "code",
   "execution_count": null,
   "id": "025c441b",
   "metadata": {
    "scrolled": true
   },
   "outputs": [],
   "source": [
    "len(st)"
   ]
  },
  {
   "cell_type": "code",
   "execution_count": null,
   "id": "5bfa533d",
   "metadata": {},
   "outputs": [],
   "source": [
    "11-1"
   ]
  },
  {
   "cell_type": "code",
   "execution_count": null,
   "id": "a88caf0b",
   "metadata": {},
   "outputs": [],
   "source": [
    "st[10]"
   ]
  },
  {
   "cell_type": "code",
   "execution_count": null,
   "id": "095f7964",
   "metadata": {},
   "outputs": [],
   "source": [
    "st"
   ]
  },
  {
   "cell_type": "code",
   "execution_count": null,
   "id": "29bd3548",
   "metadata": {},
   "outputs": [],
   "source": [
    "st[-1]"
   ]
  },
  {
   "cell_type": "markdown",
   "id": "4b74fca2",
   "metadata": {},
   "source": [
    "Index of R neg and pos"
   ]
  },
  {
   "cell_type": "code",
   "execution_count": null,
   "id": "b4459ac2",
   "metadata": {
    "scrolled": true
   },
   "outputs": [],
   "source": [
    "st[-5]"
   ]
  },
  {
   "cell_type": "code",
   "execution_count": null,
   "id": "48663af0",
   "metadata": {
    "scrolled": true
   },
   "outputs": [],
   "source": [
    "st[6]"
   ]
  },
  {
   "cell_type": "markdown",
   "id": "be562d54",
   "metadata": {},
   "source": [
    "Slicing"
   ]
  },
  {
   "cell_type": "code",
   "execution_count": null,
   "id": "1e21f9e1",
   "metadata": {},
   "outputs": [],
   "source": [
    "st='hello Ravi!'\n",
    "st"
   ]
  },
  {
   "cell_type": "code",
   "execution_count": null,
   "id": "1d9839d6",
   "metadata": {},
   "outputs": [],
   "source": [
    "st[:]"
   ]
  },
  {
   "cell_type": "code",
   "execution_count": null,
   "id": "6afc52b9",
   "metadata": {},
   "outputs": [],
   "source": [
    "st[2:]"
   ]
  },
  {
   "cell_type": "code",
   "execution_count": null,
   "id": "9dbcb71f",
   "metadata": {},
   "outputs": [],
   "source": [
    "st[4]"
   ]
  },
  {
   "cell_type": "code",
   "execution_count": null,
   "id": "b9b48cf2",
   "metadata": {
    "scrolled": true
   },
   "outputs": [],
   "source": [
    "st[:4]"
   ]
  },
  {
   "cell_type": "code",
   "execution_count": null,
   "id": "96c8169e",
   "metadata": {},
   "outputs": [],
   "source": [
    "st[2:4]"
   ]
  },
  {
   "cell_type": "code",
   "execution_count": null,
   "id": "2caf7aa1",
   "metadata": {},
   "outputs": [],
   "source": [
    "st[-9:-7]"
   ]
  },
  {
   "cell_type": "code",
   "execution_count": null,
   "id": "c2a7e873",
   "metadata": {},
   "outputs": [],
   "source": [
    "d=\"This is... 'ONE GOOD DAY' to live and shine!!!\"\n",
    "#output='ONE GOOD DAY'"
   ]
  },
  {
   "cell_type": "code",
   "execution_count": null,
   "id": "49963c2f",
   "metadata": {},
   "outputs": [],
   "source": [
    "'ONE GOOD DAY'   # by slicing"
   ]
  },
  {
   "cell_type": "code",
   "execution_count": null,
   "id": "e708c6cf",
   "metadata": {},
   "outputs": [],
   "source": [
    "d[-35:-21]"
   ]
  },
  {
   "cell_type": "code",
   "execution_count": null,
   "id": "42a56e3c",
   "metadata": {
    "scrolled": true
   },
   "outputs": [],
   "source": [
    "d[11:-21]"
   ]
  },
  {
   "cell_type": "code",
   "execution_count": null,
   "id": "f02967cb",
   "metadata": {},
   "outputs": [],
   "source": [
    "d[11:25]"
   ]
  },
  {
   "cell_type": "markdown",
   "id": "8f5b99b6",
   "metadata": {},
   "source": [
    "Print"
   ]
  },
  {
   "cell_type": "code",
   "execution_count": null,
   "id": "e793fde4-2792-4ee7-beba-ed4abd147732",
   "metadata": {},
   "outputs": [],
   "source": [
    "print(\"Hello\")"
   ]
  },
  {
   "cell_type": "code",
   "execution_count": null,
   "id": "669a52af",
   "metadata": {
    "scrolled": true
   },
   "outputs": [],
   "source": [
    "name=\"SAM\"\n",
    "print(\"hello\",name) # mind comma \n",
    "print(\"hello\",name,\"HOW are you!!!!\")"
   ]
  },
  {
   "cell_type": "markdown",
   "id": "1604cfad",
   "metadata": {},
   "source": [
    "Format"
   ]
  },
  {
   "cell_type": "code",
   "execution_count": null,
   "id": "cd9638be",
   "metadata": {},
   "outputs": [],
   "source": [
    "print(f\"hello {name}\")\n",
    "print(f\"hello {name} HOW are you!!!!\")"
   ]
  },
  {
   "cell_type": "markdown",
   "id": "f05e2f20",
   "metadata": {},
   "source": [
    "Input"
   ]
  },
  {
   "cell_type": "code",
   "execution_count": null,
   "id": "d671459c",
   "metadata": {},
   "outputs": [],
   "source": [
    "input()"
   ]
  },
  {
   "cell_type": "code",
   "execution_count": null,
   "id": "75f07900",
   "metadata": {},
   "outputs": [],
   "source": [
    "v=input()"
   ]
  },
  {
   "cell_type": "code",
   "execution_count": null,
   "id": "2f391cf1",
   "metadata": {},
   "outputs": [],
   "source": [
    "v,type(v) # BY default input type is a str"
   ]
  },
  {
   "cell_type": "code",
   "execution_count": null,
   "id": "e50525ef",
   "metadata": {},
   "outputs": [],
   "source": [
    "v=input(\"say hello: \")"
   ]
  },
  {
   "cell_type": "code",
   "execution_count": null,
   "id": "7cd4343e",
   "metadata": {
    "scrolled": true
   },
   "outputs": [],
   "source": [
    "v"
   ]
  },
  {
   "cell_type": "code",
   "execution_count": null,
   "id": "430b68dc",
   "metadata": {},
   "outputs": [],
   "source": [
    "name=input(\"Any Name- \")\n",
    "print(f\"Hello {name}\")"
   ]
  },
  {
   "cell_type": "markdown",
   "id": "2d6c8963",
   "metadata": {},
   "source": [
    "Type Conversion"
   ]
  },
  {
   "cell_type": "code",
   "execution_count": null,
   "id": "560c040a",
   "metadata": {},
   "outputs": [],
   "source": [
    "\"9\""
   ]
  },
  {
   "cell_type": "code",
   "execution_count": null,
   "id": "3e2e0f2d",
   "metadata": {},
   "outputs": [],
   "source": [
    "type(\"9\")"
   ]
  },
  {
   "cell_type": "code",
   "execution_count": null,
   "id": "61590a9f",
   "metadata": {},
   "outputs": [],
   "source": [
    "type(9)"
   ]
  },
  {
   "cell_type": "code",
   "execution_count": null,
   "id": "eef8c0a2",
   "metadata": {},
   "outputs": [],
   "source": [
    "\"9\"+1"
   ]
  },
  {
   "cell_type": "code",
   "execution_count": null,
   "id": "0580ce9e",
   "metadata": {},
   "outputs": [],
   "source": [
    "\"hell\"+\"o\""
   ]
  },
  {
   "cell_type": "code",
   "execution_count": null,
   "id": "9740dd5f",
   "metadata": {
    "scrolled": true
   },
   "outputs": [],
   "source": [
    "\"9\"+\"1\""
   ]
  },
  {
   "cell_type": "code",
   "execution_count": null,
   "id": "04ff8929",
   "metadata": {
    "scrolled": true
   },
   "outputs": [],
   "source": [
    "9+1"
   ]
  },
  {
   "cell_type": "code",
   "execution_count": null,
   "id": "09261947",
   "metadata": {},
   "outputs": [],
   "source": [
    "int(\"9\")+int(\"1\")"
   ]
  },
  {
   "cell_type": "code",
   "execution_count": null,
   "id": "0d1a9909",
   "metadata": {},
   "outputs": [],
   "source": [
    "num=input(\"Enter a number: \")\n",
    "num2=input(\"Enter a number2: \")"
   ]
  },
  {
   "cell_type": "code",
   "execution_count": null,
   "id": "081200dc",
   "metadata": {},
   "outputs": [],
   "source": [
    "num+num2"
   ]
  },
  {
   "cell_type": "code",
   "execution_count": null,
   "id": "cf909f93",
   "metadata": {
    "scrolled": true
   },
   "outputs": [],
   "source": [
    "\"Hell\"+\"o\""
   ]
  },
  {
   "cell_type": "code",
   "execution_count": null,
   "id": "c02829ad",
   "metadata": {},
   "outputs": [],
   "source": [
    "num=input(\"Enter a number: \")\n",
    "\n",
    "type(num)"
   ]
  },
  {
   "cell_type": "code",
   "execution_count": null,
   "id": "a20175a3",
   "metadata": {
    "scrolled": true
   },
   "outputs": [],
   "source": [
    "num=int(num)\n",
    "print(type(num))\n"
   ]
  },
  {
   "cell_type": "code",
   "execution_count": null,
   "id": "7325e9b4",
   "metadata": {},
   "outputs": [],
   "source": [
    "num+3"
   ]
  },
  {
   "cell_type": "code",
   "execution_count": null,
   "id": "8897f8a8",
   "metadata": {},
   "outputs": [],
   "source": [
    "num=input(\"Enter a number: \")\n",
    "num=int(num)\n",
    "num+9"
   ]
  },
  {
   "cell_type": "code",
   "execution_count": null,
   "id": "ca61ff38",
   "metadata": {},
   "outputs": [],
   "source": [
    "num=int(input(\"Enter a number: \"))\n",
    "num+9"
   ]
  },
  {
   "cell_type": "markdown",
   "id": "0ff657b5",
   "metadata": {},
   "source": [
    "###### Data Structure\n",
    "- List ===> [ ]\n",
    "- Tuple ===> ( )\n",
    "- Dict ===> {\"key\": \"Value\"}\n",
    "- Set ===> { }"
   ]
  },
  {
   "cell_type": "code",
   "execution_count": null,
   "id": "6fa91677",
   "metadata": {},
   "outputs": [],
   "source": [
    "a=2,3,4"
   ]
  },
  {
   "cell_type": "code",
   "execution_count": null,
   "id": "e772fff2",
   "metadata": {},
   "outputs": [],
   "source": [
    "a"
   ]
  },
  {
   "cell_type": "code",
   "execution_count": null,
   "id": "6a175658",
   "metadata": {
    "scrolled": true
   },
   "outputs": [],
   "source": [
    "type(a)"
   ]
  },
  {
   "cell_type": "code",
   "execution_count": null,
   "id": "2270ae58",
   "metadata": {
    "scrolled": true
   },
   "outputs": [],
   "source": [
    "a[0]"
   ]
  },
  {
   "cell_type": "code",
   "execution_count": null,
   "id": "d7910317",
   "metadata": {
    "scrolled": true
   },
   "outputs": [],
   "source": [
    "a[-1]"
   ]
  },
  {
   "cell_type": "code",
   "execution_count": null,
   "id": "0ac4b165",
   "metadata": {
    "scrolled": true
   },
   "outputs": [],
   "source": [
    "a[0]=100 # modification not allowed"
   ]
  },
  {
   "cell_type": "markdown",
   "id": "cc497185",
   "metadata": {},
   "source": [
    "##### Tuple"
   ]
  },
  {
   "cell_type": "code",
   "execution_count": null,
   "id": "1790787d",
   "metadata": {
    "scrolled": true
   },
   "outputs": [],
   "source": [
    "t=tuple()\n",
    "t"
   ]
  },
  {
   "cell_type": "code",
   "execution_count": null,
   "id": "8777b56f",
   "metadata": {},
   "outputs": [],
   "source": [
    "t=()\n",
    "t"
   ]
  },
  {
   "cell_type": "code",
   "execution_count": null,
   "id": "c443f977",
   "metadata": {},
   "outputs": [],
   "source": [
    "t=tuple(\"qwert\")\n",
    "t"
   ]
  },
  {
   "cell_type": "code",
   "execution_count": null,
   "id": "5aba3350",
   "metadata": {
    "scrolled": true
   },
   "outputs": [],
   "source": [
    "t=tuple(123)\n",
    "t"
   ]
  },
  {
   "cell_type": "code",
   "execution_count": null,
   "id": "b1c20632",
   "metadata": {
    "scrolled": true
   },
   "outputs": [],
   "source": [
    "tuple(range(10))"
   ]
  },
  {
   "cell_type": "code",
   "execution_count": null,
   "id": "7603ae5c",
   "metadata": {
    "scrolled": true
   },
   "outputs": [],
   "source": [
    "tuple(range(1,10))"
   ]
  },
  {
   "cell_type": "code",
   "execution_count": null,
   "id": "f0833899",
   "metadata": {
    "scrolled": true
   },
   "outputs": [],
   "source": [
    "tuple(range(1,10,2))"
   ]
  },
  {
   "cell_type": "code",
   "execution_count": null,
   "id": "60d02d06",
   "metadata": {},
   "outputs": [],
   "source": [
    "tuple(range(21,10,2))"
   ]
  },
  {
   "cell_type": "code",
   "execution_count": null,
   "id": "cdda4742",
   "metadata": {},
   "outputs": [],
   "source": [
    "tuple(range(21,10,-2))"
   ]
  },
  {
   "cell_type": "code",
   "execution_count": null,
   "id": "cade4bbd",
   "metadata": {},
   "outputs": [],
   "source": [
    "t=tuple(range(1,10,2))"
   ]
  },
  {
   "cell_type": "code",
   "execution_count": null,
   "id": "5177dc0e",
   "metadata": {},
   "outputs": [],
   "source": [
    "t"
   ]
  },
  {
   "cell_type": "code",
   "execution_count": null,
   "id": "9c79818b",
   "metadata": {
    "scrolled": true
   },
   "outputs": [],
   "source": [
    "t[1:4]"
   ]
  },
  {
   "cell_type": "markdown",
   "id": "50770aa6-934f-418c-83dc-8227e1132ce5",
   "metadata": {},
   "source": [
    "Methods in tuple's"
   ]
  },
  {
   "cell_type": "code",
   "execution_count": null,
   "id": "40f3e958-90e6-4ffa-bc9e-98b0f44d3d00",
   "metadata": {},
   "outputs": [],
   "source": [
    "t.count(3) #number of occurence"
   ]
  },
  {
   "cell_type": "code",
   "execution_count": null,
   "id": "d6680ee1-fd8b-4e6b-bfb3-11fe4e60488a",
   "metadata": {},
   "outputs": [],
   "source": [
    "t.index(3) # index position"
   ]
  },
  {
   "cell_type": "code",
   "execution_count": null,
   "id": "2ae89166-8a67-48b5-9d77-e45e13f4fdf8",
   "metadata": {},
   "outputs": [],
   "source": [
    "t.index(5)"
   ]
  },
  {
   "cell_type": "markdown",
   "id": "9a0ad21b",
   "metadata": {},
   "source": [
    "List"
   ]
  },
  {
   "cell_type": "code",
   "execution_count": null,
   "id": "be1bd7fe",
   "metadata": {},
   "outputs": [],
   "source": [
    "p=list()\n",
    "p"
   ]
  },
  {
   "cell_type": "code",
   "execution_count": null,
   "id": "92c0ec0d",
   "metadata": {},
   "outputs": [],
   "source": [
    "p=[]\n",
    "p"
   ]
  },
  {
   "cell_type": "code",
   "execution_count": null,
   "id": "a0deef2c",
   "metadata": {
    "scrolled": true
   },
   "outputs": [],
   "source": [
    "list(\"hello\")"
   ]
  },
  {
   "cell_type": "code",
   "execution_count": null,
   "id": "41367e71",
   "metadata": {},
   "outputs": [],
   "source": [
    "list(range(10))"
   ]
  },
  {
   "cell_type": "markdown",
   "id": "48180a4b",
   "metadata": {},
   "source": [
    "##### same slicing and indexing"
   ]
  },
  {
   "cell_type": "code",
   "execution_count": null,
   "id": "f42823f9",
   "metadata": {},
   "outputs": [],
   "source": [
    "p=[2,3,4,5]"
   ]
  },
  {
   "cell_type": "code",
   "execution_count": null,
   "id": "7daaa150",
   "metadata": {},
   "outputs": [],
   "source": [
    "p"
   ]
  },
  {
   "cell_type": "code",
   "execution_count": null,
   "id": "24c8a6e9",
   "metadata": {},
   "outputs": [],
   "source": [
    "p[0]"
   ]
  },
  {
   "cell_type": "code",
   "execution_count": null,
   "id": "30e7934c",
   "metadata": {},
   "outputs": [],
   "source": [
    "p[0]=100 # allowed"
   ]
  },
  {
   "cell_type": "code",
   "execution_count": null,
   "id": "d93db8b1",
   "metadata": {},
   "outputs": [],
   "source": [
    "p"
   ]
  },
  {
   "cell_type": "code",
   "execution_count": null,
   "id": "76fa999d",
   "metadata": {},
   "outputs": [],
   "source": [
    "r=[\"a\",\"b\"]\n",
    "r"
   ]
  },
  {
   "cell_type": "code",
   "execution_count": null,
   "id": "0b172888",
   "metadata": {},
   "outputs": [],
   "source": [
    "r.append(\"c\")\n",
    "r"
   ]
  },
  {
   "cell_type": "code",
   "execution_count": null,
   "id": "226a5d20",
   "metadata": {
    "scrolled": true
   },
   "outputs": [],
   "source": [
    "r.extend([\"d\",\"e\"])\n",
    "r"
   ]
  },
  {
   "cell_type": "code",
   "execution_count": null,
   "id": "ad480fc9",
   "metadata": {},
   "outputs": [],
   "source": [
    "r.remove(\"c\")"
   ]
  },
  {
   "cell_type": "code",
   "execution_count": null,
   "id": "a65b9631",
   "metadata": {},
   "outputs": [],
   "source": [
    "r"
   ]
  },
  {
   "cell_type": "code",
   "execution_count": null,
   "id": "604db0ec",
   "metadata": {},
   "outputs": [],
   "source": [
    "r.count('b')"
   ]
  },
  {
   "cell_type": "code",
   "execution_count": null,
   "id": "e24f66da-a048-4b31-8a01-1097132a4d3f",
   "metadata": {},
   "outputs": [],
   "source": [
    "r.index(\"d\")"
   ]
  },
  {
   "cell_type": "code",
   "execution_count": null,
   "id": "e1484be8-19c6-4d58-a512-3e5ffe697394",
   "metadata": {},
   "outputs": [],
   "source": [
    "r"
   ]
  },
  {
   "cell_type": "code",
   "execution_count": null,
   "id": "25c51f8e-addd-4f79-9efe-d990e9aaba46",
   "metadata": {},
   "outputs": [],
   "source": [
    "r.insert(2,\"c\")"
   ]
  },
  {
   "cell_type": "code",
   "execution_count": null,
   "id": "52c8223b-7014-4676-8c32-2ae30576b94b",
   "metadata": {},
   "outputs": [],
   "source": [
    "r"
   ]
  },
  {
   "cell_type": "code",
   "execution_count": null,
   "id": "7bcb59a6-a083-4407-822d-d7b20a4cd732",
   "metadata": {},
   "outputs": [],
   "source": []
  },
  {
   "cell_type": "markdown",
   "id": "5339af3a",
   "metadata": {},
   "source": [
    "set"
   ]
  },
  {
   "cell_type": "code",
   "execution_count": null,
   "id": "848e5aa9",
   "metadata": {},
   "outputs": [],
   "source": [
    "k=[2,2,2,2,3,3,3,3,4,4,4,4]"
   ]
  },
  {
   "cell_type": "code",
   "execution_count": null,
   "id": "08e4fbf3",
   "metadata": {},
   "outputs": [],
   "source": [
    "set(k)"
   ]
  },
  {
   "cell_type": "markdown",
   "id": "dd515b62",
   "metadata": {},
   "source": [
    "dict"
   ]
  },
  {
   "cell_type": "code",
   "execution_count": 1,
   "id": "c34e33e6",
   "metadata": {},
   "outputs": [],
   "source": [
    "d={\"k\":\"val\",\"k2\":[2,3,4]}"
   ]
  },
  {
   "cell_type": "code",
   "execution_count": 2,
   "id": "c9c37bfa",
   "metadata": {},
   "outputs": [
    {
     "data": {
      "text/plain": [
       "[2, 3, 4]"
      ]
     },
     "execution_count": 2,
     "metadata": {},
     "output_type": "execute_result"
    }
   ],
   "source": [
    "d[\"k2\"]"
   ]
  },
  {
   "cell_type": "code",
   "execution_count": 3,
   "id": "d2d9616b",
   "metadata": {},
   "outputs": [
    {
     "data": {
      "text/plain": [
       "dict_keys(['k', 'k2'])"
      ]
     },
     "execution_count": 3,
     "metadata": {},
     "output_type": "execute_result"
    }
   ],
   "source": [
    "d.keys()"
   ]
  },
  {
   "cell_type": "code",
   "execution_count": 4,
   "id": "001d5647",
   "metadata": {},
   "outputs": [
    {
     "data": {
      "text/plain": [
       "dict_values(['val', [2, 3, 4]])"
      ]
     },
     "execution_count": 4,
     "metadata": {},
     "output_type": "execute_result"
    }
   ],
   "source": [
    "d.values()"
   ]
  },
  {
   "cell_type": "code",
   "execution_count": 6,
   "id": "e356ccf3",
   "metadata": {},
   "outputs": [
    {
     "data": {
      "text/plain": [
       "dict_items([('k', 'val'), ('k2', [2, 3, 4])])"
      ]
     },
     "execution_count": 6,
     "metadata": {},
     "output_type": "execute_result"
    }
   ],
   "source": [
    "d.items()"
   ]
  },
  {
   "cell_type": "code",
   "execution_count": 7,
   "id": "dc4b2bd0",
   "metadata": {},
   "outputs": [
    {
     "data": {
      "text/plain": [
       "{'k': 'val', 'k2': [2, 3, 4]}"
      ]
     },
     "execution_count": 7,
     "metadata": {},
     "output_type": "execute_result"
    }
   ],
   "source": [
    "d"
   ]
  },
  {
   "cell_type": "code",
   "execution_count": 8,
   "id": "424def67",
   "metadata": {},
   "outputs": [],
   "source": [
    "d[\"k3\"]=\"new val\""
   ]
  },
  {
   "cell_type": "code",
   "execution_count": 9,
   "id": "bd85314e",
   "metadata": {},
   "outputs": [
    {
     "data": {
      "text/plain": [
       "{'k': 'val', 'k2': [2, 3, 4], 'k3': 'new val'}"
      ]
     },
     "execution_count": 9,
     "metadata": {},
     "output_type": "execute_result"
    }
   ],
   "source": [
    "d"
   ]
  },
  {
   "cell_type": "code",
   "execution_count": 10,
   "id": "11a9c15a-3a45-4317-8d63-db26783f99dd",
   "metadata": {},
   "outputs": [],
   "source": [
    "d.update({\"g\":\"good\"})"
   ]
  },
  {
   "cell_type": "code",
   "execution_count": 11,
   "id": "c48ddcb2-ed3c-4b5d-b535-7973885e73d3",
   "metadata": {},
   "outputs": [
    {
     "data": {
      "text/plain": [
       "{'k': 'val', 'k2': [2, 3, 4], 'k3': 'new val', 'g': 'good'}"
      ]
     },
     "execution_count": 11,
     "metadata": {},
     "output_type": "execute_result"
    }
   ],
   "source": [
    "d"
   ]
  },
  {
   "cell_type": "code",
   "execution_count": 12,
   "id": "4189441a",
   "metadata": {},
   "outputs": [],
   "source": [
    "del(d[\"k\"])"
   ]
  },
  {
   "cell_type": "code",
   "execution_count": 13,
   "id": "294607d4",
   "metadata": {},
   "outputs": [
    {
     "data": {
      "text/plain": [
       "{'k2': [2, 3, 4], 'k3': 'new val', 'g': 'good'}"
      ]
     },
     "execution_count": 13,
     "metadata": {},
     "output_type": "execute_result"
    }
   ],
   "source": [
    "d"
   ]
  },
  {
   "cell_type": "code",
   "execution_count": 14,
   "id": "9a5addfa-2f16-4cf9-af60-e5246b0593a1",
   "metadata": {},
   "outputs": [
    {
     "data": {
      "text/plain": [
       "'new val'"
      ]
     },
     "execution_count": 14,
     "metadata": {},
     "output_type": "execute_result"
    }
   ],
   "source": [
    "d.pop(\"k3\")"
   ]
  },
  {
   "cell_type": "code",
   "execution_count": 15,
   "id": "86f3c8bc-2048-4553-9448-de4e2fa266ce",
   "metadata": {},
   "outputs": [
    {
     "data": {
      "text/plain": [
       "{'k2': [2, 3, 4], 'g': 'good'}"
      ]
     },
     "execution_count": 15,
     "metadata": {},
     "output_type": "execute_result"
    }
   ],
   "source": [
    "d"
   ]
  },
  {
   "cell_type": "markdown",
   "id": "ecde7d07",
   "metadata": {},
   "source": [
    "Logical Operators"
   ]
  },
  {
   "cell_type": "code",
   "execution_count": 16,
   "id": "714518e7",
   "metadata": {},
   "outputs": [
    {
     "data": {
      "text/plain": [
       "True"
      ]
     },
     "execution_count": 16,
     "metadata": {},
     "output_type": "execute_result"
    }
   ],
   "source": [
    "9>4"
   ]
  },
  {
   "cell_type": "code",
   "execution_count": 17,
   "id": "db3ea8f7",
   "metadata": {},
   "outputs": [
    {
     "data": {
      "text/plain": [
       "True"
      ]
     },
     "execution_count": 17,
     "metadata": {},
     "output_type": "execute_result"
    }
   ],
   "source": [
    "10>=10"
   ]
  },
  {
   "cell_type": "code",
   "execution_count": 18,
   "id": "fbd558c3",
   "metadata": {},
   "outputs": [
    {
     "data": {
      "text/plain": [
       "True"
      ]
     },
     "execution_count": 18,
     "metadata": {},
     "output_type": "execute_result"
    }
   ],
   "source": [
    "9==9"
   ]
  },
  {
   "cell_type": "code",
   "execution_count": 19,
   "id": "dff191ba",
   "metadata": {},
   "outputs": [
    {
     "data": {
      "text/plain": [
       "True"
      ]
     },
     "execution_count": 19,
     "metadata": {},
     "output_type": "execute_result"
    }
   ],
   "source": [
    "9>=9"
   ]
  },
  {
   "cell_type": "code",
   "execution_count": 20,
   "id": "3159eac3",
   "metadata": {},
   "outputs": [
    {
     "data": {
      "text/plain": [
       "True"
      ]
     },
     "execution_count": 20,
     "metadata": {},
     "output_type": "execute_result"
    }
   ],
   "source": [
    "6<9"
   ]
  },
  {
   "cell_type": "code",
   "execution_count": 21,
   "id": "fa4aa692-d57f-4bac-919f-08f1b0684cae",
   "metadata": {},
   "outputs": [
    {
     "data": {
      "text/plain": [
       "True"
      ]
     },
     "execution_count": 21,
     "metadata": {},
     "output_type": "execute_result"
    }
   ],
   "source": [
    "8 !=9"
   ]
  },
  {
   "cell_type": "code",
   "execution_count": 22,
   "id": "d31d35f7",
   "metadata": {},
   "outputs": [
    {
     "name": "stdout",
     "output_type": "stream",
     "text": [
      "hi\n",
      "out\n"
     ]
    }
   ],
   "source": [
    "if True:\n",
    "    #any\n",
    "    print(\"hi\")\n",
    "print(\"out\")"
   ]
  },
  {
   "cell_type": "code",
   "execution_count": null,
   "id": "35bd6b5e",
   "metadata": {},
   "outputs": [],
   "source": [
    "if False:\n",
    "    print(\"hi\")\n",
    "print(\"out\")"
   ]
  },
  {
   "cell_type": "code",
   "execution_count": 24,
   "id": "9a2e7e56",
   "metadata": {},
   "outputs": [
    {
     "name": "stdout",
     "output_type": "stream",
     "text": [
      "Not Allow\n",
      "End\n"
     ]
    }
   ],
   "source": [
    "age=14\n",
    "if age>=18:\n",
    "    print(\"allow to vote\")\n",
    "else:              # Default\n",
    "    print(\"Not Allow\")\n",
    "    \n",
    "print(\"End\") # not a part of if condition"
   ]
  },
  {
   "cell_type": "code",
   "execution_count": 27,
   "id": "02c0d912",
   "metadata": {},
   "outputs": [
    {
     "name": "stdin",
     "output_type": "stream",
     "text": [
      "Enter age:  56\n"
     ]
    },
    {
     "name": "stdout",
     "output_type": "stream",
     "text": [
      "mid age\n"
     ]
    }
   ],
   "source": [
    "age=int(input(\"Enter age: \"))\n",
    "if age<=12:\n",
    "    print(\"Minor\")\n",
    "elif age<=18:\n",
    "    print(\"teen\")\n",
    "elif age<=45:\n",
    "    print(\"adult\")\n",
    "elif age<=60:\n",
    "    print(\"mid age\")\n",
    "elif age<=100:\n",
    "    print(\"old\")\n",
    "else:\n",
    "    print(\"Wrong\")"
   ]
  },
  {
   "cell_type": "code",
   "execution_count": null,
   "id": "17852410-4025-40d3-927f-cf2c00294245",
   "metadata": {},
   "outputs": [],
   "source": [
    "age=float(input(\"Your age is= \")) \n",
    "if age>0:\n",
    "    if age<13:\n",
    "        print(\"Minor\")\n",
    "    elif age<19:\n",
    "        print(\"Teen\")\n",
    "    elif age<45:\n",
    "        print(\"Adult\")\n",
    "    elif age<60:\n",
    "         print(\"Mid Age\")\n",
    "    elif age<100:\n",
    "        print(\"Old\")\n",
    "    else:\n",
    "        print(\"Wrong\")\n",
    "else:\n",
    "    print(\"Wrong\")\n",
    "print(\"Thanks\")"
   ]
  },
  {
   "cell_type": "code",
   "execution_count": null,
   "id": "852f105c-2031-470e-8bbf-156eda77fc3a",
   "metadata": {},
   "outputs": [],
   "source": [
    "True and True"
   ]
  },
  {
   "cell_type": "code",
   "execution_count": null,
   "id": "bfbfe138-2e05-46f5-8170-9b18235d8e59",
   "metadata": {},
   "outputs": [],
   "source": [
    "False and True"
   ]
  },
  {
   "cell_type": "code",
   "execution_count": null,
   "id": "47ceb1c1-6533-4366-b3a9-ae3bdeae4955",
   "metadata": {},
   "outputs": [],
   "source": [
    "False or False"
   ]
  },
  {
   "cell_type": "code",
   "execution_count": null,
   "id": "35c553cc-79fe-44cc-9181-5dd03e79a1e5",
   "metadata": {},
   "outputs": [],
   "source": [
    "True or False"
   ]
  },
  {
   "cell_type": "code",
   "execution_count": null,
   "id": "29841ecf-25c8-4a9e-9103-cfddadca2367",
   "metadata": {},
   "outputs": [],
   "source": []
  },
  {
   "cell_type": "code",
   "execution_count": null,
   "id": "fbb3d539-4d71-488d-8a5c-1023d246400d",
   "metadata": {},
   "outputs": [],
   "source": [
    "x=int(input(\"age= \"))\n",
    "if  x>=0 and x<=13:\n",
    "    print(\"minor\")\n",
    "elif x>=0 and x<=19:\n",
    "    print(\"teen\")\n",
    "elif x>=0 and x<=45:\n",
    "    print(\"adult\")\n",
    "elif x>=0 and x<=60:\n",
    "     print(\"mig age\")\n",
    "elif x>=0 and x<=100:\n",
    "     print(\"old\")\n",
    "else:\n",
    "    print(\"wrong input\")"
   ]
  },
  {
   "cell_type": "markdown",
   "id": "d62b2470-a505-4a5d-ac55-c6218acedce6",
   "metadata": {},
   "source": [
    "### Calculate the grade of student\n",
    "##### Take marks as an input out of 100  and provide grade\n",
    "* A if >90\n",
    "* B if 80-90\n",
    "* C if 60-80\n",
    "* D below 60 and above 35\n",
    "* F below 35"
   ]
  },
  {
   "cell_type": "code",
   "execution_count": null,
   "id": "0b4d8186-e47e-40a1-90bc-6b19abd819f9",
   "metadata": {},
   "outputs": [],
   "source": [
    "#SOLUTION\n",
    "\n",
    "grade = int(input(\"What is your grade \"))\n",
    "if grade > 90:\n",
    "    print(\"You got an A\")\n",
    "elif grade >80:\n",
    "    print(\"You got a B\")\n",
    "elif grade  >60:\n",
    "    print(\"You got a C\")\n",
    "elif grade >35:\n",
    "    print(\"You got a D\")\n",
    "elif grade >0:\n",
    "    print(\"You got a F\")\n",
    "else:\n",
    "    print(\"No negative values allowed\")"
   ]
  },
  {
   "cell_type": "code",
   "execution_count": null,
   "id": "845e433d-cb9e-448f-98e9-f2657c2f242e",
   "metadata": {},
   "outputs": [],
   "source": [
    "marks = int(input(\"Enter Your grade:- \"))\n",
    "if marks >= 90:\n",
    "    print(\"Grade is:- 'A'\")\n",
    "elif marks >= 80 and marks <= 90:\n",
    "    print(\"Grade is:- 'B'\")\n",
    "elif marks >= 70 and marks <= 80:\n",
    "    print(\"Grade is:- 'C'\")\n",
    "elif marks >= 60 and marks <= 70:\n",
    "    print(\"Grade is:- 'D'\")\n",
    "elif marks >= 50 and marks <= 60:\n",
    "    print(\"Grade is 'E'\")\n",
    "else:\n",
    "    print(\"Grade is 'F'\")"
   ]
  },
  {
   "cell_type": "markdown",
   "id": "7f560aa9",
   "metadata": {},
   "source": [
    "Looping"
   ]
  },
  {
   "cell_type": "code",
   "execution_count": 28,
   "id": "2c0df455",
   "metadata": {},
   "outputs": [
    {
     "name": "stdout",
     "output_type": "stream",
     "text": [
      "H\n",
      "e\n",
      "l\n",
      "l\n",
      "o\n"
     ]
    }
   ],
   "source": [
    "for var in \"Hello\":\n",
    "    print(var)"
   ]
  },
  {
   "cell_type": "code",
   "execution_count": 29,
   "id": "a3eb205b",
   "metadata": {
    "scrolled": true
   },
   "outputs": [
    {
     "name": "stdout",
     "output_type": "stream",
     "text": [
      "hari\n",
      "ivan\n"
     ]
    }
   ],
   "source": [
    "for name in [\"hari\",\"ivan\"]:\n",
    "    print(name)"
   ]
  },
  {
   "cell_type": "code",
   "execution_count": null,
   "id": "3b3962e8",
   "metadata": {},
   "outputs": [],
   "source": [
    "list(range(10))"
   ]
  },
  {
   "cell_type": "code",
   "execution_count": 30,
   "id": "c6267594",
   "metadata": {
    "scrolled": true
   },
   "outputs": [
    {
     "name": "stdout",
     "output_type": "stream",
     "text": [
      "hello 0\n",
      "hello 1\n",
      "hello 2\n",
      "hello 3\n",
      "hello 4\n"
     ]
    }
   ],
   "source": [
    "for i in range(5):\n",
    "    print(\"hello\",i)"
   ]
  },
  {
   "cell_type": "code",
   "execution_count": 31,
   "id": "71764c17",
   "metadata": {},
   "outputs": [
    {
     "data": {
      "text/plain": [
       "'yyyyyy'"
      ]
     },
     "execution_count": 31,
     "metadata": {},
     "output_type": "execute_result"
    }
   ],
   "source": [
    "\"y\"*6"
   ]
  },
  {
   "cell_type": "code",
   "execution_count": 32,
   "id": "092f9daa",
   "metadata": {},
   "outputs": [
    {
     "name": "stdout",
     "output_type": "stream",
     "text": [
      "HHH\n",
      "eee\n",
      "lll\n",
      "lll\n",
      "ooo\n"
     ]
    }
   ],
   "source": [
    "for var in \"Hello\":\n",
    "    print(var*3)"
   ]
  },
  {
   "cell_type": "code",
   "execution_count": null,
   "id": "890802f0",
   "metadata": {},
   "outputs": [],
   "source": [
    "\"o\"*0"
   ]
  },
  {
   "cell_type": "code",
   "execution_count": 33,
   "id": "e8d64339",
   "metadata": {},
   "outputs": [
    {
     "name": "stdout",
     "output_type": "stream",
     "text": [
      "o\n",
      "oo\n",
      "ooo\n",
      "oooo\n",
      "ooooo\n"
     ]
    }
   ],
   "source": [
    "for i in range(1,6):\n",
    "    print(\"o\"*i)"
   ]
  },
  {
   "cell_type": "code",
   "execution_count": null,
   "id": "35805c74-3ba6-46a8-b86b-9d23ed42d672",
   "metadata": {},
   "outputs": [],
   "source": [
    "c"
   ]
  },
  {
   "cell_type": "markdown",
   "id": "f34c07b6",
   "metadata": {},
   "source": [
    "# break pass continue"
   ]
  },
  {
   "cell_type": "code",
   "execution_count": 35,
   "id": "9da2a178",
   "metadata": {},
   "outputs": [
    {
     "name": "stdout",
     "output_type": "stream",
     "text": [
      "hello 0\n"
     ]
    }
   ],
   "source": [
    "for i in range(10):\n",
    "    print(\"hello\",i)\n",
    "    break  # stoped the execution "
   ]
  },
  {
   "cell_type": "code",
   "execution_count": null,
   "id": "5a57e6f1",
   "metadata": {},
   "outputs": [],
   "source": [
    "list(range(10))"
   ]
  },
  {
   "cell_type": "code",
   "execution_count": 36,
   "id": "f8738f48",
   "metadata": {
    "scrolled": true
   },
   "outputs": [
    {
     "name": "stdout",
     "output_type": "stream",
     "text": [
      "hello 0\n",
      "hello 1\n",
      "hello 2\n",
      "hello 3\n",
      "hello 4\n"
     ]
    }
   ],
   "source": [
    "for i in range(10):\n",
    "    if i>4: # TRUE \n",
    "        break # stop execution and exit!!!\n",
    "    print(\"hello\",i)"
   ]
  },
  {
   "cell_type": "code",
   "execution_count": 37,
   "id": "d85bc80c",
   "metadata": {},
   "outputs": [
    {
     "ename": "SyntaxError",
     "evalue": "incomplete input (3606338307.py, line 2)",
     "output_type": "error",
     "traceback": [
      "\u001b[1;36m  Cell \u001b[1;32mIn[37], line 2\u001b[1;36m\u001b[0m\n\u001b[1;33m    \u001b[0m\n\u001b[1;37m    ^\u001b[0m\n\u001b[1;31mSyntaxError\u001b[0m\u001b[1;31m:\u001b[0m incomplete input\n"
     ]
    }
   ],
   "source": [
    "for i in range(5):   \n",
    "    "
   ]
  },
  {
   "cell_type": "code",
   "execution_count": 38,
   "id": "3d827215",
   "metadata": {},
   "outputs": [],
   "source": [
    "for i in range(5):\n",
    "    pass  \n",
    "# when u dont know what to give \n",
    "#in the body for now"
   ]
  },
  {
   "cell_type": "code",
   "execution_count": 39,
   "id": "1923d23c",
   "metadata": {},
   "outputs": [
    {
     "ename": "SyntaxError",
     "evalue": "incomplete input (1940499423.py, line 2)",
     "output_type": "error",
     "traceback": [
      "\u001b[1;36m  Cell \u001b[1;32mIn[39], line 2\u001b[1;36m\u001b[0m\n\u001b[1;33m    #pass\u001b[0m\n\u001b[1;37m         ^\u001b[0m\n\u001b[1;31mSyntaxError\u001b[0m\u001b[1;31m:\u001b[0m incomplete input\n"
     ]
    }
   ],
   "source": [
    "if 5>4:\n",
    "    #pass"
   ]
  },
  {
   "cell_type": "code",
   "execution_count": 40,
   "id": "08337fb0",
   "metadata": {},
   "outputs": [],
   "source": [
    "if 5>4:\n",
    "    pass"
   ]
  },
  {
   "cell_type": "code",
   "execution_count": 44,
   "id": "caecb7bc",
   "metadata": {},
   "outputs": [
    {
     "name": "stdout",
     "output_type": "stream",
     "text": [
      "before h\n",
      "after h\n",
      "before e\n",
      "after e\n",
      "before l\n",
      "after l\n",
      "before l\n",
      "after l\n",
      "before o\n",
      "after o\n"
     ]
    }
   ],
   "source": [
    "for i in \"hello\":\n",
    "    print(\"before\",i)\n",
    "    #continue\n",
    "    #break\n",
    "    print(\"after\",i)"
   ]
  },
  {
   "cell_type": "code",
   "execution_count": 45,
   "id": "deb23ee0-6d69-456b-b8bd-7442c2303156",
   "metadata": {},
   "outputs": [
    {
     "name": "stdout",
     "output_type": "stream",
     "text": [
      "s\n",
      "a\n",
      "s\n"
     ]
    }
   ],
   "source": [
    "for i in \"stats\":\n",
    "    if i==\"t\":\n",
    "        continue\n",
    "    print(i)"
   ]
  },
  {
   "cell_type": "markdown",
   "id": "575b33f9",
   "metadata": {},
   "source": [
    "# While Loop"
   ]
  },
  {
   "cell_type": "markdown",
   "id": "03ee08bb",
   "metadata": {},
   "source": [
    "* while cond:  # True false\n",
    "*     \"body will run\"\n",
    "*     \"Keep running till it gets true\"\n",
    "*     "
   ]
  },
  {
   "cell_type": "markdown",
   "id": "bc32c21e",
   "metadata": {},
   "source": [
    "* while condition :# press entr\n",
    "*     {body}"
   ]
  },
  {
   "cell_type": "code",
   "execution_count": 46,
   "id": "07456933",
   "metadata": {},
   "outputs": [
    {
     "name": "stdout",
     "output_type": "stream",
     "text": [
      "hello\n"
     ]
    }
   ],
   "source": [
    "while 5>3:  # false to break\n",
    "    print(\"hello\")\n",
    "    break# or u use break"
   ]
  },
  {
   "cell_type": "code",
   "execution_count": 47,
   "id": "12b08cac",
   "metadata": {
    "scrolled": true
   },
   "outputs": [
    {
     "name": "stdout",
     "output_type": "stream",
     "text": [
      "hello a is = 1\n",
      "hello a is = 2\n",
      "hello a is = 3\n",
      "hello a is = 4\n",
      "Out Of Loop\n"
     ]
    }
   ],
   "source": [
    "a=1\n",
    "while a<5:\n",
    "    print(\"hello a is =\",a)\n",
    "    a+=1  # a=a+1\n",
    "\n",
    "print(\"Out Of Loop\")"
   ]
  },
  {
   "cell_type": "code",
   "execution_count": null,
   "id": "0d45ea6b",
   "metadata": {},
   "outputs": [],
   "source": [
    "k=0\n",
    "k"
   ]
  },
  {
   "cell_type": "code",
   "execution_count": null,
   "id": "347bddb3",
   "metadata": {},
   "outputs": [],
   "source": [
    "k=0\n",
    "k=k+1\n",
    "k"
   ]
  },
  {
   "cell_type": "code",
   "execution_count": null,
   "id": "0dbb473d",
   "metadata": {},
   "outputs": [],
   "source": [
    "k+=1\n",
    "k"
   ]
  },
  {
   "cell_type": "code",
   "execution_count": 48,
   "id": "64af9ec8",
   "metadata": {},
   "outputs": [
    {
     "name": "stdout",
     "output_type": "stream",
     "text": [
      "hello a is = 1\n",
      "hello a is = 2\n",
      "hello a is = 3\n",
      "hello a is = 4\n",
      "a is > 4 now it is = 5\n"
     ]
    }
   ],
   "source": [
    "a=1\n",
    "while True:\n",
    "    print(\"hello a is =\",a)\n",
    "    a+=1\n",
    "    if a>4:\n",
    "        print(\"a is > 4 now it is =\",a)\n",
    "        break"
   ]
  },
  {
   "cell_type": "code",
   "execution_count": null,
   "id": "3daf4882",
   "metadata": {},
   "outputs": [],
   "source": [
    "p=9\n",
    "p==9"
   ]
  },
  {
   "cell_type": "code",
   "execution_count": 49,
   "id": "2790e7b2",
   "metadata": {},
   "outputs": [
    {
     "name": "stdout",
     "output_type": "stream",
     "text": [
      "hello \n"
     ]
    },
    {
     "name": "stdin",
     "output_type": "stream",
     "text": [
      "y to break=  n\n"
     ]
    },
    {
     "name": "stdout",
     "output_type": "stream",
     "text": [
      "hello \n"
     ]
    },
    {
     "name": "stdin",
     "output_type": "stream",
     "text": [
      "y to break=  m\n"
     ]
    },
    {
     "name": "stdout",
     "output_type": "stream",
     "text": [
      "hello \n"
     ]
    },
    {
     "name": "stdin",
     "output_type": "stream",
     "text": [
      "y to break=  y\n"
     ]
    },
    {
     "name": "stdout",
     "output_type": "stream",
     "text": [
      "Thank you\n"
     ]
    }
   ],
   "source": [
    "while True:\n",
    "    print(\"hello \")\n",
    "    a=input(\"y to break= \")\n",
    "    if a==\"y\":\n",
    "        print(\"Thank you\")\n",
    "        break"
   ]
  },
  {
   "cell_type": "code",
   "execution_count": null,
   "id": "aa5be78a-cd60-4a20-8dd0-c995d751c98f",
   "metadata": {},
   "outputs": [],
   "source": [
    "# name=[]\n",
    "# number_of_names=int(input(\"How many names: \"))\n",
    "\n",
    "# for i in range(number_of_names):\n",
    "#     temp_name=input(\"Enter The Name: \")\n",
    "#     name.append(temp_name)\n",
    "    \n",
    "# print(f\"You have entered these names {name}\")"
   ]
  },
  {
   "cell_type": "code",
   "execution_count": 50,
   "id": "9eccc923-5e56-4a5f-82f8-81ae580dc794",
   "metadata": {},
   "outputs": [
    {
     "name": "stdin",
     "output_type": "stream",
     "text": [
      "Enter The Name:  sam\n",
      "Do u like to exit!!!- GIVE y:  n\n",
      "Enter The Name:  tom\n",
      "Do u like to exit!!!- GIVE y:  n\n",
      "Enter The Name:  dedan\n",
      "Do u like to exit!!!- GIVE y:  y\n"
     ]
    },
    {
     "name": "stdout",
     "output_type": "stream",
     "text": [
      "You have entered these names ['sam', 'tom', 'dedan']\n"
     ]
    }
   ],
   "source": [
    "name=[]\n",
    "while True:\n",
    "    temp_name=input(\"Enter The Name: \")\n",
    "    name.append(temp_name)\n",
    "    choice=input(\"Do u like to exit!!!- GIVE y: \")\n",
    "    if choice=='y':\n",
    "        break\n",
    "print(f\"You have entered these names {name}\")"
   ]
  },
  {
   "cell_type": "markdown",
   "id": "c4a6edca",
   "metadata": {},
   "source": [
    "### Function"
   ]
  },
  {
   "cell_type": "code",
   "execution_count": 51,
   "id": "6ad17ab2",
   "metadata": {},
   "outputs": [],
   "source": [
    "def say_hello():\n",
    "    print(\"Hello!!!\")"
   ]
  },
  {
   "cell_type": "code",
   "execution_count": 52,
   "id": "78f43dd7",
   "metadata": {},
   "outputs": [
    {
     "name": "stdout",
     "output_type": "stream",
     "text": [
      "Hello!!!\n"
     ]
    }
   ],
   "source": [
    "say_hello()"
   ]
  },
  {
   "cell_type": "code",
   "execution_count": 53,
   "id": "724b1160",
   "metadata": {},
   "outputs": [],
   "source": [
    "def add():\n",
    "    a=2\n",
    "    b=8\n",
    "    print(\"a+b=\",a+b)"
   ]
  },
  {
   "cell_type": "code",
   "execution_count": 54,
   "id": "b70980ec",
   "metadata": {},
   "outputs": [
    {
     "name": "stdout",
     "output_type": "stream",
     "text": [
      "a+b= 10\n"
     ]
    }
   ],
   "source": [
    "add()"
   ]
  },
  {
   "cell_type": "code",
   "execution_count": 55,
   "id": "3832e864",
   "metadata": {},
   "outputs": [
    {
     "name": "stdout",
     "output_type": "stream",
     "text": [
      "a+b= 10\n"
     ]
    }
   ],
   "source": [
    "add()"
   ]
  },
  {
   "cell_type": "markdown",
   "id": "e7d6914c",
   "metadata": {},
   "source": [
    "Take vaues"
   ]
  },
  {
   "cell_type": "code",
   "execution_count": 56,
   "id": "d87c4a7a",
   "metadata": {},
   "outputs": [],
   "source": [
    "def add(a,b):\n",
    "   \n",
    "    print(\"a+b=\",a+b)"
   ]
  },
  {
   "cell_type": "code",
   "execution_count": 57,
   "id": "2abd16ce",
   "metadata": {},
   "outputs": [
    {
     "ename": "TypeError",
     "evalue": "add() missing 2 required positional arguments: 'a' and 'b'",
     "output_type": "error",
     "traceback": [
      "\u001b[1;31m---------------------------------------------------------------------------\u001b[0m",
      "\u001b[1;31mTypeError\u001b[0m                                 Traceback (most recent call last)",
      "Cell \u001b[1;32mIn[57], line 1\u001b[0m\n\u001b[1;32m----> 1\u001b[0m add()\n",
      "\u001b[1;31mTypeError\u001b[0m: add() missing 2 required positional arguments: 'a' and 'b'"
     ]
    }
   ],
   "source": [
    "add()  # pass value is required for a and b"
   ]
  },
  {
   "cell_type": "code",
   "execution_count": 58,
   "id": "22adcc14",
   "metadata": {},
   "outputs": [
    {
     "name": "stdout",
     "output_type": "stream",
     "text": [
      "a+b= 7\n"
     ]
    }
   ],
   "source": [
    "add(4,3)"
   ]
  },
  {
   "cell_type": "code",
   "execution_count": null,
   "id": "f84e9cf4",
   "metadata": {},
   "outputs": [],
   "source": [
    "def add2():\n",
    "    a=int(input(\"a= \"))\n",
    "    b=int(input(\"b= \"))\n",
    "    print(\"a+b=\",a+b)"
   ]
  },
  {
   "cell_type": "code",
   "execution_count": null,
   "id": "3c0153ca",
   "metadata": {},
   "outputs": [],
   "source": [
    "add2()"
   ]
  },
  {
   "cell_type": "markdown",
   "id": "3fbd8740",
   "metadata": {},
   "source": [
    "Return"
   ]
  },
  {
   "cell_type": "code",
   "execution_count": 59,
   "id": "2de93c52",
   "metadata": {},
   "outputs": [],
   "source": [
    "def add2():\n",
    "    a=int(input(\"a= \"))\n",
    "    b=int(input(\"b= \"))\n",
    "    return a+b"
   ]
  },
  {
   "cell_type": "code",
   "execution_count": 60,
   "id": "12983beb",
   "metadata": {
    "scrolled": true
   },
   "outputs": [
    {
     "name": "stdin",
     "output_type": "stream",
     "text": [
      "a=  45\n",
      "b=  5\n"
     ]
    },
    {
     "data": {
      "text/plain": [
       "50"
      ]
     },
     "execution_count": 60,
     "metadata": {},
     "output_type": "execute_result"
    }
   ],
   "source": [
    "add2()"
   ]
  },
  {
   "cell_type": "code",
   "execution_count": 61,
   "id": "a0fd958f",
   "metadata": {},
   "outputs": [
    {
     "name": "stdin",
     "output_type": "stream",
     "text": [
      "a=  5\n",
      "b=  8\n"
     ]
    }
   ],
   "source": [
    "var=add2()"
   ]
  },
  {
   "cell_type": "code",
   "execution_count": 62,
   "id": "30149b5f",
   "metadata": {},
   "outputs": [
    {
     "data": {
      "text/plain": [
       "13"
      ]
     },
     "execution_count": 62,
     "metadata": {},
     "output_type": "execute_result"
    }
   ],
   "source": [
    "var"
   ]
  },
  {
   "cell_type": "code",
   "execution_count": 63,
   "id": "2d00b1a9-cf13-4f9f-982f-4c2b807f1636",
   "metadata": {},
   "outputs": [
    {
     "name": "stdout",
     "output_type": "stream",
     "text": [
      "a+b= hisam\n"
     ]
    }
   ],
   "source": [
    "add(\"hi\",\"sam\")"
   ]
  },
  {
   "cell_type": "code",
   "execution_count": 64,
   "id": "506e1b0f-e464-4612-9c79-f7800eb41296",
   "metadata": {},
   "outputs": [],
   "source": [
    "def f(a=0,b=0)->\"Default for a and b is zero\":\n",
    "    '''\n",
    "    This function will add 2 given values, default return is 0.\n",
    "    Returns the sum of two value.\n",
    "    '''\n",
    "    #print(a+b)\n",
    "    return a+b"
   ]
  },
  {
   "cell_type": "code",
   "execution_count": null,
   "id": "baf89988-84d0-4ad6-9776-7ee8eaab2742",
   "metadata": {},
   "outputs": [],
   "source": [
    "f()"
   ]
  },
  {
   "cell_type": "markdown",
   "id": "c1a67ef3",
   "metadata": {},
   "source": [
    "### Calculator"
   ]
  },
  {
   "cell_type": "code",
   "execution_count": 66,
   "id": "f2bf8517",
   "metadata": {},
   "outputs": [],
   "source": [
    "def cal():\n",
    "    print(\"Enter numbers to calculate\")\n",
    "    a=float(input(\"1st numb: \"))\n",
    "    b=float(input(\"2nd numb: \"))\n",
    "    print(\"Enter choice Add '+',Sub '-',Div '/',Mul '*'\")\n",
    "    ch=input(\"Enter your choice: \")\n",
    "    \n",
    "    if ch=='+':\n",
    "        print(\"Sum is\",a+b)\n",
    "    elif ch=='-':\n",
    "        print(\"Sub is\",a-b)\n",
    "    elif ch=='*':\n",
    "        print(\"Mul is\",a*b)\n",
    "    elif ch=='/':\n",
    "        print(\"Div is\",a/b)\n",
    "    else:\n",
    "        print(\"Wrong Input\")"
   ]
  },
  {
   "cell_type": "code",
   "execution_count": 67,
   "id": "06374b99",
   "metadata": {},
   "outputs": [
    {
     "name": "stdout",
     "output_type": "stream",
     "text": [
      "Enter numbers to calculate\n"
     ]
    },
    {
     "name": "stdin",
     "output_type": "stream",
     "text": [
      "1st numb:  3\n",
      "2nd numb:  5\n"
     ]
    },
    {
     "name": "stdout",
     "output_type": "stream",
     "text": [
      "Enter choice Add '+',Sub '-',Div '/',Mul '*'\n"
     ]
    },
    {
     "name": "stdin",
     "output_type": "stream",
     "text": [
      "Enter your choice:  -\n"
     ]
    },
    {
     "name": "stdout",
     "output_type": "stream",
     "text": [
      "Sub is -2.0\n"
     ]
    }
   ],
   "source": [
    "cal()"
   ]
  },
  {
   "cell_type": "markdown",
   "id": "8d07d903",
   "metadata": {},
   "source": [
    "Lambda"
   ]
  },
  {
   "cell_type": "code",
   "execution_count": null,
   "id": "95847028",
   "metadata": {},
   "outputs": [],
   "source": [
    "def squ(x):\n",
    "    return x**2"
   ]
  },
  {
   "cell_type": "code",
   "execution_count": null,
   "id": "31831aea",
   "metadata": {},
   "outputs": [],
   "source": [
    "squ(3)"
   ]
  },
  {
   "cell_type": "code",
   "execution_count": null,
   "id": "2ea72f46",
   "metadata": {},
   "outputs": [],
   "source": [
    "def squ(x):return x**2    # only one line body"
   ]
  },
  {
   "cell_type": "code",
   "execution_count": null,
   "id": "ba2ee713",
   "metadata": {},
   "outputs": [],
   "source": [
    "sq=lambda x:x**2"
   ]
  },
  {
   "cell_type": "code",
   "execution_count": null,
   "id": "80b3c173",
   "metadata": {},
   "outputs": [],
   "source": [
    "sq(4)"
   ]
  },
  {
   "cell_type": "code",
   "execution_count": null,
   "id": "b8a6e630",
   "metadata": {},
   "outputs": [],
   "source": [
    "d=lambda x,y:x+y"
   ]
  },
  {
   "cell_type": "code",
   "execution_count": null,
   "id": "cda46452",
   "metadata": {},
   "outputs": [],
   "source": [
    "d(3,4)"
   ]
  },
  {
   "cell_type": "markdown",
   "id": "3c439758",
   "metadata": {},
   "source": [
    "Filter and Map"
   ]
  },
  {
   "cell_type": "code",
   "execution_count": null,
   "id": "7ca34522",
   "metadata": {},
   "outputs": [],
   "source": [
    "for i in [3,4,5,6]:\n",
    "    print(sq(i))"
   ]
  },
  {
   "cell_type": "code",
   "execution_count": null,
   "id": "ca63b18d",
   "metadata": {},
   "outputs": [],
   "source": [
    "map(sq,[3,4,5,6])"
   ]
  },
  {
   "cell_type": "code",
   "execution_count": null,
   "id": "37473618",
   "metadata": {
    "scrolled": true
   },
   "outputs": [],
   "source": [
    "list(map(sq,[3,4,5,6]))"
   ]
  },
  {
   "cell_type": "code",
   "execution_count": null,
   "id": "2f9febee",
   "metadata": {},
   "outputs": [],
   "source": [
    "list(map(lambda x,y:x+y,[3,4,5,6],[5,6,7,8]))"
   ]
  },
  {
   "cell_type": "code",
   "execution_count": null,
   "id": "43ede357",
   "metadata": {
    "scrolled": true
   },
   "outputs": [],
   "source": [
    "list(filter(lambda a:a>10,[5,12,44,6,43,7]))"
   ]
  },
  {
   "cell_type": "markdown",
   "id": "7fc1b0c9",
   "metadata": {},
   "source": [
    "### Class"
   ]
  },
  {
   "cell_type": "code",
   "execution_count": null,
   "id": "668e9281",
   "metadata": {},
   "outputs": [],
   "source": [
    "class abc:\n",
    "    def pr(self):\n",
    "        print(\"Hello\")"
   ]
  },
  {
   "cell_type": "code",
   "execution_count": null,
   "id": "e545306c",
   "metadata": {
    "scrolled": true
   },
   "outputs": [],
   "source": [
    "pr()"
   ]
  },
  {
   "cell_type": "code",
   "execution_count": null,
   "id": "78437225",
   "metadata": {},
   "outputs": [],
   "source": [
    "abc().pr()"
   ]
  },
  {
   "cell_type": "code",
   "execution_count": null,
   "id": "c3dd6eb1",
   "metadata": {},
   "outputs": [],
   "source": [
    "obj=abc()"
   ]
  },
  {
   "cell_type": "code",
   "execution_count": null,
   "id": "c2e2315a",
   "metadata": {
    "scrolled": true
   },
   "outputs": [],
   "source": [
    "obj.pr()"
   ]
  },
  {
   "cell_type": "code",
   "execution_count": null,
   "id": "232ceaca",
   "metadata": {},
   "outputs": [],
   "source": [
    "v=6\n",
    "v%2"
   ]
  },
  {
   "cell_type": "code",
   "execution_count": null,
   "id": "24dfc272",
   "metadata": {},
   "outputs": [],
   "source": [
    "def eo():\n",
    "    v=int(input(\"Enter Number: \"))\n",
    "    if v%2==0:\n",
    "        print(\"Even\")\n",
    "    else:\n",
    "        print(\"Odd\")\n",
    "eo()"
   ]
  },
  {
   "cell_type": "code",
   "execution_count": null,
   "id": "c440415f",
   "metadata": {},
   "outputs": [],
   "source": [
    "\n",
    "class evod:\n",
    "    def eo(self):\n",
    "        v=int(input(\"Enter Number: \"))\n",
    "        if v%2==0:\n",
    "            print(\"Even\")\n",
    "        else:\n",
    "            print(\"Odd\")\n",
    "ob_ev=evod()"
   ]
  },
  {
   "cell_type": "code",
   "execution_count": null,
   "id": "2e170703",
   "metadata": {},
   "outputs": [],
   "source": [
    "ob_ev.eo()"
   ]
  },
  {
   "cell_type": "markdown",
   "id": "f496bd9e",
   "metadata": {},
   "source": [
    "#### init / constructor"
   ]
  },
  {
   "cell_type": "code",
   "execution_count": null,
   "id": "0c26273b",
   "metadata": {},
   "outputs": [],
   "source": [
    "class abc:\n",
    "    def __init__(self):\n",
    "        print(\"Hello in init constructor\")\n",
    "        # No return value\n",
    "        \n",
    "    def pr(self):\n",
    "        print(\"Hello\")"
   ]
  },
  {
   "cell_type": "code",
   "execution_count": null,
   "id": "70ada734",
   "metadata": {},
   "outputs": [],
   "source": [
    "x=abc()"
   ]
  },
  {
   "cell_type": "code",
   "execution_count": null,
   "id": "d958dd72",
   "metadata": {},
   "outputs": [],
   "source": [
    "x.pr()"
   ]
  },
  {
   "cell_type": "markdown",
   "id": "306ebd12",
   "metadata": {},
   "source": [
    "### Inheritence"
   ]
  },
  {
   "cell_type": "code",
   "execution_count": null,
   "id": "ad865300",
   "metadata": {},
   "outputs": [],
   "source": [
    "class a:\n",
    "    def in_a(self):\n",
    "        print(\"A\")"
   ]
  },
  {
   "cell_type": "code",
   "execution_count": null,
   "id": "5bae55e5",
   "metadata": {},
   "outputs": [],
   "source": [
    "class b:\n",
    "    def in_b(self):\n",
    "        print(\"B\")"
   ]
  },
  {
   "cell_type": "code",
   "execution_count": null,
   "id": "21d2f9c0",
   "metadata": {},
   "outputs": [],
   "source": [
    "class c:\n",
    "    def in_c(self):\n",
    "        print(\"C\")"
   ]
  },
  {
   "cell_type": "code",
   "execution_count": null,
   "id": "8d1e0cee",
   "metadata": {},
   "outputs": [],
   "source": [
    "ob=c()"
   ]
  },
  {
   "cell_type": "code",
   "execution_count": null,
   "id": "2069aa04",
   "metadata": {},
   "outputs": [],
   "source": [
    "ob.in_c()"
   ]
  },
  {
   "cell_type": "markdown",
   "id": "65fa9d1e",
   "metadata": {},
   "source": [
    "### Single Inheritence"
   ]
  },
  {
   "cell_type": "code",
   "execution_count": null,
   "id": "c8700159",
   "metadata": {},
   "outputs": [],
   "source": [
    "class c(b):\n",
    "    def in_c(self):\n",
    "        print(\"C\")"
   ]
  },
  {
   "cell_type": "code",
   "execution_count": null,
   "id": "df9cda81",
   "metadata": {},
   "outputs": [],
   "source": [
    "ob=c()"
   ]
  },
  {
   "cell_type": "code",
   "execution_count": null,
   "id": "278b2136",
   "metadata": {},
   "outputs": [],
   "source": [
    "ob."
   ]
  },
  {
   "cell_type": "code",
   "execution_count": null,
   "id": "257cdd7e",
   "metadata": {},
   "outputs": [],
   "source": [
    "ob.in_b()"
   ]
  },
  {
   "cell_type": "markdown",
   "id": "5c8c9655",
   "metadata": {},
   "source": [
    "# Multi Level\n",
    "### for B"
   ]
  },
  {
   "cell_type": "code",
   "execution_count": null,
   "id": "8865108d",
   "metadata": {},
   "outputs": [],
   "source": [
    "class b(a):\n",
    "    def in_b(self):\n",
    "        print(\"B\")"
   ]
  },
  {
   "cell_type": "code",
   "execution_count": null,
   "id": "cc17af6f",
   "metadata": {},
   "outputs": [],
   "source": [
    "class c(b):\n",
    "    def in_c(self):\n",
    "        print(\"C\")"
   ]
  },
  {
   "cell_type": "code",
   "execution_count": null,
   "id": "abc3bf46",
   "metadata": {},
   "outputs": [],
   "source": [
    "ob=c()"
   ]
  },
  {
   "cell_type": "code",
   "execution_count": null,
   "id": "f72a5053",
   "metadata": {},
   "outputs": [],
   "source": [
    "ob.in_a()"
   ]
  },
  {
   "cell_type": "markdown",
   "id": "31209efd",
   "metadata": {},
   "source": [
    "# Multipal Inheritence"
   ]
  },
  {
   "cell_type": "code",
   "execution_count": null,
   "id": "62a249d6",
   "metadata": {},
   "outputs": [],
   "source": [
    "class e():\n",
    "    def in_e(self):\n",
    "        print(\"E\")\n",
    "    "
   ]
  },
  {
   "cell_type": "code",
   "execution_count": null,
   "id": "3a1bdae2",
   "metadata": {},
   "outputs": [],
   "source": [
    "class f():\n",
    "    def in_f(self):\n",
    "        print(\"F\")\n",
    "    "
   ]
  },
  {
   "cell_type": "code",
   "execution_count": null,
   "id": "2be8a8d6",
   "metadata": {
    "scrolled": true
   },
   "outputs": [],
   "source": [
    "class d(e,f):\n",
    "    def in_d(self):\n",
    "        print(\"D\")"
   ]
  },
  {
   "cell_type": "code",
   "execution_count": null,
   "id": "f84cfb22",
   "metadata": {},
   "outputs": [],
   "source": [
    "b=d()"
   ]
  },
  {
   "cell_type": "code",
   "execution_count": null,
   "id": "c49268d1",
   "metadata": {
    "scrolled": true
   },
   "outputs": [],
   "source": [
    "b.in_e()"
   ]
  },
  {
   "cell_type": "markdown",
   "id": "eb2789f9",
   "metadata": {},
   "source": [
    "## Chalange with data structures"
   ]
  },
  {
   "cell_type": "code",
   "execution_count": null,
   "id": "f76f6dbf",
   "metadata": {},
   "outputs": [],
   "source": [
    "p=[3,4,5]"
   ]
  },
  {
   "cell_type": "code",
   "execution_count": null,
   "id": "40ded3c7",
   "metadata": {},
   "outputs": [],
   "source": [
    "p*2"
   ]
  },
  {
   "cell_type": "markdown",
   "id": "fd3c31b6",
   "metadata": {},
   "source": [
    "## Numpy"
   ]
  },
  {
   "cell_type": "code",
   "execution_count": null,
   "id": "549c7476",
   "metadata": {},
   "outputs": [],
   "source": [
    "import numpy as np"
   ]
  },
  {
   "cell_type": "code",
   "execution_count": null,
   "id": "68e282c6",
   "metadata": {},
   "outputs": [],
   "source": [
    "p_new=np.array(p)"
   ]
  },
  {
   "cell_type": "code",
   "execution_count": null,
   "id": "50d3eedd",
   "metadata": {},
   "outputs": [],
   "source": [
    "p_new*2"
   ]
  },
  {
   "cell_type": "markdown",
   "id": "f04181da",
   "metadata": {},
   "source": [
    "Salary ex"
   ]
  },
  {
   "cell_type": "code",
   "execution_count": null,
   "id": "d941f449",
   "metadata": {},
   "outputs": [],
   "source": [
    "fix=[100,150,200]\n",
    "var=[10,20,30]"
   ]
  },
  {
   "cell_type": "code",
   "execution_count": null,
   "id": "79da7c4d",
   "metadata": {},
   "outputs": [],
   "source": [
    "fix+var"
   ]
  },
  {
   "cell_type": "code",
   "execution_count": null,
   "id": "38318376",
   "metadata": {},
   "outputs": [],
   "source": [
    "np.array(fix)+np.array(var)"
   ]
  },
  {
   "cell_type": "markdown",
   "id": "dcc7eba1",
   "metadata": {},
   "source": [
    "#### Randint and reshape"
   ]
  },
  {
   "cell_type": "code",
   "execution_count": null,
   "id": "ecb19bfc",
   "metadata": {},
   "outputs": [],
   "source": [
    "from numpy.random import randint as ri  # random + int\n"
   ]
  },
  {
   "cell_type": "code",
   "execution_count": null,
   "id": "2709494b",
   "metadata": {},
   "outputs": [],
   "source": [
    "a = ri(1,100,30) # bw 1 to 100 ---- 30 values will be given randomly\n",
    "a"
   ]
  },
  {
   "cell_type": "code",
   "execution_count": null,
   "id": "a1b12919",
   "metadata": {},
   "outputs": [],
   "source": [
    "b = a.reshape(2,3,5) # 2 matrix with 3 rows and 5 col\n",
    "b"
   ]
  },
  {
   "cell_type": "code",
   "execution_count": null,
   "id": "7cf80f34",
   "metadata": {},
   "outputs": [],
   "source": [
    "c = a.reshape(6,5)\n",
    "c"
   ]
  },
  {
   "cell_type": "code",
   "execution_count": null,
   "id": "4d0327a6",
   "metadata": {},
   "outputs": [],
   "source": []
  },
  {
   "cell_type": "code",
   "execution_count": null,
   "id": "7de13713",
   "metadata": {},
   "outputs": [],
   "source": []
  },
  {
   "cell_type": "markdown",
   "id": "3e1b3479",
   "metadata": {},
   "source": [
    "## Pandas"
   ]
  },
  {
   "cell_type": "code",
   "execution_count": null,
   "id": "c40fe088",
   "metadata": {},
   "outputs": [],
   "source": [
    "import pandas as pd"
   ]
  },
  {
   "cell_type": "code",
   "execution_count": null,
   "id": "0822c73e",
   "metadata": {},
   "outputs": [],
   "source": [
    "d={\"Name\":[\"Ravi\",\"Rahul\",\"Sameer\"],\"Sal\":[1000,1200,1400]}"
   ]
  },
  {
   "cell_type": "code",
   "execution_count": null,
   "id": "50db0422",
   "metadata": {
    "scrolled": true
   },
   "outputs": [],
   "source": [
    "d"
   ]
  },
  {
   "cell_type": "code",
   "execution_count": null,
   "id": "f77ae50b",
   "metadata": {},
   "outputs": [],
   "source": [
    "pd.DataFrame(d)"
   ]
  },
  {
   "cell_type": "code",
   "execution_count": null,
   "id": "07e7f6e4",
   "metadata": {},
   "outputs": [],
   "source": [
    "df=pd.DataFrame(d)"
   ]
  },
  {
   "cell_type": "code",
   "execution_count": null,
   "id": "3cd89c8c",
   "metadata": {
    "scrolled": true
   },
   "outputs": [],
   "source": [
    "df"
   ]
  },
  {
   "cell_type": "code",
   "execution_count": null,
   "id": "bd847872",
   "metadata": {},
   "outputs": [],
   "source": [
    "df[\"Age\"]=[34,43,25]"
   ]
  },
  {
   "cell_type": "code",
   "execution_count": null,
   "id": "aad80713",
   "metadata": {},
   "outputs": [],
   "source": [
    "df"
   ]
  },
  {
   "cell_type": "code",
   "execution_count": null,
   "id": "94332291",
   "metadata": {},
   "outputs": [],
   "source": [
    "df.rename(columns={\"Sal\":\"Salary\"},inplace=True)"
   ]
  },
  {
   "cell_type": "code",
   "execution_count": null,
   "id": "bf7d13b4",
   "metadata": {},
   "outputs": [],
   "source": [
    "df"
   ]
  },
  {
   "cell_type": "code",
   "execution_count": null,
   "id": "1d5085bf",
   "metadata": {},
   "outputs": [],
   "source": [
    "df.columns"
   ]
  }
 ],
 "metadata": {
  "kernelspec": {
   "display_name": "Python 3 (ipykernel)",
   "language": "python",
   "name": "python3"
  },
  "language_info": {
   "codemirror_mode": {
    "name": "ipython",
    "version": 3
   },
   "file_extension": ".py",
   "mimetype": "text/x-python",
   "name": "python",
   "nbconvert_exporter": "python",
   "pygments_lexer": "ipython3",
   "version": "3.12.7"
  }
 },
 "nbformat": 4,
 "nbformat_minor": 5
}
